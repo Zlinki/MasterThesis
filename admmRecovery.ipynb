{
 "cells": [
  {
   "cell_type": "code",
   "execution_count": null,
   "metadata": {
    "collapsed": true
   },
   "outputs": [],
   "source": [
    "#This notebook contains an implementation to solve the problem min Sum ||A-B_i||_1 + ||2A-11^t||_nucl.\n",
    "#We solve the problem an the implementation based on \"The Augmented Lagrange Multiplier\n",
    "#method for exact recovery of corrupted low-rank matrices\" and some notes of Boyd for ADMM.\n",
    "#which we link here. https://web.stanford.edu/~boyd/papers/pdf/admm_slides.pdf\n",
    "\n",
    "#\"/although interior point methods normally take very few iterations t converge, they have difficulty in\n",
    "#handling large matrices because of the complexity of computing the step direction is O(m^6), where m is the dimension of \n",
    "#matrix [...] generic interior point solvers are too limited for Robust PCA \".\n",
    "\n",
    "#Note that the robust PCA is used in many contexts. Ours is the clique problem which deals with nxn symetric matrices\n",
    "#. However this implementation works for m x n matrices. Our implementation is an extension of the robust pca algorithm.\n"
   ]
  },
  {
   "cell_type": "code",
   "execution_count": 1,
   "metadata": {
    "collapsed": false,
    "scrolled": true
   },
   "outputs": [
    {
     "data": {
      "text/plain": [
       "admmRecovery (generic function with 4 methods)"
      ]
     },
     "execution_count": 1,
     "metadata": {},
     "output_type": "execute_result"
    }
   ],
   "source": [
    "#admmRecovery does not call mosek. It uses the prox operation to find xi+1 and Z.\n",
    "function admmRecovery(observations,lambda,n,rho=1.6,stopCrit1=1.0e-5,maxIter=200)\n",
    "    \n",
    "    #Important! all matrices in the observations are assumed to have 1 in the diagonal.\n",
    "    #Transformation of the B_i to the C_i where C_i = 2B_i-11^t\n",
    "    observationsTransformed = transform(observations,n)\n",
    "    #Initialization (All parameters are based on the paper.)\n",
    "    k = 0\n",
    "    N = length(observationsTransformed)\n",
    "    averObservations=AvergeMatrix(observationsTransformed)\n",
    "    Y = Array{Any}(N)\n",
    "    [Y[r]=observationsTransformed[r]/J(observationsTransformed[r],lambda) for r in 1:N]\n",
    "    Z= averObservations\n",
    "    softZ = zeros(Z)\n",
    "    Zviejo= zeros(Z)\n",
    "    Xviejo = Array{Any}(N)\n",
    "    [Xviejo[r]=zeros(Z) for r in 1:N]\n",
    "    \n",
    "    Xnuevo = Array{Any}(N)\n",
    "    [Xnuevo[r]=zeros(Z) for r in 1:N]\n",
    "    \n",
    "    #mu = 1.25/norm(averObservations,2)\n",
    "    #Iterations\n",
    "    #In order to avoid evaluation of stoping criteria in the first loop, we do a while true and then \n",
    "    #add breaks if the stoping criteria are met.\n",
    "    while true \n",
    "                \n",
    "        # First solve x^i_k+1 = arg min 1/2||x^i_k-C_i||+mu/2||x^i_k-Z_k+y^i_k||_2^2\n",
    "      #  println(\"solving for x...\")\n",
    "        [Xnuevo[i] = solveForXprox(observationsTransformed[i],Y[i],Z,rho,n) for i in 1:N]\n",
    "       \n",
    "\n",
    "       # println(\"Solved, now solving for Z\")\n",
    "        tic()\n",
    "         # now we solve Z_k+1 = arg min prox_g,rho (1/N sum(x_i_k+1 + 1/rho y_i^k))\n",
    "        singValDesc = svdfact!(AvergeMatrix(Xnuevo +(1/rho)*Y))\n",
    "        #SVD(A) returns a triple (U,S,V) where S contains the singular values and A=U*S*V' (' denotes ')\n",
    "        #for SVD(A) to work correctly, A must be m x n where m>= n or else S wont have the proper dimensions.\n",
    "        softZ = diagm(SoftThreshold.(singValDesc[:S],lambda/rho))\n",
    "        softZ = convert(Array{Float64,2},softZ)    \n",
    "        Z = singValDesc[:U]*softZ*singValDesc[:Vt]       \n",
    "        toc()\n",
    "       # println(\"solved. now solving Y\")\n",
    "        #update Y\n",
    "        [Y[i] = Y[i]+ rho*(Xnuevo[i]-Z)for i in 1:N]\n",
    "        \n",
    "        \n",
    "        #compute the residuals to check stopping conditions and compute rho\n",
    "        residual = AvergeMatrix(Xnuevo)-Z\n",
    "        residualDual = rho*(Zviejo-Z)\n",
    "        #check stopping condition\n",
    "     #   println(\"Cheking stop criteriums and updating.\")\n",
    "        if  firstCriterium(stopCrit1,n,residual,residualDual)\n",
    "     #       println(\"Done\")\n",
    "           break\n",
    "        end\n",
    "        #update rho\n",
    "        rho = updaterho(rho,residual,residualDual)\n",
    "         \n",
    "        #update Xviejo\n",
    "        Xviejo = Xnuevo\n",
    "        #update Zviejo\n",
    "        Zviejo = Z\n",
    "        # update k \n",
    "    #    println(\"Step $(k)\")\n",
    "    #    println(norm(Xnuevo[1],2))\n",
    "        k = k+1\n",
    "        \n",
    "        println(rho)\n",
    "        if k>maxIter\n",
    "            println(\"exceeded max number of iteration at solving\")\n",
    "            break\n",
    "        end    \n",
    "    end\n",
    "    return((Z,Xnuevo))\n",
    "end\n",
    "        \n",
    "        \n",
    "        "
   ]
  },
  {
   "cell_type": "code",
   "execution_count": 2,
   "metadata": {
    "collapsed": false
   },
   "outputs": [
    {
     "data": {
      "text/plain": [
       "solveForXprox (generic function with 1 method)"
      ]
     },
     "execution_count": 2,
     "metadata": {},
     "output_type": "execute_result"
    }
   ],
   "source": [
    "function solveForXprox(obs,Y,Z,mu,n)\n",
    "    actualizado = SoftThreshold(Z-(1/mu)*Y-obs,1/(2*mu))+obs\n",
    "    return(actualizado)\n",
    "end    \n"
   ]
  },
  {
   "cell_type": "code",
   "execution_count": 3,
   "metadata": {
    "collapsed": false
   },
   "outputs": [
    {
     "data": {
      "text/plain": [
       "updaterho (generic function with 1 method)"
      ]
     },
     "execution_count": 3,
     "metadata": {},
     "output_type": "execute_result"
    }
   ],
   "source": [
    "#Aux functions\n",
    "\n",
    "\n",
    "#perturbation operator. Perturbs every entry of the matrix W using the function f.\n",
    "#W is a m x n matriz to perturb\n",
    "#epsilon is the perturbation\n",
    "function SoftThreshold(W,perturbation)\n",
    "    map(W) do x\n",
    "        perturb(x,perturbation)\n",
    "    end\n",
    "end\n",
    "\n",
    "\n",
    "\n",
    "#Method for perturbing x given epsilon. Used in the softThresholding function.\n",
    "function perturb(x,epsilon)\n",
    "    if x>epsilon \n",
    "        return x-epsilon\n",
    "    end\n",
    "    if x<-epsilon\n",
    "        return x+epsilon\n",
    "    else\n",
    "        return(0)\n",
    "    end\n",
    "end\n",
    "\n",
    "\n",
    "\n",
    "#Method to average matrices\n",
    "\n",
    "function AvergeMatrix(observations)\n",
    "    size = length(observations)\n",
    "    return (1/size)*sum(observations)\n",
    "end\n",
    "\n",
    "#J operator\n",
    "#W is an m x n matriz\n",
    "#lambda : parameter of the algorithm\n",
    "function J(W,lambda)\n",
    "    return max(norm(W,2),(1/lambda)*maximum(abs.(W)))\n",
    "end\n",
    "\n",
    "#Function  transform the observed matrices to the desired form. All observed matrices\n",
    "# have 1 on the diagonal\n",
    "\n",
    "function transformMatrix(mat,n)\n",
    "    return(2*mat-ones(n)*ones(n)') \n",
    "end\n",
    "\n",
    "function transform(observations,n)\n",
    "    return(transformMatrix.(observations,n))\n",
    "end\n",
    "\n",
    "\n",
    "\n",
    "function firstCriterium(stopCrit1,n,residual,residualDual)\n",
    "    \n",
    "    if  sqrt(n)*norm(residual,2)<= stopCrit1 && sqrt(n)*norm(residualDual,2)<= stopCrit1\n",
    "        return(true)\n",
    "    end\n",
    "    return false\n",
    "end\n",
    "\n",
    "# Updating functions\n",
    "\n",
    "function updaterho(rho,residual,residualDual)\n",
    "    rhoNew = rho\n",
    "    if norm(residual,2)>=10*norm(residualDual,2)\n",
    "    rhoNew = 2*rho\n",
    "    end\n",
    "    if norm(residualDual,2)>=10*norm(residual,2)\n",
    "        rhoNew = rho/2\n",
    "    end\n",
    "    return(rhoNew)\n",
    "end\n",
    "        \n"
   ]
  },
  {
   "cell_type": "markdown",
   "metadata": {
    "collapsed": false
   },
   "source": [
    "#admmRecovery does calls mosek to find xi+1 and Z.\n",
    "\n",
    "\n",
    "function admmRecovery2(observations,lambda,n,rho=1.6,stopCrit1=1.0e-7,stopCrit2=1.0e-5,maxIter=10000)\n",
    "    \n",
    "    #Important! all matrices in the observations are assumed to have 1 in the diagonal.\n",
    "    #Transformation of the B_i to the C_i where C_i = 2B_i-11^t\n",
    "    observationsTransformed = transform(observations,n)\n",
    "    #Initialization (All parameters are based on the paper.)\n",
    "    k = 0\n",
    "    N = length(observationsTransformed)\n",
    "    averObservations=AvergeMatrix(observationsTransformed)\n",
    "    Y = Array{Any}(N)\n",
    "    [Y[r]=observationsTransformed[r]/J(observationsTransformed[r],lambda) for r in 1:N]\n",
    "    Z= averObservations\n",
    "    Xviejo = Array{Any}(N)\n",
    "    [Xviejo[r]=zeros(Z) for r in 1:N]\n",
    "    \n",
    "    Xnuevo = Array{Any}(N)\n",
    "    [Xnuevo[r]=zeros(Z) for r in 1:N]\n",
    "    \n",
    "    #mu = 1.25/norm(averObservations,2)\n",
    "    mu=0.1\n",
    "    #Iterations\n",
    "    #In order to avoid evaluation of stoping criteria in the first loop, we do a while true and then \n",
    "    #add breaks if the stoping criteria are met.\n",
    "    while true \n",
    "        \n",
    "       \n",
    "        \n",
    "        # First solve x^i_k+1 = arg min ||x^i_k-C_i||+ <yi^k,xi-z^k>   +1/2||x^i_k-Z_k||_2^2\n",
    "        #for now, we call mosek to solve this\n",
    "            [Xnuevo[i] = solveForXMosek(observationsTransformed[i],Y[i],Z,mu,n) for i in 1:N]\n",
    "\n",
    "            \n",
    "\n",
    "         # now we solve Z_k+1 = arg min prox_g,rho (1/N sum(x_i_k+1 + 1/rho y_i^k))\n",
    "        singValDesc = svd(AvergeMatrix(Xnuevo) +(1/mu)*AvergeMatrix(Y))\n",
    "        #SVD(A) returns a triple (U,S,V) where S contains the singular values and A=U*S*V' (' denotes ')\n",
    "        #for SVD(A) to work correctly, A must be m x n where m>= n or else S wont have the proper dimensions.\n",
    "        Z = singValDesc[1]*SoftThreshold(diagm(singValDesc[2]),lambda/(mu*N))*singValDesc[3]'\n",
    "\n",
    "        #update Y\n",
    "        [Y[i] = Y[i]+ mu*(Xnuevo[i]-Z)for i in 1:N]\n",
    "        \n",
    "        #check stopping condition\n",
    "      #  if  firstCriterium(stopCrit1,Z,averObservations,Xnuevo)\n",
    "       #     println(\"Done\")\n",
    "        #    break\n",
    "       # end\n",
    "        #update mu\n",
    "        #mu = updateMu(mu,rho,Xviejo,Xnuevo,averObservations,stopCrit2)\n",
    "        #mu = mu*rho\n",
    "        #update Xviejo\n",
    "        Xviejo = Xnuevo\n",
    "        # update k \n",
    "        println(\"Step $(k)\")\n",
    "        println(norm(Xnuevo[1],2))\n",
    "        k = k+1\n",
    "        \n",
    "        println(mu)\n",
    "        if k>maxIter\n",
    "            println(\"exceeded max number of iteration at solving\")\n",
    "            break\n",
    "        end    \n",
    "    end\n",
    "    return((Z,Xnuevo))\n",
    "end\n",
    "        "
   ]
  },
  {
   "cell_type": "markdown",
   "metadata": {
    "collapsed": false
   },
   "source": [
    "#observations are the observations to compute the function f_i.\n",
    "#Y is the dual in step k.\n",
    "#X are the old values of x.\n",
    "#Z is the objective variable in step k\n",
    "#mu is the step size.\n",
    "#using JuMP \n",
    "#using Mosek\n",
    "\n",
    "function solveForXMosek(obs,Y,Z,mu,n)\n",
    "    m = Model(solver=MosekSolver())\n",
    "    @variable(m,x[1:n,1:n])\n",
    "    @variable(m,s[1:n,1:n])\n",
    "    @constraint(m,-s.<=x-obs)    \n",
    "    @constraint(m,x-obs.<=s)\n",
    "    @objective(m,Min,0.5*trace(s'*(ones(n)*ones(n)'))+trace(Y'*(x-Z))+(mu/2)*(trace((x-Z)'*(x-Z))))\n",
    "     status = solve(m)\n",
    "    return(getvalue(x))\n",
    "end\n",
    "   \n",
    "\n"
   ]
  },
  {
   "cell_type": "markdown",
   "metadata": {},
   "source": [
    "<h1>Test<h1>"
   ]
  },
  {
   "cell_type": "code",
   "execution_count": 4,
   "metadata": {
    "collapsed": false
   },
   "outputs": [
    {
     "data": {
      "text/plain": [
       "evaluarADMMGraphLearning4 (generic function with 2 methods)"
      ]
     },
     "execution_count": 4,
     "metadata": {},
     "output_type": "execute_result"
    }
   ],
   "source": [
    "#using NBInclude\n",
    "#nbinclude(\"AuxFunctions.ipynb\")\n",
    "#nbinclude(\"GraphLearning.ipynb\")"
   ]
  },
  {
   "cell_type": "code",
   "execution_count": 5,
   "metadata": {
    "collapsed": false
   },
   "outputs": [
    {
     "data": {
      "text/plain": [
       "MersenneTwister(UInt32[0x000030f8], Base.dSFMT.DSFMT_state(Int32[-642584449, 1073679535, 1179766305, 1073019918, 1125216476, 1073564878, 957469279, 1073717922, 279120579, 1073148466  …  800267814, 1073005159, -793867396, 1073706843, -1618855785, -1651276217, 355150608, -186995734, 382, 0]), [1.06397, 1.96936, 1.23695, 1.49785, 1.18087, 1.86879, 1.88006, 1.56963, 1.25329, 1.73932  …  1.30971, 1.95197, 1.43206, 1.10679, 1.3675, 1.55442, 1.41634, 1.31668, 1.76075, 1.90799], 382)"
      ]
     },
     "execution_count": 5,
     "metadata": {},
     "output_type": "execute_result"
    }
   ],
   "source": [
    "#srand(12536)"
   ]
  },
  {
   "cell_type": "code",
   "execution_count": 6,
   "metadata": {
    "collapsed": false
   },
   "outputs": [
    {
     "data": {
      "text/plain": [
       "1"
      ]
     },
     "execution_count": 6,
     "metadata": {},
     "output_type": "execute_result"
    }
   ],
   "source": [
    "\n",
    "#grafo20obs5 = Array{Any}(5)\n",
    "#grafo20obs5[1]=erdosgraph([0.77,0.77],0.1,[12,8],20)+diagm(ones(20))\n",
    "#grafo20obs5[2]=erdosgraph([0.77,0.77],0.1,[12,8],20)+diagm(ones(20))\n",
    "#grafo20obs5[3]=erdosgraph([0.77,0.77],0.1,[12,8],20)+diagm(ones(20))\n",
    "#grafo20obs5[4]=erdosgraph([0.77,0.77],0.1,[12,8],20)+diagm(ones(20))\n",
    "#grafo20obs5[5]=erdosgraph([0.77,0.77],0.1,[12,8],20)+diagm(ones(20))\n",
    "#1"
   ]
  },
  {
   "cell_type": "code",
   "execution_count": null,
   "metadata": {
    "collapsed": true
   },
   "outputs": [],
   "source": [
    "#0.28889 s\n",
    "#tic()\n",
    "#recuperaRegular = learnRegularized2A([1/5,1/5,1/5,1/5,1/5],1.6,grafo20obs5,20)\n",
    "#toc()"
   ]
  },
  {
   "cell_type": "code",
   "execution_count": null,
   "metadata": {
    "collapsed": true
   },
   "outputs": [],
   "source": [
    "#recuperaRegular[1]"
   ]
  },
  {
   "cell_type": "code",
   "execution_count": null,
   "metadata": {
    "collapsed": true
   },
   "outputs": [],
   "source": [
    "#function admmRecovery2(observations,lambda,n,rho=1.6,stopCrit1=1.0e-7,stopCrit2=1.0e-5,maxIter=10000)\n"
   ]
  },
  {
   "cell_type": "code",
   "execution_count": 9,
   "metadata": {
    "collapsed": false
   },
   "outputs": [],
   "source": [
    "#64.3 segundos\n",
    "#tic()\n",
    "#respuestaAdmm = admmRecovery2(grafo20obs5,1.6,20,1.6,1.0e-5,1.0e-5,500)\n",
    "#toc()"
   ]
  },
  {
   "cell_type": "code",
   "execution_count": 31,
   "metadata": {
    "collapsed": false
   },
   "outputs": [
    {
     "data": {
      "text/plain": [
       "20×20 Array{Float64,2}:\n",
       " 1.0          1.0          1.0         …   3.83932e-9    4.05544e-9 \n",
       " 1.0          1.0          1.0            -1.2696e-9    -1.05348e-9 \n",
       " 1.0          1.0          1.0             3.81038e-9    4.0265e-9  \n",
       " 1.0          1.0          1.0             4.65253e-9    4.86865e-9 \n",
       " 1.0          1.0          1.0             2.90721e-9    3.12333e-9 \n",
       " 1.0          1.0          1.0         …   9.15788e-9    9.374e-9   \n",
       " 1.0          1.0          1.0            -7.20876e-10  -5.04757e-10\n",
       " 1.0          1.0          1.0            -6.42067e-10  -4.25948e-10\n",
       " 1.0          1.0          1.0            -1.22293e-9   -1.00681e-9 \n",
       " 1.0          1.0          1.0            -6.05223e-10  -3.89105e-10\n",
       " 1.0          1.0          1.0         …  -3.21656e-10  -1.05537e-10\n",
       " 1.0          1.0          1.0            -1.09189e-9   -8.75772e-10\n",
       " 3.99024e-9  -1.11868e-9   3.9613e-9       1.0           1.0        \n",
       " 3.95991e-9  -1.14902e-9   3.93096e-9      1.0           1.0        \n",
       " 3.86594e-9  -1.24299e-9   3.837e-9        1.0           1.0        \n",
       " 4.78844e-9  -3.20484e-10  4.7595e-9   …   1.0           1.0        \n",
       " 4.73913e-9  -3.69799e-10  4.71018e-9      1.0           1.0        \n",
       " 4.00528e-9  -1.10365e-9   3.97634e-9      1.0           1.0        \n",
       " 3.83932e-9  -1.2696e-9    3.81038e-9      1.0           1.0        \n",
       " 4.05544e-9  -1.05348e-9   4.0265e-9       1.0           1.0        "
      ]
     },
     "execution_count": 31,
     "metadata": {},
     "output_type": "execute_result"
    }
   ],
   "source": [
    "#bli =(respuestaAdmm[1]+ones(20)*ones(20)')/2"
   ]
  },
  {
   "cell_type": "code",
   "execution_count": null,
   "metadata": {
    "collapsed": true
   },
   "outputs": [],
   "source": [
    "#0.069 s\n",
    "#tic()\n",
    "#respuestaAdmmProx = admmRecovery(grafo20obs5,1.6,20,1.6,1.0e-5,500)\n",
    "#toc()"
   ]
  },
  {
   "cell_type": "code",
   "execution_count": 13,
   "metadata": {
    "collapsed": false
   },
   "outputs": [
    {
     "data": {
      "text/plain": [
       "20×20 Array{Float64,2}:\n",
       " 1.0         1.0          1.0         …   2.85835e-9    1.41128e-8\n",
       " 1.0         1.0          1.0             2.58315e-8    3.70859e-8\n",
       " 1.0         1.0          1.0            -6.70257e-9    4.55191e-9\n",
       " 1.0         1.0          1.0            -6.56059e-9    4.6939e-9 \n",
       " 1.0         1.0          1.0            -3.61625e-9    7.63823e-9\n",
       " 1.0         1.0          1.0         …  -2.22011e-8   -1.09466e-8\n",
       " 1.0         1.0          1.0             6.73688e-9    1.79914e-8\n",
       " 1.0         1.0          1.0             1.25013e-8    2.37558e-8\n",
       " 1.0         1.0          1.0            -5.64038e-9    5.6141e-9 \n",
       " 1.0         1.0          1.0             1.45814e-9    1.27126e-8\n",
       " 1.0         1.0          1.0         …   8.55231e-11   1.134e-8  \n",
       " 1.0         1.0          1.0            -5.22803e-9    6.02645e-9\n",
       " 8.07269e-9  3.10458e-8  -1.48824e-9      1.0           1.0       \n",
       " 1.36442e-8  3.66173e-8   4.08325e-9      1.0           1.0       \n",
       " 3.07075e-8  5.36806e-8   2.11466e-8      1.0           1.0       \n",
       " 5.63815e-9  2.86113e-8  -3.92278e-9  …   1.0           1.0       \n",
       " 1.47694e-8  3.77425e-8   5.20846e-9      1.0           1.0       \n",
       " 5.55982e-9  2.85329e-8  -4.0011e-9       1.0           1.0       \n",
       " 2.85835e-9  2.58315e-8  -6.70257e-9      1.0           1.0       \n",
       " 1.41128e-8  3.70859e-8   4.55191e-9      1.0           1.0       "
      ]
     },
     "execution_count": 13,
     "metadata": {},
     "output_type": "execute_result"
    }
   ],
   "source": [
    "#bli =(respuestaAdmmProx[1]+ones(20)*ones(20)')/2"
   ]
  },
  {
   "cell_type": "markdown",
   "metadata": {},
   "source": [
    "<h2>Grafos grandes<h2>"
   ]
  },
  {
   "cell_type": "code",
   "execution_count": 14,
   "metadata": {
    "collapsed": false
   },
   "outputs": [
    {
     "data": {
      "text/plain": [
       "200×200 Array{Float64,2}:\n",
       " 1.0  1.0  1.0  1.0  1.0  1.0  1.0  1.0  …  0.0  0.0  0.0  0.0  0.0  0.0  0.0\n",
       " 1.0  1.0  0.0  1.0  1.0  1.0  1.0  1.0     0.0  0.0  0.0  0.0  0.0  0.0  0.0\n",
       " 1.0  0.0  1.0  0.0  1.0  1.0  1.0  1.0     0.0  0.0  0.0  0.0  0.0  0.0  0.0\n",
       " 1.0  1.0  0.0  1.0  1.0  1.0  1.0  0.0     0.0  0.0  0.0  1.0  1.0  0.0  0.0\n",
       " 1.0  1.0  1.0  1.0  1.0  1.0  1.0  1.0     0.0  0.0  1.0  0.0  1.0  0.0  0.0\n",
       " 1.0  1.0  1.0  1.0  1.0  1.0  0.0  1.0  …  0.0  0.0  0.0  0.0  0.0  0.0  0.0\n",
       " 1.0  1.0  1.0  1.0  1.0  0.0  1.0  1.0     1.0  0.0  0.0  0.0  0.0  0.0  0.0\n",
       " 1.0  1.0  1.0  0.0  1.0  1.0  1.0  1.0     0.0  0.0  0.0  0.0  0.0  0.0  0.0\n",
       " 1.0  0.0  1.0  1.0  1.0  1.0  1.0  1.0     0.0  0.0  0.0  0.0  0.0  0.0  0.0\n",
       " 1.0  1.0  1.0  1.0  0.0  1.0  1.0  1.0     0.0  0.0  0.0  0.0  0.0  0.0  0.0\n",
       " 1.0  1.0  1.0  1.0  1.0  1.0  1.0  1.0  …  0.0  0.0  0.0  1.0  0.0  0.0  0.0\n",
       " 1.0  0.0  1.0  1.0  1.0  1.0  1.0  1.0     0.0  0.0  0.0  0.0  0.0  1.0  0.0\n",
       " 0.0  0.0  1.0  1.0  1.0  1.0  1.0  1.0     0.0  0.0  0.0  0.0  0.0  0.0  0.0\n",
       " ⋮                        ⋮              ⋱            ⋮                      \n",
       " 0.0  0.0  0.0  0.0  0.0  0.0  0.0  1.0     1.0  1.0  1.0  0.0  0.0  1.0  1.0\n",
       " 0.0  1.0  0.0  0.0  0.0  0.0  1.0  0.0     1.0  1.0  1.0  1.0  0.0  1.0  1.0\n",
       " 0.0  0.0  0.0  0.0  0.0  1.0  1.0  0.0  …  0.0  1.0  0.0  1.0  1.0  1.0  1.0\n",
       " 0.0  0.0  0.0  0.0  0.0  0.0  0.0  0.0     1.0  1.0  1.0  1.0  1.0  0.0  1.0\n",
       " 0.0  0.0  0.0  0.0  0.0  0.0  0.0  1.0     1.0  0.0  1.0  1.0  1.0  1.0  1.0\n",
       " 0.0  0.0  0.0  0.0  0.0  0.0  1.0  0.0     1.0  1.0  0.0  0.0  1.0  1.0  1.0\n",
       " 0.0  0.0  0.0  0.0  0.0  0.0  0.0  0.0     1.0  1.0  1.0  1.0  1.0  0.0  1.0\n",
       " 0.0  0.0  0.0  0.0  1.0  0.0  0.0  0.0  …  0.0  1.0  1.0  1.0  1.0  1.0  0.0\n",
       " 0.0  0.0  0.0  1.0  0.0  0.0  0.0  0.0     0.0  1.0  1.0  1.0  1.0  0.0  0.0\n",
       " 0.0  0.0  0.0  1.0  1.0  0.0  0.0  0.0     1.0  1.0  1.0  1.0  1.0  1.0  1.0\n",
       " 0.0  0.0  0.0  0.0  0.0  0.0  0.0  0.0     1.0  0.0  1.0  0.0  1.0  1.0  0.0\n",
       " 0.0  0.0  0.0  0.0  0.0  0.0  0.0  0.0     1.0  1.0  0.0  0.0  1.0  0.0  1.0"
      ]
     },
     "execution_count": 14,
     "metadata": {},
     "output_type": "execute_result"
    }
   ],
   "source": [
    "#grafo200obs3 = Array{Any}(3)\n",
    "#grafo200obs3[1]=erdosgraph([0.85,0.85],0.1,[100,100],200)+diagm(ones(200))\n",
    "#grafo200obs3[2]=erdosgraph([0.85,0.85],0.1,[100,100],200)+diagm(ones(200))\n",
    "#grafo200obs3[3]=erdosgraph([0.85,0.85],0.1,[100,100],200)+diagm(ones(200))\n"
   ]
  },
  {
   "cell_type": "code",
   "execution_count": null,
   "metadata": {
    "collapsed": true
   },
   "outputs": [],
   "source": [
    "#7 horas\n",
    "#tic()\n",
    "#respuestaAdmmGrande = admmRecovery2(grafo200obs3,1.6,200,1.6,1.0e-5,1.0e-5,200)\n",
    "#toc()"
   ]
  },
  {
   "cell_type": "code",
   "execution_count": 12,
   "metadata": {
    "collapsed": false
   },
   "outputs": [
    {
     "data": {
      "text/plain": [
       "200×200 Array{Float64,2}:\n",
       "  0.999991     0.999994     1.00001     …   2.22356e-5   3.47044e-6\n",
       "  0.999994     0.999998     1.0             1.56104e-5   1.08383e-6\n",
       "  1.00001      1.0          0.99999        -2.43845e-5  -2.54589e-6\n",
       "  1.0          1.0          0.999999       -2.01411e-6  -3.71595e-7\n",
       "  1.00001      6.91444e-6   0.999984       -3.77345e-5  -3.92154e-6\n",
       "  0.999996     0.999998     1.0         …   7.58836e-6   8.0147e-7 \n",
       "  1.00001      1.0          0.999983       -2.61186e-5  -2.72654e-6\n",
       "  1.00001      1.0          0.99999        -2.41558e-5  -3.70371e-6\n",
       "  1.00001      1.0          0.999994       -1.41018e-5  -1.49836e-6\n",
       "  0.999987     0.999994     2.19287e-5      3.39515e-5   3.59029e-6\n",
       "  1.00001      1.0          0.999993    …  -1.7197e-5   -1.77179e-6\n",
       "  1.00001      1.0          0.99999        -2.24458e-5  -3.4477e-6 \n",
       "  0.999973    -1.25637e-5   2.95379e-5      4.57386e-5   7.21631e-6\n",
       "  ⋮                                     ⋱                          \n",
       "  9.35394e-6   6.57673e-6  -1.02031e-5      0.999976     0.999997  \n",
       " -2.50274e-5  -1.17927e-5   2.74474e-5      1.0001       1.00001   \n",
       " -1.20107e-6  -5.74e-7      1.99909e-6  …   1.0          1.0       \n",
       " -1.81228e-5  -8.52231e-6   1.99585e-5      1.00005      1.0       \n",
       " -4.88762e-6  -2.32847e-6   8.00521e-6      1.00001      1.0       \n",
       "  1.50285e-5   7.09373e-6  -1.6477e-5       0.999961     0.999996  \n",
       "  5.00573e-6   2.39362e-6  -3.61191e-6      0.999987     0.999999  \n",
       " -9.50108e-6  -4.50434e-6   1.03713e-5  …   1.00004      1.0       \n",
       " -2.62036e-5  -8.27629e-6   1.91707e-5      1.00004      1.00001   \n",
       " -1.07547e-5  -5.09972e-6   1.00002         1.00003      1.0       \n",
       "  2.22356e-5   1.56104e-5  -2.43845e-5      0.999943     0.999994  \n",
       "  3.47044e-6   1.08383e-6  -2.54589e-6      0.999994     0.999999  "
      ]
     },
     "execution_count": 12,
     "metadata": {},
     "output_type": "execute_result"
    }
   ],
   "source": [
    "#(respuestaAdmmGrande[1]+ones(200)*ones(200)')/2"
   ]
  },
  {
   "cell_type": "code",
   "execution_count": null,
   "metadata": {
    "collapsed": true
   },
   "outputs": [],
   "source": [
    "#3.15 s (antes de la correccion del cast tardabamos 7 minutos)\n",
    "# sin embargo notamos que desde el step 20 ya no cambia la norma de la matriz asi que volvemos a tratar mas abajo...\n",
    "#tic()\n",
    "#respuestaAdmmProx = admmRecovery(grafo200obs3,1.6,200,1.6,1.0e-5,200)\n",
    "#toc()"
   ]
  },
  {
   "cell_type": "code",
   "execution_count": 18,
   "metadata": {
    "collapsed": false
   },
   "outputs": [
    {
     "data": {
      "text/plain": [
       "200×200 Array{Float64,2}:\n",
       "  1.0           1.0           1.0          …  -8.55664e-10  -4.35249e-10\n",
       "  1.0           1.0           1.0             -1.42543e-9   -1.00501e-9 \n",
       "  1.0           1.0           1.0             -1.25792e-9   -8.37503e-10\n",
       "  1.0           1.0           1.0             -5.94895e-10  -1.74481e-10\n",
       "  1.0           1.0           1.0             -8.41516e-10  -4.21101e-10\n",
       "  1.0           1.0           1.0          …  -1.3352e-9    -9.14786e-10\n",
       "  1.0           1.0           1.0             -1.33125e-9   -9.10839e-10\n",
       "  1.0           1.0           1.0             -1.21179e-9   -7.91379e-10\n",
       "  1.0           1.0           1.0             -1.19742e-9   -7.77007e-10\n",
       "  1.0           1.0           1.0             -8.47194e-10  -4.2678e-10 \n",
       "  1.0           1.0           1.0          …  -1.15166e-9   -7.31249e-10\n",
       "  1.0           1.0           1.0             -2.35398e-10   1.85017e-10\n",
       "  1.0           1.0           1.0             -1.34595e-9   -9.25532e-10\n",
       "  ⋮                                        ⋱                            \n",
       "  4.40066e-10  -1.297e-10     3.78117e-11      1.0           1.0        \n",
       "  2.1862e-10   -3.51145e-10  -1.83634e-10      1.0           1.0        \n",
       " -8.55595e-10  -1.42536e-9   -1.25785e-9   …   1.0           1.0        \n",
       "  6.55532e-11  -5.04212e-10  -3.36701e-10      1.0           1.0        \n",
       " -4.10275e-10  -9.80041e-10  -8.12529e-10      1.0           1.0        \n",
       " -7.098e-11    -6.40746e-10  -4.73234e-10      1.0           1.0        \n",
       " -1.28484e-9   -1.85461e-9   -1.68709e-9       1.0           1.0        \n",
       "  6.21462e-10   5.16966e-11   2.19208e-10  …   1.0           1.0        \n",
       "  5.73511e-11  -5.12415e-10  -3.44903e-10      1.0           1.0        \n",
       "  6.34437e-10   6.4671e-11    2.32182e-10      1.0           1.0        \n",
       " -8.55663e-10  -1.42543e-9   -1.25792e-9       1.0           1.0        \n",
       " -4.35249e-10  -1.00501e-9   -8.37503e-10      1.0           1.0        "
      ]
     },
     "execution_count": 18,
     "metadata": {},
     "output_type": "execute_result"
    }
   ],
   "source": [
    "#(respuestaAdmmProx[1]+ones(200)*ones(200)')/2"
   ]
  },
  {
   "cell_type": "markdown",
   "metadata": {},
   "source": [
    "<h3>n=1000<h3>"
   ]
  },
  {
   "cell_type": "code",
   "execution_count": 19,
   "metadata": {
    "collapsed": false
   },
   "outputs": [
    {
     "data": {
      "text/plain": [
       "1000×1000 Array{Float64,2}:\n",
       " 1.0  1.0  1.0  0.0  1.0  1.0  1.0  1.0  …  0.0  0.0  0.0  0.0  0.0  0.0  0.0\n",
       " 1.0  1.0  1.0  1.0  1.0  1.0  1.0  0.0     0.0  0.0  0.0  0.0  0.0  0.0  1.0\n",
       " 1.0  1.0  1.0  1.0  1.0  1.0  1.0  1.0     0.0  1.0  0.0  0.0  1.0  0.0  0.0\n",
       " 0.0  1.0  1.0  1.0  1.0  1.0  1.0  0.0     0.0  0.0  0.0  0.0  0.0  0.0  0.0\n",
       " 1.0  1.0  1.0  1.0  1.0  0.0  1.0  0.0     0.0  0.0  0.0  0.0  0.0  0.0  0.0\n",
       " 1.0  1.0  1.0  1.0  0.0  1.0  1.0  0.0  …  0.0  0.0  0.0  0.0  0.0  0.0  1.0\n",
       " 1.0  1.0  1.0  1.0  1.0  1.0  1.0  1.0     0.0  0.0  0.0  0.0  0.0  0.0  0.0\n",
       " 1.0  0.0  1.0  0.0  0.0  0.0  1.0  1.0     0.0  0.0  0.0  1.0  1.0  0.0  0.0\n",
       " 1.0  1.0  1.0  1.0  1.0  1.0  1.0  1.0     0.0  0.0  0.0  0.0  0.0  0.0  1.0\n",
       " 1.0  1.0  1.0  1.0  1.0  0.0  1.0  1.0     0.0  0.0  0.0  0.0  0.0  0.0  0.0\n",
       " 1.0  0.0  1.0  1.0  1.0  1.0  1.0  1.0  …  0.0  0.0  0.0  0.0  1.0  0.0  0.0\n",
       " 1.0  1.0  1.0  1.0  1.0  1.0  1.0  1.0     1.0  0.0  1.0  0.0  0.0  0.0  0.0\n",
       " 1.0  0.0  1.0  1.0  1.0  1.0  0.0  1.0     0.0  0.0  0.0  0.0  0.0  0.0  0.0\n",
       " ⋮                        ⋮              ⋱            ⋮                      \n",
       " 0.0  0.0  1.0  0.0  0.0  0.0  0.0  0.0     1.0  1.0  1.0  0.0  1.0  1.0  1.0\n",
       " 0.0  0.0  0.0  0.0  0.0  0.0  0.0  0.0     1.0  0.0  1.0  1.0  1.0  0.0  0.0\n",
       " 0.0  0.0  0.0  1.0  0.0  0.0  0.0  0.0  …  1.0  1.0  1.0  0.0  1.0  1.0  1.0\n",
       " 0.0  0.0  0.0  0.0  0.0  0.0  0.0  0.0     1.0  1.0  1.0  1.0  1.0  1.0  0.0\n",
       " 0.0  0.0  0.0  0.0  0.0  0.0  0.0  1.0     0.0  1.0  1.0  1.0  1.0  1.0  1.0\n",
       " 0.0  0.0  0.0  0.0  0.0  0.0  0.0  0.0     1.0  0.0  1.0  1.0  1.0  1.0  1.0\n",
       " 0.0  0.0  1.0  0.0  0.0  0.0  0.0  0.0     0.0  1.0  0.0  0.0  1.0  1.0  1.0\n",
       " 0.0  0.0  0.0  0.0  0.0  0.0  0.0  0.0  …  1.0  0.0  1.0  1.0  1.0  1.0  0.0\n",
       " 0.0  0.0  0.0  0.0  0.0  0.0  0.0  1.0     1.0  0.0  1.0  1.0  1.0  1.0  1.0\n",
       " 0.0  0.0  1.0  0.0  0.0  0.0  0.0  1.0     1.0  1.0  1.0  1.0  1.0  1.0  1.0\n",
       " 0.0  0.0  0.0  0.0  0.0  0.0  0.0  0.0     1.0  1.0  1.0  1.0  1.0  1.0  1.0\n",
       " 0.0  1.0  0.0  0.0  0.0  1.0  0.0  0.0     1.0  1.0  0.0  1.0  1.0  1.0  1.0"
      ]
     },
     "execution_count": 19,
     "metadata": {},
     "output_type": "execute_result"
    }
   ],
   "source": [
    "#grafo1000obs3 = Array{Any}(3)\n",
    "#grafo1000obs3[1]=erdosgraph([0.85,0.85],0.1,[250,750],1000)+diagm(ones(1000))\n",
    "#grafo1000obs3[2]=erdosgraph([0.85,0.85],0.1,[250,750],1000)+diagm(ones(1000))\n",
    "#grafo1000obs3[3]=erdosgraph([0.85,0.85],0.1,[250,750],1000)+diagm(ones(1000))\n"
   ]
  },
  {
   "cell_type": "code",
   "execution_count": null,
   "metadata": {
    "collapsed": true
   },
   "outputs": [],
   "source": [
    "#139 min = 2h\n",
    "#tic()\n",
    "#respuestaAdmmProx = admmRecovery(grafo1000obs3,1.6,1000,1.6,1.0e-5,1.0e-5,30)\n",
    "#toc()"
   ]
  },
  {
   "cell_type": "code",
   "execution_count": 13,
   "metadata": {
    "collapsed": false
   },
   "outputs": [
    {
     "data": {
      "text/plain": [
       "1000×1000 Array{Float64,2}:\n",
       "  0.999698      0.999597      1.00019      …   5.27828e-5    9.69153e-5 \n",
       "  0.999597      0.999937      1.00039         -0.000339631   0.165447   \n",
       "  1.00019       1.00039       0.999527        -0.000176023   1.17976e-5 \n",
       "  1.0011        0.99982       0.999582         0.000361548   0.000251315\n",
       "  0.999945      0.999489      1.00069         -2.37356e-5   -0.000138101\n",
       "  0.999375      1.00016       1.00028      …   6.34709e-5   -8.31634e-5 \n",
       "  0.99994       1.00036       1.00013          0.000152232  -0.000208594\n",
       "  1.00002       1.00003       1.00013         -0.000155825   0.000178341\n",
       "  0.999747      1.00024       0.999945        -0.000148351  -0.000212509\n",
       "  0.999784      0.999806      0.999676        -0.000156711   4.00402e-5 \n",
       "  0.999924      1.00026       0.999705     …   7.88072e-5    5.69703e-5 \n",
       "  0.999948      0.99988       1.00087          1.29156e-5   -0.000121226\n",
       "  0.999494      1.00011       0.763906        -8.92286e-5    8.18885e-6 \n",
       "  ⋮                                        ⋱                            \n",
       "  0.000142714  -0.000250158  -0.000124664      1.00001       1.00005    \n",
       " -8.54975e-5   -0.000170406   3.07439e-5       1.00008       0.999913   \n",
       " -1.59669e-5    0.000143894   7.99111e-5   …   1.00016       0.999997   \n",
       " -0.00015747   -5.11319e-5    0.000184697      1.00011       1.00002    \n",
       " -0.000442657  -7.64053e-5    0.000254927      0.999876      0.999901   \n",
       " -0.000224308  -0.000179726  -0.000321577      1.00003       1.0004     \n",
       "  5.51184e-5    9.45274e-5    5.63653e-5       0.999979      1.00005    \n",
       " -0.000133194  -5.47258e-5    0.373352     …   1.00003       1.00008    \n",
       "  0.000103579  -0.000265767  -0.000149683      1.00008       0.999923   \n",
       " -7.20347e-6    0.000129127  -5.77514e-5       0.308596      0.999988   \n",
       "  5.27828e-5   -0.000339631  -0.000176023      1.00024       1.00009    \n",
       "  9.69153e-5    0.165447      1.17976e-5       1.00009       1.00009    "
      ]
     },
     "execution_count": 13,
     "metadata": {},
     "output_type": "execute_result"
    }
   ],
   "source": [
    "#bli =(respuestaAdmmProx[1]+ones(1000)*ones(1000)')/2"
   ]
  },
  {
   "cell_type": "code",
   "execution_count": null,
   "metadata": {
    "collapsed": true
   },
   "outputs": [],
   "source": [
    "#corrigiendo con el cast\n",
    "#9.26 min\n",
    "#tic()\n",
    "#respuestaAdmmProx = admmRecovery(grafo1000obs3,2,1000,1.6,1.0e-5,200)\n",
    "#toc()\n"
   ]
  },
  {
   "cell_type": "code",
   "execution_count": 23,
   "metadata": {
    "collapsed": false
   },
   "outputs": [
    {
     "data": {
      "text/plain": [
       "1000×1000 Array{Float64,2}:\n",
       "  1.0          1.0           1.0          …  -1.86517e-14   1.53788e-12\n",
       "  1.0          1.0           1.0              1.12854e-11   1.28419e-11\n",
       "  1.0          1.0           1.0             -1.77698e-11  -1.62133e-11\n",
       "  1.0          1.0           1.0             -1.63668e-11  -1.48103e-11\n",
       "  1.0          1.0           1.0             -1.80876e-11  -1.65311e-11\n",
       "  1.0          1.0           1.0          …   2.53103e-12   4.08756e-12\n",
       "  1.0          1.0           1.0             -1.71191e-11  -1.55626e-11\n",
       "  1.0          1.0           1.0             -1.82464e-11  -1.66899e-11\n",
       "  1.0          1.0           1.0             -1.71922e-11  -1.56357e-11\n",
       "  1.0          1.0           1.0             -1.64335e-12  -8.68194e-14\n",
       "  1.0          1.0           1.0          …  -1.99573e-11  -1.84007e-11\n",
       "  1.0          1.0           1.0             -1.85243e-11  -1.69678e-11\n",
       "  1.0          1.0           1.0             -1.88827e-11  -1.73261e-11\n",
       "  ⋮                                       ⋱                            \n",
       "  2.62418e-11  3.75476e-11   8.48832e-12      1.0           1.0        \n",
       "  6.9883e-13   1.20046e-11  -1.70547e-11      1.0           1.0        \n",
       "  9.31755e-13  1.22375e-11  -1.68218e-11  …   1.0           1.0        \n",
       "  4.26187e-11  5.39245e-11   2.48652e-11      1.0           1.0        \n",
       "  6.18616e-13  1.19244e-11  -1.71348e-11      1.0           1.0        \n",
       "  3.50858e-12  1.48143e-11  -1.42449e-11      1.0           1.0        \n",
       "  1.69642e-12  1.30022e-11  -1.6057e-11       1.0           1.0        \n",
       "  2.66226e-12  1.3968e-11   -1.50913e-11  …   1.0           1.0        \n",
       "  1.78862e-12  1.30944e-11  -1.59649e-11      1.0           1.0        \n",
       " -1.33993e-12  9.96581e-12  -1.90935e-11      1.0           1.0        \n",
       " -1.57652e-14  1.129e-11    -1.77692e-11      1.0           1.0        \n",
       "  1.54177e-12  1.28476e-11  -1.62117e-11      1.0           1.0        "
      ]
     },
     "execution_count": 23,
     "metadata": {},
     "output_type": "execute_result"
    }
   ],
   "source": [
    "#bli =(respuestaAdmmProx[1]+ones(1000)*ones(1000)')/2"
   ]
  },
  {
   "cell_type": "code",
   "execution_count": null,
   "metadata": {
    "collapsed": true
   },
   "outputs": [],
   "source": []
  }
 ],
 "metadata": {
  "kernelspec": {
   "display_name": "Julia 0.6.0",
   "language": "julia",
   "name": "julia-0.6"
  },
  "language_info": {
   "file_extension": ".jl",
   "mimetype": "application/julia",
   "name": "julia",
   "version": "0.6.0"
  }
 },
 "nbformat": 4,
 "nbformat_minor": 0
}
