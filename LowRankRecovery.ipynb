{
 "cells": [
  {
   "cell_type": "code",
   "execution_count": 2,
   "metadata": {
    "collapsed": false
   },
   "outputs": [
    {
     "data": {
      "text/plain": [
       "evaluarGraphLearningMean6Grande (generic function with 1 method)"
      ]
     },
     "execution_count": 2,
     "metadata": {},
     "output_type": "execute_result"
    }
   ],
   "source": [
    "using JuMP \n",
    "using Mosek"
   ]
  },
  {
   "cell_type": "code",
   "execution_count": null,
   "metadata": {
    "collapsed": true
   },
   "outputs": [],
   "source": [
    "#En este script incluimos las funciones para recuperar poniendo una restriccion en la norma\n",
    "#nuclear de la matriz a recuperar A. Lo hacemos para recuperacion lineal, l2 y espectral."
   ]
  },
  {
   "cell_type": "code",
   "execution_count": null,
   "metadata": {
    "collapsed": true
   },
   "outputs": [],
   "source": []
  },
  {
   "cell_type": "markdown",
   "metadata": {},
   "source": [
    "<h3>norma espectral<h3>"
   ]
  },
  {
   "cell_type": "code",
   "execution_count": 3,
   "metadata": {
    "collapsed": false
   },
   "outputs": [
    {
     "data": {
      "text/plain": [
       "learnLowRankEspectral (generic function with 1 method)"
      ]
     },
     "execution_count": 3,
     "metadata": {},
     "output_type": "execute_result"
    }
   ],
   "source": [
    "#Finds the matrix A which minimices the expected error of cluster structure. This\n",
    "#time, A is a simmtric entrywise-positive matrix.\n",
    "#The parameters are the same as in learnError function\n",
    "function learnLowRankEspectral(weights,delta,B,n,beta)\n",
    "    N = length(B)\n",
    "    one =ones(n)\n",
    "    m = Model(solver=MosekSolver())\n",
    "    @variable(m,lambda>=0)\n",
    "     @variable(m,S[1:N])\n",
    "    @variable(m, W[1:n,1:n], Symmetric)\n",
    "    @variable(m,A[1:n,1:n], Symmetric)\n",
    "    Z = [@variable(m, [1:n, 1:n], Symmetric) for p in 1:N]\n",
    "    C = @variable(m, [1:n, 1:n], Symmetric)\n",
    "    @variable(m,W1[1:n,1:n])\n",
    "    @variable(m,W2[1:n,1:n])\n",
    "    #auxiliar variables to cumpute the nuclear norm of A\n",
    "    @variable(m,A1[1:n,1:n])\n",
    "    @variable(m,A2[1:n,1:n])\n",
    "    \n",
    "    #Constraints for Z\n",
    "    [@constraint(m, -Z[p].<= A-B[p]) for p in 1:N]\n",
    "    [@constraint(m,  A-B[p].<=Z[p]) for p in 1:N]\n",
    "    #Constraints for C \n",
    "    @constraint(m,C.>=-(2*A-one*one'-W))\n",
    "    @constraint(m,C.>=0)\n",
    "    [@constraint(m, one'*C*one<=S[p]-trace((2*A-one*one'-W)'*B[p])) for p in 1:N]\n",
    "    #Constraints for W\n",
    "    @SDconstraint(m,[W1 W;W W2]>=0)\n",
    "    @constraint(m,trace(W1)+trace(W2)<=2*lambda)\n",
    "    #constrains for A\n",
    "    @constraint(m,A.>=0)\n",
    "    @constraint(m,A.<=1)\n",
    "    @SDconstraint(m,[A1 A;A A2]>=0)\n",
    "    \n",
    "    #Objective function, calls the function prod\n",
    "    @objective(m,Min,lambda*delta+ dot(weights,S+prod.(Z,n))+beta*0.5*(trace(A1)+trace(A2)))\n",
    "    status = solve(m)\n",
    "    return([getvalue(A),getvalue(S),getvalue(lambda),getvalue(W),getobjectivevalue(m)])\n",
    "end"
   ]
  },
  {
   "cell_type": "markdown",
   "metadata": {},
   "source": [
    "<h3>norma l2<h3>"
   ]
  },
  {
   "cell_type": "code",
   "execution_count": null,
   "metadata": {
    "collapsed": true
   },
   "outputs": [],
   "source": [
    "#Finds the matrix A which minimices the expected error of cluster structure. This\n",
    "#time, A is a simmtric entrywise-positive matrix.\n",
    "#The parameters are the same as in learnError function\n",
    "function learnLowRankl2(weights,delta,B,n,beta)\n",
    " N = length(B)\n",
    "    one =ones(n)\n",
    "    m = Model(solver=MosekSolver())\n",
    "    @variable(m,lambda>=0)\n",
    "    @variable(m,S[1:N])\n",
    "    @variable(m,A[1:n,1:n], Symmetric)\n",
    "    #W debe ser simetrica? Creo que no.\n",
    "    @variable(m, W[1:n,1:n], Symmetric)\n",
    "    #Q es una variable auxiliar, juega el papel de Lambda en la demostracion\n",
    "    @variable(m,Q[1:n,1:n])\n",
    "    # u es una variable auxiliar para calcular la norma infinito de W.\n",
    "   # @variable(m,u>=0)\n",
    "    #Z es un conjunto de matrices que permite calcular la norma 1 de A-B[i].\n",
    "    Z = [@variable(m, [1:n, 1:n], Symmetric) for p in 1:N]\n",
    " \n",
    "    #Constrains...\n",
    "    #constrains for lambda already in the definition of the varible.\n",
    "    #Constrains for A.\n",
    "    @constraint(m,A.>=0)\n",
    "    @constraint(m,A.<=1)\n",
    "    #Constrains for Z.\n",
    "    [@constraint(m, -Z[p].<= A-B[p]) for p in 1:N]\n",
    "    [@constraint(m,  A-B[p].<=Z[p]) for p in 1:N]\n",
    "    #Constrains for W. \n",
    "    @constraint(m,vec(W)'vec(W)<=lambda)\n",
    "     #Constrains for Q.\n",
    "    @constraint(m,Q .>=-(2*A-one*one'-W))\n",
    "    @constraint(m,Q .>=0)\n",
    "    [@constraint(m, one'*Q*one<=S[p]-trace((2*A-one*one'-W)'*B[p])) for p in 1:N]\n",
    "    #Objetivo\n",
    "    @objective(m,Min,lambda*delta+ dot(weights,S+prod.(Z,n)))\n",
    "    #TT = STDOUT # save original STDOUT stream\n",
    "    #redirect_stdout()\n",
    "    solve(m)\n",
    "    #redirect_stdout(TT) # restore STDOUT\n",
    "    return([getvalue(A),getvalue(S),getvalue(lambda),getvalue(W),getobjectivevalue(m)])\n",
    "end"
   ]
  },
  {
   "cell_type": "markdown",
   "metadata": {},
   "source": [
    "<h3>norma l1<h3>"
   ]
  },
  {
   "cell_type": "code",
   "execution_count": null,
   "metadata": {
    "collapsed": true
   },
   "outputs": [],
   "source": [
    "function learnLowRankLinear(weights,delta,B,n,beta)\n",
    "    N = length(B)\n",
    "    one =ones(n)\n",
    "    m = Model(solver=MosekSolver())\n",
    "    @variable(m,lambda>=0)\n",
    "    @variable(m,S[1:N])\n",
    "    @variable(m,A[1:n,1:n], Symmetric)\n",
    "    #W debe ser simetrica? Creo que no.\n",
    "    @variable(m, W[1:n,1:n],Symmetric)\n",
    "    #Q es una variable auxiliar, juega el papel de Lambda en la demostracion\n",
    "    @variable(m,Q[1:n,1:n],Symmetric)\n",
    "    # u es una variable auxiliar para calcular la norma infinito de W.\n",
    "    @variable(m,u>=0)\n",
    "    #Z es un conjunto de matrices que permite calcular la norma 1 de A-B[i].\n",
    "    Z = [@variable(m, [1:n, 1:n], Symmetric) for p in 1:N]\n",
    " \n",
    "    #Constrains...\n",
    "    #constrains for lambda already in the definition of the varible.\n",
    "    #Constrains for A.\n",
    "    @constraint(m,A.>=0)\n",
    "    @constraint(m,A.<=1)\n",
    "    #Constrains for Z.\n",
    "    [@constraint(m, -Z[p].<= A-B[p]) for p in 1:N]\n",
    "    [@constraint(m,  A-B[p].<=Z[p]) for p in 1:N]\n",
    "    #Constrains for W. \n",
    "    @constraint(m,u<=lambda)\n",
    "    @constraint(m,u .>=W)\n",
    "    @constraint(m,u .>=-W)\n",
    "     #Constrains for Q.\n",
    "    @constraint(m,Q .>=-(2*A-one*one'-W))\n",
    "    @constraint(m,Q .>=0)\n",
    "    [@constraint(m, one'*Q*one<=S[p]-trace((2*A-one*one'-W)'*B[p])) for p in 1:N]\n",
    "    #Objetivo\n",
    "    @objective(m,Min,lambda*delta+ dot(weights,S+prod.(Z,n)))\n",
    "    #TT = STDOUT # save original STDOUT stream\n",
    "    #redirect_stdout()\n",
    "    solve(m)\n",
    "    #redirect_stdout(TT) # restore STDOUT\n",
    "    return([getvalue(A),getvalue(S),getvalue(lambda),getvalue(W),getobjectivevalue(m)])\n",
    "end"
   ]
  }
 ],
 "metadata": {
  "kernelspec": {
   "display_name": "Julia 0.6.0",
   "language": "julia",
   "name": "julia-0.6"
  },
  "language_info": {
   "file_extension": ".jl",
   "mimetype": "application/julia",
   "name": "julia",
   "version": "0.6.0"
  }
 },
 "nbformat": 4,
 "nbformat_minor": 0
}
