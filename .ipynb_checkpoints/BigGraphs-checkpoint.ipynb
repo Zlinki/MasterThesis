{
 "cells": [
  {
   "cell_type": "markdown",
   "metadata": {},
   "source": [
    "<h1>Script para evaluación de tamaños y tiempos<h1>"
   ]
  },
  {
   "cell_type": "code",
   "execution_count": 1,
   "metadata": {
    "collapsed": false
   },
   "outputs": [
    {
     "data": {
      "text/plain": [
       "learnl2Graph (generic function with 1 method)"
      ]
     },
     "execution_count": 1,
     "metadata": {},
     "output_type": "execute_result"
    }
   ],
   "source": [
    "using NBInclude\n",
    "using PyPlot\n",
    "nbinclude(\"LinearGraphLearning.ipynb\")\n",
    "nbinclude(\"AuxFunctions.ipynb\")\n",
    "nbinclude(\"GraphLearning.ipynb\")"
   ]
  },
  {
   "cell_type": "code",
   "execution_count": 2,
   "metadata": {
    "collapsed": false
   },
   "outputs": [
    {
     "data": {
      "text/plain": [
       "Base.PipeEndpoint(Base.Libc.WindowsRawSocket(Ptr{Void} @0x0000000000000284) open, 0 bytes waiting)"
      ]
     },
     "execution_count": 2,
     "metadata": {},
     "output_type": "execute_result"
    }
   ],
   "source": [
    "#Seed para las pruebas\n",
    "TT = STDOUT # save original STDOUT stream\n",
    "redirect_stdout()\n",
    "srand(1236)\n",
    "redirect_stdout(TT) # restore STDOUT"
   ]
  },
  {
   "cell_type": "markdown",
   "metadata": {},
   "source": [
    "<h2>Grafos usados<h2>"
   ]
  },
  {
   "cell_type": "markdown",
   "metadata": {},
   "source": [
    "<h5>n =250<h5>"
   ]
  },
  {
   "cell_type": "code",
   "execution_count": null,
   "metadata": {
    "collapsed": true
   },
   "outputs": [],
   "source": [
    "grafo250obs1 = Array{Any}(1)\n",
    "grafo250obs1[1]=erdosgraph([0.6,0.6],0.05,[125,125],250)\n"
   ]
  },
  {
   "cell_type": "code",
   "execution_count": null,
   "metadata": {
    "collapsed": true
   },
   "outputs": [],
   "source": [
    "\n",
    "grafo250obs3 = Array{Any}(3)\n",
    "grafo250obs3[1]=erdosgraph([0.6,0.6],0.05,[125,125],250)\n",
    "grafo250obs3[2]=erdosgraph([0.6,0.6],0.05,[125,125],250)\n",
    "grafo250obs3[3]=erdosgraph([0.6,0.6],0.05,[125,125],250)\n"
   ]
  },
  {
   "cell_type": "code",
   "execution_count": null,
   "metadata": {
    "collapsed": true
   },
   "outputs": [],
   "source": [
    "grafo250obs7 = Array{Any}(7)\n",
    "grafo250obs7[1]=erdosgraph([0.6,0.6],0.05,[125,125],250)\n",
    "grafo250obs7[2]=erdosgraph([0.6,0.6],0.05,[125,125],250)\n",
    "grafo250obs7[3]=erdosgraph([0.6,0.6],0.05,[125,125],250)\n",
    "grafo250obs7[4]=erdosgraph([0.6,0.6],0.05,[125,125],250)\n",
    "grafo250obs7[5]=erdosgraph([0.6,0.6],0.05,[125,125],250)\n",
    "grafo250obs7[6]=erdosgraph([0.6,0.6],0.05,[125,125],250)\n",
    "grafo250obs7[7]=erdosgraph([0.6,0.6],0.05,[125,125],250)\n"
   ]
  },
  {
   "cell_type": "markdown",
   "metadata": {},
   "source": [
    "<h5>n =500<h5>"
   ]
  },
  {
   "cell_type": "code",
   "execution_count": null,
   "metadata": {
    "collapsed": true
   },
   "outputs": [],
   "source": [
    "grafo500obs1 = Array{Any}(1)\n",
    "grafo500obs1[1]=erdosgraph([0.6,0.6],0.05,[250,250],500)"
   ]
  },
  {
   "cell_type": "code",
   "execution_count": null,
   "metadata": {
    "collapsed": true
   },
   "outputs": [],
   "source": [
    "\n",
    "grafo500obs3 = Array{Any}(3)\n",
    "grafo500obs3[1]=erdosgraph([0.6,0.6],0.05,[250,250],500)\n",
    "grafo500obs3[2]=erdosgraph([0.6,0.6],0.05,[250,250],500)\n",
    "grafo500obs3[3]=erdosgraph([0.6,0.6],0.05,[250,250],500)"
   ]
  },
  {
   "cell_type": "code",
   "execution_count": null,
   "metadata": {
    "collapsed": true
   },
   "outputs": [],
   "source": [
    "grafo500obs7 = Array{Any}(7)\n",
    "grafo500obs7[1]=erdosgraph([0.6,0.6],0.05,[250,250],500)\n",
    "grafo500obs7[2]=erdosgraph([0.6,0.6],0.05,[250,250],500)\n",
    "grafo500obs7[3]=erdosgraph([0.6,0.6],0.05,[250,250],500)\n",
    "grafo500obs7[4]=erdosgraph([0.6,0.6],0.05,[250,250],500)\n",
    "grafo500obs7[5]=erdosgraph([0.6,0.6],0.05,[250,250],500)\n",
    "grafo500obs7[6]=erdosgraph([0.6,0.6],0.05,[250,250],500)\n",
    "grafo500obs7[7]=erdosgraph([0.6,0.6],0.05,[250,250],500)\n"
   ]
  },
  {
   "cell_type": "markdown",
   "metadata": {},
   "source": [
    "<h2>Evaluación de recuperación lineal de grafos<h2>"
   ]
  },
  {
   "cell_type": "markdown",
   "metadata": {},
   "source": [
    "<h5>n=250<h5>"
   ]
  },
  {
   "cell_type": "code",
   "execution_count": null,
   "metadata": {
    "collapsed": true
   },
   "outputs": [],
   "source": [
    "#30 s\n",
    "tic()\n",
    "resultado1lineal=learnLinearGraph([1],0.5,grafo250obs1,250)\n",
    "toc()"
   ]
  },
  {
   "cell_type": "code",
   "execution_count": null,
   "metadata": {
    "collapsed": true
   },
   "outputs": [],
   "source": [
    "#t=48 s\n",
    "tic()\n",
    "resultado2lineal=learnLinearGraph([1/3,1/3,1/3],0.5,grafo250obs3,250)\n",
    "toc()"
   ]
  },
  {
   "cell_type": "code",
   "execution_count": null,
   "metadata": {
    "collapsed": true
   },
   "outputs": [],
   "source": [
    "#t=2.3min\n",
    "tic()\n",
    "resultado3lineal=learnLinearGraph([1/7,1/7,1/7,1/7,1/7,1/7,1/7],0.5,grafo250obs7,250)\n",
    "toc()"
   ]
  },
  {
   "cell_type": "markdown",
   "metadata": {},
   "source": [
    "<h5>n=500<h5>"
   ]
  },
  {
   "cell_type": "code",
   "execution_count": null,
   "metadata": {
    "collapsed": true
   },
   "outputs": [],
   "source": []
  },
  {
   "cell_type": "markdown",
   "metadata": {},
   "source": [
    "<h2>Evaluación de recuperación l2 de grafos<h2>"
   ]
  },
  {
   "cell_type": "markdown",
   "metadata": {},
   "source": [
    "<h5>n=250<h5>"
   ]
  },
  {
   "cell_type": "code",
   "execution_count": null,
   "metadata": {
    "collapsed": true
   },
   "outputs": [],
   "source": [
    "#28 s\n",
    "tic()\n",
    "resultado1l2=learnl2Graph([1],0.5,grafo250obs1,250)\n",
    "toc()"
   ]
  },
  {
   "cell_type": "code",
   "execution_count": null,
   "metadata": {
    "collapsed": true
   },
   "outputs": [],
   "source": [
    "#61 s\n",
    "tic()\n",
    "resultado2l2=learnl2Graph([1/3,1/3,1/3],0.5,grafo250obs3,250)\n",
    "toc()"
   ]
  },
  {
   "cell_type": "code",
   "execution_count": null,
   "metadata": {
    "collapsed": true
   },
   "outputs": [],
   "source": [
    "#t=2.25 min\n",
    "tic()\n",
    "resultado3l2=learnl2Graph([1/7,1/7,1/7,1/7,1/7,1/7,1/7],0.5,grafo250obs7,250)\n",
    "toc()"
   ]
  },
  {
   "cell_type": "markdown",
   "metadata": {
    "collapsed": true
   },
   "source": [
    "<h5>n=500<h5>"
   ]
  },
  {
   "cell_type": "code",
   "execution_count": null,
   "metadata": {
    "collapsed": true
   },
   "outputs": [],
   "source": [
    "#661 s\n",
    "tic()\n",
    "resultado1l2n500=learnl2Graph([1],0.5,grafo500obs1,500)\n",
    "toc()"
   ]
  },
  {
   "cell_type": "code",
   "execution_count": null,
   "metadata": {
    "collapsed": true
   },
   "outputs": [],
   "source": [
    "# 2 500 000 constraints\n",
    "# 876254 variables\n",
    "# 23.2 min\n",
    "tic()\n",
    "resultado2l2n500=learnl2Graph([1/3,1/3,1/3],0.5,grafo500obs3,500)\n",
    "toc()"
   ]
  },
  {
   "cell_type": "code",
   "execution_count": null,
   "metadata": {
    "collapsed": true
   },
   "outputs": [],
   "source": [
    "#t=2.25 min\n",
    "tic()\n",
    "resultado3l2n500=learnl2Graph([1/7,1/7,1/7,1/7,1/7,1/7,1/7],0.5,grafo500obs7,500)\n",
    "toc()"
   ]
  },
  {
   "cell_type": "markdown",
   "metadata": {},
   "source": [
    "<h2>Evaluación de recuperación espectral de grafos<h2>"
   ]
  },
  {
   "cell_type": "code",
   "execution_count": 20,
   "metadata": {
    "collapsed": false
   },
   "outputs": [
    {
     "name": "stdout",
     "output_type": "stream",
     "text": [
      "Problem\n",
      "  Name                   :                 \n",
      "  Objective sense        : min             \n",
      "  Type                   : CONIC (conic optimization problem)\n",
      "  Constraints            : 562502          \n",
      "  Cones                  : 0               \n",
      "  Scalar variables       : 250502          \n",
      "  Matrix variables       : 1               \n",
      "  Integer variables      : 0               \n",
      "\n",
      "Optimizer started.\n",
      "Presolve started.\n",
      "Linear dependency checker started.\n",
      "Linear dependency checker terminated.\n",
      "Eliminator started.\n",
      "Freed constraints in eliminator : 207564\n",
      "Eliminator terminated.\n",
      "Eliminator started.\n",
      "Freed constraints in eliminator : 0\n",
      "Eliminator terminated.\n",
      "Eliminator - tries                  : 2                 time                   : 0.00            \n",
      "Lin. dep.  - tries                  : 1                 time                   : 0.13            \n",
      "Lin. dep.  - number                 : 0               \n",
      "Presolve terminated. Time: 0.91    \n",
      "MOSEK error 1051: Out of space.\n",
      "Optimizer terminated. Time: 1.28    \n",
      "\n"
     ]
    },
    {
     "ename": "LoadError",
     "evalue": "\u001b[91mMethodError: Cannot `convert` an object of type Int32 to an object of type Mosek.Rescode\nThis may have arisen from a call to the constructor Mosek.Rescode(...),\nsince type constructors fall back to convert methods.\u001b[39m",
     "output_type": "error",
     "traceback": [
      "\u001b[91mMethodError: Cannot `convert` an object of type Int32 to an object of type Mosek.Rescode\nThis may have arisen from a call to the constructor Mosek.Rescode(...),\nsince type constructors fall back to convert methods.\u001b[39m",
      "",
      "Stacktrace:",
      " [1] \u001b[1moptimize!\u001b[22m\u001b[22m\u001b[1m(\u001b[22m\u001b[22m::Mosek.MosekMathProgSolverInterface.MosekMathProgConicModel\u001b[1m)\u001b[22m\u001b[22m at \u001b[1mC:\\Users\\Daniel\\.julia\\v0.6\\Mosek\\src\\MosekConicInterface.jl:582\u001b[22m\u001b[22m",
      " [2] \u001b[1m#solve#116\u001b[22m\u001b[22m\u001b[1m(\u001b[22m\u001b[22m::Bool, ::Bool, ::Bool, ::Array{Any,1}, ::Function, ::JuMP.Model\u001b[1m)\u001b[22m\u001b[22m at \u001b[1mC:\\Users\\Daniel\\.julia\\v0.6\\JuMP\\src\\solvers.jl:175\u001b[22m\u001b[22m",
      " [3] \u001b[1mlearnEspectralGraph\u001b[22m\u001b[22m\u001b[1m(\u001b[22m\u001b[22m::Array{Int64,1}, ::Float64, ::Array{Any,1}, ::Int64\u001b[1m)\u001b[22m\u001b[22m at \u001b[1mC:\\Users\\Daniel\\MasterThesis\\GraphLearning.ipynb:In[+7]:31\u001b[22m\u001b[22m",
      " [4] \u001b[1minclude_string\u001b[22m\u001b[22m\u001b[1m(\u001b[22m\u001b[22m::String, ::String\u001b[1m)\u001b[22m\u001b[22m at \u001b[1m.\\loading.jl:515\u001b[22m\u001b[22m"
     ]
    }
   ],
   "source": [
    "#aparentemente se come mucha memoria en SDP cuando hay muchas interacciones con los constraints. Ver los \n",
    "#siguientes links:\n",
    "#https://groups.google.com/forum/#!topic/yalmip/Wa0QXQOX-_k\n",
    "#https://docs.mosek.com/8.1/capi/solving-linear.html\n",
    "#https://github.com/JuliaOpt/JuMP.jl/issues/474\n",
    "#http://jump.readthedocs.io/en/latest/nlp.html\n",
    "tic()\n",
    "resultado1Espectral=learnEspectralGraph([1],0.5,grafo250obs1,250)\n",
    "toc()"
   ]
  },
  {
   "cell_type": "code",
   "execution_count": null,
   "metadata": {
    "collapsed": true
   },
   "outputs": [],
   "source": [
    "tic()\n",
    "resultado2Espectral=learnEspectralGraph([1/3,1/3,1/3],0.5,grafo250obs3,250)\n",
    "toc()"
   ]
  },
  {
   "cell_type": "code",
   "execution_count": null,
   "metadata": {
    "collapsed": true
   },
   "outputs": [],
   "source": [
    "#t=2.25 min\n",
    "tic()\n",
    "resultado3Espectral=learnEspectralGraph([1/7,1/7,1/7,1/7,1/7,1/7,1/7],0.5,grafo250obs7,250)\n",
    "toc()"
   ]
  }
 ],
 "metadata": {
  "kernelspec": {
   "display_name": "Julia 0.6.0",
   "language": "julia",
   "name": "julia-0.6"
  },
  "language_info": {
   "file_extension": ".jl",
   "mimetype": "application/julia",
   "name": "julia",
   "version": "0.6.0"
  }
 },
 "nbformat": 4,
 "nbformat_minor": 0
}
