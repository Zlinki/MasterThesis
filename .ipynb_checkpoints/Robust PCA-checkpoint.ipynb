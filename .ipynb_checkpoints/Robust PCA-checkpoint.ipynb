{
 "cells": [
  {
   "cell_type": "code",
   "execution_count": null,
   "metadata": {
    "collapsed": false
   },
   "outputs": [],
   "source": [
    "#This notebook contains a quick implementation of the robust pca algorithm.\n",
    "#We solve the problem using the implementation of \"The Augmented Lagrange Multiplier\n",
    "#method for exact recovery of corrupted low-rank matrices\"\n",
    "#In the end, we also use a solver to compare times and overall performance.\n",
    "#We expect to find much more promising results using the implemantation on the latter paper:\n",
    "#\"/although interior point methods normally take very few iterations t converge, they have difficulty in\n",
    "#handling large matrices because of the complexity of computing the step direction is O(m^6), where m is the dimension of \n",
    "#matrix [...] generic interior point solvers are too limited for Robust PCA \".\n",
    "\n",
    "#Note that the robust PCA is used in many context. Ours is the clique problem which deals with nxn symetric matrices\n",
    "#. However this implementation works for m x n matrices.\n",
    "\n"
   ]
  },
  {
   "cell_type": "code",
   "execution_count": null,
   "metadata": {
    "collapsed": true
   },
   "outputs": [],
   "source": [
    "# The model\n",
    "#D- a m x n matrix of data/variables. Usually D is nxn graph adjacency matrix.\n",
    "# We seek to solve the problem min a||E||_1 + ||A||_* subject to E+A = D+I \n",
    "#a is a positive real number. \n"
   ]
  },
  {
   "cell_type": "code",
   "execution_count": 1,
   "metadata": {
    "collapsed": false
   },
   "outputs": [
    {
     "data": {
      "text/plain": [
       "rpca (generic function with 5 methods)"
      ]
     },
     "execution_count": 1,
     "metadata": {},
     "output_type": "execute_result"
    }
   ],
   "source": [
    "#rpca is the main function. \n",
    "#If D is square matrix, we redefine D to be D = D+I.\n",
    "\n",
    "function rpca(D,lambda,rho=1.6,stopCrit1=1.0e-7,stopCrit2=1.0e-5,maxIter=1000)\n",
    "    #Initialization\n",
    "    #For problems where we have to add the identity...\n",
    "    #dims =size(D)\n",
    "    #if dims[1]==dims[2]\n",
    "    #    D = D+I\n",
    "    #end    \n",
    "    mu = 1.25/norm(D)  \n",
    "    E = zeros(D)\n",
    "    k = 0\n",
    "    Y = D/J(D,lambda)\n",
    "    A=D\n",
    "    println(\"Comienzo!\")\n",
    "    #Iterations\n",
    "    #In order to avoid evaluation of stoping criteria in the first loop, we do a while true and then \n",
    "    #add breaks if the stoping criteria are met.\n",
    "    while true   \n",
    "        # First solve A_k+1 = arg min L(A,E_k,Y_k,mu_k)\n",
    "        singValDesc = svd(D-E+((1/mu)*Y))\n",
    "        #SVD(A) returns a triple (U,S,V) where S contains the singular values and A=U*S*V' (' denotes ')\n",
    "        #for SVD(A) to work correctly, A must be m x n where m>= n or else S wont have the proper dimensions.\n",
    "        A = singValDesc[1]*perturb(diagm(singValDesc[2]),1/mu)*singValDesc[3]'\n",
    "        #Now solve E_k+1= arg min L(A_k+1,E,Y_k,mu_k)\n",
    "        perturbFactor = lambda*(1/mu)\n",
    "        Eupdated = perturb(D-A+((1/mu)*Y),perturbFactor)\n",
    "        Y = Y + mu*(D-A-Eupdated)\n",
    "        mu=updateMu(mu,rho,E,Eupdated,D,stopCrit2)\n",
    "        \n",
    "       #Checks if both the first and second criterium are met.\n",
    "        if  firstCriterium(stopCrit1,D,A,Eupdated) && secondCriterium(stopCrit2,D,mu,E,Eupdated) \n",
    "            println(\"Done\")\n",
    "            break\n",
    "        end\n",
    "        E=Eupdated\n",
    "        k=k+1\n",
    "        println(\"Step $(k)\")\n",
    "        \n",
    "        \n",
    "        #forces the algorithm to stop if k>maxIter. This should never happen. maxIter is 1000 by default.\n",
    "        if k>maxIter\n",
    "            break\n",
    "        end\n",
    "    end\n",
    "    return(A,E)\n",
    "end\n"
   ]
  },
  {
   "cell_type": "code",
   "execution_count": 2,
   "metadata": {
    "collapsed": false
   },
   "outputs": [
    {
     "data": {
      "text/plain": [
       "secondCriterium (generic function with 1 method)"
      ]
     },
     "execution_count": 2,
     "metadata": {},
     "output_type": "execute_result"
    }
   ],
   "source": [
    "#Stoping criteria functions  \n",
    "\n",
    "function firstCriterium(stopCrit1,D,A,E)\n",
    "    \n",
    "    if vecnorm(D-A-E)/vecnorm(D)<stopCrit1\n",
    "        return true\n",
    "    end\n",
    "    return false\n",
    "end \n",
    "\n",
    "#Ek is the value of E computed on the kth step. Ek1 is the value of E computed in the k+1th step.\n",
    "function secondCriterium(stopCrit2,D,mu,Ek,Ek1)\n",
    "    \n",
    "    if (mu*vecnorm(Ek1-Ek))/vecnorm(D)<stopCrit2\n",
    "        return true\n",
    "    end\n",
    "    return false\n",
    "end\n",
    "\n",
    "\n",
    "    \n"
   ]
  },
  {
   "cell_type": "code",
   "execution_count": 3,
   "metadata": {
    "collapsed": false
   },
   "outputs": [
    {
     "data": {
      "text/plain": [
       "updateMu (generic function with 1 method)"
      ]
     },
     "execution_count": 3,
     "metadata": {},
     "output_type": "execute_result"
    }
   ],
   "source": [
    "# Updating functions\n",
    "#Ek is the value of E computed on the kth step. Ek1 is the value of E computed in the k+1th step.\n",
    "function updateMu(mu,rho,Ek,Ek1,D,epsilon2)\n",
    "    \n",
    "    eval = min(mu,sqrt(mu))*(vecnorm(Ek1-Ek) /vecnorm(D))\n",
    "    if eval<epsilon2\n",
    "        return rho*mu\n",
    "    end\n",
    "    return mu\n",
    "end\n",
    "\n",
    "\n",
    "\n",
    "\n"
   ]
  },
  {
   "cell_type": "code",
   "execution_count": 4,
   "metadata": {
    "collapsed": false
   },
   "outputs": [
    {
     "data": {
      "text/plain": [
       "f (generic function with 1 method)"
      ]
     },
     "execution_count": 4,
     "metadata": {},
     "output_type": "execute_result"
    }
   ],
   "source": [
    "#Other useful operators\n",
    "\n",
    "#perturbation operator. Perturbs every entry of the matrix W using the function f.\n",
    "#W is a m x n matriz to perturb\n",
    "#epsilon is the perturbation\n",
    "function perturb(W,perturbation)\n",
    "    map(W) do x\n",
    "        f(x,perturbation)\n",
    "    end\n",
    "end\n",
    "\n",
    "\n",
    "#J operator\n",
    "#W is an m x n matriz\n",
    "#lambda : parameter of the robust pca\n",
    "function J(W,lambda)\n",
    "    return max(norm(W,2),(1/lambda)*maximum(abs(W)))\n",
    "end\n",
    "\n",
    "#Method for perturbing x given epsilon. Used in the perturb function.\n",
    "function f(x,epsilon)\n",
    "    if x>epsilon \n",
    "        return x-epsilon\n",
    "    end\n",
    "    if x<-epsilon\n",
    "        return x+epsilon\n",
    "    else\n",
    "        return(0)\n",
    "    end\n",
    "end\n",
    "\n",
    "\n"
   ]
  },
  {
   "cell_type": "code",
   "execution_count": null,
   "metadata": {
    "collapsed": false
   },
   "outputs": [],
   "source": [
    "#Ejemplo de descomposicion en valores singulares extrana....\n",
    "asdf = [3 2 2 ; 2 3 -2]"
   ]
  },
  {
   "cell_type": "code",
   "execution_count": 5,
   "metadata": {
    "collapsed": false
   },
   "outputs": [
    {
     "data": {
      "text/plain": [
       "6×6 Array{Int64,2}:\n",
       " 1  1  0  0  1  0\n",
       " 1  1  0  0  0  0\n",
       " 0  0  1  1  0  1\n",
       " 0  0  1  1  0  0\n",
       " 1  0  0  0  1  1\n",
       " 0  0  0  0  1  1"
      ]
     },
     "execution_count": 5,
     "metadata": {},
     "output_type": "execute_result"
    }
   ],
   "source": [
    "#pruebas\n",
    "M = [1 1 0 0 1 0; 1 1 0 0 0 0 ; 0 0 1 1 0 1 ; 0 0 1 1 0 0; 1 0 0 0 1 1; 0 0 0 0 1 1]\n"
   ]
  },
  {
   "cell_type": "code",
   "execution_count": 6,
   "metadata": {
    "collapsed": false
   },
   "outputs": [
    {
     "name": "stdout",
     "output_type": "stream",
     "text": [
      "Comienzo!\n",
      "Step 1\n",
      "Step 2\n",
      "Step 3\n",
      "Done\n"
     ]
    },
    {
     "data": {
      "text/plain": [
       "(\n",
       "Real[1.0 1.0 … 1.0 -6.245e-17; 1.0 1.0 … -9.97466e-16 -5.55112e-16; … ; 1.0 -1.08247e-15 … 1.0 1.0; -3.88578e-16 -9.4369e-16 … 1.0 1.0],\n",
       "\n",
       "[0 0 … 0 0; 0 0 … 0 0; … ; 0 0 … 0 0; 0 0 … 0 0])"
      ]
     },
     "execution_count": 6,
     "metadata": {},
     "output_type": "execute_result"
    }
   ],
   "source": [
    "respuesta=rpca(M,1)"
   ]
  },
  {
   "cell_type": "code",
   "execution_count": 7,
   "metadata": {
    "collapsed": false
   },
   "outputs": [
    {
     "data": {
      "text/plain": [
       "6×6 Array{Real,2}:\n",
       "  1.0           1.0          -1.5439e-16   …   1.0          -6.245e-17  \n",
       "  1.0           1.0           4.35416e-16     -9.97466e-16  -5.55112e-16\n",
       "  9.71445e-17  -8.60423e-16   1.0             -3.40006e-16   1.0        \n",
       " -4.16334e-17  -3.05311e-16   1.0             -8.67362e-17   3.95517e-16\n",
       "  1.0          -1.08247e-15  -2.94903e-16      1.0           1.0        \n",
       " -3.88578e-16  -9.4369e-16   -3.1225e-16   …   1.0           1.0        "
      ]
     },
     "execution_count": 7,
     "metadata": {},
     "output_type": "execute_result"
    }
   ],
   "source": [
    "respuesta[1]"
   ]
  },
  {
   "cell_type": "code",
   "execution_count": 8,
   "metadata": {
    "collapsed": false
   },
   "outputs": [
    {
     "data": {
      "text/plain": [
       "6×6 Array{Int64,2}:\n",
       " 0  0  0  0  0  0\n",
       " 0  0  0  0  0  0\n",
       " 0  0  0  0  0  0\n",
       " 0  0  0  0  0  0\n",
       " 0  0  0  0  0  0\n",
       " 0  0  0  0  0  0"
      ]
     },
     "execution_count": 8,
     "metadata": {},
     "output_type": "execute_result"
    }
   ],
   "source": [
    "respuesta[2]"
   ]
  },
  {
   "cell_type": "code",
   "execution_count": null,
   "metadata": {
    "collapsed": true
   },
   "outputs": [],
   "source": []
  }
 ],
 "metadata": {
  "kernelspec": {
   "display_name": "Julia 0.5.0",
   "language": "julia",
   "name": "julia-0.5"
  },
  "language_info": {
   "file_extension": ".jl",
   "mimetype": "application/julia",
   "name": "julia",
   "version": "0.5.0"
  }
 },
 "nbformat": 4,
 "nbformat_minor": 0
}
