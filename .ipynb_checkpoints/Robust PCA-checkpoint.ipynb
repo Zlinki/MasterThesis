{
 "cells": [
  {
   "cell_type": "code",
   "execution_count": null,
   "metadata": {
    "collapsed": false
   },
   "outputs": [],
   "source": [
    "#This notebook contains a quick implementation of the robust pca algorithm.\n",
    "#We solve the problem using the implementation of \"The Augmented Lagrange Multiplier\n",
    "#method for exact recovery of corrupted low-rank matrices\"\n",
    "#In the end, we also use a solver to compare times and overall performance.\n",
    "#We expect to find much more promising results using the implemantation on the latter paper:\n",
    "#\"/although interior point methods normally take very few iterations t converge, they have difficulty in\n",
    "#handling large matrices because of the complexity of computing the step direction is O(m^6), where m is the dimension of \n",
    "#matrix [...] generic interior point solvers are too limited for Robust PCA \".\n",
    "\n",
    "#Note that the robust PCA is used in many context. Ours is the clique problem which deals with nxn symetric matrices\n",
    "#. However this implementation works for m x n matrices.\n",
    "\n"
   ]
  },
  {
   "cell_type": "code",
   "execution_count": null,
   "metadata": {
    "collapsed": true
   },
   "outputs": [],
   "source": [
    "# The model\n",
    "#D- a m x n matrix of data/variables. Usually D is nxn graph adjacency matrix.\n",
    "# We seek to solve the problem min a||E||_1 + ||A||_* subject to E+A = D+I \n",
    "#a is a positive real number. \n"
   ]
  },
  {
   "cell_type": "code",
   "execution_count": 12,
   "metadata": {
    "collapsed": false
   },
   "outputs": [
    {
     "data": {
      "text/plain": [
       "rpca (generic function with 5 methods)"
      ]
     },
     "execution_count": 12,
     "metadata": {},
     "output_type": "execute_result"
    }
   ],
   "source": [
    "#rpca is the main function. \n",
    "#If D is square matrix, we redefine D to be D = D+I.\n",
    "\n",
    "function rpca(D,lambda,rho=1.6,stopCrit1=1.0e-7,stopCrit2=1.0e-5,maxIter=1000)\n",
    "    #Initialization\n",
    "    dims =size(D)\n",
    "    if dims[1]==dims[2]\n",
    "        D = D+I\n",
    "    end    \n",
    "    mu = 1.25/norm(D)  \n",
    "    E = zeros(D)\n",
    "    k = 0\n",
    "    Y = D/J(D)\n",
    "    #Iterations\n",
    "    #In order to avoid evaluation of stoping criteria in the first loop, we do a while true and then \n",
    "    #add breaks if the stoping criteria are met.\n",
    "    while true   \n",
    "        # First solve A_k+1 = arg min L(A,E_k,Y_k,mu_k)\n",
    "        singValDesc = svd(D-E+((1/mu)*Y))\n",
    "        #SVD(A) returns a triple (U,S,V) where S contains the singular values and A=U*S*V' (' denotes ')\n",
    "        #for SVD(A) to work correctly, A must be m x n where m>= n or else S wont have the proper dimensions.\n",
    "        A = U*perturb(S,1/mu)*V'\n",
    "        #Now solve E_k+1= arg min L(A_k+1,E,Y_k,mu_k)\n",
    "        perturbFactor = lambda*(1/mu)\n",
    "        Eupdated = perturb(D-A+((1/mu)*Y),perturbFactor)\n",
    "        Y = Y + mu*(D-A-Eupdated)\n",
    "        mu=updateMu(mu,rho,E,Eupdated,D,epsilon2)\n",
    "        k=k+1\n",
    "        println(\"Step $(k)\")\n",
    "        \n",
    "       #Checks if both the first and second criterium are met.\n",
    "        if  firstCriterium(stopCrit1,D,A,Eupdated) && secondCriterium(stopCrit2,mu,E,Eupdated) \n",
    "            break\n",
    "        end\n",
    "        \n",
    "        E=Eupdated\n",
    "\n",
    "        #forces the algorithm to stop if k>maxIter. This should never happen. maxIter is 1000 by default.\n",
    "        if k>maxIter\n",
    "            break\n",
    "        end\n",
    "    end\n",
    "    return(A,E)\n",
    "end\n"
   ]
  },
  {
   "cell_type": "code",
   "execution_count": 13,
   "metadata": {
    "collapsed": false
   },
   "outputs": [
    {
     "data": {
      "text/plain": [
       "secondCriterium (generic function with 1 method)"
      ]
     },
     "execution_count": 13,
     "metadata": {},
     "output_type": "execute_result"
    }
   ],
   "source": [
    "#Stoping criteria functions  \n",
    "\n",
    "function firstCriterium(stopCrit1,D,A,E)\n",
    "    \n",
    "    if vecnorm(D-A-E)/vecnorm(D)<stopCrit1\n",
    "        return true\n",
    "    end\n",
    "    return false\n",
    "end \n",
    "\n",
    "#Ek is the value of E computed on the kth step. Ek1 is the value of E computed in the k+1th step.\n",
    "function secondCriterium(stopCrit2,mu,Ek,Ek1)\n",
    "    \n",
    "    if (mu*vecnorm(Ek1-Ek))/vecnorm(D)<stopCrit2\n",
    "        return true\n",
    "    end\n",
    "    return false\n",
    "end\n",
    "\n",
    "\n",
    "    \n"
   ]
  },
  {
   "cell_type": "code",
   "execution_count": null,
   "metadata": {
    "collapsed": true
   },
   "outputs": [],
   "source": [
    "# Updating functions\n",
    "#Ek is the value of E computed on the kth step. Ek1 is the value of E computed in the k+1th step.\n",
    "function updateMu(mu,rho,Ek,Ek1,D,epsilon2)\n",
    "    \n",
    "    eval = min(mu,sqrt(mu))*(vecnorm(Ek1-Ek) /vecnorm(D))\n",
    "    if eval<epsilon2\n",
    "        return rho*mu\n",
    "    end\n",
    "    return mu\n",
    "end\n",
    "\n",
    "\n",
    "\n",
    "\n"
   ]
  },
  {
   "cell_type": "code",
   "execution_count": 14,
   "metadata": {
    "collapsed": false
   },
   "outputs": [
    {
     "data": {
      "text/plain": [
       "f (generic function with 1 method)"
      ]
     },
     "execution_count": 14,
     "metadata": {},
     "output_type": "execute_result"
    }
   ],
   "source": [
    "#Other useful operators\n",
    "\n",
    "#perturbation operator\n",
    "#X is a m x n matriz to perturb\n",
    "#epsilon is the perturbation\n",
    "function perturb(A,perturbation)\n",
    "    map(A) do x\n",
    "        f(x,perturbation)\n",
    "    end\n",
    "end\n",
    "\n",
    "\n",
    "#J operator\n",
    "#D is an m x n matriz\n",
    "#lambda : parameter of the robust pca\n",
    "function J(D,lambda)\n",
    "    return max(norm(A,2),(1/lambda)*maximum(abs(A)))\n",
    "end\n",
    "\n",
    "function f(x,epsilon)\n",
    "    if x>epsilon \n",
    "        return x-epsilon\n",
    "    end\n",
    "    if x<-epsilon\n",
    "        return x+epsilon\n",
    "    else\n",
    "        return(0)\n",
    "    end\n",
    "end\n",
    "\n",
    "\n"
   ]
  },
  {
   "cell_type": "code",
   "execution_count": 57,
   "metadata": {
    "collapsed": false
   },
   "outputs": [
    {
     "data": {
      "text/plain": [
       "2×3 Array{Int64,2}:\n",
       " 3  2   2\n",
       " 2  3  -2"
      ]
     },
     "execution_count": 57,
     "metadata": {},
     "output_type": "execute_result"
    }
   ],
   "source": [
    "#Ejemplo de descomposicion en valores singulares extrana....\n",
    "A = [3 2 2 ; 2 3 -2]"
   ]
  },
  {
   "cell_type": "code",
   "execution_count": null,
   "metadata": {
    "collapsed": true
   },
   "outputs": [],
   "source": []
  }
 ],
 "metadata": {
  "kernelspec": {
   "display_name": "Julia 0.5.0",
   "language": "julia",
   "name": "julia-0.5"
  },
  "language_info": {
   "file_extension": ".jl",
   "mimetype": "application/julia",
   "name": "julia",
   "version": "0.5.0"
  }
 },
 "nbformat": 4,
 "nbformat_minor": 0
}
