{
 "cells": [
  {
   "cell_type": "code",
   "execution_count": null,
   "metadata": {
    "collapsed": false
   },
   "outputs": [],
   "source": [
    "s = @spawnat 2 1"
   ]
  },
  {
   "cell_type": "code",
   "execution_count": null,
   "metadata": {
    "collapsed": false
   },
   "outputs": [],
   "source": [
    "#vamos a intentar paralelizar la funcion\n",
    "@everywhere function sumar(A)\n",
    "    a = sum(A)\n",
    "    return(a)\n",
    "end"
   ]
  },
  {
   "cell_type": "code",
   "execution_count": null,
   "metadata": {
    "collapsed": false
   },
   "outputs": [],
   "source": [
    "sumar(mat1)"
   ]
  },
  {
   "cell_type": "code",
   "execution_count": null,
   "metadata": {
    "collapsed": false
   },
   "outputs": [],
   "source": [
    "mat1"
   ]
  },
  {
   "cell_type": "code",
   "execution_count": null,
   "metadata": {
    "collapsed": false
   },
   "outputs": [],
   "source": [
    "nprocs()"
   ]
  },
  {
   "cell_type": "code",
   "execution_count": null,
   "metadata": {
    "collapsed": false
   },
   "outputs": [],
   "source": [
    "addprocs(1)"
   ]
  },
  {
   "cell_type": "code",
   "execution_count": null,
   "metadata": {
    "collapsed": false
   },
   "outputs": [],
   "source": [
    "mat1 = rand(5,5)"
   ]
  },
  {
   "cell_type": "code",
   "execution_count": null,
   "metadata": {
    "collapsed": false
   },
   "outputs": [],
   "source": [
    "bli = @spawn sumar(mat1)"
   ]
  },
  {
   "cell_type": "code",
   "execution_count": null,
   "metadata": {
    "collapsed": false
   },
   "outputs": [],
   "source": [
    "fetch(bli)"
   ]
  },
  {
   "cell_type": "code",
   "execution_count": null,
   "metadata": {
    "collapsed": false
   },
   "outputs": [],
   "source": [
    " mat1[shuffle(1:end), :]"
   ]
  },
  {
   "cell_type": "code",
   "execution_count": null,
   "metadata": {
    "collapsed": false
   },
   "outputs": [],
   "source": [
    "using NBInclude\n",
    "nbinclude(\"AuxFunctions.ipynb\")\n",
    "#nbinclude(\"GraphLearning.ipynb\")"
   ]
  },
  {
   "cell_type": "code",
   "execution_count": null,
   "metadata": {
    "collapsed": false
   },
   "outputs": [],
   "source": [
    " mat1[shuffle(1:end), :]"
   ]
  },
  {
   "cell_type": "code",
   "execution_count": null,
   "metadata": {
    "collapsed": false
   },
   "outputs": [],
   "source": [
    "grafo10obs3 = Array{Any}(3)\n",
    "grafo10obs3[1]=erdosgraph([0.9,0.9],0.1,[3,7],10)+diagm(ones(10))\n",
    "grafo10obs3[2]=erdosgraph([0.9,0.9],0.1,[3,7],10)+diagm(ones(10))\n",
    "grafo10obs3[3]=erdosgraph([0.9,0.9],0.1,[3,7],10)+diagm(ones(10))\n",
    "1"
   ]
  },
  {
   "cell_type": "code",
   "execution_count": null,
   "metadata": {
    "collapsed": false
   },
   "outputs": [],
   "source": [
    "revuelve=shuffle(1:10)"
   ]
  },
  {
   "cell_type": "code",
   "execution_count": null,
   "metadata": {
    "collapsed": false
   },
   "outputs": [],
   "source": [
    "grafo10obs3[1]=grafo10obs3[1][revuelve,revuelve]\n",
    "grafo10obs3[2]=grafo10obs3[2][revuelve,revuelve]\n",
    "grafo10obs3[3]=grafo10obs3[3][revuelve,revuelve]\n",
    "1"
   ]
  },
  {
   "cell_type": "code",
   "execution_count": null,
   "metadata": {
    "collapsed": true
   },
   "outputs": [],
   "source": [
    "recuperaRegular = learnRegularized2A([1/3,1/3,1/3],1.6,grafo10obs3,10)\n"
   ]
  },
  {
   "cell_type": "code",
   "execution_count": null,
   "metadata": {
    "collapsed": false
   },
   "outputs": [],
   "source": [
    "recuperaRegular[1]"
   ]
  },
  {
   "cell_type": "code",
   "execution_count": null,
   "metadata": {
    "collapsed": false
   },
   "outputs": [],
   "source": [
    "recup = round.(recuperaRegular[1])"
   ]
  },
  {
   "cell_type": "code",
   "execution_count": null,
   "metadata": {
    "collapsed": false
   },
   "outputs": [],
   "source": [
    "Pkg.add(\"LightGraphs\")"
   ]
  },
  {
   "cell_type": "code",
   "execution_count": null,
   "metadata": {
    "collapsed": false
   },
   "outputs": [],
   "source": [
    "using LightGraphs"
   ]
  },
  {
   "cell_type": "code",
   "execution_count": null,
   "metadata": {
    "collapsed": false
   },
   "outputs": [],
   "source": [
    " g = PathGraph(6)"
   ]
  },
  {
   "cell_type": "code",
   "execution_count": null,
   "metadata": {
    "collapsed": false
   },
   "outputs": [],
   "source": [
    "A = [1 1 0; 1 1 0; 0 0 1]"
   ]
  },
  {
   "cell_type": "code",
   "execution_count": null,
   "metadata": {
    "collapsed": false
   },
   "outputs": [],
   "source": [
    "g = Graph(A)"
   ]
  },
  {
   "cell_type": "code",
   "execution_count": null,
   "metadata": {
    "collapsed": false
   },
   "outputs": [],
   "source": [
    "connected_components(g)"
   ]
  },
  {
   "cell_type": "code",
   "execution_count": null,
   "metadata": {
    "collapsed": false
   },
   "outputs": [],
   "source": [
    "mat1=erdosgraph([1,1],0,[3,7],10)+diagm(ones(10))\n"
   ]
  },
  {
   "cell_type": "code",
   "execution_count": null,
   "metadata": {
    "collapsed": false
   },
   "outputs": [],
   "source": [
    "asdf=shuffle(1:10)"
   ]
  },
  {
   "cell_type": "code",
   "execution_count": null,
   "metadata": {
    "collapsed": false
   },
   "outputs": [],
   "source": [
    "mat1 =mat1[asdf,asdf]"
   ]
  },
  {
   "cell_type": "code",
   "execution_count": null,
   "metadata": {
    "collapsed": false
   },
   "outputs": [],
   "source": [
    "g = Graph(mat1)"
   ]
  },
  {
   "cell_type": "code",
   "execution_count": null,
   "metadata": {
    "collapsed": false
   },
   "outputs": [],
   "source": [
    "connected_components(g)"
   ]
  },
  {
   "cell_type": "code",
   "execution_count": null,
   "metadata": {
    "collapsed": false
   },
   "outputs": [],
   "source": [
    "function SoftThreshold(W,perturbation)\n",
    "    map(W) do x\n",
    "        perturb(x,perturbation)\n",
    "    end\n",
    "end\n",
    "\n",
    "\n",
    "\n",
    "#Method for perturbing x given epsilon. Used in the softThresholding function.\n",
    "function perturb(x,epsilon)\n",
    "    if x>epsilon \n",
    "        return x-epsilon\n",
    "    end\n",
    "    if x<-epsilon\n",
    "        return x+epsilon\n",
    "    else\n",
    "        return(0)\n",
    "    end\n",
    "end\n"
   ]
  },
  {
   "cell_type": "code",
   "execution_count": null,
   "metadata": {
    "collapsed": false
   },
   "outputs": [],
   "source": [
    "function solveForXprox(obs,Y,Z,mu,n)\n",
    "#    actualizado = SoftThreshold(Z-(1/mu)*Y-obs,1/mu)+obs\n",
    "    actualizado = SoftThreshold(Z-(1/mu)*Y-obs,1/(2*mu))+obs\n",
    "    return(actualizado)\n",
    "end    \n"
   ]
  },
  {
   "cell_type": "code",
   "execution_count": null,
   "metadata": {
    "collapsed": true
   },
   "outputs": [],
   "source": []
  },
  {
   "cell_type": "code",
   "execution_count": null,
   "metadata": {
    "collapsed": true
   },
   "outputs": [],
   "source": []
  },
  {
   "cell_type": "code",
   "execution_count": null,
   "metadata": {
    "collapsed": true
   },
   "outputs": [],
   "source": [
    "grafo10obs3 = Array{Any}(3)\n",
    "grafo10obs3[1]=erdosgraph([0.9,0.9],0.1,[3,7],10)+diagm(ones(10))\n",
    "grafo10obs3[2]=erdosgraph([0.9,0.9],0.1,[3,7],10)+diagm(ones(10))\n",
    "grafo10obs3[3]=erdosgraph([0.9,0.9],0.1,[3,7],10)+diagm(ones(10))"
   ]
  },
  {
   "cell_type": "code",
   "execution_count": null,
   "metadata": {
    "collapsed": false
   },
   "outputs": [],
   "source": [
    "mat3=erdosgraph([0.9,0.9],0.1,[250,750],1000)+diagm(ones(1000))"
   ]
  },
  {
   "cell_type": "code",
   "execution_count": null,
   "metadata": {
    "collapsed": false
   },
   "outputs": [],
   "source": [
    "tic()\n",
    "SoftThreshold(mat3,0.3125)\n",
    "toc()"
   ]
  },
  {
   "cell_type": "code",
   "execution_count": null,
   "metadata": {
    "collapsed": false
   },
   "outputs": [],
   "source": [
    "1/3.2"
   ]
  },
  {
   "cell_type": "code",
   "execution_count": null,
   "metadata": {
    "collapsed": false
   },
   "outputs": [],
   "source": [
    "tic()\n",
    "perturb.(mat1,0.3125)\n",
    "toc()"
   ]
  },
  {
   "cell_type": "code",
   "execution_count": null,
   "metadata": {
    "collapsed": true
   },
   "outputs": [],
   "source": []
  },
  {
   "cell_type": "code",
   "execution_count": 1,
   "metadata": {
    "collapsed": true
   },
   "outputs": [],
   "source": [
    "using NBInclude\n",
    "#using LightGraphs\n",
    "nbinclude(\"C:\\\\Users\\\\Daniel\\\\MasterThesis\\\\admmRecovery.ipynb\")"
   ]
  },
  {
   "cell_type": "code",
   "execution_count": null,
   "metadata": {
    "collapsed": false
   },
   "outputs": [],
   "source": [
    "euObs = Array{Any}(1)\n",
    "euObs[1]= erdosgraph([0.65,0.65,0.65,0.65],0.2,[250,250,250,250],1000)+diagm(ones(1000))"
   ]
  },
  {
   "cell_type": "code",
   "execution_count": null,
   "metadata": {
    "collapsed": false
   },
   "outputs": [],
   "source": [
    "recover=admmRecovery(euObs,2.3,1000,1.6,1.0e-4,300)\n"
   ]
  },
  {
   "cell_type": "code",
   "execution_count": null,
   "metadata": {
    "collapsed": true
   },
   "outputs": [],
   "source": []
  },
  {
   "cell_type": "code",
   "execution_count": 2,
   "metadata": {
    "collapsed": false
   },
   "outputs": [
    {
     "data": {
      "text/plain": [
       "4.278333333333333"
      ]
     },
     "execution_count": 2,
     "metadata": {},
     "output_type": "execute_result"
    }
   ],
   "source": [
    "256.7/60"
   ]
  },
  {
   "cell_type": "code",
   "execution_count": 1,
   "metadata": {
    "collapsed": false
   },
   "outputs": [
    {
     "name": "stdout",
     "output_type": "stream",
     "text": [
      "elapsed time: 1.015080618 seconds\n"
     ]
    },
    {
     "data": {
      "text/plain": [
       "1.015080618"
      ]
     },
     "execution_count": 1,
     "metadata": {},
     "output_type": "execute_result"
    }
   ],
   "source": [
    "mat1 = randn(1000,1000)\n",
    "tic()\n",
    "svd(mat1)\n",
    "toc()"
   ]
  },
  {
   "cell_type": "code",
   "execution_count": 3,
   "metadata": {
    "collapsed": false
   },
   "outputs": [
    {
     "data": {
      "text/plain": [
       "3×3 Array{Int64,2}:\n",
       " 1  1  3\n",
       " 3  5  1\n",
       " 2  6  4"
      ]
     },
     "execution_count": 3,
     "metadata": {},
     "output_type": "execute_result"
    }
   ],
   "source": [
    "mat1 = [1 1 3; 3 5 1; 2 6 4]"
   ]
  },
  {
   "cell_type": "code",
   "execution_count": null,
   "metadata": {
    "collapsed": true
   },
   "outputs": [],
   "source": []
  },
  {
   "cell_type": "code",
   "execution_count": 5,
   "metadata": {
    "collapsed": false
   },
   "outputs": [
    {
     "data": {
      "text/plain": [
       "Base.LinAlg.SVD{Float64,Float64,Array{Float64,2}}([-0.265414 -0.712482 0.649557; -0.580553 0.655991 0.482321; -0.769749 -0.249088 -0.587743], [9.647, 2.80433, 1.03499], [-0.367635 -0.80716 -0.461884; 0.270053 0.382604 -0.883564; 0.889897 -0.449562 0.0773172])"
      ]
     },
     "execution_count": 5,
     "metadata": {},
     "output_type": "execute_result"
    }
   ],
   "source": [
    "fact1 = svdfact(mat1)"
   ]
  },
  {
   "cell_type": "code",
   "execution_count": 7,
   "metadata": {
    "collapsed": false
   },
   "outputs": [
    {
     "data": {
      "text/plain": [
       "3×3 Array{Float64,2}:\n",
       " -0.265414  -0.712482   0.649557\n",
       " -0.580553   0.655991   0.482321\n",
       " -0.769749  -0.249088  -0.587743"
      ]
     },
     "execution_count": 7,
     "metadata": {},
     "output_type": "execute_result"
    }
   ],
   "source": [
    "fact1[:U]"
   ]
  },
  {
   "cell_type": "code",
   "execution_count": 8,
   "metadata": {
    "collapsed": false
   },
   "outputs": [
    {
     "data": {
      "text/plain": [
       "3-element Array{Float64,1}:\n",
       " 9.647  \n",
       " 2.80433\n",
       " 1.03499"
      ]
     },
     "execution_count": 8,
     "metadata": {},
     "output_type": "execute_result"
    }
   ],
   "source": [
    "fact1[:S]"
   ]
  },
  {
   "cell_type": "code",
   "execution_count": 9,
   "metadata": {
    "collapsed": false
   },
   "outputs": [
    {
     "data": {
      "text/plain": [
       "3×3 Array{Float64,2}:\n",
       " -0.367635  -0.80716   -0.461884 \n",
       "  0.270053   0.382604  -0.883564 \n",
       "  0.889897  -0.449562   0.0773172"
      ]
     },
     "execution_count": 9,
     "metadata": {},
     "output_type": "execute_result"
    }
   ],
   "source": [
    "fact1[:Vt]"
   ]
  },
  {
   "cell_type": "code",
   "execution_count": 10,
   "metadata": {
    "collapsed": false
   },
   "outputs": [
    {
     "data": {
      "text/plain": [
       "([-0.265414 -0.712482 0.649557; -0.580553 0.655991 0.482321; -0.769749 -0.249088 -0.587743], [9.647, 2.80433, 1.03499], [-0.367635 0.270053 0.889897; -0.80716 0.382604 -0.449562; -0.461884 -0.883564 0.0773172])"
      ]
     },
     "execution_count": 10,
     "metadata": {},
     "output_type": "execute_result"
    }
   ],
   "source": [
    "fact2 =svd(mat1)"
   ]
  },
  {
   "cell_type": "code",
   "execution_count": 11,
   "metadata": {
    "collapsed": false
   },
   "outputs": [
    {
     "data": {
      "text/plain": [
       "3×3 Array{Float64,2}:\n",
       " -0.265414  -0.712482   0.649557\n",
       " -0.580553   0.655991   0.482321\n",
       " -0.769749  -0.249088  -0.587743"
      ]
     },
     "execution_count": 11,
     "metadata": {},
     "output_type": "execute_result"
    }
   ],
   "source": [
    "fact2[1]"
   ]
  },
  {
   "cell_type": "code",
   "execution_count": 12,
   "metadata": {
    "collapsed": false
   },
   "outputs": [
    {
     "data": {
      "text/plain": [
       "3-element Array{Float64,1}:\n",
       " 9.647  \n",
       " 2.80433\n",
       " 1.03499"
      ]
     },
     "execution_count": 12,
     "metadata": {},
     "output_type": "execute_result"
    }
   ],
   "source": [
    "fact2[2]"
   ]
  },
  {
   "cell_type": "code",
   "execution_count": 13,
   "metadata": {
    "collapsed": false
   },
   "outputs": [
    {
     "data": {
      "text/plain": [
       "3×3 Array{Float64,2}:\n",
       " -0.367635   0.270053   0.889897 \n",
       " -0.80716    0.382604  -0.449562 \n",
       " -0.461884  -0.883564   0.0773172"
      ]
     },
     "execution_count": 13,
     "metadata": {},
     "output_type": "execute_result"
    }
   ],
   "source": [
    "fact2[3]"
   ]
  },
  {
   "cell_type": "code",
   "execution_count": null,
   "metadata": {
    "collapsed": true
   },
   "outputs": [],
   "source": [
    "cd(\"C:/Users/Daniel/MasterThesis/GraphProyects/NipCollabs\")\n",
    "include(\"pruebaADMM.jl\")\n",
    "Nips = Array{Any}(6)\n",
    "Nips[1]= readdlm(\"nips21.txt\")+diagm(ones(5722))\n",
    "Nips[2]= readdlm(\"nips22.txt\")+diagm(ones(5722))\n",
    "Nips[3]= readdlm(\"nips23.txt\")+diagm(ones(5722))\n",
    "Nips[4]= readdlm(\"nips24.txt\")+diagm(ones(5722))\n",
    "Nips[5]= readdlm(\"nips25.txt\")+diagm(ones(5722))\n",
    "Nips[6]= readdlm(\"nips26.txt\")+diagm(ones(5722))\n",
    "\n",
    "tic()\n",
    "recover=admmRecovery(Nips,3,5722,1.6,1.0e-4,200)\n",
    "toc()\n",
    "RealRecovery=(recover[1]+ones(5722)*ones(5722)')/2\n",
    "writedlm(\"NipsRecovered.txt\",RealRecovery)"
   ]
  },
  {
   "cell_type": "code",
   "execution_count": null,
   "metadata": {
    "collapsed": true
   },
   "outputs": [],
   "source": []
  },
  {
   "cell_type": "code",
   "execution_count": null,
   "metadata": {
    "collapsed": true
   },
   "outputs": [],
   "source": []
  },
  {
   "cell_type": "code",
   "execution_count": 19,
   "metadata": {
    "collapsed": false
   },
   "outputs": [
    {
     "name": "stdout",
     "output_type": "stream",
     "text": [
      "elapsed time: 0.95767606 seconds\n"
     ]
    },
    {
     "data": {
      "text/plain": [
       "0.95767606"
      ]
     },
     "execution_count": 19,
     "metadata": {},
     "output_type": "execute_result"
    }
   ],
   "source": [
    "tic()\n",
    "singValDesc = svdfact(mat1)\n",
    "toc()"
   ]
  },
  {
   "cell_type": "code",
   "execution_count": 21,
   "metadata": {
    "collapsed": false
   },
   "outputs": [
    {
     "name": "stdout",
     "output_type": "stream",
     "text": [
      "elapsed time: 0.195563683 seconds\n"
     ]
    },
    {
     "data": {
      "text/plain": [
       "1000×1000 Array{Float64,2}:\n",
       " -0.524587   -1.36845     0.0962655  …  -0.568819   -2.36363    1.01624  \n",
       " -0.647133   -0.718962    1.2681        -0.464929   -0.925547   1.29815  \n",
       " -0.726949   -1.66703     1.36015       -1.26581    -0.874583  -0.0743908\n",
       " -0.252659    1.15193     1.07875       -0.591441    0.234644  -0.166097 \n",
       " -0.377012    1.12742    -0.574232      -1.11853    -0.171567  -0.438598 \n",
       "  1.04553     1.17693    -0.453178   …   0.779399   -0.909639   1.39379  \n",
       " -0.392305    2.22719    -0.384819       1.70521    -0.383975  -0.870332 \n",
       "  2.55664    -0.490191   -1.37538       -1.17022    -1.19008   -1.62265  \n",
       " -0.732283   -0.746533    1.28218       -1.045      -0.232921   0.167483 \n",
       "  0.749854   -0.405137   -1.03894        0.0828048   0.110496   0.388229 \n",
       "  0.394458   -0.963022    0.492247   …  -0.543118    0.952909  -1.97382  \n",
       " -1.47758     0.144909   -0.466203       0.151511   -0.496114   0.0230741\n",
       "  0.0425463  -0.595528    0.745858      -1.92775    -0.798215   0.103108 \n",
       "  ⋮                                  ⋱                                   \n",
       " -1.31589    -1.65518    -1.52327        0.996821    0.647667  -0.807265 \n",
       "  0.866767    0.106941    0.160605       0.701646    0.291648  -0.645915 \n",
       " -1.29591     0.296285    1.00222    …  -0.0406255   0.580838   0.394985 \n",
       " -0.986362   -2.07247    -1.25274       -0.0195854  -0.869314   0.881103 \n",
       "  0.300804   -0.163422   -0.175963      -0.799402    0.404443  -1.00841  \n",
       "  0.242365   -0.36119     0.607771       0.878926    1.03211    0.822376 \n",
       "  1.97664    -2.61199    -0.107196      -0.354485    0.426816  -0.887342 \n",
       " -1.85       -0.694009   -1.99174    …   1.8739      1.03435    2.66693  \n",
       "  0.227279    0.0194465  -0.278166      -1.04687    -0.346149   0.304139 \n",
       "  0.561415   -1.68865    -0.705461      -1.35715     1.99687    0.597147 \n",
       " -0.44206    -0.394409   -0.39194        0.875232   -0.746651  -4.02395  \n",
       "  0.391287   -1.52161    -0.0911635      1.17741     3.61677   -0.943424 "
      ]
     },
     "execution_count": 21,
     "metadata": {},
     "output_type": "execute_result"
    }
   ],
   "source": [
    "tic()\n",
    "Z = singValDesc[:U]*(diagm(singValDesc[:S])*singValDesc[:Vt])\n",
    "toc()\n",
    "Z"
   ]
  },
  {
   "cell_type": "code",
   "execution_count": 25,
   "metadata": {
    "collapsed": false
   },
   "outputs": [
    {
     "name": "stdout",
     "output_type": "stream",
     "text": [
      "elapsed time: 0.143253236 seconds\n"
     ]
    },
    {
     "data": {
      "text/plain": [
       "0.143253236"
      ]
     },
     "execution_count": 25,
     "metadata": {},
     "output_type": "execute_result"
    }
   ],
   "source": [
    "tic()\n",
    "p=*(singValDesc[:U],diagm(singValDesc[:S]),singValDesc[:Vt])\n",
    "toc()"
   ]
  },
  {
   "cell_type": "code",
   "execution_count": 26,
   "metadata": {
    "collapsed": false
   },
   "outputs": [
    {
     "data": {
      "text/plain": [
       "1000×1000 Array{Float64,2}:\n",
       " -0.524587   -1.36845     0.0962655  …  -0.568819   -2.36363    1.01624  \n",
       " -0.647133   -0.718962    1.2681        -0.464929   -0.925547   1.29815  \n",
       " -0.726949   -1.66703     1.36015       -1.26581    -0.874583  -0.0743908\n",
       " -0.252659    1.15193     1.07875       -0.591441    0.234644  -0.166097 \n",
       " -0.377012    1.12742    -0.574232      -1.11853    -0.171567  -0.438598 \n",
       "  1.04553     1.17693    -0.453178   …   0.779399   -0.909639   1.39379  \n",
       " -0.392305    2.22719    -0.384819       1.70521    -0.383975  -0.870332 \n",
       "  2.55664    -0.490191   -1.37538       -1.17022    -1.19008   -1.62265  \n",
       " -0.732283   -0.746533    1.28218       -1.045      -0.232921   0.167483 \n",
       "  0.749854   -0.405137   -1.03894        0.0828048   0.110496   0.388229 \n",
       "  0.394458   -0.963022    0.492247   …  -0.543118    0.952909  -1.97382  \n",
       " -1.47758     0.144909   -0.466203       0.151511   -0.496114   0.0230741\n",
       "  0.0425463  -0.595528    0.745858      -1.92775    -0.798215   0.103108 \n",
       "  ⋮                                  ⋱                                   \n",
       " -1.31589    -1.65518    -1.52327        0.996821    0.647667  -0.807265 \n",
       "  0.866767    0.106941    0.160605       0.701646    0.291648  -0.645915 \n",
       " -1.29591     0.296285    1.00222    …  -0.0406255   0.580838   0.394985 \n",
       " -0.986362   -2.07247    -1.25274       -0.0195854  -0.869314   0.881103 \n",
       "  0.300804   -0.163422   -0.175963      -0.799402    0.404443  -1.00841  \n",
       "  0.242365   -0.36119     0.607771       0.878926    1.03211    0.822376 \n",
       "  1.97664    -2.61199    -0.107196      -0.354485    0.426816  -0.887342 \n",
       " -1.85       -0.694009   -1.99174    …   1.8739      1.03435    2.66693  \n",
       "  0.227279    0.0194465  -0.278166      -1.04687    -0.346149   0.304139 \n",
       "  0.561415   -1.68865    -0.705461      -1.35715     1.99687    0.597147 \n",
       " -0.44206    -0.394409   -0.39194        0.875232   -0.746651  -4.02395  \n",
       "  0.391287   -1.52161    -0.0911635      1.17741     3.61677   -0.943424 "
      ]
     },
     "execution_count": 26,
     "metadata": {},
     "output_type": "execute_result"
    }
   ],
   "source": [
    "p"
   ]
  },
  {
   "cell_type": "code",
   "execution_count": null,
   "metadata": {
    "collapsed": true
   },
   "outputs": [],
   "source": []
  }
 ],
 "metadata": {
  "kernelspec": {
   "display_name": "Julia 0.6.0",
   "language": "julia",
   "name": "julia-0.6"
  },
  "language_info": {
   "file_extension": ".jl",
   "mimetype": "application/julia",
   "name": "julia",
   "version": "0.6.0"
  }
 },
 "nbformat": 4,
 "nbformat_minor": 0
}
