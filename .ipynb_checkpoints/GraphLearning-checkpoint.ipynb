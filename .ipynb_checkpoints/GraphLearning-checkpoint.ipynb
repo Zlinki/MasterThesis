{
 "cells": [
  {
   "cell_type": "code",
   "execution_count": null,
   "metadata": {
    "collapsed": true
   },
   "outputs": [],
   "source": [
    "#in this script, we implement our algorithm for matrix learning, following the proof\n",
    "#of the theorem... of ... "
   ]
  },
  {
   "cell_type": "code",
   "execution_count": 2,
   "metadata": {
    "collapsed": false
   },
   "outputs": [],
   "source": [
    "using JuMP \n",
    "using Mosek"
   ]
  },
  {
   "cell_type": "code",
   "execution_count": null,
   "metadata": {
    "collapsed": true
   },
   "outputs": [],
   "source": [
    "\n",
    "# @param:weights : weights of the observed matrices. Sum of weights must be 1. and non-negative. the size is equal to the amount\n",
    "#of observed graphs.\n",
    "#@param: delta : size of the ball of the Wasserstein metric. delta > 0.\n",
    "#@param: A : cluster form of the data. A entries must be 0 or 1. \n",
    "#@param: observations : vector of matrices containing the observations of the graph B. If X,Y are matrices, an array of matrices\n",
    "#is of the form Array[X,Y].\n",
    "#@param: n : the dimension of the matrices.\n",
    "#@param:N : number of observations.\n",
    "#The set over which the is problem is optimized is:"
   ]
  },
  {
   "cell_type": "code",
   "execution_count": 26,
   "metadata": {
    "collapsed": false
   },
   "outputs": [
    {
     "data": {
      "text/latex": [
       " El conjunto sobre el que optimizamos es:\n",
       "\n",
       "$ O = \\{\\lambda,S_1,..,S_N,Z^{1},..,Z^{N},C^{1},...,C^{N},W,W_1,W_2 \\}\\subseteq \\mathbb{R}\\times \\mathbb{R}^N\\times\n",
       "\\mathbb{R}\\times Sim^2(\\mathbb{R}^n)^N \\times Sim^2(\\mathbb{R}^n)^N \\times Sim^2(\\mathbb{R}^n)^3\n",
       "$\n",
       "\n",
       "\n"
      ]
     },
     "metadata": {},
     "output_type": "display_data"
    }
   ],
   "source": [
    "display(\"text/latex\",\"\"\" El conjunto sobre el que optimizamos es:\n",
    "\\$ O = \\\\{\\\\lambda,S_1,..,S_N,Z^{1},..,Z^{N},C^{1},...,C^{N},W,W_1,W_2 \\\\}\\\\subseteq \\\\mathbb{R}\\\\times \\\\mathbb{R}^N\n",
    "\\\\times Sim^2(\\\\mathbb{R}^n)^N \\\\times Sim^2(\\\\mathbb{R}^n)^N \\\\times Sim^2(\\\\mathbb{R}^)^3\n",
    "\\$\"\"\")"
   ]
  },
  {
   "cell_type": "code",
   "execution_count": 8,
   "metadata": {
    "collapsed": false
   },
   "outputs": [
    {
     "name": "stdout",
     "output_type": "stream",
     "text": [
      "Problem\n",
      "  Name                   :                 \n",
      "  Objective sense        : min             \n",
      "  Type                   : LO (linear optimization problem)\n",
      "  Constraints            : 3               \n",
      "  Cones                  : 0               \n",
      "  Scalar variables       : 3               \n",
      "  Matrix variables       : 0               \n",
      "  Integer variables      : 0               \n",
      "\n",
      "Optimizer started.\n",
      "Presolve started.\n",
      "Eliminator started.\n",
      "Freed constraints in eliminator : 0\n",
      "Eliminator terminated.\n",
      "Eliminator - tries                  : 1                 time                   : 0.00            \n",
      "Lin. dep.  - tries                  : 0                 time                   : 0.00            \n",
      "Lin. dep.  - number                 : 0               \n",
      "Presolve terminated. Time: 0.00    \n",
      "Optimizer terminated. Time: 0.00    \n",
      "\n",
      "\n",
      "Interior-point solution summary\n",
      "  Problem status  : PRIMAL_AND_DUAL_FEASIBLE\n",
      "  Solution status : OPTIMAL\n",
      "  Primal.  obj: 0.0000000000e+00    nrm: 0e+00    Viol.  con: 0e+00    var: 0e+00  \n",
      "  Dual.    obj: 0.0000000000e+00    nrm: 1e+00    Viol.  con: 0e+00    var: 0e+00  \n",
      "\n",
      "Basic solution summary\n",
      "  Problem status  : PRIMAL_AND_DUAL_FEASIBLE\n",
      "  Solution status : OPTIMAL\n",
      "  Primal.  obj: 0.0000000000e+00    nrm: 0e+00    Viol.  con: 0e+00    var: 0e+00  \n",
      "  Dual.    obj: 0.0000000000e+00    nrm: 1e+00    Viol.  con: 0e+00    var: 0e+00  \n"
     ]
    },
    {
     "data": {
      "text/plain": [
       ":Optimal"
      ]
     },
     "execution_count": 8,
     "metadata": {},
     "output_type": "execute_result"
    }
   ],
   "source": [
    "#Computes the error of estimating the cluster structure of the observations by the matrix A.\n",
    "function learnError(weights,delta,A,observations,n,N)\n",
    "    one =ones(n)\n",
    "    m = Model(solver=MosekSolver())\n",
    "    @variable(m,lambda>=0)\n",
    "    @variable(m,S[1:N])\n",
    "    @variable(m, W[1:n,1:n], Symmetric)\n",
    "    Z = [@variable(m, [1:n, 1:n], SDP) for p in 1:N]\n",
    "    C = [@variable(m, [1:n, 1:n], SDP) for p in 1:N]\n",
    "    #Constraints for Z\n",
    "    [@constraint(m, -Z[p][k,l] <= A[k,l]-B[p][k,l]<=Z[p][k,l] for p in 1:N for k in 1:n for l in 1:n]\n",
    "    #Constraints for C \n",
    "    [@constraint(m,C[p][k,l]>=0 for p in 1:N for k in 1:n for l in 1:n]\n",
    "    [@constraint(m, prod(C[p],n)<=S[p]-Tr((2*A-one*one')'*B[p])) for p in 1:n]\n",
    "    [@constraint(m,C[p][k,l]>=2*A[k,l]-1-W[k,l] for p in 1:N for k in 1:n for l in 1:n]\n",
    "    #Constraints for W\n",
    "    @SDconstraint(m,[W1 W;W W2]>=0)\n",
    "    @constraint(m,trace(W1)+trace(W2)<=2)\n",
    "    #Objective function, calls the function prod\n",
    "    @objective(m,Min,lambda*delta+ dot(weights,S+prod.(Z)))\n",
    "    status = solve(m)\n",
    "    loss= getobjectivevalue(m)\n",
    "    return(loss)\n",
    "end\n"
   ]
  },
  {
   "cell_type": "code",
   "execution_count": 1,
   "metadata": {
    "collapsed": false
   },
   "outputs": [
    {
     "data": {
      "text/plain": [
       "2×2 Array{Int64,2}:\n",
       " 4  4\n",
       " 4  4"
      ]
     },
     "execution_count": 1,
     "metadata": {},
     "output_type": "execute_result"
    }
   ],
   "source": [
    "#Finds the matrix A which minimices the expected error of cluster structure. This\n",
    "#time, A is a simetric matrix.\n",
    "function learnGraph(weights,delta,observations,n,N)\n",
    "    one =ones(n)\n",
    "    m = Model(solver=MosekSolver())\n",
    "    @variable(m,lambda>=0)\n",
    "    @variable(m,S[1:N])\n",
    "    @variable(m, W[1:n,1:n], Symmetric)\n",
    "    @variable(m,A[1:n,1:n], Symmetric)\n",
    "    Z = [@variable(m, [1:n, 1:n], SDP) for p in 1:N]\n",
    "    C = [@variable(m, [1:n, 1:n], SDP) for p in 1:N]\n",
    "    #Constraints for Z\n",
    "    [@constraint(m, -Z[p][k,l] <= A[k,l]-B[p][k,l]<=Z[p][k,l] for p in 1:N for k in 1:n for l in 1:n]\n",
    "    #Constraints for C \n",
    "    [@constraint(m,C[p][k,l]>=0 for p in 1:N for k in 1:n for l in 1:n]\n",
    "    [@constraint(m, prod(C[p],n)<=S[p]-Tr((2*A-one*one')'*B[p])) for p in 1:n]\n",
    "    [@constraint(m,C[p][k,l]>=2*A[k,l]-1-W[k,l] for p in 1:N for k in 1:n for l in 1:n]\n",
    "    #Constraints for W\n",
    "    @SDconstraint(m,[W1 W;W W2]>=0)\n",
    "    @constraint(m,trace(W1)+trace(W2)<=2)\n",
    "    #Objective function, calls the function prod\n",
    "    @objective(m,Min,lambda*delta+ dot(weights,S+prod.(Z)))\n",
    "    status = solve(m)\n",
    "    return(getvalue(A))\n",
    "end"
   ]
  },
  {
   "cell_type": "code",
   "execution_count": 4,
   "metadata": {
    "collapsed": false
   },
   "outputs": [
    {
     "data": {
      "text/plain": [
       "prod (generic function with 1 method)"
      ]
     },
     "execution_count": 4,
     "metadata": {},
     "output_type": "execute_result"
    }
   ],
   "source": [
    "#Aux functions\n",
    "#def function prod computes the product 1^t*Z*t.\n",
    "#@param: n : the dimension of the matrices.\n",
    "\n",
    "function prod(Z,n)\n",
    "    return(ones(n)'*Z*ones(n))\n",
    "end"
   ]
  },
  {
   "cell_type": "code",
   "execution_count": 6,
   "metadata": {
    "collapsed": false
   },
   "outputs": [
    {
     "data": {
      "text/plain": [
       "2-element Array{Any,1}:\n",
       " #undef\n",
       " #undef"
      ]
     },
     "execution_count": 6,
     "metadata": {},
     "output_type": "execute_result"
    }
   ],
   "source": [
    "A= Array{Any}(2)"
   ]
  },
  {
   "cell_type": "code",
   "execution_count": 13,
   "metadata": {
    "collapsed": false
   },
   "outputs": [
    {
     "data": {
      "text/plain": [
       "2-element Array{Any,1}:\n",
       " [1.0 0.0 0.0; 0.0 1.0 0.0; 0.0 0.0 1.0]\n",
       " [1 1 1; 1 1 1; 1 1 1]                  "
      ]
     },
     "execution_count": 13,
     "metadata": {},
     "output_type": "execute_result"
    }
   ],
   "source": [
    "A[1]=eye(3)\n",
    "y = [1 1 1;1 1 1;1 1 1]\n",
    "A[2]=y\n",
    "A"
   ]
  },
  {
   "cell_type": "code",
   "execution_count": 57,
   "metadata": {
    "collapsed": false
   },
   "outputs": [
    {
     "data": {
      "text/plain": [
       "(::#1) (generic function with 1 method)"
      ]
     },
     "execution_count": 57,
     "metadata": {},
     "output_type": "execute_result"
    }
   ],
   "source": [
    "multiplic =function (c)\n",
    "    return([1,1]'*c*[1,1])\n",
    "end"
   ]
  },
  {
   "cell_type": "code",
   "execution_count": 58,
   "metadata": {
    "collapsed": false
   },
   "outputs": [
    {
     "data": {
      "text/plain": [
       "2-element Array{Int64,1}:\n",
       " 12\n",
       " 16"
      ]
     },
     "execution_count": 58,
     "metadata": {},
     "output_type": "execute_result"
    }
   ],
   "source": [
    "multiplic.(a)"
   ]
  },
  {
   "cell_type": "code",
   "execution_count": 59,
   "metadata": {
    "collapsed": false
   },
   "outputs": [
    {
     "data": {
      "text/plain": [
       "f (generic function with 1 method)"
      ]
     },
     "execution_count": 59,
     "metadata": {},
     "output_type": "execute_result"
    }
   ],
   "source": [
    "function f(b)\n",
    "    return([1,1,1]*b)\n",
    "end\n",
    "m = Model(solver=MosekSolver())\n",
    "A = [@variable(m,[1:3]) for k in 1:2]\n",
    "@constraint(m,A[1])\n",
    "status = solve(m)"
   ]
  },
  {
   "cell_type": "code",
   "execution_count": 60,
   "metadata": {
    "collapsed": false
   },
   "outputs": [
    {
     "data": {
      "text/plain": [
       "2"
      ]
     },
     "execution_count": 60,
     "metadata": {},
     "output_type": "execute_result"
    }
   ],
   "source": [
    "sum([1,1])"
   ]
  },
  {
   "cell_type": "code",
   "execution_count": 1,
   "metadata": {
    "collapsed": false
   },
   "outputs": [
    {
     "ename": "LoadError",
     "evalue": "\u001b[91mUndefVarError: Model not defined\u001b[39m",
     "output_type": "error",
     "traceback": [
      "\u001b[91mUndefVarError: Model not defined\u001b[39m",
      "",
      "Stacktrace:",
      " [1] \u001b[1minclude_string\u001b[22m\u001b[22m\u001b[1m(\u001b[22m\u001b[22m::String, ::String\u001b[1m)\u001b[22m\u001b[22m at \u001b[1m.\\loading.jl:515\u001b[22m\u001b[22m"
     ]
    }
   ],
   "source": [
    "m = Model(solver=MosekSolver())\n",
    "A = [@variable(m,[1:3, 1:3]) for k in 1:2]\n",
    "#A[2][1,3]\n",
    "#@constraint(m,A[1][1,1]>=0)\n",
    "\n",
    "[@constraint(m,A[k][i=1:3,j=1:3]>=0 ) for k in 1:N]\n",
    "#xyconstr[i=1:3,j=6:-2:2], x[i] - y[j] == 1)\n",
    "#@objective(m,Min,sum(prod.(A,3)))\n",
    "#status = solve(m)\n",
    "#println(\"x = \", getvalue(A))\n"
   ]
  },
  {
   "cell_type": "code",
   "execution_count": 74,
   "metadata": {
    "collapsed": false
   },
   "outputs": [
    {
     "data": {
      "text/plain": [
       "f (generic function with 1 method)"
      ]
     },
     "execution_count": 74,
     "metadata": {},
     "output_type": "execute_result"
    }
   ],
   "source": [
    "function f(b)\n",
    "    return([1,1]'*b)\n",
    "end\n"
   ]
  },
  {
   "cell_type": "code",
   "execution_count": null,
   "metadata": {
    "collapsed": true
   },
   "outputs": [],
   "source": [
    "Z = [@variable(m, [1:n, 1:n], SDP) for k in 1:N]"
   ]
  },
  {
   "cell_type": "code",
   "execution_count": 24,
   "metadata": {
    "collapsed": false
   },
   "outputs": [
    {
     "data": {
      "text/plain": [
       "6×6 Array{Int64,2}:\n",
       " 0  1  1  0  0  0\n",
       " 1  0  1  1  0  0\n",
       " 1  1  0  0  0  0\n",
       " 0  1  0  0  1  1\n",
       " 0  0  0  1  0  1\n",
       " 0  0  0  1  1  0"
      ]
     },
     "execution_count": 24,
     "metadata": {},
     "output_type": "execute_result"
    }
   ],
   "source": [
    "ejemploObs= [0 1 1 0 0 0;1 0 1 1 0 0; 1 1 0 0 0 0; 0 1 0 0 1  1; 0 0 0 1 0 1; 0 0 0 1  1 0]"
   ]
  },
  {
   "cell_type": "code",
   "execution_count": 25,
   "metadata": {
    "collapsed": false
   },
   "outputs": [
    {
     "data": {
      "text/plain": [
       "6×6 Array{Int64,2}:\n",
       " 0  1  1  0  0  0\n",
       " 1  0  1  0  0  0\n",
       " 1  1  0  0  0  0\n",
       " 0  0  0  0  1  1\n",
       " 0  0  0  1  0  1\n",
       " 0  0  0  1  1  0"
      ]
     },
     "execution_count": 25,
     "metadata": {},
     "output_type": "execute_result"
    }
   ],
   "source": [
    "ejemploReal=[0 1 1 0 0 0;1 0 1 0 0 0; 1 1 0 0 0 0; 0 0 0 0 1  1; 0 0 0 1 0 1; 0 0 0 1  1 0]"
   ]
  },
  {
   "cell_type": "code",
   "execution_count": null,
   "metadata": {
    "collapsed": true
   },
   "outputs": [],
   "source": []
  }
 ],
 "metadata": {
  "kernelspec": {
   "display_name": "Julia 0.6.0",
   "language": "julia",
   "name": "julia-0.6"
  },
  "language_info": {
   "file_extension": ".jl",
   "mimetype": "application/julia",
   "name": "julia",
   "version": "0.6.0"
  }
 },
 "nbformat": 4,
 "nbformat_minor": 0
}
