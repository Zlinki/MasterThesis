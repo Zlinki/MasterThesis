{
 "cells": [
  {
   "cell_type": "code",
   "execution_count": null,
   "metadata": {
    "collapsed": true
   },
   "outputs": [],
   "source": [
    "#in this script, we implement our algorithm for matrix learning, following the proof\n",
    "#of the theorem... of ... "
   ]
  },
  {
   "cell_type": "code",
   "execution_count": 1,
   "metadata": {
    "collapsed": false
   },
   "outputs": [],
   "source": [
    "using JuMP \n",
    "using Mosek"
   ]
  },
  {
   "cell_type": "markdown",
   "metadata": {},
   "source": [
    "<h1>Implementancion de las funciones<h1>"
   ]
  },
  {
   "cell_type": "code",
   "execution_count": null,
   "metadata": {
    "collapsed": true
   },
   "outputs": [],
   "source": [
    "\n",
    "# @param:weights : weights of the observed matrices. Sum of weights must be 1. and non-negative. the size is equal to the amount\n",
    "#of observed graphs.\n",
    "#@param: delta : size of the ball of the Wasserstein metric. delta > 0.\n",
    "#@param: A : cluster form of the data. A entries must be 0 or 1. \n",
    "#@param: B : vector of matrices containing the observations of the graph B. If X,Y are matrices, an array of matrices\n",
    "#is of the form Array[X,Y].\n",
    "#@param: n : the dimension of the matrices.\n",
    "#@param:N : number of observations.\n",
    "#The set over which the is problem is optimized is:"
   ]
  },
  {
   "cell_type": "code",
   "execution_count": 2,
   "metadata": {
    "collapsed": false
   },
   "outputs": [
    {
     "data": {
      "text/latex": [
       " El conjunto sobre el que optimizamos es:\n",
       "$ O = \\{\\lambda,S_1,..,S_N,Z^{1},..,Z^{N},C^{1},...,C^{N},W,W_1,W_2 \\}\\subseteq \\mathbb{R}\\times \\mathbb{R}^N\n",
       "\\times Sim^2(\\mathbb{R}^n)^N \\times Sim^2(\\mathbb{R}^n)^N \\times Sim^2(\\mathbb{R}^)^3\n",
       "$"
      ]
     },
     "metadata": {},
     "output_type": "display_data"
    }
   ],
   "source": [
    "display(\"text/latex\",\"\"\" El conjunto sobre el que optimizamos es:\n",
    "\\$ O = \\\\{\\\\lambda,S_1,..,S_N,Z^{1},..,Z^{N},C^{1},...,C^{N},W,W_1,W_2 \\\\}\\\\subseteq \\\\mathbb{R}\\\\times \\\\mathbb{R}^N\n",
    "\\\\times Sim^2(\\\\mathbb{R}^n)^N \\\\times Sim^2(\\\\mathbb{R}^n)^N \\\\times Sim^2(\\\\mathbb{R}^)^3\n",
    "\\$\"\"\")"
   ]
  },
  {
   "cell_type": "code",
   "execution_count": 3,
   "metadata": {
    "collapsed": false
   },
   "outputs": [
    {
     "data": {
      "text/plain": [
       "learnError (generic function with 1 method)"
      ]
     },
     "execution_count": 3,
     "metadata": {},
     "output_type": "execute_result"
    }
   ],
   "source": [
    "#Computes the error of estimating the cluster structure of the observations by the matrix A.\n",
    "function learnError(weights,delta,A,B,n,N)\n",
    "    one =ones(n)\n",
    "    m = Model(solver=MosekSolver())\n",
    "    @variable(m,lambda>=0)\n",
    "#    @variable(m,S[1:N]>=0)\n",
    "     @variable(m,S[1:N])\n",
    "    @variable(m, W[1:n,1:n], Symmetric)\n",
    "    Z = [@variable(m, [1:n, 1:n], Symmetric) for p in 1:N]\n",
    "    C = [@variable(m, [1:n, 1:n], Symmetric) for p in 1:N]\n",
    "    @variable(m,W1[1:n,1:n])\n",
    "    @variable(m,W2[1:n,1:n])\n",
    "    #Constraints for Z\n",
    "    [@constraint(m, -Z[p][k,l] <= A[k,l]-B[p][k,l]) for p in 1:N for k in 1:n for l in 1:n]\n",
    "    [@constraint(m,  A[k,l]-B[p][k,l]<=Z[p][k,l]) for p in 1:N for k in 1:n for l in 1:n]\n",
    "    #Constraints for C \n",
    "    [@constraint(m,C[p][k,l]>=0) for p in 1:N for k in 1:n for l in 1:n]\n",
    "    [@constraint(m, prod(C[p],n)<=S[p]-trace((2*A-one*one'-W)'*B[p])) for p in 1:N]\n",
    "    [@constraint(m,-C[p][k,l]<=2*A[k,l]-1-W[k,l]) for p in 1:N for k in 1:n for l in 1:n]\n",
    "    #Constraints for W\n",
    "    @SDconstraint(m,[W1 W;W W2]>=0)\n",
    "    @constraint(m,trace(W1)+trace(W2)<=2*lambda)\n",
    "    #Objective function, calls the function prod\n",
    "    @objective(m,Min,lambda*delta+ dot(weights,S+prod.(Z,n)))\n",
    "    status = solve(m)\n",
    "    loss= getobjectivevalue(m)\n",
    "    return(loss)\n",
    "end\n"
   ]
  },
  {
   "cell_type": "code",
   "execution_count": 4,
   "metadata": {
    "collapsed": false
   },
   "outputs": [
    {
     "data": {
      "text/plain": [
       "learnGraph (generic function with 1 method)"
      ]
     },
     "execution_count": 4,
     "metadata": {},
     "output_type": "execute_result"
    }
   ],
   "source": [
    "#Finds the matrix A which minimices the expected error of cluster structure. This\n",
    "#time, A is a simmtric entrywise-positive matrix.\n",
    "#The parameters are the same as in learnError function\n",
    "function learnGraph(weights,delta,observations,n,N)\n",
    "    one =ones(n)\n",
    "    m = Model(solver=MosekSolver())\n",
    "    @variable(m,lambda>=0)\n",
    "#    @variable(m,S[1:N]>=0)\n",
    "     @variable(m,S[1:N])\n",
    "    @variable(m, W[1:n,1:n], Symmetric)\n",
    "    @variable(m,A[1:n,1:n], Symmetric)\n",
    "    Z = [@variable(m, [1:n, 1:n], Symmetric) for p in 1:N]\n",
    "    C = [@variable(m, [1:n, 1:n], Symmetric) for p in 1:N]\n",
    "    @variable(m,W1[1:n,1:n])\n",
    "    @variable(m,W2[1:n,1:n])\n",
    "    #Constraints for Z\n",
    "    [@constraint(m, -Z[p][k,l] <= A[k,l]-B[p][k,l]) for p in 1:N for k in 1:n for l in 1:n]\n",
    "    [@constraint(m,  A[k,l]-B[p][k,l]<=Z[p][k,l]) for p in 1:N for k in 1:n for l in 1:n]\n",
    "    #Constraints for C \n",
    "    [@constraint(m,C[p][k,l]>=0)for p in 1:N for k in 1:n for l in 1:n]\n",
    "    [@constraint(m, prod(C[p],n)<=S[p]-trace((2*A-one*one'-W)'*B[p])) for p in 1:N]\n",
    "    [@constraint(m,-C[p][k,l]<=2*A[k,l]-1-W[k,l])for p in 1:N for k in 1:n for l in 1:n]\n",
    "    #Constraints for W\n",
    "    @SDconstraint(m,[W1 W;W W2]>=0)\n",
    "    @constraint(m,trace(W1)+trace(W2)<=2*lambda)\n",
    "    #constrains for A\n",
    "    [@constraint(m,A[k,l]>=0) for k in 1:n for l in 1:n]\n",
    "    [@constraint(m,A[k,l]<=1) for k in 1:n for l in 1:n]\n",
    "    #Objective function, calls the function prod\n",
    "    @objective(m,Min,lambda*delta+ dot(weights,S+prod.(Z,n)))\n",
    "    status = solve(m)\n",
    "    return([roundZeroMatrix(getvalue(A)),getvalue(S),getvalue(lambda),roundZeroMatrix(getvalue(W)),getobjectivevalue(m)])\n",
    "end"
   ]
  },
  {
   "cell_type": "markdown",
   "metadata": {},
   "source": [
    "<h1> Funciones auxiliares <h1>"
   ]
  },
  {
   "cell_type": "code",
   "execution_count": 5,
   "metadata": {
    "collapsed": false
   },
   "outputs": [
    {
     "data": {
      "text/plain": [
       "erdosgraph (generic function with 1 method)"
      ]
     },
     "execution_count": 5,
     "metadata": {},
     "output_type": "execute_result"
    }
   ],
   "source": [
    "#Aux functions\n",
    "#def function prod computes the product 1^t*Z*t.\n",
    "#@param: n : the dimension of the matrices.\n",
    "function prod(Z,n)\n",
    "    return(ones(n)'*Z*ones(n))\n",
    "end\n",
    "\n",
    "#def function roundMatrix applies the function roundZero to every element of the matrix.\n",
    "#@param: A : matrix to round\n",
    "function roundZeroMatrix(A)\n",
    "    map(A) do x\n",
    "        roundZero(x)\n",
    "    end\n",
    "end\n",
    "\n",
    "#def function roundZero rounds close reals to zero to zero\n",
    "function roundZero(a)\n",
    "    if(abs(a)<=0.0001)\n",
    "        return(0)\n",
    "    end\n",
    "    return(a) \n",
    "end\n",
    "\n",
    "#def function nuclearNorm Computes the nuclear norm of a matrix\n",
    "#@param mat : mat to compute the nuclear norm\n",
    "function nuclearNorm(mat)\n",
    "    return(sum(svdfact(mat)[:S]))\n",
    "end\n",
    "\n",
    "#function which computes the estimation of the error as by theorem 3.1\n",
    "#@param delta: radius of the wasserstein metric ball.\n",
    "#@param A : solution of the optimization problem.\n",
    "#@param B : Array of the observation matrix\n",
    "#@param N : numero de observaciones\n",
    "#@param n : dimension de las matrices\n",
    "function estimarCota(delta,A,B,N,n)\n",
    "    a = delta*nuclearNorm(2*A-ones(n)*ones(n)')\n",
    "    [B[i] = A-B[i] for i in 1:N]\n",
    "    d = (1/N)*sum(norm1.(B))\n",
    "    return(a+d)\n",
    "end\n",
    "#function that computes the norm1 of a matrix. note that the norm(,1) implemented\n",
    "#in julia is the induced 1 norm.\n",
    "#@param W: a matrix\n",
    "function norm1(W)\n",
    "    a= 0\n",
    "    map(W) do x\n",
    "        a = abs(x)+a\n",
    "    end\n",
    "    return(a)\n",
    "end\n",
    "\n",
    "#function to generate a random Erdos-renyi graph with a given number of \n",
    "# clusters and probabilities. Creates an inferior triangluar matrix and then sums its transpose.\n",
    "#@param: probabilities: vector of probabilities>0.5 of each intracluster probability.\n",
    "#The size of the vector is the number of clusters. min(probabilities)>1/2\n",
    "#@param: sizes : the sizes of the clusters.\n",
    "#@param: n : the dimension of the adjacency matrix.\n",
    "#@param: q : outercluster adjacency probability : q<1/2\n",
    "#@Pre: the sum of the sizes must be n.\n",
    "function erdosgraph(probabilities,q,sizes,n)\n",
    "    A= zeros(n,n)\n",
    "    contador2=0\n",
    "    proba = 1\n",
    "    contador1=1\n",
    "    for k in sizes\n",
    "        contador2=contador2+k\n",
    "        for j in contador1:contador2\n",
    "            for i in j+1:n\n",
    "                rand1=rand()\n",
    "                rand2=rand()\n",
    "                if(i>=contador1 && i<=contador2)\n",
    "                    if(rand1<=probabilities[proba])\n",
    "                        A[i,j]=1\n",
    "                    end\n",
    "                else\n",
    "                    if(rand2<=q)\n",
    "                        A[i,j]=1\n",
    "                    end\n",
    "                end\n",
    "            end\n",
    "        end\n",
    "        proba=proba+1\n",
    "        contador1=contador1+k\n",
    "    end\n",
    "    return(A+A')\n",
    "end"
   ]
  },
  {
   "cell_type": "markdown",
   "metadata": {},
   "source": [
    "<h1> Implementacion de ejemplos <h1>"
   ]
  },
  {
   "cell_type": "markdown",
   "metadata": {},
   "source": [
    "Ejemplo 1"
   ]
  },
  {
   "cell_type": "code",
   "execution_count": 6,
   "metadata": {
    "collapsed": false
   },
   "outputs": [
    {
     "data": {
      "text/plain": [
       "6×6 Array{Int64,2}:\n",
       " 0  1  1  0  0  1\n",
       " 1  0  1  0  0  0\n",
       " 1  1  0  0  0  0\n",
       " 0  0  0  0  1  1\n",
       " 0  0  0  1  0  1\n",
       " 1  0  0  1  1  0"
      ]
     },
     "execution_count": 6,
     "metadata": {},
     "output_type": "execute_result"
    }
   ],
   "source": [
    "ejemplo1= [0 1 1 0 0 0;1 0 1 1 0 0; 1 1 0 0 0 0; 0 1 0 0 1  1; 0 0 0 1 0 1; 0 0 0 1  1 0]\n",
    "ejemplo2= [0 1 1 0 0 0;1 0 1 0 0 0; 1 1 0 0 0 1; 0 0 0 0 1  1; 0 0 0 1 0 1; 0 0 1 1  1 0]\n",
    "ejemplo3= [0 1 1 0 0 1;1 0 1 0 0 0; 1 1 0 0 0 0; 0 0 0 0 1  1; 0 0 0 1 0 1; 1 0 0 1  1 0]"
   ]
  },
  {
   "cell_type": "code",
   "execution_count": null,
   "metadata": {
    "collapsed": false
   },
   "outputs": [],
   "source": [
    "ejemplo1"
   ]
  },
  {
   "cell_type": "code",
   "execution_count": 7,
   "metadata": {
    "collapsed": false
   },
   "outputs": [
    {
     "data": {
      "text/plain": [
       "6×6 Array{Int64,2}:\n",
       " 0  1  1  0  0  0\n",
       " 1  0  1  0  0  0\n",
       " 1  1  0  0  0  0\n",
       " 0  0  0  0  1  1\n",
       " 0  0  0  1  0  1\n",
       " 0  0  0  1  1  0"
      ]
     },
     "execution_count": 7,
     "metadata": {},
     "output_type": "execute_result"
    }
   ],
   "source": [
    "ejemploReal=[0 1 1 0 0 0;1 0 1 0 0 0; 1 1 0 0 0 0; 0 0 0 0 1  1; 0 0 0 1 0 1; 0 0 0 1  1 0]"
   ]
  },
  {
   "cell_type": "code",
   "execution_count": 28,
   "metadata": {
    "collapsed": false
   },
   "outputs": [
    {
     "data": {
      "text/plain": [
       "6×6 Array{Int64,2}:\n",
       " 0  1  1  0  0  0\n",
       " 1  0  1  0  0  0\n",
       " 1  1  0  0  0  1\n",
       " 0  0  0  0  1  1\n",
       " 0  0  0  1  0  1\n",
       " 0  0  1  1  1  0"
      ]
     },
     "execution_count": 28,
     "metadata": {},
     "output_type": "execute_result"
    }
   ],
   "source": [
    "B=Array{Any}(3)\n",
    "B[1]=ejemplo3\n",
    "B[2]=ejemplo1\n",
    "B[3]=ejemplo2\n"
   ]
  },
  {
   "cell_type": "code",
   "execution_count": 12,
   "metadata": {
    "collapsed": false
   },
   "outputs": [
    {
     "name": "stdout",
     "output_type": "stream",
     "text": [
      "Problem\n",
      "  Name                   :                 \n",
      "  Objective sense        : min             \n",
      "  Type                   : CONIC (conic optimization problem)\n",
      "  Constraints            : 399             \n",
      "  Cones                  : 0               \n",
      "  Scalar variables       : 180             \n",
      "  Matrix variables       : 1               \n",
      "  Integer variables      : 0               \n",
      "\n",
      "Optimizer started.\n",
      "Presolve started.\n",
      "Linear dependency checker started.\n",
      "Linear dependency checker terminated.\n",
      "Eliminator started.\n",
      "Freed constraints in eliminator : 67\n",
      "Eliminator terminated.\n",
      "Eliminator - tries                  : 1                 time                   : 0.00            \n",
      "Lin. dep.  - tries                  : 1                 time                   : 0.00            \n",
      "Lin. dep.  - number                 : 0               \n",
      "Presolve terminated. Time: 0.00    \n",
      "Problem\n",
      "  Name                   :                 \n",
      "  Objective sense        : min             \n",
      "  Type                   : CONIC (conic optimization problem)\n",
      "  Constraints            : 399             \n",
      "  Cones                  : 0               \n",
      "  Scalar variables       : 180             \n",
      "  Matrix variables       : 1               \n",
      "  Integer variables      : 0               \n",
      "\n",
      "Optimizer  - threads                : 2               \n",
      "Optimizer  - solved problem         : the primal      \n",
      "Optimizer  - Constraints            : 99\n",
      "Optimizer  - Cones                  : 1\n",
      "Optimizer  - Scalar variables       : 128               conic                  : 42              \n",
      "Optimizer  - Semi-definite variables: 1                 scalarized             : 78              \n",
      "Factor     - setup time             : 0.00              dense det. time        : 0.00            \n",
      "Factor     - ML order time          : 0.00              GP order time          : 0.00            \n",
      "Factor     - nonzeros before factor : 3138              after factor           : 3138            \n",
      "Factor     - dense dim.             : 0                 flops                  : 1.86e+05        \n",
      "ITE PFEAS    DFEAS    GFEAS    PRSTATUS   POBJ              DOBJ              MU       TIME  \n",
      "0   1.5e+00  1.0e+00  1.0e+00  0.00e+00   1.200000000e+01   1.200000000e+01   1.0e+00  0.00  \n",
      "1   7.5e-01  5.0e-01  6.0e-01  2.84e+00   2.182342656e+01   2.319068399e+01   5.0e-01  0.01  \n",
      "2   3.3e-01  2.2e-01  3.1e-01  1.08e+00   2.603404132e+00   3.794835578e+00   2.2e-01  0.01  \n",
      "3   2.3e-02  1.6e-02  7.7e-02  1.25e+00   2.470107331e+00   2.582133384e+00   1.6e-02  0.01  \n",
      "4   2.3e-03  1.6e-03  3.6e-02  1.15e+00   2.109049109e+00   2.112433828e+00   1.6e-03  0.01  \n",
      "5   2.7e-04  1.8e-04  1.6e-02  1.77e+00   2.073436662e+00   2.073637834e+00   1.8e-04  0.01  \n",
      "6   5.9e-06  3.9e-06  2.4e-03  1.16e+00   2.070069584e+00   2.070073828e+00   3.9e-06  0.01  \n",
      "7   7.6e-08  5.1e-08  2.7e-04  1.00e+00   2.070000929e+00   2.070000984e+00   5.1e-08  0.01  \n",
      "8   4.6e-09  3.1e-09  6.7e-05  1.00e+00   2.070000059e+00   2.070000063e+00   3.1e-09  0.03  \n",
      "Optimizer terminated. Time: 0.03    \n",
      "\n",
      "\n",
      "Interior-point solution summary\n",
      "  Problem status  : PRIMAL_AND_DUAL_FEASIBLE\n",
      "  Solution status : OPTIMAL\n",
      "  Primal.  obj: 2.0700000594e+00    nrm: 1e+01    Viol.  con: 3e-09    var: 0e+00    barvar: 0e+00  \n",
      "  Dual.    obj: 2.0700000628e+00    nrm: 1e+00    Viol.  con: 3e-09    var: 1e-09    barvar: 3e-09  \n"
     ]
    },
    {
     "data": {
      "text/plain": [
       "2.07000005942528"
      ]
     },
     "execution_count": 12,
     "metadata": {},
     "output_type": "execute_result"
    }
   ],
   "source": [
    "learnError([1/3,1/3,1/3],0.005,ejemploReal,B,6,3)"
   ]
  },
  {
   "cell_type": "code",
   "execution_count": 30,
   "metadata": {
    "collapsed": false
   },
   "outputs": [
    {
     "name": "stdout",
     "output_type": "stream",
     "text": [
      "Problem\n",
      "  Name                   :                 \n",
      "  Objective sense        : min             \n",
      "  Type                   : CONIC (conic optimization problem)\n",
      "  Constraints            : 616             \n",
      "  Cones                  : 0               \n",
      "  Scalar variables       : 244             \n",
      "  Matrix variables       : 1               \n",
      "  Integer variables      : 0               \n",
      "\n",
      "Optimizer started.\n",
      "Presolve started.\n",
      "Linear dependency checker started.\n",
      "Linear dependency checker terminated.\n",
      "Eliminator started.\n",
      "Freed constraints in eliminator : 217\n",
      "Eliminator terminated.\n",
      "Eliminator started.\n",
      "Freed constraints in eliminator : 0\n",
      "Eliminator terminated.\n",
      "Eliminator - tries                  : 2                 time                   : 0.00            \n",
      "Lin. dep.  - tries                  : 1                 time                   : 0.00            \n",
      "Lin. dep.  - number                 : 0               \n",
      "Presolve terminated. Time: 0.00    \n",
      "Problem\n",
      "  Name                   :                 \n",
      "  Objective sense        : min             \n",
      "  Type                   : CONIC (conic optimization problem)\n",
      "  Constraints            : 616             \n",
      "  Cones                  : 0               \n",
      "  Scalar variables       : 244             \n",
      "  Matrix variables       : 1               \n",
      "  Integer variables      : 0               \n",
      "\n",
      "Optimizer  - threads                : 2               \n",
      "Optimizer  - solved problem         : the primal      \n",
      "Optimizer  - Constraints            : 144\n",
      "Optimizer  - Cones                  : 1\n",
      "Optimizer  - Scalar variables       : 239               conic                  : 42              \n",
      "Optimizer  - Semi-definite variables: 1                 scalarized             : 78              \n",
      "Factor     - setup time             : 0.02              dense det. time        : 0.00            \n",
      "Factor     - ML order time          : 0.02              GP order time          : 0.00            \n",
      "Factor     - nonzeros before factor : 3309              after factor           : 3309            \n",
      "Factor     - dense dim.             : 0                 flops                  : 1.87e+05        \n",
      "ITE PFEAS    DFEAS    GFEAS    PRSTATUS   POBJ              DOBJ              MU       TIME  \n",
      "0   1.5e+00  1.3e+00  1.0e+00  0.00e+00   -2.442490654e-15  -2.442490654e-15  1.0e+00  0.02  \n",
      "1   6.3e-01  5.6e-01  5.9e-01  3.20e+00   8.005996618e+00   9.202194954e+00   4.2e-01  0.02  \n",
      "2   3.9e-01  3.4e-01  3.8e-01  1.48e+00   7.406416433e+00   8.672800439e+00   2.6e-01  0.02  \n",
      "3   2.2e-01  1.9e-01  3.1e-01  1.08e+00   5.037511472e+00   5.578436809e+00   1.5e-01  0.02  \n",
      "4   8.4e-02  7.5e-02  2.2e-01  1.03e+00   3.263222816e+00   3.397914919e+00   5.6e-02  0.02  \n",
      "5   1.5e-02  1.3e-02  9.7e-02  1.02e+00   2.270331055e+00   2.291600802e+00   1.0e-02  0.03  \n",
      "6   9.1e-04  8.1e-04  3.2e-02  1.07e+00   2.083965198e+00   2.084148276e+00   6.1e-04  0.03  \n",
      "7   1.2e-04  1.1e-04  1.5e-02  1.41e+00   2.071011903e+00   2.070997366e+00   8.1e-05  0.03  \n",
      "8   4.1e-06  3.7e-06  2.8e-03  1.07e+00   2.070027387e+00   2.070026894e+00   2.7e-06  0.03  \n",
      "9   3.9e-07  3.4e-07  8.5e-04  1.00e+00   2.070002845e+00   2.070002799e+00   2.6e-07  0.03  \n",
      "10  5.2e-08  4.6e-08  3.1e-04  1.00e+00   2.070000439e+00   2.070000433e+00   3.5e-08  0.03  \n",
      "Optimizer terminated. Time: 0.03    \n",
      "\n",
      "\n",
      "Interior-point solution summary\n",
      "  Problem status  : PRIMAL_AND_DUAL_FEASIBLE\n",
      "  Solution status : OPTIMAL\n",
      "  Primal.  obj: 2.0700004395e+00    nrm: 1e+01    Viol.  con: 7e-08    var: 0e+00    barvar: 0e+00  \n",
      "  Dual.    obj: 2.0700004327e+00    nrm: 2e+00    Viol.  con: 3e-08    var: 3e-08    barvar: 3e-08  \n"
     ]
    },
    {
     "data": {
      "text/plain": [
       "5-element Array{Any,1}:\n",
       "   Real[0 1.0 … 0 0; 1.0 0 … 0 0; … ; 0 0 … 0 1.0; 0 0 … 1.0 0]                                                                                        \n",
       "   [-3.24519e-7, -3.2109e-7, -3.24101e-7]                                                                                                              \n",
       " 14.0004                                                                                                                                               \n",
       "   [-1.00003 1.00003 … -1.00002 -1.0; 1.00003 -1.00003 … -1.00001 -1.00003; … ; -1.00002 -1.00001 … -1.00004 1.00003; -1.0 -1.00003 … 1.00003 -1.00001]\n",
       "  2.07                                                                                                                                                 "
      ]
     },
     "execution_count": 30,
     "metadata": {},
     "output_type": "execute_result"
    }
   ],
   "source": [
    "resultado=learnGraph([1/3,1/3,1/3],0.005,B,6,3)"
   ]
  },
  {
   "cell_type": "code",
   "execution_count": 31,
   "metadata": {
    "collapsed": false
   },
   "outputs": [
    {
     "data": {
      "text/plain": [
       "6×6 Array{Real,2}:\n",
       " 0    1.0  1.0  0    0    0  \n",
       " 1.0  0    1.0  0    0    0  \n",
       " 1.0  1.0  0    0    0    0  \n",
       " 0    0    0    0    1.0  1.0\n",
       " 0    0    0    1.0  0    1.0\n",
       " 0    0    0    1.0  1.0  0  "
      ]
     },
     "execution_count": 31,
     "metadata": {},
     "output_type": "execute_result"
    }
   ],
   "source": [
    "resultado[1]"
   ]
  },
  {
   "cell_type": "code",
   "execution_count": null,
   "metadata": {
    "collapsed": false
   },
   "outputs": [],
   "source": [
    "resultado[5]"
   ]
  },
  {
   "cell_type": "markdown",
   "metadata": {},
   "source": [
    "Ejemplo2"
   ]
  },
  {
   "cell_type": "code",
   "execution_count": null,
   "metadata": {
    "collapsed": false
   },
   "outputs": [],
   "source": [
    "srand(3)\n",
    "ejemplo2=erdosgraph([0.8,1,1,1],0,[3,3,3,3],12)\n",
    "ejemplo3=erdosgraph([0.8,1,1,1],0,[3,3,3,3],12)\n",
    "B= Array{Any}(2)\n",
    "B[1]=ejemplo2\n",
    "B[2]=ejemplo3\n",
    "resultado=learnGraph([1,1],0.3,B,12,2)\n",
    "resultado[1]"
   ]
  },
  {
   "cell_type": "markdown",
   "metadata": {},
   "source": [
    "<h3>No estoy muy seguro de la entrada [2,1]... metamos mas observaciones a ver<h3>"
   ]
  },
  {
   "cell_type": "code",
   "execution_count": null,
   "metadata": {
    "collapsed": false
   },
   "outputs": [],
   "source": [
    "srand(5)\n",
    "ejemplo4=erdosgraph([0.8,1,1,1],0,[3,3,3,3],12)\n",
    "ejemplo5=erdosgraph([0.8,1,1,1],0,[3,3,3,3],12)\n",
    "ejemplo6=erdosgraph([0.8,1,1,1],0,[3,3,3,3],12)\n",
    "B= Array{Any}(5)\n",
    "B[1]=ejemplo2\n",
    "B[2]=ejemplo3\n",
    "B[3]=ejemplo4\n",
    "B[4]=ejemplo5\n",
    "B[5]=ejemplo6\n",
    "resultado=learnGraph([1,1,1,1,1],0.3,B,12,5)\n",
    "resultado[1]"
   ]
  },
  {
   "cell_type": "markdown",
   "metadata": {},
   "source": [
    "<h3>Ahora si estoy seguro!<h3>"
   ]
  },
  {
   "cell_type": "markdown",
   "metadata": {},
   "source": [
    "Ejemplo 3"
   ]
  },
  {
   "cell_type": "code",
   "execution_count": null,
   "metadata": {
    "collapsed": false
   },
   "outputs": [],
   "source": [
    "srand(7)\n",
    "ejemplo2=erdosgraph([0.8,1,1],0,[4,2,4],10)\n",
    "ejemplo3=erdosgraph([0.8,1,1],0,[4,2,4],10)\n",
    "ejemplo4=erdosgraph([0.8,1,1],0,[4,2,4],10)\n",
    "ejemplo5=erdosgraph([0.8,1,1],0,[4,2,4],10)\n",
    "B= Array{Any}(4)\n",
    "B[1]=ejemplo2\n",
    "B[2]=ejemplo3\n",
    "B[3]=ejemplo4\n",
    "B[4]=ejemplo5\n",
    "resultado=learnGraph([1,1,1,1],0.3,B,10,4)\n",
    "resultado[1]"
   ]
  },
  {
   "cell_type": "markdown",
   "metadata": {},
   "source": [
    "<h2>Esto esta lejos de la verdadera estructura entonces metamos mas iteraciones!<h2>"
   ]
  },
  {
   "cell_type": "code",
   "execution_count": null,
   "metadata": {
    "collapsed": false
   },
   "outputs": [],
   "source": [
    "ejemplo2=erdosgraph([0.8,1,1],0,[4,2,4],10)\n",
    "ejemplo3=erdosgraph([0.8,1,1],0,[4,2,4],10)\n",
    "ejemplo4=erdosgraph([0.8,1,1],0,[4,2,4],10)\n",
    "ejemplo5=erdosgraph([0.8,1,1],0,[4,2,4],10)\n",
    "ejemplo6=erdosgraph([0.8,1,1],0,[4,2,4],10)\n",
    "ejemplo7=erdosgraph([0.8,1,1],0,[4,2,4],10)\n",
    "ejemplo8=erdosgraph([0.8,1,1],0,[4,2,4],10)\n",
    "B= Array{Any}(8)\n",
    "B[1]=ejemplo2\n",
    "B[2]=ejemplo3\n",
    "B[3]=ejemplo4\n",
    "B[4]=ejemplo5\n",
    "B[5]=ejemplo6\n",
    "B[6]=ejemplo7\n",
    "B[7]=ejemplo8\n",
    "resultado=learnGraph([1,1,1,1,1,1,1],0.3,B,10,7)\n",
    "resultado[1]"
   ]
  },
  {
   "cell_type": "markdown",
   "metadata": {},
   "source": [
    "<Aqui esta bastante lejos asi que metamos mas observaciones!>"
   ]
  },
  {
   "cell_type": "markdown",
   "metadata": {},
   "source": [
    "<h2> Funciona bien!<h2>"
   ]
  },
  {
   "cell_type": "code",
   "execution_count": null,
   "metadata": {
    "collapsed": false
   },
   "outputs": [],
   "source": [
    "ejemplo2"
   ]
  },
  {
   "cell_type": "code",
   "execution_count": null,
   "metadata": {
    "collapsed": true
   },
   "outputs": [],
   "source": []
  }
 ],
 "metadata": {
  "kernelspec": {
   "display_name": "Julia 0.6.0",
   "language": "julia",
   "name": "julia-0.6"
  },
  "language_info": {
   "file_extension": ".jl",
   "mimetype": "application/julia",
   "name": "julia",
   "version": "0.6.0"
  }
 },
 "nbformat": 4,
 "nbformat_minor": 0
}
