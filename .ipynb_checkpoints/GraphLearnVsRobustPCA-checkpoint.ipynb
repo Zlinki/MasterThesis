{
 "cells": [
  {
   "cell_type": "markdown",
   "metadata": {},
   "source": [
    "<h1> 2)Ejemplos de graph learning <h1>"
   ]
  },
  {
   "cell_type": "markdown",
   "metadata": {},
   "source": [
    "<h2>Ejemplo 1 de graph learning: Es posible recuperar la estructura de grafo usando una sola observacion para un grafo bien comportado.<h2>"
   ]
  },
  {
   "cell_type": "code",
   "execution_count": null,
   "metadata": {
    "collapsed": false
   },
   "outputs": [],
   "source": [
    "srand(1236)\n",
    "papa1 = Array{Any}(1)\n",
    "papa1[1]=erdosgraph([0.8,1,1],0.1,[5,3,4],12)+diagm(ones(12))"
   ]
  },
  {
   "cell_type": "code",
   "execution_count": null,
   "metadata": {
    "collapsed": true
   },
   "outputs": [],
   "source": [
    "resultado1=learnGraph([1],0.1,papa1,12,1)"
   ]
  },
  {
   "cell_type": "code",
   "execution_count": null,
   "metadata": {
    "collapsed": false
   },
   "outputs": [],
   "source": [
    "round.(resultado1[1],2)"
   ]
  },
  {
   "cell_type": "markdown",
   "metadata": {},
   "source": [
    "<h3>Oh no! Es la misma matriz que observamos... depronto si variamos el tamano de la bola...<h3>"
   ]
  },
  {
   "cell_type": "code",
   "execution_count": null,
   "metadata": {
    "collapsed": true
   },
   "outputs": [],
   "source": [
    "resultado2=learnGraph([1],0.9,papa1,12,1)"
   ]
  },
  {
   "cell_type": "code",
   "execution_count": null,
   "metadata": {
    "collapsed": false
   },
   "outputs": [],
   "source": [
    "round.(resultado2[1],2)"
   ]
  },
  {
   "cell_type": "markdown",
   "metadata": {},
   "source": [
    "<h3>Cambio un poco. Hay esperanza!<h3>"
   ]
  },
  {
   "cell_type": "code",
   "execution_count": null,
   "metadata": {
    "collapsed": true
   },
   "outputs": [],
   "source": [
    "resultado3=learnGraph([1],1.3,papa1,12,1)"
   ]
  },
  {
   "cell_type": "code",
   "execution_count": null,
   "metadata": {
    "collapsed": false
   },
   "outputs": [],
   "source": [
    "round.(resultado3[1],2)"
   ]
  },
  {
   "cell_type": "markdown",
   "metadata": {},
   "source": [
    "<h3> Recuperamos muy bien, pero sucede que esta matriz observada era muy cercana a la realidad. Con otras matrices no se da\n",
    "tan bien, pero algo se recupera <h3>"
   ]
  },
  {
   "cell_type": "code",
   "execution_count": null,
   "metadata": {
    "collapsed": false
   },
   "outputs": [],
   "source": [
    "srand(1234)\n",
    "papa1 = Array{Any}(1)\n",
    "papa1[1]=erdosgraph([0.8,1,1],0.1,[5,3,4],12)+diagm(ones(12))"
   ]
  },
  {
   "cell_type": "code",
   "execution_count": null,
   "metadata": {
    "collapsed": true
   },
   "outputs": [],
   "source": [
    "resultado4=learnGraph([1],1.47,papa1,12,1)"
   ]
  },
  {
   "cell_type": "code",
   "execution_count": null,
   "metadata": {
    "collapsed": false
   },
   "outputs": [],
   "source": [
    "round.(resultado4[1],2)"
   ]
  },
  {
   "cell_type": "markdown",
   "metadata": {},
   "source": [
    "<h3> Este grafo ya no se deja recuperar tan bien. Claro que si redondeamos 0.5 para abajo llegamos a una buena aproximacion.<h3>"
   ]
  },
  {
   "cell_type": "code",
   "execution_count": null,
   "metadata": {
    "collapsed": false
   },
   "outputs": [],
   "source": [
    "round.(resultado4[1])"
   ]
  },
  {
   "cell_type": "markdown",
   "metadata": {},
   "source": [
    "<h2>Ejemplo 2 de graph learning: Disminucion del error al sumar una diagonal de unos.<h2>"
   ]
  },
  {
   "cell_type": "markdown",
   "metadata": {},
   "source": [
    "<h3> Explicar a Mauricio como funciona la función evaluarGraphLearning. Cada ejecucion de evaluar \n",
    "graphLearning corre 9x9x30=2430 problemas de optimizacion.<h3>"
   ]
  },
  {
   "cell_type": "code",
   "execution_count": null,
   "metadata": {
    "collapsed": true
   },
   "outputs": [],
   "source": [
    "srand(1234)\n",
    "resultado5=evaluarGraphLearning2(0.3,2)"
   ]
  },
  {
   "cell_type": "code",
   "execution_count": null,
   "metadata": {
    "collapsed": false
   },
   "outputs": [],
   "source": [
    "round.(resultado5,2)"
   ]
  },
  {
   "cell_type": "code",
   "execution_count": null,
   "metadata": {
    "collapsed": false
   },
   "outputs": [],
   "source": [
    "imshow(resultado5)"
   ]
  },
  {
   "cell_type": "code",
   "execution_count": null,
   "metadata": {
    "collapsed": true
   },
   "outputs": [],
   "source": [
    "srand(1234)\n",
    "resultado6=evaluarGraphLearning3(0.3,2)"
   ]
  },
  {
   "cell_type": "code",
   "execution_count": null,
   "metadata": {
    "collapsed": false
   },
   "outputs": [],
   "source": [
    "round.(resultado6,2)"
   ]
  },
  {
   "cell_type": "code",
   "execution_count": null,
   "metadata": {
    "collapsed": false
   },
   "outputs": [],
   "source": [
    "imshow(resultado6)"
   ]
  },
  {
   "cell_type": "markdown",
   "metadata": {},
   "source": [
    "<h3>Una nota: aunque este ejercicio para una observacion da lo mismo, la recuperacion buena cambiando el tamano de la bola \n",
    "se dio al agregar la diagonal de 1.<h3>"
   ]
  },
  {
   "cell_type": "markdown",
   "metadata": {},
   "source": [
    "<h2>Ejemplo 3 de graph learning: Disminucion del error al aumentar el numero de observaciones y manteniendo el tamano de la\n",
    "bola fijo.<h2>"
   ]
  },
  {
   "cell_type": "code",
   "execution_count": null,
   "metadata": {
    "collapsed": false
   },
   "outputs": [],
   "source": [
    "srand(1234)"
   ]
  },
  {
   "cell_type": "markdown",
   "metadata": {},
   "source": [
    "<h5>N=1<h5>"
   ]
  },
  {
   "cell_type": "code",
   "execution_count": null,
   "metadata": {
    "collapsed": true
   },
   "outputs": [],
   "source": [
    "resultado7=evaluarGraphLearning3(0.3,1)"
   ]
  },
  {
   "cell_type": "code",
   "execution_count": null,
   "metadata": {
    "collapsed": false,
    "scrolled": true
   },
   "outputs": [],
   "source": [
    "imshow(resultado7)"
   ]
  },
  {
   "cell_type": "markdown",
   "metadata": {},
   "source": [
    "<h5>N=2<h5>"
   ]
  },
  {
   "cell_type": "code",
   "execution_count": null,
   "metadata": {
    "collapsed": true
   },
   "outputs": [],
   "source": [
    "resultado7=evaluarGraphLearning3(0.3,2)"
   ]
  },
  {
   "cell_type": "code",
   "execution_count": null,
   "metadata": {
    "collapsed": false
   },
   "outputs": [],
   "source": [
    "imshow(resultado7)"
   ]
  },
  {
   "cell_type": "markdown",
   "metadata": {},
   "source": [
    "<h5>N=4<h5>"
   ]
  },
  {
   "cell_type": "code",
   "execution_count": null,
   "metadata": {
    "collapsed": true
   },
   "outputs": [],
   "source": [
    "resultado7=evaluarGraphLearning3(0.3,4)"
   ]
  },
  {
   "cell_type": "code",
   "execution_count": null,
   "metadata": {
    "collapsed": false
   },
   "outputs": [],
   "source": [
    "imshow(resultado7)"
   ]
  },
  {
   "cell_type": "code",
   "execution_count": null,
   "metadata": {
    "collapsed": false
   },
   "outputs": [],
   "source": [
    "plot(resultado7)"
   ]
  },
  {
   "cell_type": "markdown",
   "metadata": {},
   "source": [
    "<h5>N=6<h5>"
   ]
  },
  {
   "cell_type": "code",
   "execution_count": null,
   "metadata": {
    "collapsed": true
   },
   "outputs": [],
   "source": [
    "resultado7=evaluarGraphLearning3(0.3,6)"
   ]
  },
  {
   "cell_type": "code",
   "execution_count": null,
   "metadata": {
    "collapsed": false
   },
   "outputs": [],
   "source": [
    "imshow(resultado7)"
   ]
  },
  {
   "cell_type": "markdown",
   "metadata": {},
   "source": [
    "<h5>N=10<h5>"
   ]
  },
  {
   "cell_type": "code",
   "execution_count": null,
   "metadata": {
    "collapsed": true
   },
   "outputs": [],
   "source": [
    "tic()\n",
    "resultado7=evaluarGraphLearning3(0.3,10)\n",
    "toc()"
   ]
  },
  {
   "cell_type": "code",
   "execution_count": null,
   "metadata": {
    "collapsed": false
   },
   "outputs": [],
   "source": [
    "imshow(resultado7)"
   ]
  },
  {
   "cell_type": "markdown",
   "metadata": {},
   "source": [
    "<h5>N=20<h5>"
   ]
  },
  {
   "cell_type": "code",
   "execution_count": null,
   "metadata": {
    "collapsed": true
   },
   "outputs": [],
   "source": [
    "resultado7=evaluarGraphLearning3(0.3,20)"
   ]
  },
  {
   "cell_type": "code",
   "execution_count": null,
   "metadata": {
    "collapsed": false
   },
   "outputs": [],
   "source": [
    "imshow(resultado7)"
   ]
  },
  {
   "cell_type": "code",
   "execution_count": null,
   "metadata": {
    "collapsed": false
   },
   "outputs": [],
   "source": [
    "resultado7"
   ]
  },
  {
   "cell_type": "code",
   "execution_count": null,
   "metadata": {
    "collapsed": false
   },
   "outputs": [],
   "source": [
    "plot(resultado7)"
   ]
  },
  {
   "cell_type": "markdown",
   "metadata": {},
   "source": [
    "<h3>Esta ultima simulacion tomo 563 segundos: 9.4 minutos. QUE INTERESANTES QUE ITERESANTE. Las ultimas dos columnas\n",
    "son irrecuperables.<h3>"
   ]
  },
  {
   "cell_type": "markdown",
   "metadata": {},
   "source": [
    "<h2>Ejemplo 4 de graph learning: Disminución del error al mover el tamano de la bola y mantener constante la probabilidad intra cluster y outercluster<h2>"
   ]
  },
  {
   "cell_type": "markdown",
   "metadata": {},
   "source": [
    "<h5>Para comenzar, pongamos un grafo dificil de recuperar. Segun la siguiente matriz, el error promedio es:20 para\n",
    "p=0.65 y q=0.3<h5>"
   ]
  },
  {
   "cell_type": "code",
   "execution_count": null,
   "metadata": {
    "collapsed": true
   },
   "outputs": [],
   "source": [
    "srand(1234)\n",
    "resultado8=evaluarGraphLearning3(0.3,4)"
   ]
  },
  {
   "cell_type": "code",
   "execution_count": 14,
   "metadata": {
    "collapsed": false
   },
   "outputs": [
    {
     "data": {
      "text/plain": [
       "9×9 Array{Float64,2}:\n",
       " 0.0        0.0        0.676455  …   7.43749  16.6348  21.6376  30.6789\n",
       " 0.0        0.0        0.144569      8.30172  12.0311  21.5794  27.7552\n",
       " 0.0859975  0.0892378  0.221321      9.43148  15.678   20.8948  30.16  \n",
       " 0.220634   0.324004   1.30646       9.67883  14.4481  21.4271  28.7147\n",
       " 0.897093   0.796498   1.11372       9.9073   14.5796  21.9405  29.6101\n",
       " 1.72916    1.5647     1.80697   …  11.3818   17.3455  22.6817  32.0096\n",
       " 2.69018    3.13478    2.42013      10.1228   18.2884  24.3638  32.9976\n",
       " 4.12673    4.27505    4.25013      13.8727   19.3487  26.6891  34.867 \n",
       " 5.3186     5.65232    5.96991      16.4107   22.7717  30.4491  34.975 "
      ]
     },
     "execution_count": 14,
     "metadata": {},
     "output_type": "execute_result"
    }
   ],
   "source": [
    "resultado8"
   ]
  },
  {
   "cell_type": "code",
   "execution_count": null,
   "metadata": {
    "collapsed": true
   },
   "outputs": [],
   "source": [
    "variarRadio1=evaluarGraphLearning4(0.65,0.3,4)"
   ]
  },
  {
   "cell_type": "code",
   "execution_count": 24,
   "metadata": {
    "collapsed": false
   },
   "outputs": [
    {
     "data": {
      "image/png": "[encoded data removed]",
      "text/plain": [
       "PyPlot.Figure(PyObject <matplotlib.figure.Figure object at 0x0000000020D6DE48>)"
      ]
     },
     "metadata": {},
     "output_type": "display_data"
    },
    {
     "data": {
      "text/plain": [
       "1-element Array{PyCall.PyObject,1}:\n",
       " PyObject <matplotlib.lines.Line2D object at 0x0000000020F992E8>"
      ]
     },
     "execution_count": 24,
     "metadata": {},
     "output_type": "execute_result"
    }
   ],
   "source": [
    "plot(variarRadio1[2],variarRadio1[1])"
   ]
  },
  {
   "cell_type": "markdown",
   "metadata": {},
   "source": [
    "<h5>Apararentemente el minimo se obtiene entre 0.7 y 1.2 asi que afinemos este intevalo<h5>"
   ]
  },
  {
   "cell_type": "code",
   "execution_count": null,
   "metadata": {
    "collapsed": true
   },
   "outputs": [],
   "source": [
    "variarRadio2=evaluarGraphLearning4(0.65,0.3,4,0.7:0.01:1.2)"
   ]
  },
  {
   "cell_type": "code",
   "execution_count": 35,
   "metadata": {
    "collapsed": false
   },
   "outputs": [
    {
     "data": {
      "image/png": "[encoded data removed]",
      "text/plain": [
       "PyPlot.Figure(PyObject <matplotlib.figure.Figure object at 0x00000000516A1A20>)"
      ]
     },
     "metadata": {},
     "output_type": "display_data"
    },
    {
     "data": {
      "text/plain": [
       "1-element Array{PyCall.PyObject,1}:\n",
       " PyObject <matplotlib.lines.Line2D object at 0x00000000518833C8>"
      ]
     },
     "execution_count": 35,
     "metadata": {},
     "output_type": "execute_result"
    }
   ],
   "source": [
    "plot(variarRadio2[2],variarRadio2[1])"
   ]
  },
  {
   "cell_type": "markdown",
   "metadata": {},
   "source": [
    "<h5>Aún más fino... 76x20 = 1520 problemas de optimizacion.<h5>"
   ]
  },
  {
   "cell_type": "code",
   "execution_count": null,
   "metadata": {
    "collapsed": true
   },
   "outputs": [],
   "source": [
    "variarRadio3=evaluarGraphLearning4(0.65,0.3,4,0.75:0.002:0.9)"
   ]
  },
  {
   "cell_type": "code",
   "execution_count": 26,
   "metadata": {
    "collapsed": false
   },
   "outputs": [
    {
     "ename": "LoadError",
     "evalue": "\u001b[91mUndefVarError: variarRadio3 not defined\u001b[39m",
     "output_type": "error",
     "traceback": [
      "\u001b[91mUndefVarError: variarRadio3 not defined\u001b[39m",
      "",
      "Stacktrace:",
      " [1] \u001b[1minclude_string\u001b[22m\u001b[22m\u001b[1m(\u001b[22m\u001b[22m::String, ::String\u001b[1m)\u001b[22m\u001b[22m at \u001b[1m.\\loading.jl:515\u001b[22m\u001b[22m"
     ]
    }
   ],
   "source": [
    "plot(variarRadio3[3],variarRadio3[1])"
   ]
  },
  {
   "cell_type": "code",
   "execution_count": null,
   "metadata": {
    "collapsed": false
   },
   "outputs": [],
   "source": [
    "indmin(variarRadio2[1])"
   ]
  },
  {
   "cell_type": "code",
   "execution_count": null,
   "metadata": {
    "collapsed": false
   },
   "outputs": [],
   "source": [
    "variarRadio2[2][32]"
   ]
  },
  {
   "cell_type": "markdown",
   "metadata": {},
   "source": [
    "<h5>Asi, el error minimo se encuentra en 0.812 y es de 13.6. Comparemos los heatmaps usando ahora esta bola.<h5>"
   ]
  },
  {
   "cell_type": "code",
   "execution_count": null,
   "metadata": {
    "collapsed": true
   },
   "outputs": [],
   "source": [
    "resultado9=evaluarGraphLearning3(0.812,4)"
   ]
  },
  {
   "cell_type": "code",
   "execution_count": null,
   "metadata": {
    "collapsed": false
   },
   "outputs": [],
   "source": [
    "resultado9"
   ]
  },
  {
   "cell_type": "code",
   "execution_count": null,
   "metadata": {
    "collapsed": false
   },
   "outputs": [],
   "source": [
    "resultado8"
   ]
  },
  {
   "cell_type": "markdown",
   "metadata": {},
   "source": [
    "<h5>Notemos como la cosa mejora mucho para valores pequeños de p : 0.6,0.65 sustancialmente siempre y cuando q es chiquito.<h5>"
   ]
  },
  {
   "cell_type": "code",
   "execution_count": null,
   "metadata": {
    "collapsed": false
   },
   "outputs": [],
   "source": [
    "imshow(resultado8)"
   ]
  },
  {
   "cell_type": "code",
   "execution_count": null,
   "metadata": {
    "collapsed": false
   },
   "outputs": [],
   "source": [
    "imshow(resultado9)"
   ]
  },
  {
   "cell_type": "markdown",
   "metadata": {},
   "source": [
    "<h5> La cosa mejora un poco pero tampoco tanto. El problema es que el grafo con el que trabajamos es muy dificil de recuperar.\n",
    "Intentemos un grafo mucho mas facil: 1 observacion con p=0.8 y q=0.1<h5>"
   ]
  },
  {
   "cell_type": "code",
   "execution_count": null,
   "metadata": {
    "collapsed": true
   },
   "outputs": [],
   "source": [
    "variarRadio4=evaluarGraphLearning4(0.8,0.1,1)"
   ]
  },
  {
   "cell_type": "code",
   "execution_count": null,
   "metadata": {
    "collapsed": false
   },
   "outputs": [],
   "source": [
    "plot(variarRadio4[2],variarRadio4[1])"
   ]
  },
  {
   "cell_type": "code",
   "execution_count": null,
   "metadata": {
    "collapsed": true
   },
   "outputs": [],
   "source": [
    "variarRadio5=evaluarGraphLearning4(0.8,0.1,1,1.3:0.01:1.6)"
   ]
  },
  {
   "cell_type": "code",
   "execution_count": null,
   "metadata": {
    "collapsed": false
   },
   "outputs": [],
   "source": [
    "plot(variarRadio5[2],variarRadio5[1])"
   ]
  },
  {
   "cell_type": "code",
   "execution_count": null,
   "metadata": {
    "collapsed": true
   },
   "outputs": [],
   "source": [
    "resultado10=evaluarGraphLearning3(1.45,1)"
   ]
  },
  {
   "cell_type": "code",
   "execution_count": null,
   "metadata": {
    "collapsed": false
   },
   "outputs": [],
   "source": [
    "imshow(resultado10)"
   ]
  },
  {
   "cell_type": "code",
   "execution_count": null,
   "metadata": {
    "collapsed": true
   },
   "outputs": [],
   "source": [
    "resultado11=evaluarGraphLearning3(0.3,1)"
   ]
  },
  {
   "cell_type": "code",
   "execution_count": null,
   "metadata": {
    "collapsed": false
   },
   "outputs": [],
   "source": [
    "imshow(resultado11)"
   ]
  },
  {
   "cell_type": "code",
   "execution_count": null,
   "metadata": {
    "collapsed": false
   },
   "outputs": [],
   "source": [
    "resultado10"
   ]
  },
  {
   "cell_type": "code",
   "execution_count": null,
   "metadata": {
    "collapsed": false
   },
   "outputs": [],
   "source": [
    "resultado11"
   ]
  },
  {
   "cell_type": "code",
   "execution_count": null,
   "metadata": {
    "collapsed": true
   },
   "outputs": [],
   "source": []
  },
  {
   "cell_type": "markdown",
   "metadata": {},
   "source": [
    "<h1> 3) Disminucion del error al aumentar obsrvaciones<h1>"
   ]
  },
  {
   "cell_type": "code",
   "execution_count": null,
   "metadata": {
    "collapsed": true
   },
   "outputs": [],
   "source": [
    "P = evaluarGraphLearning6(0.7,0.3,0.01)\n",
    "for s in [0.2,0.5,0.8,1.1,1.5,2]\n",
    "    A = evaluarGraphLearning6(0.7,0.3,s)\n",
    "    P = [P A]\n",
    "    println(s)\n",
    "end"
   ]
  },
  {
   "cell_type": "code",
   "execution_count": 59,
   "metadata": {
    "collapsed": false
   },
   "outputs": [
    {
     "data": {
      "text/plain": [
       "30×7 Array{Any,2}:\n",
       " 35.6      34.68        33.16       33.9644   35.2526   33.9632  36.0897\n",
       " 27.7507   26.6111      25.5625     25.2382   27.1505   27.6848  34.134 \n",
       " 25.44     23.84        23.1581     20.0862   19.8528   24.2     30.3786\n",
       " 16.5735   18.0803      17.8827     17.2955   18.6714   24.9251  30.5454\n",
       " 19.24     17.5061      13.5023     12.6554   15.1185   23.3779  30.6341\n",
       " 12.7844   14.6972       8.58057    10.5756   16.2301   24.034   29.8168\n",
       " 14.12     10.279        5.75136     8.93211  16.0601   22.6989  30.1592\n",
       "  8.82282   8.48698      4.86859     7.0197   14.9883   23.7233  28.9222\n",
       "  9.92      8.37053      4.04842     7.14848  13.5007   23.942   30.4464\n",
       "  7.28114   4.44556      3.74198     5.96983  13.517    23.5697  27.4736\n",
       "  9.08      4.23009      2.42024     5.96257  13.2274   23.0979  26.8581\n",
       "  5.36262   2.56572      2.09806     4.73231  12.7959   23.349   28.9178\n",
       "  7.76      1.56695      1.80729     4.47348  13.011    22.8577  27.2266\n",
       "  ⋮                                                      ⋮              \n",
       "  3.72      0.616158     0.549079    3.34434  11.9209   22.5366  25.3583\n",
       "  2.20191   0.341108     0.360316    3.00626   9.56957  22.7816  24.9302\n",
       "  3.48      0.265175     0.336133    2.16779  11.1304   22.5465  25.8939\n",
       "  1.97295   0.216701     0.390769    2.17652  12.2625   22.5406  25.5307\n",
       "  2.84      0.0047901    0.337925    2.08998  11.7269   22.5492  25.7016\n",
       "  1.69695   0.0          0.219077    1.90365  10.1029   22.5136  26.4201\n",
       "  2.16      0.180978     0.240852    1.82206  10.7889   22.4723  27.1058\n",
       "  1.32419   0.0746051    0.173352    1.81497   9.61821  22.3463  24.3854\n",
       "  1.64      0.0843809    0.367877    1.68966   9.79534  22.3529  25.9438\n",
       "  0.85231   0.0          0.203582    1.77618  10.2808   22.3451  24.4634\n",
       "  1.48      0.00544444   0.0624714   1.63307   9.58226  22.3561  25.8092\n",
       "  0.44      0.0          0.216079    1.30761  10.5049   22.3726  24.5376"
      ]
     },
     "execution_count": 59,
     "metadata": {},
     "output_type": "execute_result"
    }
   ],
   "source": [
    "P"
   ]
  },
  {
   "cell_type": "code",
   "execution_count": null,
   "metadata": {
    "collapsed": true
   },
   "outputs": [],
   "source": [
    "#resultado12: medir el error promedio(50 0bs) viendo 1 obs 2, ,..., 20 obs con delta = 0.7 \n",
    "resultado12 = evaluarGraphLearning6(0.7,0.3,0.7)"
   ]
  },
  {
   "cell_type": "code",
   "execution_count": 62,
   "metadata": {
    "collapsed": false
   },
   "outputs": [
    {
     "data": {
      "image/png": "[encoded data removed]",
      "text/plain": [
       "PyPlot.Figure(PyObject <matplotlib.figure.Figure object at 0x0000000055E87F60>)"
      ]
     },
     "metadata": {},
     "output_type": "display_data"
    },
    {
     "data": {
      "text/plain": [
       "7-element Array{PyCall.PyObject,1}:\n",
       " PyObject <matplotlib.lines.Line2D object at 0x0000000055F8F400>\n",
       " PyObject <matplotlib.lines.Line2D object at 0x0000000055F8F4A8>\n",
       " PyObject <matplotlib.lines.Line2D object at 0x0000000055F8F550>\n",
       " PyObject <matplotlib.lines.Line2D object at 0x0000000055F8F5F8>\n",
       " PyObject <matplotlib.lines.Line2D object at 0x0000000055F8F6A0>\n",
       " PyObject <matplotlib.lines.Line2D object at 0x0000000055F8F748>\n",
       " PyObject <matplotlib.lines.Line2D object at 0x0000000055F8F7F0>"
      ]
     },
     "execution_count": 62,
     "metadata": {},
     "output_type": "execute_result"
    }
   ],
   "source": [
    "plot(1:1:30,P)"
   ]
  },
  {
   "cell_type": "code",
   "execution_count": 38,
   "metadata": {
    "collapsed": false
   },
   "outputs": [
    {
     "data": {
      "text/plain": [
       "40×4 Array{Float64,2}:\n",
       " 32.9591    32.96        34.6049   34.9761\n",
       " 27.1476    28.4323      27.4608   26.6029\n",
       " 21.4463    26.76        21.5113   25.9852\n",
       " 15.5074    18.9163      16.2226   24.2813\n",
       " 11.7653    18.0         16.6732   23.5089\n",
       "  8.99585   11.3331      15.7854   22.5808\n",
       "  7.32435   15.0959      14.3106   22.3032\n",
       "  5.55149    9.67656     15.4083   21.7582\n",
       "  4.55779   10.4101      14.157    22.1102\n",
       "  4.51482    7.51202     13.3573   22.7069\n",
       "  3.34396    5.32894     13.1145   21.8225\n",
       "  2.81981    3.82406     12.3748   21.5073\n",
       "  2.50916    3.72335     11.1973   22.0895\n",
       "  ⋮                                       \n",
       "  0.637077   0.295775     8.51986  22.2206\n",
       "  0.712172   0.176286    10.765    22.2802\n",
       "  0.439509   0.132965    10.2493   22.235 \n",
       "  0.537207   0.0761881    8.86024  22.2683\n",
       "  0.485002   0.0743431   10.3871   22.2536\n",
       "  0.534609   0.0182856    8.40184  22.3509\n",
       "  0.504732   0.0         10.2257   22.239 \n",
       "  0.404462   0.0151497    9.98441  22.1843\n",
       "  0.514852   0.00969959   9.31209  22.0992\n",
       "  0.299971   0.0399999    8.76425  22.211 \n",
       "  0.314285   0.029669     9.33324  22.2085\n",
       "  0.225165   0.0352509   10.0292   22.1538"
      ]
     },
     "execution_count": 38,
     "metadata": {},
     "output_type": "execute_result"
    }
   ],
   "source": [
    "S=[resultado12 resultado13 resultado14 resultado15]"
   ]
  },
  {
   "cell_type": "code",
   "execution_count": 48,
   "metadata": {
    "collapsed": false
   },
   "outputs": [
    {
     "data": {
      "image/png": "[encoded data removed]",
      "text/plain": [
       "PyPlot.Figure(PyObject <matplotlib.figure.Figure object at 0x00000000539F1748>)"
      ]
     },
     "metadata": {},
     "output_type": "display_data"
    },
    {
     "data": {
      "text/plain": [
       "4-element Array{PyCall.PyObject,1}:\n",
       " PyObject <matplotlib.lines.Line2D object at 0x0000000053BBB860>\n",
       " PyObject <matplotlib.lines.Line2D object at 0x0000000053BBB908>\n",
       " PyObject <matplotlib.lines.Line2D object at 0x0000000053BBB9B0>\n",
       " PyObject <matplotlib.lines.Line2D object at 0x0000000053BBBA58>"
      ]
     },
     "execution_count": 48,
     "metadata": {},
     "output_type": "execute_result"
    }
   ],
   "source": [
    "plot(1:1:40,S)"
   ]
  },
  {
   "cell_type": "code",
   "execution_count": null,
   "metadata": {
    "collapsed": true
   },
   "outputs": [],
   "source": [
    "#resultado13: medir el error promedio(50 0bs) viendo 1 obs 2, ,..., 20 obs con delta = 0.1 \n",
    "resultado13 = evaluarGraphLearning6(0.7,0.3,0.1)"
   ]
  },
  {
   "cell_type": "code",
   "execution_count": null,
   "metadata": {
    "collapsed": true
   },
   "outputs": [],
   "source": [
    "#resultado14: medir el error promedio(50 0bs) viendo 1 obs 2, ,..., 20 obs con delta = 1.1\n",
    "resultado14 = evaluarGraphLearning6(0.7,0.3,1.1)"
   ]
  },
  {
   "cell_type": "code",
   "execution_count": null,
   "metadata": {
    "collapsed": true
   },
   "outputs": [],
   "source": [
    "#resultado15: medir el error promedio(50 0bs) viendo 1 obs 2, ,..., 20 obs con delta = 1.4\n",
    "resultado15 = evaluarGraphLearning6(0.7,0.3,1.4)"
   ]
  },
  {
   "cell_type": "markdown",
   "metadata": {
    "collapsed": true
   },
   "source": [
    "<h1> 4) Robust PCA vs Graph learning simulations<h1>"
   ]
  },
  {
   "cell_type": "markdown",
   "metadata": {},
   "source": [
    "<h1>Funciones<h1>"
   ]
  },
  {
   "cell_type": "code",
   "execution_count": 4,
   "metadata": {
    "collapsed": false
   },
   "outputs": [
    {
     "data": {
      "text/latex": [
       " El conjunto sobre el que optimizamos es:\n",
       "$ O = \\{\\lambda,S_1,..,S_N,Z^{1},..,Z^{N},C^{1},...,C^{N},W,W_1,W_2 \\}\\subseteq \\mathbb{R}\\times \\mathbb{R}^N\n",
       "\\times Sim^2(\\mathbb{R}^n)^N \\times Sim^2(\\mathbb{R}^n)^N \\times Sim^2(\\mathbb{R}^)^3\n",
       "$"
      ]
     },
     "metadata": {},
     "output_type": "display_data"
    }
   ],
   "source": [
    "using NBInclude\n",
    "using PyPlot\n",
    "#In this script, we include some examples to test the robust pca method for graph clustering\n",
    "#and the graph learning methods. Then we compare these two methods using the Erdos-Ranyi random graph\n",
    "#model.\n",
    "nbinclude(\"Robust PCA.ipynb\")\n",
    "nbinclude(\"GraphLearning.ipynb\")"
   ]
  },
  {
   "cell_type": "code",
   "execution_count": 2,
   "metadata": {
    "collapsed": false
   },
   "outputs": [
    {
     "data": {
      "text/plain": [
       "evaluarGraphLearning2 (generic function with 1 method)"
      ]
     },
     "execution_count": 2,
     "metadata": {},
     "output_type": "execute_result"
    }
   ],
   "source": [
    "function evaluarGraphLearning2(delta,observaciones)\n",
    "    real = erdosgraph([1,1,1],0,[5,3,4],12)\n",
    "    lala=zeros(9,9)\n",
    "    indicet=1\n",
    "    for t in 1:-0.05:0.6\n",
    "        indicew=1\n",
    "        for w in 0:0.05:0.4\n",
    "            contador=0\n",
    "            for u in 1:30\n",
    "                B=Array{Any}(observaciones)\n",
    "                [B[r]=erdosgraph([t,1,1],w,[5,3,4],12) for r in 1:observaciones]\n",
    "                respuesta=learnGraph(ones(observaciones)/observaciones,0.3,B,12,observaciones)\n",
    "                errorGrafo = distance1(real,respuesta[1])\n",
    "                contador=contador+errorGrafo\n",
    "            end\n",
    "        println(contador/30)\n",
    "            lala[indicet,indicew]=contador/30\n",
    "        indicew=indicew+1\n",
    "        end\n",
    "    indicet=indicet+1\n",
    "    end\n",
    "    println(lala)\n",
    "    return(lala)\n",
    "end"
   ]
  },
  {
   "cell_type": "code",
   "execution_count": 12,
   "metadata": {
    "collapsed": false
   },
   "outputs": [
    {
     "data": {
      "text/plain": [
       "evaluarGraphLearning3 (generic function with 1 method)"
      ]
     },
     "execution_count": 12,
     "metadata": {},
     "output_type": "execute_result"
    }
   ],
   "source": [
    "# evalua el modelo variando la probabilidad intra cluster y outra cluster. cada simulacion toma unos 3 minutos\n",
    "# y resuelve 2400 problemas de optimizacion aprox. Evaluar graph learning 3 pone un 1 en las diagonales de las matrices.\n",
    "function evaluarGraphLearning3(delta,observaciones)\n",
    "    real = erdosgraph([1,1,1],0,[5,3,4],12)+diagm(ones(12))\n",
    "    lala=zeros(9,9)\n",
    "    indicet=1\n",
    "     for t in 1:-0.05:0.6\n",
    "        indicew=1\n",
    "        for w in 0:0.05:0.4\n",
    "            contador=0\n",
    "            for u in 1:30\n",
    "                B=Array{Any}(observaciones)\n",
    "                [B[r]=erdosgraph([t,1,1],w,[5,3,4],12)+diagm(ones(12)) for r in 1:observaciones]\n",
    "                respuesta=learnGraph(ones(observaciones)/observaciones,delta,B,12,observaciones)\n",
    "                errorGrafo = distance1(real,respuesta[1])\n",
    "                contador=contador+errorGrafo\n",
    "            end\n",
    "        println(contador/30)\n",
    "            lala[indicet,indicew]=contador/30\n",
    "        indicew=indicew+1\n",
    "        end\n",
    "    indicet=indicet+1\n",
    "    end\n",
    "    println(lala)\n",
    "    return(lala)\n",
    "end"
   ]
  },
  {
   "cell_type": "code",
   "execution_count": 63,
   "metadata": {
    "collapsed": false
   },
   "outputs": [
    {
     "data": {
      "text/plain": [
       "evaluarGraphLearning4 (generic function with 2 methods)"
      ]
     },
     "execution_count": 63,
     "metadata": {},
     "output_type": "execute_result"
    }
   ],
   "source": [
    "#Evaluar graph learning 4 permite variar delta y encontrar errores promedio al ir moviendo el radio de la bola de la metrica\n",
    "#de Wasserstein.\n",
    "function evaluarGraphLearning4(inProba,outProba,observaciones,intervalo=0.01:0.04:2.0)\n",
    "    real = erdosgraph([1,1,1],0,[5,3,4],12)+diagm(ones(12))\n",
    "    lala=Array{Any}(length(intervalo))\n",
    "    indicet=1\n",
    "    for t in intervalo\n",
    "            contador=0\n",
    "            for u in 1:120\n",
    "                B=Array{Any}(observaciones)\n",
    "                [B[r]=erdosgraph([inProba,1,1],outProba,[5,3,4],12)+diagm(ones(12)) for r in 1:observaciones]\n",
    "                respuesta=learnGraph(ones(observaciones)/observaciones,t,B,12,observaciones)\n",
    "                errorGrafo = distance1(real,respuesta[1])\n",
    "                contador=contador+errorGrafo\n",
    "            end\n",
    "            lala[indicet]=contador/120\n",
    "            indicet=indicet+1\n",
    "    end\n",
    "    return([lala,intervalo])\n",
    "end"
   ]
  },
  {
   "cell_type": "code",
   "execution_count": null,
   "metadata": {
    "collapsed": true
   },
   "outputs": [],
   "source": []
  },
  {
   "cell_type": "code",
   "execution_count": 4,
   "metadata": {
    "collapsed": false
   },
   "outputs": [
    {
     "data": {
      "text/plain": [
       "evaluarGraphLearning5 (generic function with 1 method)"
      ]
     },
     "execution_count": 4,
     "metadata": {},
     "output_type": "execute_result"
    }
   ],
   "source": [
    "function evaluarGraphLearning5(observaciones,radio,n,tolerancia)\n",
    "    A=zeros(10,8)\n",
    "    contai=0\n",
    "    for i in 10:10:100\n",
    "        contaj=1\n",
    "        real = erdosgraph2([1,1],0,[i,i],n)\n",
    "        for j in 0.6:0.05:0.95\n",
    "            for u in 1:20\n",
    "                B=Array{Any}(observaciones)\n",
    "                [B[r]=erdosgraph2([j,j],0.1,[i,i],n)+diagm(ones(n)) for r in 1:observaciones]\n",
    "                respuesta=learnGraph(ones(observaciones)/observaciones,radio,B,n,observaciones)\n",
    "                comparar = round.(respuesta[1])\n",
    "                errorGrafo = distance1(real,comparar)\n",
    "                if errorGrafo<=tolerancia\n",
    "                contador=contador+1\n",
    "                    end               \n",
    "            end\n",
    "            A[n-i,j]=contador/20\n",
    "            contaj = contaj+1\n",
    "        end\n",
    "        contai=contai+1\n",
    "    end\n",
    "    return(A)\n",
    "end                "
   ]
  },
  {
   "cell_type": "code",
   "execution_count": 57,
   "metadata": {
    "collapsed": false
   },
   "outputs": [
    {
     "data": {
      "text/plain": [
       "evaluarGraphLearning6 (generic function with 1 method)"
      ]
     },
     "execution_count": 57,
     "metadata": {},
     "output_type": "execute_result"
    }
   ],
   "source": [
    "#evaluarGraphLearning6 es una funcion que mide el error de recuperaciones al variar el numero de observaciones.\n",
    "#el radio de la bola se varia a varios niveles. Se compara con el modelo de promedios.\n",
    "\n",
    "function evaluarGraphLearning6(inProba,outProba,delta)\n",
    "    real = erdosgraph([1,1,1],0,[5,3,4],12)+diagm(ones(12))\n",
    "       lala= Array{Any}(30)\n",
    "    indicet=1\n",
    "    for t in 1:30\n",
    "            contador=0\n",
    "            for u in 1:50\n",
    "                B=Array{Any}(t)\n",
    "                [B[r]=erdosgraph([inProba,1,1],outProba,[5,3,4],12)+diagm(ones(12)) for r in 1:t]\n",
    "                respuesta=learnGraph(ones(t)/t,delta,B,12,t)\n",
    "                errorGrafo = distance1(real,respuesta[1])\n",
    "                contador=contador+errorGrafo\n",
    "            end\n",
    "            lala[indicet]=contador/50\n",
    "            indicet=indicet+1\n",
    "    end\n",
    "    return(lala)\n",
    "end"
   ]
  },
  {
   "cell_type": "code",
   "execution_count": null,
   "metadata": {
    "collapsed": true
   },
   "outputs": [],
   "source": [
    "#funciones para evaluar la calidad de la recuperacion usando promedios\n",
    "\n",
    "#method for matrix recovery using the mean of the observations. \n",
    "#B the observations to recover the graph\n",
    "#n dimension of the adjacency matrices\n",
    "#N number of observations\n",
    "\n",
    "\n",
    "function EvaluarPromedios(inProba,outProba)\n",
    "    real = erdosgraph([1,1,1],0,[5,3,4],12)+diagm(ones(12))\n",
    "       lala= Array{Any}(30)\n",
    "    indicet=1\n",
    "    for t in 1:30\n",
    "            contador=0\n",
    "            for u in 1:50\n",
    "                B=Array{Any}(t)\n",
    "                [B[r]=erdosgraph([inProba,1,1],outProba,[5,3,4],12)+diagm(ones(12)) for r in 1:t]\n",
    "            respuesta= sum(B)/t\n",
    "                errorGrafo = distance1(real,respuesta)\n",
    "                contador=contador+errorGrafo\n",
    "            end\n",
    "            lala[indicet]=contador/50\n",
    "            indicet=indicet+1\n",
    "    end\n",
    "    return(lala)\n",
    "end\n"
   ]
  },
  {
   "cell_type": "code",
   "execution_count": null,
   "metadata": {
    "collapsed": true
   },
   "outputs": [],
   "source": [
    "#Evaluar metodo es la funcion principal. Asume que recibimos una matriz de erdos 13*13 de la que conocemos la verdadera\n",
    "#estructura de clusters.\n",
    "\n",
    "function EvaluarRPCA()\n",
    "    real = erdosgraph([1,1,1],0,[5,3,4],12)\n",
    "    real=real+diagm(ones(12))\n",
    "    estimaciones = zeros()\n",
    "    indicei=1\n",
    "    indicej=1\n",
    "    for i in [1,0.9,0.8,0.75,0.7,0.65,0.6]\n",
    "        println(indicei)\n",
    "        for j in [0,0.1,0.2,0.2,0.4]\n",
    "            contador=0\n",
    "            for l in 1:10\n",
    "                respuesta=rpca(erdosgraph([i,0.9,1],j,[5,3,4],12)+diagm(ones(12)),0.6,1.6,1.0e-7,1.0e-5,7000)\n",
    "                errorGrafo = distance1(real,respuesta[1])\n",
    "                if(errorGrafo==0)\n",
    "                    contador=contador+1\n",
    "                end\n",
    "            end\n",
    "            estimaciones[indicei,indicej]=contador/10\n",
    "            indicej=indicej+1\n",
    "        end\n",
    "        indicei=indicei+1\n",
    "    end\n",
    "    return(estimaciones)\n",
    "end\n",
    "\n",
    "\n",
    "\n"
   ]
  },
  {
   "cell_type": "code",
   "execution_count": 5,
   "metadata": {
    "collapsed": false
   },
   "outputs": [
    {
     "data": {
      "text/plain": [
       "erdosgraph2 (generic function with 1 method)"
      ]
     },
     "execution_count": 5,
     "metadata": {},
     "output_type": "execute_result"
    }
   ],
   "source": [
    "function erdosgraph2(probabilities,q,sizes,n)\n",
    "    A= zeros(n,n)\n",
    "    for r in 1:n\n",
    "        for w in r+1:n\n",
    "            rand0 = rand()\n",
    "            if(rand0<=q)\n",
    "                A[r,w]=1\n",
    "            end\n",
    "        end\n",
    "    end    \n",
    "    for i in 1:sizes[1]-1\n",
    "        for j in i+1: sizes[1]\n",
    "            rand1=rand()\n",
    "            if(rand1<=probabilities[1])\n",
    "                A[i,j]=1\n",
    "            else\n",
    "                A[i,j]=0\n",
    "            end\n",
    "        end\n",
    "    end\n",
    "    for k in sizes[1]+1:sizes[1]+sizes[2]-1\n",
    "        for l in k+1: sizes[1]+sizes[2]\n",
    "            rand2=rand()\n",
    "            if(rand2<=probabilities[2])\n",
    "                A[k,l]=1\n",
    "            else\n",
    "                A[k,l]=0\n",
    "            end\n",
    "        end\n",
    "    end\n",
    "    return(A+A')\n",
    "end\n"
   ]
  },
  {
   "cell_type": "markdown",
   "metadata": {},
   "source": [
    "<h1> 1) Robust PCA examples<h1>"
   ]
  },
  {
   "cell_type": "markdown",
   "metadata": {},
   "source": [
    "<h3>Test of finding sparse + low rank<h3>\n"
   ]
  },
  {
   "cell_type": "code",
   "execution_count": null,
   "metadata": {
    "collapsed": true
   },
   "outputs": [],
   "source": [
    "A=testMethod(7,4,2,0.1)\n",
    "A[1]\n",
    "A[2]\n",
    "A[3]\n",
    "A[4]\n",
    "ejemploObs= [0 1 1 0 0 0;1 0 1 1 0 0; 1 1 0 0 0 0; 0 1 0 0 1  1; 0 0 0 1 0 1; 0 0 0 1  1 0]\n",
    "ejemploReal=[0 1 1 0 0 0;1 0 1 0 0 0; 1 1 0 0 0 0; 0 0 0 0 1  1; 0 0 0 1 0 1; 0 0 0 1  1 0]\n",
    "I=diagm(ones(6))\n",
    "ejemplo1=ejemploObs+I\n",
    "respuesta=rpca(ejemplo1+diagm(ones(10)),0.6,1.6,1.0e-7,1.0e-5,10000)\n",
    "roundZeroMatrix(respuesta[1])\n",
    "roundZeroMatrix(respuesta[2])"
   ]
  },
  {
   "cell_type": "code",
   "execution_count": null,
   "metadata": {
    "collapsed": false
   },
   "outputs": [],
   "source": [
    "tic()\n",
    "res1=evaluarGraphLearning5(1,1.4,200,3)\n",
    "toc()"
   ]
  },
  {
   "cell_type": "code",
   "execution_count": null,
   "metadata": {
    "collapsed": false
   },
   "outputs": [],
   "source": [
    "imshow(res1)"
   ]
  },
  {
   "cell_type": "code",
   "execution_count": null,
   "metadata": {
    "collapsed": false
   },
   "outputs": [],
   "source": [
    "res2=evaluarGraphLearning5(4,0.8,200,3)"
   ]
  },
  {
   "cell_type": "code",
   "execution_count": null,
   "metadata": {
    "collapsed": false
   },
   "outputs": [],
   "source": [
    "imshow(res2)"
   ]
  },
  {
   "cell_type": "code",
   "execution_count": null,
   "metadata": {
    "collapsed": false
   },
   "outputs": [],
   "source": [
    "res3=evaluarGraphLearning5(8,0.8,200,3)"
   ]
  },
  {
   "cell_type": "code",
   "execution_count": null,
   "metadata": {
    "collapsed": false
   },
   "outputs": [],
   "source": [
    "imshow(res3)"
   ]
  },
  {
   "cell_type": "code",
   "execution_count": null,
   "metadata": {
    "collapsed": false
   },
   "outputs": [],
   "source": [
    "res4=evaluarGraphLearning5(8,0.8,200,1)"
   ]
  },
  {
   "cell_type": "code",
   "execution_count": null,
   "metadata": {
    "collapsed": false
   },
   "outputs": [],
   "source": [
    "imshow(res4)"
   ]
  },
  {
   "cell_type": "code",
   "execution_count": null,
   "metadata": {
    "collapsed": false
   },
   "outputs": [],
   "source": [
    "res4=evaluarGraphLearning5(15,0.8,200,1)"
   ]
  },
  {
   "cell_type": "code",
   "execution_count": null,
   "metadata": {
    "collapsed": false
   },
   "outputs": [],
   "source": [
    "erdosgraph2([1,1],0.1,[5,7],200)"
   ]
  },
  {
   "cell_type": "code",
   "execution_count": null,
   "metadata": {
    "collapsed": true
   },
   "outputs": [],
   "source": []
  },
  {
   "cell_type": "code",
   "execution_count": null,
   "metadata": {
    "collapsed": false
   },
   "outputs": [],
   "source": [
    "b1=Array{Any}(4)\n",
    "[b1[4]=erdosgraph([0.8,1,1],0.1,[5,3,4],12) for r in 1:4]\n",
    "respuesta=learnGraph(ones(4)/4,0.3,b1,12,4)"
   ]
  },
  {
   "cell_type": "code",
   "execution_count": 56,
   "metadata": {
    "collapsed": false
   },
   "outputs": [
    {
     "data": {
      "text/plain": [
       "40×2 Array{Float64,2}:\n",
       " 32.96        32.9591  \n",
       " 28.4323      27.1476  \n",
       " 26.76        21.4463  \n",
       " 18.9163      15.5074  \n",
       " 18.0         11.7653  \n",
       " 11.3331       8.99585 \n",
       " 15.0959       7.32435 \n",
       "  9.67656      5.55149 \n",
       " 10.4101       4.55779 \n",
       "  7.51202      4.51482 \n",
       "  5.32894      3.34396 \n",
       "  3.82406      2.81981 \n",
       "  3.72335      2.50916 \n",
       "  ⋮                    \n",
       "  0.295775     0.637077\n",
       "  0.176286     0.712172\n",
       "  0.132965     0.439509\n",
       "  0.0761881    0.537207\n",
       "  0.0743431    0.485002\n",
       "  0.0182856    0.534609\n",
       "  0.0          0.504732\n",
       "  0.0151497    0.404462\n",
       "  0.00969959   0.514852\n",
       "  0.0399999    0.299971\n",
       "  0.029669     0.314285\n",
       "  0.0352509    0.225165"
      ]
     },
     "execution_count": 56,
     "metadata": {},
     "output_type": "execute_result"
    }
   ],
   "source": [
    "bleb = [ bleb resultado12]"
   ]
  },
  {
   "cell_type": "code",
   "execution_count": null,
   "metadata": {
    "collapsed": true
   },
   "outputs": [],
   "source": []
  }
 ],
 "metadata": {
  "kernelspec": {
   "display_name": "Julia 0.6.0",
   "language": "julia",
   "name": "julia-0.6"
  },
  "language_info": {
   "file_extension": ".jl",
   "mimetype": "application/julia",
   "name": "julia",
   "version": "0.6.0"
  }
 },
 "nbformat": 4,
 "nbformat_minor": 0
}
