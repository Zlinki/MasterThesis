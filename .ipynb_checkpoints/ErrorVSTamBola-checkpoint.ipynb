{
 "cells": [
  {
   "cell_type": "code",
   "execution_count": null,
   "metadata": {
    "collapsed": true
   },
   "outputs": [],
   "source": [
    "#Script para evaluar el cambio del error a medida que varia el tamano de la bola de la metrica de wasserstein\n",
    "# manteniendo el numero de observaciones fijas.\n",
    "\n",
    "#todos los test son genericos: grafos de 20 vertices con dos clusters de tamano 12 y 8 resp. con proba intracluster\n",
    "# 0.6 y proba outracluster 0.2. Para cada valor de tamano de bola, se recupera 10 veces y se promedia el error."
   ]
  },
  {
   "cell_type": "code",
   "execution_count": null,
   "metadata": {
    "collapsed": false
   },
   "outputs": [],
   "source": [
    "using NBInclude\n",
    "using PyPlot\n",
    "nbinclude(\"AuxFunctions.ipynb\")\n",
    "nbinclude(\"GraphLearning.ipynb\")\n",
    "\n",
    "#nbinclude(\"LowRankRecovery.ipynb\")"
   ]
  },
  {
   "cell_type": "markdown",
   "metadata": {},
   "source": [
    "<h2>recuperacion espectral<h2>"
   ]
  },
  {
   "cell_type": "code",
   "execution_count": null,
   "metadata": {
    "collapsed": true
   },
   "outputs": [],
   "source": [
    "resultadoEspectral0=evaluarspectralGraphLearning4(0.6,0.2,1,0.01:0.1:5.0)"
   ]
  },
  {
   "cell_type": "code",
   "execution_count": null,
   "metadata": {
    "collapsed": false
   },
   "outputs": [],
   "source": [
    "plot(resultadoEspectral0[2],resultadoEspectral0[1])\n",
    "p = zeros(length(resultadoEspectral0[2]))\n",
    "plot(resultadoEspectral0[2],p,label=\"Error de recuperacion espectral 1 obs\")\n",
    "grid(\"on\")\n",
    "legend(bbox_to_anchor=[1.05,1],loc=2,borderaxespad=0)"
   ]
  },
  {
   "cell_type": "code",
   "execution_count": null,
   "metadata": {
    "collapsed": true
   },
   "outputs": [],
   "source": [
    "resultadoEspectral3=evaluarspectralGraphLearning4(0.6,0.2,3,0.01:0.1:5.0)"
   ]
  },
  {
   "cell_type": "code",
   "execution_count": null,
   "metadata": {
    "collapsed": true
   },
   "outputs": [],
   "source": [
    "plot(resultadoEspectral3[2],resultadoEspectral3[1])\n",
    "p = zeros(length(resultadoEspectral3[2]))\n",
    "plot(resultadoEspectral3[2],p,label=\"Error de recuperacion espectral 2 obs\")\n",
    "grid(\"on\")\n",
    "legend(bbox_to_anchor=[1.05,1],loc=2,borderaxespad=0)"
   ]
  },
  {
   "cell_type": "code",
   "execution_count": null,
   "metadata": {
    "collapsed": true
   },
   "outputs": [],
   "source": [
    "resultadoEspectral1=evaluarspectralGraphLearning4(0.6,0.2,3,0.01:0.1:5.0)"
   ]
  },
  {
   "cell_type": "code",
   "execution_count": null,
   "metadata": {
    "collapsed": false
   },
   "outputs": [],
   "source": [
    "plot(resultadoEspectral1[2],resultadoEspectral1[1])\n",
    "p = zeros(length(resultadoEspectral1[2]))\n",
    "plot(resultadoEspectral1[2],p,label=\"Error de recuperacion espectral 3 obs\")\n",
    "grid(\"on\")\n",
    "legend(bbox_to_anchor=[1.05,1],loc=2,borderaxespad=0)"
   ]
  },
  {
   "cell_type": "code",
   "execution_count": null,
   "metadata": {
    "collapsed": true
   },
   "outputs": [],
   "source": [
    "resultadoEspectral2=evaluarspectralGraphLearning4(0.6,0.2,7,0.01:0.1:5.0)"
   ]
  },
  {
   "cell_type": "code",
   "execution_count": null,
   "metadata": {
    "collapsed": false
   },
   "outputs": [],
   "source": [
    "plot(resultadoEspectral2[2],resultadoEspectral2[1],label=\"Error de recuperacion espectral 7 obs\")\n",
    "p = zeros(length(resultadoEspectral2[2]))\n",
    "plot(resultadoEspectral2[2],p,label=\"RecuperacionUsual\")\n",
    "grid(\"on\")\n",
    "legend(bbox_to_anchor=[1.05,1],loc=2,borderaxespad=0)"
   ]
  },
  {
   "cell_type": "markdown",
   "metadata": {},
   "source": [
    "<h2>recuperacion l2<h2>"
   ]
  },
  {
   "cell_type": "code",
   "execution_count": null,
   "metadata": {
    "collapsed": true
   },
   "outputs": [],
   "source": [
    "resultadol20=evaluarl2GraphLearning4(0.6,0.2,1,0.01:0.003:0.5)"
   ]
  },
  {
   "cell_type": "code",
   "execution_count": null,
   "metadata": {
    "collapsed": false
   },
   "outputs": [],
   "source": [
    "length(0.01:0.003:0.5)"
   ]
  },
  {
   "cell_type": "code",
   "execution_count": null,
   "metadata": {
    "collapsed": false
   },
   "outputs": [],
   "source": [
    "plot(resultadol20[2],resultadol20[1])\n",
    "p = zeros(length(resultadol20[2]))\n",
    "plot(resultadol20[2],p,label=\"Error de recuperacion l2 1 obs\")\n",
    "grid(\"on\")\n",
    "legend(bbox_to_anchor=[1.05,1],loc=2,borderaxespad=0)"
   ]
  },
  {
   "cell_type": "code",
   "execution_count": null,
   "metadata": {
    "collapsed": true
   },
   "outputs": [],
   "source": [
    "resultadol21=evaluarl2GraphLearning4(0.6,0.2,3,0.01:0.003:0.5)"
   ]
  },
  {
   "cell_type": "code",
   "execution_count": null,
   "metadata": {
    "collapsed": false
   },
   "outputs": [],
   "source": [
    "plot(resultadol21[2],resultadol21[1])\n",
    "p = zeros(length(resultadol21[2]))\n",
    "plot(resultadol21[2],p,label=\"Error de recuperacion l2 3 obs\")\n",
    "grid(\"on\")\n",
    "legend(bbox_to_anchor=[1.05,1],loc=2,borderaxespad=0)"
   ]
  },
  {
   "cell_type": "code",
   "execution_count": null,
   "metadata": {
    "collapsed": true
   },
   "outputs": [],
   "source": [
    "resultadol22=evaluarl2GraphLearning4(0.6,0.2,7,0.01:0.003:0.5)"
   ]
  },
  {
   "cell_type": "code",
   "execution_count": null,
   "metadata": {
    "collapsed": false
   },
   "outputs": [],
   "source": [
    "plot(resultadol22[2],resultadol22[1])\n",
    "p = zeros(length(resultadol22[2]))\n",
    "plot(resultadol22[2],p,label=\"Error de recuperacion l2 7 obs\")\n",
    "grid(\"on\")\n",
    "legend(bbox_to_anchor=[1.05,1],loc=2,borderaxespad=0)"
   ]
  },
  {
   "cell_type": "code",
   "execution_count": null,
   "metadata": {
    "collapsed": true
   },
   "outputs": [],
   "source": [
    "resultadol23=evaluarl2GraphLearning4(0.6,0.2,10,0:0.0003:0.1)"
   ]
  },
  {
   "cell_type": "code",
   "execution_count": null,
   "metadata": {
    "collapsed": false
   },
   "outputs": [],
   "source": [
    "plot(resultadol23[2],resultadol23[1])\n",
    "p = zeros(length(resultadol23[2]))\n",
    "plot(resultadol23[2],p,label=\"Error de recuperacion l2 10 obs\")\n",
    "grid(\"on\")\n",
    "legend(bbox_to_anchor=[1.05,1],loc=2,borderaxespad=0)"
   ]
  },
  {
   "cell_type": "markdown",
   "metadata": {},
   "source": [
    "<h3>Recuperacion lineal<h3>"
   ]
  },
  {
   "cell_type": "code",
   "execution_count": null,
   "metadata": {
    "collapsed": true
   },
   "outputs": [],
   "source": [
    "tic()\n",
    "VarRad1 = evaluarLinearGraphLearning4(0.8,0.1,10,0.01:0.1:21)\n",
    "toc()"
   ]
  },
  {
   "cell_type": "code",
   "execution_count": null,
   "metadata": {
    "collapsed": false
   },
   "outputs": [],
   "source": [
    "plot(VarRad1[2],VarRad1[1])\n",
    "p = zeros(length(VarRad1[2]))\n",
    "plot(VarRad1[2],p,label=\"Error de recuperacion lineal 3 obs\")\n",
    "grid(\"on\")\n",
    "legend(bbox_to_anchor=[1.05,1],loc=2,borderaxespad=0)"
   ]
  },
  {
   "cell_type": "markdown",
   "metadata": {},
   "source": [
    "<h3>Recuperacion regularizada<h3>"
   ]
  },
  {
   "cell_type": "code",
   "execution_count": null,
   "metadata": {
    "collapsed": true
   },
   "outputs": [],
   "source": [
    "#4.03 min\n",
    "tic()\n",
    "resultadoReg1=evaluarRegularized2AGraphLearning4(0.6,0.2,3,0.01:0.1:5.0)\n",
    "toc()"
   ]
  },
  {
   "cell_type": "code",
   "execution_count": null,
   "metadata": {
    "collapsed": true
   },
   "outputs": [],
   "source": [
    "#3.6 min\n",
    "tic()\n",
    "resultadoReg2=evaluarRegularizedAGraphLearning4(0.6,0.2,3,0.01:0.1:5.0)\n",
    "toc()"
   ]
  },
  {
   "cell_type": "code",
   "execution_count": null,
   "metadata": {
    "collapsed": true
   },
   "outputs": [],
   "source": [
    "#4.3 min\n",
    "tic()\n",
    "resultadoEspectral=evaluarspectralGraphLearning4(0.6,0.2,3,0.01:0.1:5.0)\n",
    "toc()"
   ]
  },
  {
   "cell_type": "code",
   "execution_count": null,
   "metadata": {
    "collapsed": false,
    "scrolled": false
   },
   "outputs": [],
   "source": [
    "interval= resultadoReg1[2]\n",
    "plot(interval,resultadoReg1[1],label=\"recuperacion regularizada con 2A-11^t, 3 observaciones\")\n",
    "p = zeros(length(interval))\n",
    "plot(interval,p,label=\"y=0, matrices dificiles\")\n",
    "plot(interval,resultadoReg2[1],label=\"recuperacion regularizada con A, 3 observaciones\")\n",
    "plot(interval,resultadoEspectral[1],label=\"recuperacion espectral, 3 observaciones\")\n",
    "grid(\"on\")\n",
    "legend(bbox_to_anchor=[1.05,1],loc=2,borderaxespad=0)"
   ]
  },
  {
   "cell_type": "code",
   "execution_count": null,
   "metadata": {
    "collapsed": true
   },
   "outputs": [],
   "source": []
  },
  {
   "cell_type": "markdown",
   "metadata": {},
   "source": [
    "<h4>Que interesante. Veamos que pasa con grafos mas faciles de recuperar.<h4>"
   ]
  },
  {
   "cell_type": "code",
   "execution_count": null,
   "metadata": {
    "collapsed": true
   },
   "outputs": [],
   "source": [
    "#3.4 min\n",
    "tic()\n",
    "resultadoReg1=evaluarRegularized2AGraphLearning4(0.77,0.1,3,0.01:0.1:5.0)\n",
    "toc()"
   ]
  },
  {
   "cell_type": "code",
   "execution_count": null,
   "metadata": {
    "collapsed": true
   },
   "outputs": [],
   "source": [
    "#3.7 min\n",
    "tic()\n",
    "resultadoReg2=evaluarRegularizedAGraphLearning4(0.77,0.1,3,0.01:0.1:5.0)\n",
    "toc()"
   ]
  },
  {
   "cell_type": "code",
   "execution_count": null,
   "metadata": {
    "collapsed": true
   },
   "outputs": [],
   "source": [
    "#3.4 min\n",
    "tic()\n",
    "resultadoEspectral=evaluarspectralGraphLearning4(0.77,0.1,3,0.01:0.1:5.0)\n",
    "toc()"
   ]
  },
  {
   "cell_type": "code",
   "execution_count": null,
   "metadata": {
    "collapsed": false
   },
   "outputs": [],
   "source": [
    "interval= resultadoReg1[2]\n",
    "plot(interval,resultadoReg1[1],label=\"recuperacion regularizada con 2A-11^t, 3 observaciones\")\n",
    "p = zeros(length(interval))\n",
    "plot(interval,p,label=\"y=0,matrices faciles\")\n",
    "plot(interval,resultadoReg2[1],label=\"recuperacion regularizada con A, 3 observaciones\")\n",
    "plot(interval,resultadoEspectral[1],label=\"recuperacion espectral, 3 observaciones\")\n",
    "grid(\"on\")\n",
    "legend(bbox_to_anchor=[1.05,1],loc=2,borderaxespad=0)"
   ]
  },
  {
   "cell_type": "code",
   "execution_count": null,
   "metadata": {
    "collapsed": true
   },
   "outputs": [],
   "source": []
  },
  {
   "cell_type": "markdown",
   "metadata": {},
   "source": [
    "<h4>Volvamos a los grafos mas dificiles pero con mas observaciones<h4>"
   ]
  },
  {
   "cell_type": "code",
   "execution_count": null,
   "metadata": {
    "collapsed": true
   },
   "outputs": [],
   "source": [
    "#3.4 min\n",
    "tic()\n",
    "resultadoReg1=evaluarRegularized2AGraphLearning4(0.6,0.2,7,0.01:0.1:5.0)\n",
    "toc()"
   ]
  },
  {
   "cell_type": "code",
   "execution_count": null,
   "metadata": {
    "collapsed": true
   },
   "outputs": [],
   "source": [
    "#3.7 min\n",
    "tic()\n",
    "resultadoReg2=evaluarRegularizedAGraphLearning4(0.6,0.2,7,0.01:0.1:5.0)\n",
    "toc()"
   ]
  },
  {
   "cell_type": "code",
   "execution_count": null,
   "metadata": {
    "collapsed": true
   },
   "outputs": [],
   "source": [
    "#3.4 min\n",
    "tic()\n",
    "resultadoEspectral=evaluarspectralGraphLearning4(0.6,0.2,7,0.01:0.1:5.0)\n",
    "toc()"
   ]
  },
  {
   "cell_type": "code",
   "execution_count": null,
   "metadata": {
    "collapsed": false
   },
   "outputs": [],
   "source": [
    "interval= resultadoReg1[2]\n",
    "plot(interval,resultadoReg1[1],label=\"recuperacion regularizada con 2A-11^t, 7 observaciones\")\n",
    "p = zeros(length(interval))\n",
    "plot(interval,p,label=\"y=0\")\n",
    "plot(interval,resultadoReg2[1],label=\"recuperacion regularizada con A, 7 observaciones\")\n",
    "plot(interval,resultadoEspectral[1],label=\"recuperacion espectral, 7 observaciones\")\n",
    "grid(\"on\")\n",
    "legend(bbox_to_anchor=[1.05,1],loc=2,borderaxespad=0)"
   ]
  },
  {
   "cell_type": "markdown",
   "metadata": {},
   "source": [
    "<h4>Veamos que pasa con una sola observacion dificil<h4>"
   ]
  },
  {
   "cell_type": "code",
   "execution_count": null,
   "metadata": {
    "collapsed": true
   },
   "outputs": [],
   "source": [
    "\n",
    "tic()\n",
    "resultadoReg1=evaluarRegularized2AGraphLearning4(0.6,0.2,1,0.01:0.1:5.0)\n",
    "toc()"
   ]
  },
  {
   "cell_type": "code",
   "execution_count": null,
   "metadata": {
    "collapsed": true
   },
   "outputs": [],
   "source": [
    "\n",
    "tic()\n",
    "resultadoReg2=evaluarRegularizedAGraphLearning4(0.6,0.2,1,0.01:0.1:5.0)\n",
    "toc()"
   ]
  },
  {
   "cell_type": "code",
   "execution_count": null,
   "metadata": {
    "collapsed": true
   },
   "outputs": [],
   "source": [
    "\n",
    "tic()\n",
    "resultadoEspectral=evaluarspectralGraphLearning4(0.6,0.2,1,0.01:0.1:5.0)\n",
    "toc()"
   ]
  },
  {
   "cell_type": "code",
   "execution_count": null,
   "metadata": {
    "collapsed": false
   },
   "outputs": [],
   "source": [
    "interval= resultadoReg1[2]\n",
    "plot(interval,resultadoReg1[1],label=\"recuperacion regularizada con 2A-11^t, 1 observaciones\")\n",
    "p = zeros(length(interval))\n",
    "plot(interval,p,label=\"y=0\")\n",
    "plot(interval,resultadoReg2[1],label=\"recuperacion regularizada con A, 1 observaciones\")\n",
    "plot(interval,resultadoEspectral[1],label=\"recuperacion espectral, 1 observaciones\")\n",
    "grid(\"on\")\n",
    "legend(bbox_to_anchor=[1.05,1],loc=2,borderaxespad=0)"
   ]
  },
  {
   "cell_type": "markdown",
   "metadata": {},
   "source": [
    "<h4>Una sola observacion facil<h4>"
   ]
  },
  {
   "cell_type": "code",
   "execution_count": null,
   "metadata": {
    "collapsed": true
   },
   "outputs": [],
   "source": [
    "\n",
    "tic()\n",
    "resultadoReg1=evaluarRegularized2AGraphLearning4(0.8,0.1,1,0.01:0.1:5.0)\n",
    "toc()"
   ]
  },
  {
   "cell_type": "code",
   "execution_count": null,
   "metadata": {
    "collapsed": true
   },
   "outputs": [],
   "source": [
    "\n",
    "tic()\n",
    "resultadoReg2=evaluarRegularizedAGraphLearning4(0.8,0.1,1,0.01:0.1:5.0)\n",
    "toc()"
   ]
  },
  {
   "cell_type": "code",
   "execution_count": null,
   "metadata": {
    "collapsed": true
   },
   "outputs": [],
   "source": [
    "\n",
    "tic()\n",
    "resultadoEspectral=evaluarspectralGraphLearning4(0.8,0.1,1,0.01:0.1:5.0)\n",
    "toc()"
   ]
  },
  {
   "cell_type": "code",
   "execution_count": null,
   "metadata": {
    "collapsed": false
   },
   "outputs": [],
   "source": [
    "interval= resultadoReg1[2]\n",
    "plot(interval,resultadoReg1[1],label=\"recuperacion regularizada con 2A-11^t, 7 observaciones\")\n",
    "p = zeros(length(interval))\n",
    "plot(interval,p,label=\"y=0\")\n",
    "plot(interval,resultadoReg2[1],label=\"recuperacion regularizada con A, 7 observaciones\")\n",
    "plot(interval,resultadoEspectral[1],label=\"recuperacion espectral, 7 observaciones\")\n",
    "grid(\"on\")\n",
    "legend(bbox_to_anchor=[1.05,1],loc=2,borderaxespad=0)"
   ]
  },
  {
   "cell_type": "markdown",
   "metadata": {},
   "source": [
    "<h4>Grafos faciles son recuperables con apenas una observacion!<h4>"
   ]
  },
  {
   "cell_type": "code",
   "execution_count": null,
   "metadata": {
    "collapsed": true
   },
   "outputs": [],
   "source": []
  },
  {
   "cell_type": "markdown",
   "metadata": {},
   "source": [
    "<h2>recuperacion espectral con admm Recovery<h2>"
   ]
  },
  {
   "cell_type": "code",
   "execution_count": 1,
   "metadata": {
    "collapsed": false
   },
   "outputs": [],
   "source": [
    "using NBInclude\n",
    "using PyPlot\n",
    "nbinclude(\"AuxFunctions.ipynb\")\n",
    "nbinclude(\"admmRecovery.ipynb\")\n"
   ]
  },
  {
   "cell_type": "code",
   "execution_count": null,
   "metadata": {
    "collapsed": false
   },
   "outputs": [],
   "source": [
    "tic()\n",
    "resultadoAdmm=evaluarADMMGraphLearning4(0.7,0.1,3,1.8:0.1:2.5)\n",
    "toc()"
   ]
  },
  {
   "cell_type": "code",
   "execution_count": null,
   "metadata": {
    "collapsed": false
   },
   "outputs": [],
   "source": [
    "plot(resultadoAdmm[2],resultadoAdmm[1])\n",
    "p = zeros(length(resultadoAdmm[2]))\n",
    "plot(resultadoAdmm[2],p,label=\"Error de recuperacion admm 3 obs\")\n",
    "grid(\"on\")\n",
    "legend(bbox_to_anchor=[1.05,1],loc=2,borderaxespad=0)"
   ]
  },
  {
   "cell_type": "markdown",
   "metadata": {},
   "source": [
    "<h2>Este ultimo comportamiento esta raro... miremos con detalle.<h2>"
   ]
  },
  {
   "cell_type": "code",
   "execution_count": null,
   "metadata": {
    "collapsed": true
   },
   "outputs": [],
   "source": []
  },
  {
   "cell_type": "code",
   "execution_count": null,
   "metadata": {
    "collapsed": false
   },
   "outputs": [],
   "source": [
    "#4.03 min\n",
    "tic()\n",
    "resultadoReg1=evaluarRegularized2AGraphLearning4(0.6,0.2,3,0.01:0.1:5.0)\n",
    "toc()"
   ]
  },
  {
   "cell_type": "code",
   "execution_count": 2,
   "metadata": {
    "collapsed": false
   },
   "outputs": [
    {
     "ename": "LoadError",
     "evalue": "\u001b[91mDimensionMismatch(\"dimensions must match\")\u001b[39m",
     "output_type": "error",
     "traceback": [
      "\u001b[91mDimensionMismatch(\"dimensions must match\")\u001b[39m",
      "",
      "Stacktrace:",
      " [1] \u001b[1mpromote_shape\u001b[22m\u001b[22m\u001b[1m(\u001b[22m\u001b[22m::Tuple{Base.OneTo{Int64},Base.OneTo{Int64}}, ::Tuple{Base.OneTo{Int64},Base.OneTo{Int64}}\u001b[1m)\u001b[22m\u001b[22m at \u001b[1m.\\indices.jl:79\u001b[22m\u001b[22m",
      " [2] \u001b[1m-\u001b[22m\u001b[22m\u001b[1m(\u001b[22m\u001b[22m::Array{Float64,2}, ::Array{Float64,2}\u001b[1m)\u001b[22m\u001b[22m at \u001b[1m.\\arraymath.jl:37\u001b[22m\u001b[22m",
      " [3] \u001b[1mtransformMatrix\u001b[22m\u001b[22m\u001b[1m(\u001b[22m\u001b[22m::Array{Float64,2}, ::Int64\u001b[1m)\u001b[22m\u001b[22m at \u001b[1mC:\\Users\\Daniel\\MasterThesis\\admmRecovery.ipynb:In[3]:47\u001b[22m\u001b[22m",
      " [4] \u001b[1mbroadcast_t\u001b[22m\u001b[22m\u001b[1m(\u001b[22m\u001b[22m::Function, ::Type{Any}, ::Tuple{Base.OneTo{Int64}}, ::CartesianRange{CartesianIndex{1}}, ::Array{Any,1}, ::Int64\u001b[1m)\u001b[22m\u001b[22m at \u001b[1m.\\broadcast.jl:256\u001b[22m\u001b[22m",
      " [5] \u001b[1mbroadcast_c\u001b[22m\u001b[22m at \u001b[1m.\\broadcast.jl:319\u001b[22m\u001b[22m [inlined]",
      " [6] \u001b[1mbroadcast\u001b[22m\u001b[22m at \u001b[1m.\\broadcast.jl:434\u001b[22m\u001b[22m [inlined]",
      " [7] \u001b[1mtransform\u001b[22m\u001b[22m\u001b[1m(\u001b[22m\u001b[22m::Array{Any,1}, ::Int64\u001b[1m)\u001b[22m\u001b[22m at \u001b[1mC:\\Users\\Daniel\\MasterThesis\\admmRecovery.ipynb:In[3]:51\u001b[22m\u001b[22m",
      " [8] \u001b[1madmmRecovery\u001b[22m\u001b[22m\u001b[1m(\u001b[22m\u001b[22m::Array{Any,1}, ::Float64, ::Int64, ::Float64, ::Float64, ::Int64\u001b[1m)\u001b[22m\u001b[22m at \u001b[1mC:\\Users\\Daniel\\MasterThesis\\admmRecovery.ipynb:In[1]:6\u001b[22m\u001b[22m",
      " [9] \u001b[1mevaluarADMMGraphLearning4\u001b[22m\u001b[22m\u001b[1m(\u001b[22m\u001b[22m::Float64, ::Float64, ::Int64, ::StepRangeLen{Float64,Base.TwicePrecision{Float64},Base.TwicePrecision{Float64}}\u001b[1m)\u001b[22m\u001b[22m at \u001b[1mC:\\Users\\Daniel\\MasterThesis\\AuxFunctions.ipynb:In[3]:12\u001b[22m\u001b[22m"
     ]
    }
   ],
   "source": [
    "#3.6 min\n",
    "tic()\n",
    "resultadoReg2=evaluarADMMGraphLearning4(0.6,0.2,3,0.01:0.1:5.0)\n",
    "toc()"
   ]
  },
  {
   "cell_type": "code",
   "execution_count": null,
   "metadata": {
    "collapsed": true
   },
   "outputs": [],
   "source": [
    "#4.3 min\n",
    "tic()\n",
    "resultadoEspectral=evaluarspectralGraphLearning4(0.6,0.2,3,0.01:0.1:5.0)\n",
    "toc()"
   ]
  },
  {
   "cell_type": "code",
   "execution_count": null,
   "metadata": {
    "collapsed": true
   },
   "outputs": [],
   "source": [
    "interval= resultadoReg1[2]\n",
    "plot(interval,resultadoReg1[1],label=\"recuperacion regularizada con 2A-11^t, 3 observaciones\")\n",
    "p = zeros(length(interval))\n",
    "plot(interval,p,label=\"y=0, matrices dificiles\")\n",
    "plot(interval,resultadoReg2[1],label=\"recuperacion regularizada con A, 3 observaciones\")\n",
    "plot(interval,resultadoEspectral[1],label=\"recuperacion espectral, 3 observaciones\")\n",
    "grid(\"on\")\n",
    "legend(bbox_to_anchor=[1.05,1],loc=2,borderaxespad=0)"
   ]
  },
  {
   "cell_type": "markdown",
   "metadata": {
    "collapsed": true
   },
   "source": [
    "<h1>regimen esparzo <h1>"
   ]
  },
  {
   "cell_type": "code",
   "execution_count": null,
   "metadata": {
    "collapsed": false
   },
   "outputs": [],
   "source": [
    "a =7\n",
    "b =2\n",
    "nodos =200\n",
    "intra = a*log(nodos)/nodos\n",
    "outra = b*log(nodos)/nodos"
   ]
  },
  {
   "cell_type": "code",
   "execution_count": null,
   "metadata": {
    "collapsed": false
   },
   "outputs": [],
   "source": [
    "intra"
   ]
  },
  {
   "cell_type": "code",
   "execution_count": null,
   "metadata": {
    "collapsed": false
   },
   "outputs": [],
   "source": [
    "outra"
   ]
  },
  {
   "cell_type": "code",
   "execution_count": null,
   "metadata": {
    "collapsed": false
   },
   "outputs": [],
   "source": [
    "tic()\n",
    "resultadoAdmm=evaluarADMMGraphLearning4(0.7,0.1,2)\n",
    "toc()"
   ]
  },
  {
   "cell_type": "code",
   "execution_count": null,
   "metadata": {
    "collapsed": false
   },
   "outputs": [],
   "source": [
    "plot(resultadoAdmm[2],resultadoAdmm[1])\n",
    "p = zeros(length(resultadoAdmm[2]))\n",
    "plot(resultadoAdmm[2],p,label=\"Error de recuperacion admm 3 obs\")\n",
    "grid(\"on\")\n",
    "legend(bbox_to_anchor=[1.05,1],loc=2,borderaxespad=0)"
   ]
  },
  {
   "cell_type": "code",
   "execution_count": null,
   "metadata": {
    "collapsed": true
   },
   "outputs": [],
   "source": [
    "tic()\n",
    "resultadoAdmm=evaluarADMMGraphLearning4(0.7,0.1,2)\n",
    "toc()"
   ]
  },
  {
   "cell_type": "code",
   "execution_count": null,
   "metadata": {
    "collapsed": true
   },
   "outputs": [],
   "source": []
  },
  {
   "cell_type": "code",
   "execution_count": null,
   "metadata": {
    "collapsed": true
   },
   "outputs": [],
   "source": []
  },
  {
   "cell_type": "code",
   "execution_count": null,
   "metadata": {
    "collapsed": true
   },
   "outputs": [],
   "source": [
    "plot(resultadoAdmm[2],resultadoAdmm[1])\n",
    "p = zeros(length(resultadoAdmm[2]))\n",
    "plot(resultadoAdmm[2],p,label=\"Error de recuperacion admm 3 obs\")\n",
    "grid(\"on\")\n",
    "legend(bbox_to_anchor=[1.05,1],loc=2,borderaxespad=0)"
   ]
  },
  {
   "cell_type": "code",
   "execution_count": null,
   "metadata": {
    "collapsed": true
   },
   "outputs": [],
   "source": []
  },
  {
   "cell_type": "code",
   "execution_count": null,
   "metadata": {
    "collapsed": false
   },
   "outputs": [],
   "source": [
    "resultadoAdmm=evaluarADMMGraphLearning4(0.6,0.2,7,0.01:0.1:5.0)\n"
   ]
  },
  {
   "cell_type": "code",
   "execution_count": null,
   "metadata": {
    "collapsed": true
   },
   "outputs": [],
   "source": [
    "plot(resultadoAdmm[2],resultadoAdmm[1])\n",
    "p = zeros(length(resultadoAdmm[2]))\n",
    "plot(resultadoAdmm[2],p,label=\"Error de recuperacion admm 3 obs\")\n",
    "grid(\"on\")\n",
    "legend(bbox_to_anchor=[1.05,1],loc=2,borderaxespad=0)"
   ]
  }
 ],
 "metadata": {
  "kernelspec": {
   "display_name": "Julia 0.6.0",
   "language": "julia",
   "name": "julia-0.6"
  },
  "language_info": {
   "file_extension": ".jl",
   "mimetype": "application/julia",
   "name": "julia",
   "version": "0.6.0"
  }
 },
 "nbformat": 4,
 "nbformat_minor": 0
}
