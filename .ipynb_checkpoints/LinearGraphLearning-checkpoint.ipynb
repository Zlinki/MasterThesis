{
 "cells": [
  {
   "cell_type": "code",
   "execution_count": 3,
   "metadata": {
    "collapsed": true
   },
   "outputs": [],
   "source": [
    "using JuMP \n",
    "using Mosek"
   ]
  },
  {
   "cell_type": "code",
   "execution_count": null,
   "metadata": {
    "collapsed": true
   },
   "outputs": [],
   "source": [
    "#Script para el aprendizaje de grafos usando la metrica de Wasserstein, pero esta vez con la funcion de \n",
    "#costo ||.||1 que vuelve al problema lineal."
   ]
  },
  {
   "cell_type": "code",
   "execution_count": null,
   "metadata": {
    "collapsed": true
   },
   "outputs": [],
   "source": [
    "# @param:weights : weights of the observed matrices. Sum of weights must be 1. and non-negative. the size is equal to the amount\n",
    "#of observed graphs.\n",
    "#@param: delta : size of the ball of the Wasserstein metric. delta > 0.\n",
    "#@param: A : cluster form of the data. A entries must be 0 or 1. \n",
    "#@param: B : vector of matrices containing the observations of the graph B. If X,Y are matrices, an array of matrices\n",
    "#is of the form Array[X,Y].\n",
    "#@param: n : the dimension of the matrices.\n",
    "#@param:N : number of observations.\n",
    "#The set over which the is problem is optimized is:"
   ]
  },
  {
   "cell_type": "code",
   "execution_count": 8,
   "metadata": {
    "collapsed": false
   },
   "outputs": [
    {
     "data": {
      "text/plain": [
       "learnLinearGraph (generic function with 1 method)"
      ]
     },
     "execution_count": 8,
     "metadata": {},
     "output_type": "execute_result"
    }
   ],
   "source": [
    "function learnLinearGraph(weights,delta,B,n)\n",
    "    N = length(B)\n",
    "    one =ones(n)\n",
    "    m = Model(solver=MosekSolver())\n",
    "    @variable(m,lambda>=0)\n",
    "    @variable(m,S[1:N])\n",
    "    @variable(m,A[1:n,1:n], Symmetric)\n",
    "    #W debe ser simetrica? Creo que no.\n",
    "    @variable(m, W[1:n,1:n],Symmetric)\n",
    "    #a es una variable auxiliar para calcular la norma infinito de W\n",
    "    @variable(m,a>=0)\n",
    "    #Z es un conjunto de matrices que permite calcular la norma 1 de A-B[i].\n",
    "    Z = [@variable(m, [1:n, 1:n], Symmetric) for p in 1:N]\n",
    "    #O es un conjunto de matrices que juega el papel de Delta de la demostracion.\n",
    "    O = [@variable(m, [1:n, 1:n],lowerbound = 0) for p in 1:N]\n",
    "    #C es un conjunto de matrices que juega el papel de eta en la demostracion.\n",
    "    E = [@variable(m, [1:n, 1:n],lowerbound = 0) for p in 1:N]\n",
    "    \n",
    "    #Constrains...\n",
    "    #constrains for lambda already in the definition of the varible.\n",
    "    #Constrains for A.\n",
    "    @constraint(m,A.>=0)\n",
    "    @constraint(m,A.<=1)\n",
    "    #Constrains for Z.\n",
    "    [@constraint(m, -Z[p][k,l] <= A[k,l]-B[p][k,l]) for p in 1:N for k in 1:n for l in 1:n]\n",
    "    [@constraint(m,  A[k,l]-B[p][k,l]<=Z[p][k,l]) for p in 1:N for k in 1:n for l in 1:n]\n",
    "    #Constrains for W.\n",
    "    @constraint(m,a .>=W)\n",
    "    @constraint(m,a .>=-W)\n",
    "    @constraint(m,a<=lambda)\n",
    "    \n",
    "    #Constrains for O and E.\n",
    "    [@constraint(m,2*A-one*one'-W+O[p]+E[p].==0) for p in 1:N]\n",
    "    [@constraint(m, trace(O[p]'*(one*one'))<=S[p]-trace((2*A-one*one'-W)'*B[p])) for p in 1:N]\n",
    "    \n",
    "    #Objetivo\n",
    "    @objective(m,Min,lambda*delta+ dot(weights,S+prod.(Z,n)))\n",
    "    status = solve(m)\n",
    "    return([getvalue(A),getvalue(S),getvalue(lambda),getvalue(W),getobjectivevalue(m)])\n",
    "end"
   ]
  },
  {
   "cell_type": "code",
   "execution_count": 44,
   "metadata": {
    "collapsed": false
   },
   "outputs": [
    {
     "data": {
      "text/plain": [
       "learnLinearError (generic function with 1 method)"
      ]
     },
     "execution_count": 44,
     "metadata": {},
     "output_type": "execute_result"
    }
   ],
   "source": [
    "function learnLinearError(weights,delta,A,B,n)\n",
    "    N = length(B)\n",
    "    one =ones(n)\n",
    "    m = Model(solver=MosekSolver())\n",
    "    @variable(m,lambda>=0)\n",
    "    @variable(m,S[1:N])\n",
    "    #W debe ser simetrica? Creo que no.\n",
    "    @variable(m, W[1:n,1:n],Symmetric)\n",
    "    #a es una variable auxiliar para calcular la norma infinito de W\n",
    "    @variable(m,a>=0)\n",
    "    #Z es un conjunto de matrices que permite calcular la norma 1 de A-B[i].\n",
    "    Z = [@variable(m, [1:n, 1:n], Symmetric) for p in 1:N]\n",
    "    #O es un conjunto de matrices que juega el papel de Delta de la demostracion.\n",
    "    O = [@variable(m, [1:n, 1:n],lowerbound = 0) for p in 1:N]\n",
    "    #C es un conjunto de matrices que juega el papel de eta en la demostracion.\n",
    "    E = [@variable(m, [1:n, 1:n],lowerbound = 0) for p in 1:N]\n",
    "    \n",
    "    #Constrains...\n",
    "    #constrains for lambda already in the definition of the varible.\n",
    "    #Constrains for Z.\n",
    "    [@constraint(m, -Z[p][k,l] <= A[k,l]-B[p][k,l]) for p in 1:N for k in 1:n for l in 1:n]\n",
    "    [@constraint(m,  A[k,l]-B[p][k,l]<=Z[p][k,l]) for p in 1:N for k in 1:n for l in 1:n]\n",
    "    #Constrains for W. \n",
    "    @constraint(m,a<=lambda)\n",
    "    @constraint(m,a .>=W)\n",
    "    @constraint(m,a .>=-W)\n",
    "    #Constrains for O and E.    \n",
    "    #[@constraint(m,2*A-one*one'-W+O[p]+E[p].==0) for p in 1:N]\n",
    "    [@constraint(m,2*A-one*one'-W+O[p].==0) for p in 1:N]\n",
    "    [@constraint(m, trace(O[p]'*one*one')<=S[p]-trace((2*A-one*one'-W)'*B[p])) for p in 1:N]\n",
    "\n",
    "    #Objetivo\n",
    "    @objective(m,Min,lambda*delta+ dot(weights,S+prod.(Z,n)))\n",
    "    status = solve(m)\n",
    "    getobjectivevalue(m)\n",
    "    return(getobjectivevalue(m))\n",
    "end"
   ]
  },
  {
   "cell_type": "code",
   "execution_count": 23,
   "metadata": {
    "collapsed": false
   },
   "outputs": [
    {
     "name": "stdout",
     "output_type": "stream",
     "text": [
      "Problem\n",
      "  Name                   :                 \n",
      "  Objective sense        : min             \n",
      "  Type                   : LO (linear optimization problem)\n",
      "  Constraints            : 0               \n",
      "  Cones                  : 0               \n",
      "  Scalar variables       : 18              \n",
      "  Matrix variables       : 0               \n",
      "  Integer variables      : 0               \n",
      "\n",
      "Optimizer started.\n",
      "Presolve started.\n",
      "Eliminator started.\n",
      "Freed constraints in eliminator : 0\n",
      "Eliminator terminated.\n",
      "Eliminator - tries                  : 1                 time                   : 0.00            \n",
      "Lin. dep.  - tries                  : 0                 time                   : 0.00            \n",
      "Lin. dep.  - number                 : 0               \n",
      "Presolve terminated. Time: 0.00    \n",
      "Optimizer terminated. Time: 0.00    \n",
      "\n",
      "\n",
      "Interior-point solution summary\n",
      "  Problem status  : PRIMAL_AND_DUAL_FEASIBLE\n",
      "  Solution status : OPTIMAL\n",
      "  Primal.  obj: 0.0000000000e+00    nrm: 0e+00    Viol.  var: 0e+00  \n",
      "  Dual.    obj: 0.0000000000e+00    nrm: 1e+00    Viol.  var: 0e+00  \n",
      "\n",
      "Basic solution summary\n",
      "  Problem status  : PRIMAL_AND_DUAL_FEASIBLE\n",
      "  Solution status : OPTIMAL\n",
      "  Primal.  obj: 0.0000000000e+00    nrm: 0e+00    Viol.  var: 0e+00  \n",
      "  Dual.    obj: 0.0000000000e+00    nrm: 1e+00    Viol.  var: 0e+00  \n"
     ]
    },
    {
     "data": {
      "text/plain": [
       ":Optimal"
      ]
     },
     "execution_count": 23,
     "metadata": {},
     "output_type": "execute_result"
    }
   ],
   "source": [
    "one =ones(3)\n",
    "m = Model(solver=MosekSolver())\n",
    "O = [@variable(m, [1:3, 1:3],lowerbound = 0) for p in 1:2]\n",
    "#[@constraint(m, trace(O[p]'*one*one')]\n",
    "@objective(m,Min,trace(O[1]'*one*one')+trace(O[2]'*one*one'))\n",
    "status = solve(m)"
   ]
  },
  {
   "cell_type": "markdown",
   "metadata": {},
   "source": [
    "<h3>Funciones auxiliares<h3>"
   ]
  },
  {
   "cell_type": "code",
   "execution_count": 6,
   "metadata": {
    "collapsed": false
   },
   "outputs": [
    {
     "data": {
      "text/plain": [
       "erdosgraph2 (generic function with 1 method)"
      ]
     },
     "execution_count": 6,
     "metadata": {},
     "output_type": "execute_result"
    }
   ],
   "source": [
    "#Aux functions\n",
    "#def function prod computes the product 1^t*Z*t.\n",
    "#@param: n : the dimension of the matrices.\n",
    "function prod(Z,n)\n",
    "    return(ones(n)'*Z*ones(n))\n",
    "end\n",
    "\n",
    "#def function roundMatrix applies the function roundZero to every element of the matrix.\n",
    "#@param: A : matrix to round\n",
    "function roundZeroMatrix(A)\n",
    "    map(A) do x\n",
    "        roundZero(x)\n",
    "    end\n",
    "end\n",
    "\n",
    "#def function roundZero rounds close reals to zero to zero\n",
    "function roundZero(a)\n",
    "    if(abs(a)<=0.0001)\n",
    "        return(0)\n",
    "    end\n",
    "    return(a) \n",
    "end\n",
    "\n",
    "#def function nuclearNorm Computes the nuclear norm of a matrix\n",
    "#@param mat : mat to compute the nuclear norm\n",
    "function nuclearNorm(mat)\n",
    "    return(sum(svdfact(mat)[:S]))\n",
    "end\n",
    "\n",
    "#function which computes the estimation of the error as by theorem 3.1\n",
    "#@param delta: radius of the wasserstein metric ball.\n",
    "#@param A : solution of the optimization problem.\n",
    "#@param B : Array of the observation matrix\n",
    "#@param N : numero de observaciones\n",
    "#@param n : dimension de las matrices\n",
    "function estimarCota(delta,A,B,N,n)\n",
    "    a = delta*nuclearNorm(2*A-ones(n)*ones(n)')\n",
    "    [B[i] = A-B[i] for i in 1:N]\n",
    "    d = (1/N)*sum(norm1.(B))\n",
    "    return(a+d)\n",
    "end\n",
    "#function that computes the norm1 of a matrix. note that the norm(,1) implemented\n",
    "#in julia is the induced 1 norm.\n",
    "#@param W: a matrix\n",
    "function norm1(W)\n",
    "    a= 0\n",
    "    map(W) do x\n",
    "        a = abs(x)+a\n",
    "    end\n",
    "    return(a)\n",
    "end\n",
    "\n",
    "#function to generate a random Erdos-renyi graph with a given number of \n",
    "# clusters and probabilities. Creates an inferior triangluar matrix and then sums its transpose.\n",
    "#@param: probabilities: vector of probabilities>0.5 of each intracluster probability.\n",
    "#The size of the vector is the number of clusters. min(probabilities)>1/2\n",
    "#@param: sizes : the sizes of the clusters.\n",
    "#@param: n : the dimension of the adjacency matrix.\n",
    "#@param: q : outercluster adjacency probability : q<1/2\n",
    "#@Pre: the sum of the sizes must be n.\n",
    "function erdosgraph(probabilities,q,sizes,n)\n",
    "    A= zeros(n,n)\n",
    "    contador2=0\n",
    "    proba = 1\n",
    "    contador1=1\n",
    "    for k in sizes\n",
    "        contador2=contador2+k\n",
    "        for j in contador1:contador2\n",
    "            for i in j+1:n\n",
    "                rand1=rand()\n",
    "                rand2=rand()\n",
    "                if(i>=contador1 && i<=contador2)\n",
    "                    if(rand1<=probabilities[proba])\n",
    "                        A[i,j]=1\n",
    "                    end\n",
    "                else\n",
    "                    if(rand2<=q)\n",
    "                        A[i,j]=1\n",
    "                    end\n",
    "                end\n",
    "            end\n",
    "        end\n",
    "        proba=proba+1\n",
    "        contador1=contador1+k\n",
    "    end\n",
    "    return(A+A')\n",
    "end\n",
    "\n",
    "function erdosgraph2(probabilities,q,sizes,n)\n",
    "    A= zeros(n,n)\n",
    "    for r in 1:n\n",
    "        for w in r+1:n\n",
    "            rand0 = rand()\n",
    "            if(rand0<=q)\n",
    "                A[r,w]=1\n",
    "            end\n",
    "        end\n",
    "    end    \n",
    "    for i in 1:sizes[1]-1\n",
    "        for j in i+1: sizes[1]\n",
    "            rand1=rand()\n",
    "            if(rand1<=probabilities[1])\n",
    "                A[i,j]=1\n",
    "            else\n",
    "                A[i,j]=0\n",
    "            end\n",
    "        end\n",
    "    end\n",
    "    for k in sizes[1]+1:sizes[1]+sizes[2]-1\n",
    "        for l in k+1: sizes[1]+sizes[2]\n",
    "            rand2=rand()\n",
    "            if(rand2<=probabilities[2])\n",
    "                A[k,l]=1\n",
    "            else\n",
    "                A[k,l]=0\n",
    "            end\n",
    "        end\n",
    "    end\n",
    "    return(A+A')\n",
    "end\n"
   ]
  },
  {
   "cell_type": "code",
   "execution_count": null,
   "metadata": {
    "collapsed": true
   },
   "outputs": [],
   "source": [
    "srand(1236)\n",
    "papa1 = Array{Any}(1)\n",
    "papa1[1]=erdosgraph([0.8,1,1],0.1,[5,3,4],12)+diagm(ones(12))\n",
    "resultado1=learnLinearGraph([1],0.1,papa1,12)"
   ]
  },
  {
   "cell_type": "code",
   "execution_count": 49,
   "metadata": {
    "collapsed": false
   },
   "outputs": [
    {
     "name": "stdout",
     "output_type": "stream",
     "text": [
      "MOSEK warning 710: #1 (nearly) zero elements are specified in sparse col '' (7) of matrix 'A'.\n",
      "MOSEK warning 710: #1 (nearly) zero elements are specified in sparse col '' (9) of matrix 'A'.\n",
      "MOSEK warning 710: #1 (nearly) zero elements are specified in sparse col '' (11) of matrix 'A'.\n",
      "MOSEK warning 710: #1 (nearly) zero elements are specified in sparse col '' (12) of matrix 'A'.\n",
      "MOSEK warning 710: #1 (nearly) zero elements are specified in sparse col '' (18) of matrix 'A'.\n",
      "MOSEK warning 710: #1 (nearly) zero elements are specified in sparse col '' (19) of matrix 'A'.\n",
      "MOSEK warning 710: #1 (nearly) zero elements are specified in sparse col '' (20) of matrix 'A'.\n",
      "MOSEK warning 710: #1 (nearly) zero elements are specified in sparse col '' (21) of matrix 'A'.\n",
      "MOSEK warning 710: #1 (nearly) zero elements are specified in sparse col '' (22) of matrix 'A'.\n",
      "MOSEK warning 710: #1 (nearly) zero elements are specified in sparse col '' (23) of matrix 'A'.\n",
      "Warning number 710 is disabled.\n",
      "Problem\n",
      "  Name                   :                 \n",
      "  Objective sense        : min             \n",
      "  Type                   : LO (linear optimization problem)\n",
      "  Constraints            : 722             \n",
      "  Cones                  : 0               \n",
      "  Scalar variables       : 447             \n",
      "  Matrix variables       : 0               \n",
      "  Integer variables      : 0               \n",
      "\n",
      "Optimizer started.\n",
      "Presolve started.\n",
      "Linear dependency checker started.\n",
      "Linear dependency checker terminated.\n",
      "Eliminator started.\n",
      "Freed constraints in eliminator : 144\n",
      "Eliminator terminated.\n",
      "Eliminator - tries                  : 1                 time                   : 0.00            \n",
      "Lin. dep.  - tries                  : 1                 time                   : 0.00            \n",
      "Lin. dep.  - number                 : 0               \n",
      "Presolve terminated. Time: 0.00    \n",
      "Optimizer terminated. Time: 0.00    \n",
      "\n",
      "\n",
      "Interior-point solution summary\n",
      "  Problem status  : PRIMAL_AND_DUAL_FEASIBLE\n",
      "  Solution status : OPTIMAL\n",
      "  Primal.  obj: 5.0000000000e+00    nrm: 7e+01    Viol.  con: 0e+00    var: 0e+00  \n",
      "  Dual.    obj: 5.0000000000e+00    nrm: 5e+00    Viol.  con: 0e+00    var: 0e+00  \n",
      "\n",
      "Basic solution summary\n",
      "  Problem status  : PRIMAL_AND_DUAL_FEASIBLE\n",
      "  Solution status : OPTIMAL\n",
      "  Primal.  obj: 5.0000000000e+00    nrm: 7e+01    Viol.  con: 0e+00    var: 0e+00  \n",
      "  Dual.    obj: 5.0000000000e+00    nrm: 5e+00    Viol.  con: 0e+00    var: 0e+00  \n"
     ]
    },
    {
     "data": {
      "text/plain": [
       "5.0"
      ]
     },
     "execution_count": 49,
     "metadata": {},
     "output_type": "execute_result"
    }
   ],
   "source": [
    "#prueba1=erdosgraph([1,1,1],0.1,[5,3,4],12)+diagm(ones(12))\n",
    "papa1[1]=prueba1\n",
    "learnLinearError([1],5,prueba1,papa1,12)"
   ]
  },
  {
   "cell_type": "code",
   "execution_count": 36,
   "metadata": {
    "collapsed": false
   },
   "outputs": [
    {
     "data": {
      "text/plain": [
       "22.0"
      ]
     },
     "execution_count": 36,
     "metadata": {},
     "output_type": "execute_result"
    }
   ],
   "source": [
    "vecnorm(prueba1-papa1[1],1)"
   ]
  },
  {
   "cell_type": "code",
   "execution_count": 35,
   "metadata": {
    "collapsed": false
   },
   "outputs": [
    {
     "data": {
      "text/plain": [
       "12×12 Array{Float64,2}:\n",
       " 0.0   0.0  0.0  0.0  0.0   0.0  1.0  0.0  1.0   0.0  0.0  1.0\n",
       " 0.0   0.0  0.0  0.0  0.0  -1.0  0.0  0.0  0.0  -1.0  0.0  0.0\n",
       " 0.0   0.0  0.0  0.0  1.0   0.0  0.0  0.0  0.0   0.0  0.0  0.0\n",
       " 0.0   0.0  0.0  0.0  0.0   0.0  0.0  1.0  0.0   0.0  0.0  0.0\n",
       " 0.0   0.0  1.0  0.0  0.0   1.0  1.0  1.0  0.0   0.0  0.0  0.0\n",
       " 0.0  -1.0  0.0  0.0  1.0   0.0  0.0  0.0  0.0   0.0  1.0  0.0\n",
       " 1.0   0.0  0.0  0.0  1.0   0.0  0.0  0.0  0.0   0.0  0.0  0.0\n",
       " 0.0   0.0  0.0  1.0  1.0   0.0  0.0  0.0  0.0   0.0  0.0  0.0\n",
       " 1.0   0.0  0.0  0.0  0.0   0.0  0.0  0.0  0.0   0.0  0.0  0.0\n",
       " 0.0  -1.0  0.0  0.0  0.0   0.0  0.0  0.0  0.0   0.0  0.0  0.0\n",
       " 0.0   0.0  0.0  0.0  0.0   1.0  0.0  0.0  0.0   0.0  0.0  0.0\n",
       " 1.0   0.0  0.0  0.0  0.0   0.0  0.0  0.0  0.0   0.0  0.0  0.0"
      ]
     },
     "execution_count": 35,
     "metadata": {},
     "output_type": "execute_result"
    }
   ],
   "source": [
    "prueba1-papa1[1]"
   ]
  },
  {
   "cell_type": "code",
   "execution_count": null,
   "metadata": {
    "collapsed": true
   },
   "outputs": [],
   "source": []
  }
 ],
 "metadata": {
  "kernelspec": {
   "display_name": "Julia 0.6.0",
   "language": "julia",
   "name": "julia-0.6"
  },
  "language_info": {
   "file_extension": ".jl",
   "mimetype": "application/julia",
   "name": "julia",
   "version": "0.6.0"
  }
 },
 "nbformat": 4,
 "nbformat_minor": 0
}
