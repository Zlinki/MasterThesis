{
 "cells": [
  {
   "cell_type": "code",
   "execution_count": null,
   "metadata": {
    "collapsed": true
   },
   "outputs": [],
   "source": [
    "#En este notebook ponemos las simulaciones que permiten observar la tasa de decaimiento de los errores\n",
    "# a medida que se aumenta el numero de observaciones para los 4 metodos: lineal, l2, espectral y promedio.\n",
    "#para diferentes valores del radio de la bola de Wasserstein.\n",
    "\n"
   ]
  },
  {
   "cell_type": "code",
   "execution_count": null,
   "metadata": {
    "collapsed": true
   },
   "outputs": [],
   "source": [
    "#Todos los grafos aleatorios tienen 12 vertices, y tres clusters de tamaño 5,3,4."
   ]
  },
  {
   "cell_type": "code",
   "execution_count": 1,
   "metadata": {
    "collapsed": false
   },
   "outputs": [],
   "source": [
    "using NBInclude\n",
    "using PyPlot\n",
    "@nbinclude(\"AuxFunctions.ipynb\")\n",
    "@nbinclude(\"GraphLearning.ipynb\")\n",
    "@nbinclude(\"admmRecovery.ipynb\")\n"
   ]
  },
  {
   "cell_type": "markdown",
   "metadata": {},
   "source": [
    "<h2>Aprendizaje con norma 1<h2>"
   ]
  },
  {
   "cell_type": "code",
   "execution_count": null,
   "metadata": {
    "collapsed": true
   },
   "outputs": [],
   "source": [
    "tic()\n",
    "P = evaluarLinearGraphLearning6(0.7,0.3,0.01)\n",
    "for s in [0.2,0.5,0.8,1.1,1.5,2]\n",
    "    A = evaluarLinearGraphLearning6(0.7,0.3,s)\n",
    "    P = [P A]\n",
    "    println(s)\n",
    "end\n",
    "toc()"
   ]
  },
  {
   "cell_type": "code",
   "execution_count": null,
   "metadata": {
    "collapsed": false
   },
   "outputs": [],
   "source": [
    "#7.4 min\n",
    "plot(1:1:30,P[1:30,1],label=\"delta=0.01\")\n",
    "plot(1:1:30,P[1:30,2],label=\"delta=0.2\")\n",
    "plot(1:1:30,P[1:30,3],label=\"delta=0.5\")\n",
    "plot(1:1:30,P[1:30,4],label=\"delta=0.8\")\n",
    "plot(1:1:30,P[1:30,5],label=\"delta=1.1\")\n",
    "plot(1:1:30,P[1:30,6],label=\"delta=1.5\")\n",
    "plot(1:1:30,P[1:30,7],label=\"delta=2\")\n",
    "\n",
    "\n",
    "grid(\"on\")\n",
    "legend(bbox_to_anchor=[1.05,1],loc=2,borderaxespad=0)"
   ]
  },
  {
   "cell_type": "markdown",
   "metadata": {},
   "source": [
    "<h2>Aprendizaje con norma 2<h2>"
   ]
  },
  {
   "cell_type": "code",
   "execution_count": null,
   "metadata": {
    "collapsed": true
   },
   "outputs": [],
   "source": [
    "tic()\n",
    "P = evaluarGraphLearningl26(0.7,0.3,0.01)\n",
    "for s in [0.05,0.1,0.15,0.2,1.5,2]\n",
    "    A = evaluarGraphLearningl26(0.7,0.3,s)\n",
    "    P = [P A]\n",
    "    println(s)\n",
    "end\n",
    "toc()"
   ]
  },
  {
   "cell_type": "code",
   "execution_count": null,
   "metadata": {
    "collapsed": false
   },
   "outputs": [],
   "source": [
    "#8.3 min\n",
    "plot(1:1:30,P[1:30,1],label=\"delta=0.01\")\n",
    "plot(1:1:30,P[1:30,2],label=\"delta=0.05\")\n",
    "plot(1:1:30,P[1:30,3],label=\"delta=0.1\")\n",
    "plot(1:1:30,P[1:30,4],label=\"delta=0.15\")\n",
    "plot(1:1:30,P[1:30,5],label=\"delta=0.2\")\n",
    "plot(1:1:30,P[1:30,6],label=\"delta=1.5\")\n",
    "plot(1:1:30,P[1:30,7],label=\"delta=2\")\n",
    "\n",
    "\n",
    "grid(\"on\")\n",
    "legend(bbox_to_anchor=[1.05,1],loc=2,borderaxespad=0)"
   ]
  },
  {
   "cell_type": "markdown",
   "metadata": {},
   "source": [
    "<h2>Aprendizaje con norma 2 y sin 1 en la diagonal<h2>"
   ]
  },
  {
   "cell_type": "code",
   "execution_count": null,
   "metadata": {
    "collapsed": true
   },
   "outputs": [],
   "source": [
    "tic()\n",
    "P = evaluarGraphLearningl262(0.7,0.3,0.01)\n",
    "for s in [0.05,0.1,0.15,0.2,1.5,2]\n",
    "    A = evaluarGraphLearningl262(0.7,0.3,s)\n",
    "    P = [P A]\n",
    "    println(s)\n",
    "end\n",
    "toc()"
   ]
  },
  {
   "cell_type": "code",
   "execution_count": null,
   "metadata": {
    "collapsed": false
   },
   "outputs": [],
   "source": [
    "#8.3 min\n",
    "plot(1:1:30,P[1:30,1],label=\"delta=0.01\")\n",
    "plot(1:1:30,P[1:30,2],label=\"delta=0.05\")\n",
    "plot(1:1:30,P[1:30,3],label=\"delta=0.1\")\n",
    "plot(1:1:30,P[1:30,4],label=\"delta=0.15\")\n",
    "plot(1:1:30,P[1:30,5],label=\"delta=0.2\")\n",
    "plot(1:1:30,P[1:30,6],label=\"delta=1.5\")\n",
    "plot(1:1:30,P[1:30,7],label=\"delta=2\")\n",
    "\n",
    "\n",
    "grid(\"on\")\n",
    "legend(bbox_to_anchor=[1.05,1],loc=2,borderaxespad=0)"
   ]
  },
  {
   "cell_type": "markdown",
   "metadata": {
    "collapsed": true
   },
   "source": [
    "<h2>Aprendizaje con norma  espectral <h2>"
   ]
  },
  {
   "cell_type": "code",
   "execution_count": null,
   "metadata": {
    "collapsed": true
   },
   "outputs": [],
   "source": [
    "tic()\n",
    "P = evaluarGraphLearningEspectral6(0.75,0.2,0.01,false)\n",
    "for s in [0.2,0.8,1.5,2]\n",
    "    A = evaluarGraphLearningEspectral6(0.75,0.2,s,false)\n",
    "    P = [P A]\n",
    "    println(s)\n",
    "end\n",
    "toc()"
   ]
  },
  {
   "cell_type": "code",
   "execution_count": null,
   "metadata": {
    "collapsed": false
   },
   "outputs": [],
   "source": [
    "#19.9 min\n",
    "plot(1:1:30,P[1:30,1],label=\"delta=0.01\")\n",
    "plot(1:1:30,P[1:30,2],label=\"delta=0.2\")\n",
    "plot(1:1:30,P[1:30,4],label=\"delta=0.8\")\n",
    "plot(1:1:30,P[1:30,6],label=\"delta=1.5\")\n",
    "plot(1:1:30,P[1:30,7],label=\"delta=2\")\n",
    "\n",
    "grid(\"on\")\n",
    "legend(bbox_to_anchor=[1.05,1],loc=2,borderaxespad=0)"
   ]
  },
  {
   "cell_type": "markdown",
   "metadata": {
    "collapsed": true
   },
   "source": [
    "<h2>Aprendizaje con norma  espectral sin 1 en la diagonal <h2>"
   ]
  },
  {
   "cell_type": "code",
   "execution_count": null,
   "metadata": {
    "collapsed": true
   },
   "outputs": [],
   "source": [
    "tic()\n",
    "P = evaluarGraphLearningEspectral6(0.7,0.3,0.01)\n",
    "for s in [0.2,0.5,0.8,1.1,1.5,2]\n",
    "    A = evaluarGraphLearningEspectral6(0.7,0.3,s)\n",
    "    P = [P A]\n",
    "    println(s)\n",
    "end\n",
    "toc()"
   ]
  },
  {
   "cell_type": "code",
   "execution_count": null,
   "metadata": {
    "collapsed": false
   },
   "outputs": [],
   "source": [
    "#14.3 min\n",
    "plot(1:1:30,P[1:30,1],label=\"delta=0.01\")\n",
    "plot(1:1:30,P[1:30,2],label=\"delta=0.2\")\n",
    "plot(1:1:30,P[1:30,3],label=\"delta=0.5\")\n",
    "plot(1:1:30,P[1:30,4],label=\"delta=0.8\")\n",
    "plot(1:1:30,P[1:30,5],label=\"delta=1.1\")\n",
    "plot(1:1:30,P[1:30,6],label=\"delta=1.5\")\n",
    "plot(1:1:30,P[1:30,7],label=\"delta=2\")\n",
    "\n",
    "\n",
    "grid(\"on\")\n",
    "legend(bbox_to_anchor=[1.05,1],loc=2,borderaxespad=0)"
   ]
  },
  {
   "cell_type": "code",
   "execution_count": null,
   "metadata": {
    "collapsed": true
   },
   "outputs": [],
   "source": []
  },
  {
   "cell_type": "markdown",
   "metadata": {
    "collapsed": true
   },
   "source": [
    "<h2>Aprendizaje con grafo promedio <h2>"
   ]
  },
  {
   "cell_type": "code",
   "execution_count": 9,
   "metadata": {
    "collapsed": false
   },
   "outputs": [
    {
     "data": {
      "image/png": "[encoded data removed]",
      "text/plain": [
       "PyPlot.Figure(PyObject <matplotlib.figure.Figure object at 0x00000000237DD0F0>)"
      ]
     },
     "metadata": {},
     "output_type": "display_data"
    }
   ],
   "source": [
    "#u = 200\n",
    "P = evaluarGraphLearningMean6(0.7,0.3,false)\n",
    "#plot(1:1:30,P,label=\"NumExperimentos=200\")\n",
    "grid(\"on\")\n",
    "legend(bbox_to_anchor=[1.05,1],loc=2,borderaxespad=0)"
   ]
  },
  {
   "cell_type": "code",
   "execution_count": 10,
   "metadata": {
    "collapsed": false
   },
   "outputs": [
    {
     "data": {
      "text/plain": [
       "50-element Array{Any,1}:\n",
       " 35.04  \n",
       " 34.14  \n",
       " 34.36  \n",
       " 33.75  \n",
       " 33.952 \n",
       " 34.0667\n",
       " 34.7886\n",
       " 33.995 \n",
       " 34.4   \n",
       " 34.164 \n",
       " 34.3382\n",
       " 33.9767\n",
       " 34.1538\n",
       "  ⋮     \n",
       " 33.9723\n",
       " 33.928 \n",
       " 33.9317\n",
       " 34.2638\n",
       " 34.306 \n",
       " 34.2064\n",
       " 34.3964\n",
       " 34.2774\n",
       " 34.2017\n",
       " 34.2625\n",
       " 34.3273\n",
       " 34.2016"
      ]
     },
     "execution_count": 10,
     "metadata": {},
     "output_type": "execute_result"
    }
   ],
   "source": [
    "P"
   ]
  },
  {
   "cell_type": "code",
   "execution_count": null,
   "metadata": {
    "collapsed": true
   },
   "outputs": [],
   "source": []
  },
  {
   "cell_type": "markdown",
   "metadata": {},
   "source": [
    "<h4>En 30 observaciones el error no decrese. Aumentaremos las observaciones.<h4>"
   ]
  },
  {
   "cell_type": "code",
   "execution_count": null,
   "metadata": {
    "collapsed": false
   },
   "outputs": [],
   "source": [
    "#u = 200\n",
    "P = evaluarGraphLearningMean6(0.7,0.3,false)\n",
    "plot(1:1:100,P,label=\"NumExperimentos=200\")\n",
    "grid(\"on\")\n",
    "legend(bbox_to_anchor=[1.05,1],loc=2,borderaxespad=0)"
   ]
  },
  {
   "cell_type": "code",
   "execution_count": null,
   "metadata": {
    "collapsed": true
   },
   "outputs": [],
   "source": [
    "asdf=Array{Any}(1000)\n",
    "[asdf[r]=erdosgraph([0.7,1],0.1,[5,5],10) for r in 1:1000]\n",
    "papa=meanGraphLearn(asdf,false)"
   ]
  },
  {
   "cell_type": "markdown",
   "metadata": {},
   "source": [
    "<h4>El metodo esta recuperando las probabilidades intra y outra cluster. Toca redeondear para ser comparable.<h4>"
   ]
  },
  {
   "cell_type": "code",
   "execution_count": null,
   "metadata": {
    "collapsed": false
   },
   "outputs": [],
   "source": [
    "#u = 200\n",
    "P = evaluarGraphLearningMean6(0.7,0.3,true)\n",
    "plot(1:1:50,P,label=\"NumExperimentos=200\")\n",
    "grid(\"on\")\n",
    "legend(bbox_to_anchor=[1.05,1],loc=2,borderaxespad=0)"
   ]
  },
  {
   "cell_type": "markdown",
   "metadata": {},
   "source": [
    "<h3> l2 redondeado<h3>"
   ]
  },
  {
   "cell_type": "code",
   "execution_count": null,
   "metadata": {
    "collapsed": true
   },
   "outputs": [],
   "source": [
    "tic()\n",
    "P = evaluarGraphLearningl262(0.7,0.3,0.01,true)\n",
    "for s in [0.05,0.1,0.15,0.2,1.5,2]\n",
    "    A = evaluarGraphLearningl262(0.7,0.3,s,true)\n",
    "    P = [P A]\n",
    "    println(s)\n",
    "end\n",
    "toc()"
   ]
  },
  {
   "cell_type": "code",
   "execution_count": null,
   "metadata": {
    "collapsed": false
   },
   "outputs": [],
   "source": [
    "#8.3 min\n",
    "plot(1:1:40,P[1:40,1],label=\"delta=0.01\")\n",
    "plot(1:1:40,P[1:40,2],label=\"delta=0.05\")\n",
    "plot(1:1:40,P[1:40,3],label=\"delta=0.1\")\n",
    "plot(1:1:40,P[1:40,4],label=\"delta=0.15\")\n",
    "plot(1:1:40,P[1:40,5],label=\"delta=0.2\")\n",
    "plot(1:1:40,P[1:40,6],label=\"delta=1.5\")\n",
    "plot(1:1:40,P[1:40,7],label=\"delta=2\")\n",
    "grid(\"on\")\n",
    "legend(bbox_to_anchor=[1.05,1],loc=2,borderaxespad=0)"
   ]
  },
  {
   "cell_type": "markdown",
   "metadata": {},
   "source": [
    "<h3>espectral redondeado<h3>"
   ]
  },
  {
   "cell_type": "code",
   "execution_count": null,
   "metadata": {
    "collapsed": true
   },
   "outputs": [],
   "source": [
    "tic()\n",
    "P = evaluarGraphLearningEspectral6(0.7,0.3,0.01,true)\n",
    "for s in [0.2,0.5,0.8,1.1,1.5,2]\n",
    "    A = evaluarGraphLearningEspectral6(0.7,0.3,s,true)\n",
    "    P = [P A]\n",
    "    println(s)\n",
    "end\n",
    "toc()"
   ]
  },
  {
   "cell_type": "code",
   "execution_count": null,
   "metadata": {
    "collapsed": false
   },
   "outputs": [],
   "source": [
    "#19.9 min\n",
    "plot(1:1:30,P[1:30,1],label=\"delta=0.01\")\n",
    "plot(1:1:30,P[1:30,2],label=\"delta=0.2\")\n",
    "plot(1:1:30,P[1:30,3],label=\"delta=0.5\")\n",
    "plot(1:1:30,P[1:30,4],label=\"delta=0.8\")\n",
    "plot(1:1:30,P[1:30,5],label=\"delta=1.1\")\n",
    "plot(1:1:30,P[1:30,6],label=\"delta=1.5\")\n",
    "plot(1:1:30,P[1:30,7],label=\"delta=2\")\n",
    "\n",
    "\n",
    "grid(\"on\")\n",
    "legend(bbox_to_anchor=[1.05,1],loc=2,borderaxespad=0)"
   ]
  },
  {
   "cell_type": "code",
   "execution_count": null,
   "metadata": {
    "collapsed": true
   },
   "outputs": [],
   "source": []
  },
  {
   "cell_type": "markdown",
   "metadata": {},
   "source": [
    "<h1>Quedé algo preocupado con el metodo l2. Vamos a hacer mas simulaciones para grafos mas grandes<h1>"
   ]
  },
  {
   "cell_type": "code",
   "execution_count": null,
   "metadata": {
    "collapsed": true
   },
   "outputs": [],
   "source": [
    "tic()\n",
    "P = evaluarGraphLearningl26grande(0.6,0.2,0.01,false)\n",
    "for s in [0.05,0.1,0.15,0.2,1.5,2]\n",
    "    A = evaluarGraphLearningl26grande(0.6,0.2,s,false)\n",
    "    P = [P A]\n",
    "    println(s)\n",
    "end\n",
    "toc()"
   ]
  },
  {
   "cell_type": "code",
   "execution_count": null,
   "metadata": {
    "collapsed": false
   },
   "outputs": [],
   "source": [
    "#8.3 min\n",
    "plot(1:1:30,P[1:30,1],label=\"delta=0.01\")\n",
    "plot(1:1:30,P[1:30,2],label=\"delta=0.05\")\n",
    "plot(1:1:30,P[1:30,3],label=\"delta=0.1\")\n",
    "plot(1:1:30,P[1:30,4],label=\"delta=0.15\")\n",
    "plot(1:1:30,P[1:30,5],label=\"delta=0.2\")\n",
    "plot(1:1:30,P[1:30,6],label=\"delta=1.5\")\n",
    "plot(1:1:30,P[1:30,7],label=\"delta=2\")\n",
    "grid(\"on\")\n",
    "legend(bbox_to_anchor=[1.05,1],loc=2,borderaxespad=0)"
   ]
  },
  {
   "cell_type": "markdown",
   "metadata": {},
   "source": [
    "<h3>Ahora redondeamos...<h3>"
   ]
  },
  {
   "cell_type": "code",
   "execution_count": null,
   "metadata": {
    "collapsed": true
   },
   "outputs": [],
   "source": [
    "tic()\n",
    "P = evaluarGraphLearningl26grande(0.6,0.2,0.01,true)\n",
    "for s in [0.05,0.1,0.15,0.2]\n",
    "    A = evaluarGraphLearningl26grande(0.6,0.2,s,true)\n",
    "    P = [P A]\n",
    "    println(s)\n",
    "end\n",
    "toc()"
   ]
  },
  {
   "cell_type": "code",
   "execution_count": null,
   "metadata": {
    "collapsed": false
   },
   "outputs": [],
   "source": [
    "#8.3 min\n",
    "plot(1:1:30,P[1:30,1],label=\"delta=0.01\")\n",
    "plot(1:1:30,P[1:30,2],label=\"delta=0.05\")\n",
    "plot(1:1:30,P[1:30,3],label=\"delta=0.1\")\n",
    "plot(1:1:30,P[1:30,4],label=\"delta=0.15\")\n",
    "plot(1:1:30,P[1:30,5],label=\"delta=0.2\")\n",
    "grid(\"on\")\n",
    "legend(bbox_to_anchor=[1.05,1],loc=2,borderaxespad=0)"
   ]
  },
  {
   "cell_type": "markdown",
   "metadata": {},
   "source": [
    "<h3> y comparamos con el promedio...<h3>"
   ]
  },
  {
   "cell_type": "code",
   "execution_count": null,
   "metadata": {
    "collapsed": false
   },
   "outputs": [],
   "source": [
    "#u = 200\n",
    "Q = evaluarGraphLearningMean6Grande(0.6,0.2,true)\n",
    "plot(1:1:30,Q,label=\"NumExperimentos=100\")\n",
    "grid(\"on\")\n",
    "legend(bbox_to_anchor=[1.05,1],loc=2,borderaxespad=0)"
   ]
  },
  {
   "cell_type": "markdown",
   "metadata": {
    "collapsed": true
   },
   "source": [
    "<h3> Por ultimo comparamos con el metodo lineal<h3>"
   ]
  },
  {
   "cell_type": "code",
   "execution_count": null,
   "metadata": {
    "collapsed": true
   },
   "outputs": [],
   "source": [
    "tic()\n",
    "P = evaluarGraphLearninglineal6grande(0.6,0.2,0.01,false)\n",
    "for s in [0.05,0.1,0.15,0.2,1.5,2]\n",
    "    A = evaluarGraphLearninglineal6grande(0.6,0.2,s,false)\n",
    "    P = [P A]\n",
    "    println(s)\n",
    "end\n",
    "toc()"
   ]
  },
  {
   "cell_type": "code",
   "execution_count": null,
   "metadata": {
    "collapsed": false
   },
   "outputs": [],
   "source": [
    "#8.3 min\n",
    "plot(1:1:30,P[1:30,1],label=\"delta=0.01\")\n",
    "plot(1:1:30,P[1:30,2],label=\"delta=0.05\")\n",
    "plot(1:1:30,P[1:30,3],label=\"delta=0.1\")\n",
    "plot(1:1:30,P[1:30,4],label=\"delta=0.15\")\n",
    "plot(1:1:30,P[1:30,5],label=\"delta=0.2\")\n",
    "plot(1:1:30,P[1:30,6],label=\"delta=1.5\")\n",
    "plot(1:1:30,P[1:30,7],label=\"delta=2\")\n",
    "grid(\"on\")\n",
    "legend(bbox_to_anchor=[1.05,1],loc=2,borderaxespad=0)"
   ]
  },
  {
   "cell_type": "code",
   "execution_count": null,
   "metadata": {
    "collapsed": true
   },
   "outputs": [],
   "source": [
    "\n"
   ]
  },
  {
   "cell_type": "markdown",
   "metadata": {},
   "source": [
    "<h2>Comparacion de las diferentes recuperaciones manteniendo las observaciones fijas.<h2>"
   ]
  },
  {
   "cell_type": "markdown",
   "metadata": {},
   "source": [
    "<h3>Fijamos grafos con 3 clusters, de tamanos 8,17 y 25. Proba de conectar intracluster:0.75. Proba de contectar afuera de cluster:\n",
    "0.2<h3>"
   ]
  },
  {
   "cell_type": "markdown",
   "metadata": {},
   "source": [
    "<h3>N=3<h3>"
   ]
  },
  {
   "cell_type": "code",
   "execution_count": null,
   "metadata": {
    "collapsed": false
   },
   "outputs": [],
   "source": [
    "resultadoL1=evaluarLinearGraphLearning4(0.75,0.2,3,0:0.5:10)\n"
   ]
  },
  {
   "cell_type": "code",
   "execution_count": null,
   "metadata": {
    "collapsed": false
   },
   "outputs": [],
   "source": [
    "resultadoL2=evaluarl2GraphLearning4(0.75,0.2,3,0:0.5:10)\n"
   ]
  },
  {
   "cell_type": "code",
   "execution_count": null,
   "metadata": {
    "collapsed": false
   },
   "outputs": [],
   "source": [
    "resultadoEspectral=evaluarADMMGraphLearning4(0.75,0.2,3,0:0.5:10)"
   ]
  },
  {
   "cell_type": "code",
   "execution_count": null,
   "metadata": {
    "collapsed": false
   },
   "outputs": [],
   "source": [
    "1+1"
   ]
  },
  {
   "cell_type": "code",
   "execution_count": null,
   "metadata": {
    "collapsed": false
   },
   "outputs": [],
   "source": [
    "#Este valor es constante ya no que delta no juega ningun papel en la recuperacion por promedio.\n",
    "ErrorRecuperaRedondeado=meanGraphErrorObtained(0.75,0.2,3)\n",
    "resultadoPromedioRedondeado = fill(ErrorRecuperaRedondeado,length(resultadoL1[2]))"
   ]
  },
  {
   "cell_type": "code",
   "execution_count": null,
   "metadata": {
    "collapsed": false
   },
   "outputs": [],
   "source": [
    "interval= resultadoL1[2]\n",
    "plot(interval,resultadoL1[1],label=\"Recovery using norm 1, 3 observations\",\"-b^\")\n",
    "title(\"Error of recovery for different norms and varying \\$\\\\delta\\$\")\n"
   ]
  },
  {
   "cell_type": "code",
   "execution_count": null,
   "metadata": {
    "collapsed": false
   },
   "outputs": [],
   "source": [
    "interval= resultadoL1[2]\n",
    "plot(interval,resultadoL1[1],label=\"Recovery using norm 1, 3 observations.\",\"-bo\")\n",
    "p = zeros(length(interval))\n",
    "plot(interval,resultadoL2[1],label=\"Recovery with norm 2, 3 observations.\",\"-gs\")\n",
    "plot(interval,resultadoEspectral[1],label=\"Recovery using spectral norm, 3 observations.\",\"-m+\")\n",
    "plot(interval,resultadoPromedioRedondeado,label=\"Recovery using the rounded mean, 3 observations.\",\"-r^\")\n",
    "plot(interval,p,label=\"y=0.\")\n",
    "grid(\"on\")\n",
    "legend(bbox_to_anchor=[1.05,1],loc=2,borderaxespad=0)\n",
    "title(\"Error of recovery for different norms with 3 observations and varying \\$\\\\delta\\$\")\n"
   ]
  },
  {
   "cell_type": "code",
   "execution_count": null,
   "metadata": {
    "collapsed": true
   },
   "outputs": [],
   "source": []
  },
  {
   "cell_type": "code",
   "execution_count": null,
   "metadata": {
    "collapsed": false
   },
   "outputs": [],
   "source": [
    "interval= resultadoL1[2]\n",
    "plot(interval,resultadoL1[1],label=\"recuperacion con norma 1, 3 observaciones\")\n",
    "p = zeros(length(interval))\n",
    "plot(interval,p,label=\"y=0\")\n",
    "plot(interval,resultadoL2[1],label=\"recuperacion con norma 2, 3 observaciones\")\n",
    "plot(interval,resultadoEspectral[1],label=\"recuperacion espectral(ADMM), 3 observaciones\")\n",
    "plot(interval,resultadoPromedioRedondeado,label=\"recuperacion promedio redondeado, 3 observaciones\")\n",
    "\n",
    "grid(\"on\")\n",
    "legend(bbox_to_anchor=[1.05,1],loc=2,borderaxespad=0)"
   ]
  },
  {
   "cell_type": "markdown",
   "metadata": {},
   "source": [
    "<h3>N=5<h3>"
   ]
  },
  {
   "cell_type": "code",
   "execution_count": null,
   "metadata": {
    "collapsed": true
   },
   "outputs": [],
   "source": [
    "resultadoL1=evaluarLinearGraphLearning4(0.75,0.2,5,0:0.5:10)\n",
    "resultadoL2=evaluarl2GraphLearning4(0.75,0.2,5,0:0.5:10)\n",
    "resultadoEspectral=evaluarADMMGraphLearning4(0.75,0.2,5,0:0.5:10)\n",
    "ErrorRecuperaRedondeado=meanGraphErrorObtained(0.75,0.2,5)\n",
    "resultadoPromedioRedondeado = fill(ErrorRecuperaRedondeado,length(resultadoL1[2]))"
   ]
  },
  {
   "cell_type": "code",
   "execution_count": null,
   "metadata": {
    "collapsed": false
   },
   "outputs": [],
   "source": [
    "interval= resultadoL1[2]\n",
    "plot(interval,resultadoL1[1],label=\"recuperacion con norma 1, 5 observaciones\")\n",
    "p = zeros(length(interval))\n",
    "plot(interval,p,label=\"y=0\")\n",
    "plot(interval,resultadoL2[1],label=\"recuperacion con norma 2, 5 observaciones\")\n",
    "plot(interval,resultadoEspectral[1],label=\"recuperacion espectral(ADMM), 5 observaciones\")\n",
    "plot(interval,resultadoPromedioRedondeado,label=\"recuperacion promedio redondeado, 5 observaciones\")\n",
    "\n",
    "grid(\"on\")\n",
    "legend(bbox_to_anchor=[1.05,1],loc=2,borderaxespad=0)"
   ]
  },
  {
   "cell_type": "markdown",
   "metadata": {},
   "source": [
    "<h3>N=7<h3>"
   ]
  },
  {
   "cell_type": "code",
   "execution_count": null,
   "metadata": {
    "collapsed": false
   },
   "outputs": [],
   "source": [
    "resultadoL1=evaluarLinearGraphLearning4(0.75,0.2,7,0:0.5:10)\n",
    "resultadoL2=evaluarl2GraphLearning4(0.75,0.2,7,0:0.5:10)\n",
    "resultadoEspectral=evaluarADMMGraphLearning4(0.75,0.2,7,0:0.5:10)\n",
    "ErrorRecuperaRedondeado=meanGraphErrorObtained(0.75,0.2,7)\n",
    "resultadoPromedioRedondeado = fill(ErrorRecuperaRedondeado,length(resultadoL1[2]))"
   ]
  },
  {
   "cell_type": "code",
   "execution_count": null,
   "metadata": {
    "collapsed": false
   },
   "outputs": [],
   "source": [
    "interval= resultadoL1[2]\n",
    "plot(interval,resultadoL1[1],label=\"Recovery using norm 1, 10 observations.\",\"-bo\")\n",
    "p = zeros(length(interval))\n",
    "plot(interval,resultadoL2[1],label=\"Recovery with norm 2, 7 observations.\",\"-gs\")\n",
    "plot(interval,resultadoEspectral[1],label=\"Recovery using spectral norm, 7 observations.\",\"-m+\")\n",
    "plot(interval,resultadoPromedioRedondeado,label=\"Recovery using the rounded mean, 7 observations.\",\"-r^\")\n",
    "plot(interval,p,label=\"y=0\")\n",
    "grid(\"on\")\n",
    "legend(bbox_to_anchor=[1.05,1],loc=2,borderaxespad=0)\n",
    "title(\"Error of recovery for different norms with 7 observations and varying \\$\\\\delta\\$\")\n",
    "\n",
    "\n",
    "\n",
    "\n",
    "\n",
    "\n",
    "\n",
    "\n",
    "\n",
    "\n",
    "\n",
    "\n"
   ]
  },
  {
   "cell_type": "markdown",
   "metadata": {},
   "source": [
    "<h3>N=20<h3>"
   ]
  },
  {
   "cell_type": "code",
   "execution_count": null,
   "metadata": {
    "collapsed": true
   },
   "outputs": [],
   "source": [
    "resultadoL1=evaluarLinearGraphLearning4(0.75,0.2,20,0:0.5:10)\n",
    "resultadoL2=evaluarl2GraphLearning4(0.75,0.2,20,0:0.5:10)\n",
    "resultadoEspectral=evaluarADMMGraphLearning4(0.75,0.2,20,0:0.5:10)\n",
    "ErrorRecuperaRedondeado=meanGraphErrorObtained(0.75,0.2,20)\n",
    "resultadoPromedioRedondeado = fill(ErrorRecuperaRedondeado,length(resultadoL1[2]))"
   ]
  },
  {
   "cell_type": "code",
   "execution_count": null,
   "metadata": {
    "collapsed": false
   },
   "outputs": [],
   "source": [
    "interval= resultadoL1[2]\n",
    "plot(interval,resultadoL1[1],label=\"recuperacion con norma 1,20 observaciones\")\n",
    "p = zeros(length(interval))\n",
    "plot(interval,p,label=\"y=0\")\n",
    "plot(interval,resultadoL2[1],label=\"recuperacion con norma 2, 20 observaciones\")\n",
    "plot(interval,resultadoEspectral[1],label=\"recuperacion espectral(ADMM), 20 observaciones\")\n",
    "plot(interval,resultadoPromedioRedondeado,label=\"recuperacion promedio redondeado, 20 observaciones\")\n",
    "\n",
    "grid(\"on\")\n",
    "legend(bbox_to_anchor=[1.05,1],loc=2,borderaxespad=0)"
   ]
  },
  {
   "cell_type": "markdown",
   "metadata": {},
   "source": [
    "<h3>N=1<h3>"
   ]
  },
  {
   "cell_type": "code",
   "execution_count": null,
   "metadata": {
    "collapsed": true
   },
   "outputs": [],
   "source": [
    "resultadoL1=evaluarLinearGraphLearning4(0.75,0.2,1,0:0.5:10)\n",
    "resultadoL2=evaluarl2GraphLearning4(0.75,0.2,1,0:0.5:10)\n",
    "resultadoEspectral=evaluarADMMGraphLearning4(0.75,0.2,1,0:0.5:10)\n",
    "ErrorRecuperaRedondeado=meanGraphErrorObtained(0.75,0.2,1)\n",
    "resultadoPromedioRedondeado = fill(ErrorRecuperaRedondeado,length(resultadoL1[2]))"
   ]
  },
  {
   "cell_type": "code",
   "execution_count": null,
   "metadata": {
    "collapsed": false
   },
   "outputs": [],
   "source": [
    "interval= resultadoL1[2]\n",
    "plot(interval,resultadoL1[1],label=\"recuperacion con norma 1, 1observaciones\")\n",
    "p = zeros(length(interval))\n",
    "plot(interval,p,label=\"y=0\")\n",
    "plot(interval,resultadoL2[1],label=\"recuperacion con norma 2, 1 observaciones\")\n",
    "plot(interval,resultadoEspectral[1],label=\"recuperacion espectral(ADMM), 1 observaciones\")\n",
    "plot(interval,resultadoPromedioRedondeado,label=\"recuperacion promedio redondeado, 1 observaciones\")\n",
    "\n",
    "grid(\"on\")\n",
    "legend(bbox_to_anchor=[1.05,1],loc=2,borderaxespad=0)"
   ]
  },
  {
   "cell_type": "code",
   "execution_count": null,
   "metadata": {
    "collapsed": true
   },
   "outputs": [],
   "source": []
  },
  {
   "cell_type": "code",
   "execution_count": null,
   "metadata": {
    "collapsed": false
   },
   "outputs": [],
   "source": [
    "#resultadoMosek = evaluarspectralGraphLearning4(0.75,0.2,3,0:0.5:8)\n",
    "resultadoEspectral=evaluarADMMGraphLearning4(0.75,0.2,3,0:0.5:8)\n",
    "interval= resultadoMosek[2]\n",
    "plot(interval,resultadoMosek[1],label=\"recuperacion con mosek, 1observaciones\")\n",
    "p = zeros(length(interval))\n",
    "plot(interval,p,label=\"y=0\")\n",
    "plot(interval,resultadoEspectral[1],label=\"recuperacion con admm, 1 observaciones\")\n",
    "\n",
    "grid(\"on\")\n",
    "legend(bbox_to_anchor=[1.05,1],loc=2,borderaxespad=0)"
   ]
  },
  {
   "cell_type": "code",
   "execution_count": null,
   "metadata": {
    "collapsed": false
   },
   "outputs": [],
   "source": [
    "papa = 0:0.01:8"
   ]
  },
  {
   "cell_type": "code",
   "execution_count": null,
   "metadata": {
    "collapsed": false
   },
   "outputs": [],
   "source": [
    "alpha = 0.25"
   ]
  },
  {
   "cell_type": "code",
   "execution_count": null,
   "metadata": {
    "collapsed": false
   },
   "outputs": [],
   "source": [
    "n = 50"
   ]
  },
  {
   "cell_type": "code",
   "execution_count": null,
   "metadata": {
    "collapsed": false
   },
   "outputs": [],
   "source": [
    "func=function(delta)\n",
    "    return(delta*(alpha-delta/n)^2/(1+2*delta/n))\n",
    "end"
   ]
  },
  {
   "cell_type": "code",
   "execution_count": null,
   "metadata": {
    "collapsed": false
   },
   "outputs": [],
   "source": [
    "resultado= map(func,papa\n",
    ")"
   ]
  },
  {
   "cell_type": "code",
   "execution_count": null,
   "metadata": {
    "collapsed": false
   },
   "outputs": [],
   "source": [
    "plot(papa,resultado)\n",
    "grid(\"on\")\n",
    "legend(bbox_to_anchor=[1.05,1],loc=2,borderaxespad=0)"
   ]
  },
  {
   "cell_type": "code",
   "execution_count": null,
   "metadata": {
    "collapsed": true
   },
   "outputs": [],
   "source": []
  },
  {
   "cell_type": "code",
   "execution_count": null,
   "metadata": {
    "collapsed": true
   },
   "outputs": [],
   "source": [
    "learnGraph(weights,delta,B,n)"
   ]
  },
  {
   "cell_type": "code",
   "execution_count": null,
   "metadata": {
    "collapsed": false
   },
   "outputs": [],
   "source": [
    "B=Array{Any}(3)\n",
    "B[1]=erdosgraph([0.75,0.75],0.2,[15,15],30)\n",
    "B[2]=erdosgraph([0.75,0.75],0.2,[15,15],30)\n",
    "B[3]=erdosgraph([0.75,0.75],0.2,[15,15],30)\n",
    "\n",
    "respuesta=learnEspectralGraph(ones(3)/3,0.8,B,30)"
   ]
  },
  {
   "cell_type": "code",
   "execution_count": null,
   "metadata": {
    "collapsed": false
   },
   "outputs": [],
   "source": [
    "respuesta[1]"
   ]
  },
  {
   "cell_type": "code",
   "execution_count": null,
   "metadata": {
    "collapsed": false
   },
   "outputs": [],
   "source": [
    "admm = admmRecovery(B,0.8,30,3.2,1.0e-4,400)"
   ]
  },
  {
   "cell_type": "code",
   "execution_count": null,
   "metadata": {
    "collapsed": false
   },
   "outputs": [],
   "source": [
    "papa = (admm[1]+ones(30)*ones(30)')/2"
   ]
  },
  {
   "cell_type": "code",
   "execution_count": null,
   "metadata": {
    "collapsed": false
   },
   "outputs": [],
   "source": [
    "norm(papa-respuesta[1],2)"
   ]
  },
  {
   "cell_type": "markdown",
   "metadata": {
    "collapsed": true
   },
   "source": [
    "<h3>Recuperacion usando ADMM, cambiando los parametros pintro y outra<h3>"
   ]
  },
  {
   "cell_type": "code",
   "execution_count": 3,
   "metadata": {
    "collapsed": false
   },
   "outputs": [
    {
     "name": "stdout",
     "output_type": "stream",
     "text": [
      "23exceeded max number of iteration at solving\n",
      "4exceeded max number of iteration at solving\n",
      "exceeded max number of iteration at solving\n",
      "5exceeded max number of iteration at solving\n",
      "exceeded max number of iteration at solving\n",
      "6exceeded max number of iteration at solving\n",
      "exceeded max number of iteration at solving\n",
      "789101112123exceeded max number of iteration at solving\n",
      "exceeded max number of iteration at solving\n",
      "4exceeded max number of iteration at solving\n",
      "exceeded max number of iteration at solving\n",
      "exceeded max number of iteration at solving\n",
      "exceeded max number of iteration at solving\n",
      "5exceeded max number of iteration at solving\n",
      "exceeded max number of iteration at solving\n",
      "exceeded max number of iteration at solving\n",
      "exceeded max number of iteration at solving\n",
      "exceeded max number of iteration at solving\n",
      "6exceeded max number of iteration at solving\n",
      "exceeded max number of iteration at solving\n",
      "exceeded max number of iteration at solving\n",
      "7exceeded max number of iteration at solving\n",
      "exceeded max number of iteration at solving\n",
      "8exceeded max number of iteration at solving\n",
      "exceeded max number of iteration at solving\n",
      "9exceeded max number of iteration at solving\n",
      "exceeded max number of iteration at solving\n",
      "exceeded max number of iteration at solving\n",
      "10exceeded max number of iteration at solving\n",
      "exceeded max number of iteration at solving\n",
      "11exceeded max number of iteration at solving\n",
      "exceeded max number of iteration at solving\n",
      "exceeded max number of iteration at solving\n",
      "1222exceeded max number of iteration at solving\n",
      "exceeded max number of iteration at solving\n",
      "3exceeded max number of iteration at solving\n",
      "exceeded max number of iteration at solving\n",
      "exceeded max number of iteration at solving\n",
      "exceeded max number of iteration at solving\n",
      "4exceeded max number of iteration at solving\n",
      "exceeded max number of iteration at solving\n",
      "exceeded max number of iteration at solving\n",
      "exceeded max number of iteration at solving\n",
      "exceeded max number of iteration at solving\n",
      "5exceeded max number of iteration at solving\n",
      "exceeded max number of iteration at solving\n",
      "exceeded max number of iteration at solving\n",
      "6exceeded max number of iteration at solving\n",
      "7exceeded max number of iteration at solving\n",
      "8exceeded max number of iteration at solving\n",
      "9exceeded max number of iteration at solving\n",
      "10exceeded max number of iteration at solving\n",
      "11exceeded max number of iteration at solving\n",
      "123exceeded max number of iteration at solving\n",
      "exceeded max number of iteration at solving\n",
      "exceeded max number of iteration at solving\n",
      "2exceeded max number of iteration at solving\n",
      "exceeded max number of iteration at solving\n",
      "exceeded max number of iteration at solving\n",
      "exceeded max number of iteration at solving\n",
      "exceeded max number of iteration at solving\n",
      "3exceeded max number of iteration at solving\n",
      "exceeded max number of iteration at solving\n",
      "exceeded max number of iteration at solving\n",
      "4exceeded max number of iteration at solving\n",
      "exceeded max number of iteration at solving\n",
      "567exceeded max number of iteration at solving\n",
      "8exceeded max number of iteration at solving\n",
      "910exceeded max number of iteration at solving\n",
      "11124exceeded max number of iteration at solving\n",
      "exceeded max number of iteration at solving\n",
      "exceeded max number of iteration at solving\n",
      "exceeded max number of iteration at solving\n",
      "exceeded max number of iteration at solving\n",
      "2exceeded max number of iteration at solving\n",
      "exceeded max number of iteration at solving\n",
      "exceeded max number of iteration at solving\n",
      "exceeded max number of iteration at solving\n",
      "3exceeded max number of iteration at solving\n",
      "4567exceeded max number of iteration at solving\n",
      "8exceeded max number of iteration at solving\n",
      "exceeded max number of iteration at solving\n",
      "exceeded max number of iteration at solving\n",
      "9exceeded max number of iteration at solving\n",
      "exceeded max number of iteration at solving\n",
      "1011exceeded max number of iteration at solving\n",
      "exceeded max number of iteration at solving\n",
      "125exceeded max number of iteration at solving\n",
      "exceeded max number of iteration at solving\n",
      "exceeded max number of iteration at solving\n",
      "exceeded max number of iteration at solving\n",
      "exceeded max number of iteration at solving\n",
      "2exceeded max number of iteration at solving\n",
      "exceeded max number of iteration at solving\n",
      "34exceeded max number of iteration at solving\n",
      "exceeded max number of iteration at solving\n",
      "56exceeded max number of iteration at solving\n",
      "7exceeded max number of iteration at solving\n",
      "8910exceeded max number of iteration at solving\n",
      "11exceeded max number of iteration at solving\n",
      "126exceeded max number of iteration at solving\n",
      "exceeded max number of iteration at solving\n",
      "exceeded max number of iteration at solving\n",
      "exceeded max number of iteration at solving\n",
      "exceeded max number of iteration at solving\n",
      "2exceeded max number of iteration at solving\n",
      "34exceeded max number of iteration at solving\n",
      "567exceeded max number of iteration at solving\n",
      "exceeded max number of iteration at solving\n",
      "exceeded max number of iteration at solving\n",
      "8exceeded max number of iteration at solving\n",
      "9exceeded max number of iteration at solving\n",
      "1011exceeded max number of iteration at solving\n",
      "127exceeded max number of iteration at solving\n",
      "exceeded max number of iteration at solving\n",
      "exceeded max number of iteration at solving\n",
      "2exceeded max number of iteration at solving\n",
      "34exceeded max number of iteration at solving\n",
      "exceeded max number of iteration at solving\n",
      "5678910exceeded max number of iteration at solving\n",
      "11exceeded max number of iteration at solving\n",
      "128exceeded max number of iteration at solving\n",
      "exceeded max number of iteration at solving\n",
      "exceeded max number of iteration at solving\n",
      "exceeded max number of iteration at solving\n",
      "exceeded max number of iteration at solving\n",
      "2exceeded max number of iteration at solving\n",
      "exceeded max number of iteration at solving\n",
      "3exceeded max number of iteration at solving\n",
      "45exceeded max number of iteration at solving\n",
      "6exceeded max number of iteration at solving\n",
      "exceeded max number of iteration at solving\n",
      "exceeded max number of iteration at solving\n",
      "78exceeded max number of iteration at solving\n",
      "910exceeded max number of iteration at solving\n",
      "exceeded max number of iteration at solving\n",
      "11exceeded max number of iteration at solving\n",
      "129exceeded max number of iteration at solving\n",
      "exceeded max number of iteration at solving\n",
      "exceeded max number of iteration at solving\n",
      "exceeded max number of iteration at solving\n",
      "exceeded max number of iteration at solving\n",
      "2exceeded max number of iteration at solving\n",
      "34exceeded max number of iteration at solving\n",
      "exceeded max number of iteration at solving\n",
      "567exceeded max number of iteration at solving\n",
      "exceeded max number of iteration at solving\n",
      "8910exceeded max number of iteration at solving\n",
      "11exceeded max number of iteration at solving\n",
      "1210exceeded max number of iteration at solving\n",
      "exceeded max number of iteration at solving\n",
      "exceeded max number of iteration at solving\n",
      "2exceeded max number of iteration at solving\n",
      "exceeded max number of iteration at solving\n",
      "3exceeded max number of iteration at solving\n",
      "456exceeded max number of iteration at solving\n",
      "7exceeded max number of iteration at solving\n",
      "8exceeded max number of iteration at solving\n",
      "910exceeded max number of iteration at solving\n",
      "exceeded max number of iteration at solving\n",
      "11"
     ]
    },
    {
     "data": {
      "text/plain": [
       "11×11 Array{Float64,2}:\n",
       " 391.343   432.155    462.742    …  651.891  704.817  732.019  789.887\n",
       " 361.916   399.068    438.072       616.362  679.121  697.906  732.781\n",
       " 288.613   368.178    378.048       582.749  627.665  656.815  704.641\n",
       " 280.187   330.76     353.54        553.13   601.169  591.229  645.18 \n",
       " 211.481   258.415    313.439       495.817  534.86   582.622  601.443\n",
       " 144.659   219.204    256.806    …  468.016  479.006  528.315  580.909\n",
       "  96.1393  163.029    197.976       418.647  451.918  491.941  531.837\n",
       "  38.1555   85.1661   152.329       382.391  418.19   459.782  474.392\n",
       "   0.0       9.25825   45.5618      331.168  377.124  422.627  458.997\n",
       "   0.0       2.8       18.3682      292.404  328.304  370.277  402.718\n",
       "   0.0       0.0        1.05541  …  249.509  305.115  327.967  389.599"
      ]
     },
     "execution_count": 3,
     "metadata": {},
     "output_type": "execute_result"
    },
    {
     "name": "stdout",
     "output_type": "stream",
     "text": [
      "1211"
     ]
    }
   ],
   "source": [
    "\n",
    "admm3p1 = evaluarADMMGraphLearning3(1.5,1)\n"
   ]
  },
  {
   "cell_type": "code",
   "execution_count": 4,
   "metadata": {
    "collapsed": false
   },
   "outputs": [
    {
     "data": {
      "text/plain": [
       "11×11 Array{Float64,2}:\n",
       " 391.343   432.155    462.742    …  651.891  704.817  732.019  789.887\n",
       " 361.916   399.068    438.072       616.362  679.121  697.906  732.781\n",
       " 288.613   368.178    378.048       582.749  627.665  656.815  704.641\n",
       " 280.187   330.76     353.54        553.13   601.169  591.229  645.18 \n",
       " 211.481   258.415    313.439       495.817  534.86   582.622  601.443\n",
       " 144.659   219.204    256.806    …  468.016  479.006  528.315  580.909\n",
       "  96.1393  163.029    197.976       418.647  451.918  491.941  531.837\n",
       "  38.1555   85.1661   152.329       382.391  418.19   459.782  474.392\n",
       "   0.0       9.25825   45.5618      331.168  377.124  422.627  458.997\n",
       "   0.0       2.8       18.3682      292.404  328.304  370.277  402.718\n",
       "   0.0       0.0        1.05541  …  249.509  305.115  327.967  389.599"
      ]
     },
     "execution_count": 4,
     "metadata": {},
     "output_type": "execute_result"
    }
   ],
   "source": [
    "admm3"
   ]
  },
  {
   "cell_type": "code",
   "execution_count": null,
   "metadata": {
    "collapsed": false
   },
   "outputs": [],
   "source": [
    "\n",
    "spectral3 =evaluarspectralGraphLearning3(1.5,1)"
   ]
  },
  {
   "cell_type": "code",
   "execution_count": 20,
   "metadata": {
    "collapsed": false
   },
   "outputs": [
    {
     "data": {
      "image/png": "[encoded data removed]",
      "text/plain": [
       "PyPlot.Figure(PyObject <matplotlib.figure.Figure object at 0x0000000024BAB9B0>)"
      ]
     },
     "metadata": {},
     "output_type": "display_data"
    },
    {
     "data": {
      "text/plain": [
       "PyObject Text(96.7035,0.5,u'Probability of an edge inside a cluster')"
      ]
     },
     "execution_count": 20,
     "metadata": {},
     "output_type": "execute_result"
    }
   ],
   "source": [
    "imshow(admm3)\n",
    "title(\"Probability of recovery with 1 observation for different values of \\$ p\\$ and \\$q\\$.\")\n",
    "xlabel(\"Probability of an edge between clusters\")\n",
    "ylabel(\"Probability of an edge inside a cluster\")"
   ]
  },
  {
   "cell_type": "code",
   "execution_count": null,
   "metadata": {
    "collapsed": true
   },
   "outputs": [],
   "source": [
    "admm3p2 = evaluarADMMGraphLearning3(1.5,3)\n"
   ]
  },
  {
   "cell_type": "code",
   "execution_count": 21,
   "metadata": {
    "collapsed": false
   },
   "outputs": [
    {
     "data": {
      "image/png": "[encoded data removed]",
      "text/plain": [
       "PyPlot.Figure(PyObject <matplotlib.figure.Figure object at 0x00000000356E2E48>)"
      ]
     },
     "metadata": {},
     "output_type": "display_data"
    },
    {
     "data": {
      "text/plain": [
       "PyObject Text(101.045,0.5,u'Probability of an edge inside a cluster.')"
      ]
     },
     "execution_count": 21,
     "metadata": {},
     "output_type": "execute_result"
    }
   ],
   "source": [
    "imshow(admm3p2)\n",
    "\n",
    "title(\"Probability of recovery with 3 observations for different values of \\$p\\$ and \\$q\\$.\")\n",
    "xlabel(\"Probability of an edge between clusters.\")\n",
    "ylabel(\"Probability of an edge inside a cluster.\")\n",
    "\n"
   ]
  },
  {
   "cell_type": "code",
   "execution_count": 18,
   "metadata": {
    "collapsed": false
   },
   "outputs": [
    {
     "name": "stdout",
     "output_type": "stream",
     "text": [
      "23456789exceeded max number of iteration at solving\n",
      "exceeded max number of iteration at solving\n",
      "10exceeded max number of iteration at solving\n",
      "exceeded max number of iteration at solving\n",
      "exceeded max number of iteration at solving\n",
      "exceeded max number of iteration at solving\n",
      "exceeded max number of iteration at solving\n",
      "11exceeded max number of iteration at solving\n",
      "exceeded max number of iteration at solving\n",
      "exceeded max number of iteration at solving\n",
      "exceeded max number of iteration at solving\n",
      "exceeded max number of iteration at solving\n",
      "12123456789exceeded max number of iteration at solving\n",
      "exceeded max number of iteration at solving\n",
      "10exceeded max number of iteration at solving\n",
      "exceeded max number of iteration at solving\n",
      "exceeded max number of iteration at solving\n",
      "exceeded max number of iteration at solving\n",
      "exceeded max number of iteration at solving\n",
      "11exceeded max number of iteration at solving\n",
      "exceeded max number of iteration at solving\n",
      "exceeded max number of iteration at solving\n",
      "exceeded max number of iteration at solving\n",
      "exceeded max number of iteration at solving\n",
      "12223456789exceeded max number of iteration at solving\n",
      "exceeded max number of iteration at solving\n",
      "10exceeded max number of iteration at solving\n",
      "exceeded max number of iteration at solving\n",
      "exceeded max number of iteration at solving\n",
      "exceeded max number of iteration at solving\n",
      "exceeded max number of iteration at solving\n",
      "11exceeded max number of iteration at solving\n",
      "exceeded max number of iteration at solving\n",
      "exceeded max number of iteration at solving\n",
      "exceeded max number of iteration at solving\n",
      "exceeded max number of iteration at solving\n",
      "12323456789exceeded max number of iteration at solving\n",
      "exceeded max number of iteration at solving\n",
      "exceeded max number of iteration at solving\n",
      "10exceeded max number of iteration at solving\n",
      "exceeded max number of iteration at solving\n",
      "exceeded max number of iteration at solving\n",
      "exceeded max number of iteration at solving\n",
      "exceeded max number of iteration at solving\n",
      "11exceeded max number of iteration at solving\n",
      "exceeded max number of iteration at solving\n",
      "exceeded max number of iteration at solving\n",
      "exceeded max number of iteration at solving\n",
      "exceeded max number of iteration at solving\n",
      "12423456789exceeded max number of iteration at solving\n",
      "exceeded max number of iteration at solving\n",
      "exceeded max number of iteration at solving\n",
      "exceeded max number of iteration at solving\n",
      "10exceeded max number of iteration at solving\n",
      "exceeded max number of iteration at solving\n",
      "exceeded max number of iteration at solving\n",
      "exceeded max number of iteration at solving\n",
      "exceeded max number of iteration at solving\n",
      "11exceeded max number of iteration at solving\n",
      "exceeded max number of iteration at solving\n",
      "exceeded max number of iteration at solving\n",
      "exceeded max number of iteration at solving\n",
      "exceeded max number of iteration at solving\n",
      "1252345678exceeded max number of iteration at solving\n",
      "9exceeded max number of iteration at solving\n",
      "exceeded max number of iteration at solving\n",
      "exceeded max number of iteration at solving\n",
      "10exceeded max number of iteration at solving\n",
      "exceeded max number of iteration at solving\n",
      "exceeded max number of iteration at solving\n",
      "exceeded max number of iteration at solving\n",
      "exceeded max number of iteration at solving\n",
      "11exceeded max number of iteration at solving\n",
      "exceeded max number of iteration at solving\n",
      "exceeded max number of iteration at solving\n",
      "exceeded max number of iteration at solving\n",
      "exceeded max number of iteration at solving\n",
      "1262345678exceeded max number of iteration at solving\n",
      "9exceeded max number of iteration at solving\n",
      "exceeded max number of iteration at solving\n",
      "exceeded max number of iteration at solving\n",
      "exceeded max number of iteration at solving\n",
      "exceeded max number of iteration at solving\n",
      "10exceeded max number of iteration at solving\n",
      "exceeded max number of iteration at solving\n",
      "exceeded max number of iteration at solving\n",
      "exceeded max number of iteration at solving\n",
      "exceeded max number of iteration at solving\n",
      "11exceeded max number of iteration at solving\n",
      "exceeded max number of iteration at solving\n",
      "exceeded max number of iteration at solving\n",
      "exceeded max number of iteration at solving\n",
      "exceeded max number of iteration at solving\n",
      "1272exceeded max number of iteration at solving\n",
      "34567exceeded max number of iteration at solving\n",
      "8exceeded max number of iteration at solving\n",
      "exceeded max number of iteration at solving\n",
      "exceeded max number of iteration at solving\n",
      "exceeded max number of iteration at solving\n",
      "exceeded max number of iteration at solving\n",
      "9exceeded max number of iteration at solving\n",
      "exceeded max number of iteration at solving\n",
      "exceeded max number of iteration at solving\n",
      "exceeded max number of iteration at solving\n",
      "exceeded max number of iteration at solving\n",
      "10exceeded max number of iteration at solving\n",
      "exceeded max number of iteration at solving\n",
      "exceeded max number of iteration at solving\n",
      "exceeded max number of iteration at solving\n",
      "exceeded max number of iteration at solving\n",
      "11exceeded max number of iteration at solving\n",
      "exceeded max number of iteration at solving\n",
      "exceeded max number of iteration at solving\n",
      "exceeded max number of iteration at solving\n",
      "exceeded max number of iteration at solving\n",
      "128exceeded max number of iteration at solving\n",
      "exceeded max number of iteration at solving\n",
      "exceeded max number of iteration at solving\n",
      "exceeded max number of iteration at solving\n",
      "2exceeded max number of iteration at solving\n",
      "exceeded max number of iteration at solving\n",
      "exceeded max number of iteration at solving\n",
      "exceeded max number of iteration at solving\n",
      "exceeded max number of iteration at solving\n",
      "3exceeded max number of iteration at solving\n",
      "exceeded max number of iteration at solving\n",
      "4exceeded max number of iteration at solving\n",
      "exceeded max number of iteration at solving\n",
      "5exceeded max number of iteration at solving\n",
      "exceeded max number of iteration at solving\n",
      "exceeded max number of iteration at solving\n",
      "exceeded max number of iteration at solving\n",
      "6exceeded max number of iteration at solving\n",
      "exceeded max number of iteration at solving\n",
      "exceeded max number of iteration at solving\n",
      "exceeded max number of iteration at solving\n",
      "7exceeded max number of iteration at solving\n",
      "exceeded max number of iteration at solving\n",
      "exceeded max number of iteration at solving\n",
      "exceeded max number of iteration at solving\n",
      "exceeded max number of iteration at solving\n",
      "8exceeded max number of iteration at solving\n",
      "exceeded max number of iteration at solving\n",
      "exceeded max number of iteration at solving\n",
      "exceeded max number of iteration at solving\n",
      "9exceeded max number of iteration at solving\n",
      "exceeded max number of iteration at solving\n",
      "exceeded max number of iteration at solving\n",
      "exceeded max number of iteration at solving\n",
      "exceeded max number of iteration at solving\n",
      "10exceeded max number of iteration at solving\n",
      "exceeded max number of iteration at solving\n",
      "exceeded max number of iteration at solving\n",
      "exceeded max number of iteration at solving\n",
      "exceeded max number of iteration at solving\n",
      "11exceeded max number of iteration at solving\n",
      "exceeded max number of iteration at solving\n",
      "exceeded max number of iteration at solving\n",
      "exceeded max number of iteration at solving\n",
      "exceeded max number of iteration at solving\n",
      "129exceeded max number of iteration at solving\n",
      "exceeded max number of iteration at solving\n",
      "exceeded max number of iteration at solving\n",
      "exceeded max number of iteration at solving\n",
      "exceeded max number of iteration at solving\n",
      "2exceeded max number of iteration at solving\n",
      "exceeded max number of iteration at solving\n",
      "exceeded max number of iteration at solving\n",
      "exceeded max number of iteration at solving\n",
      "exceeded max number of iteration at solving\n",
      "3exceeded max number of iteration at solving\n",
      "exceeded max number of iteration at solving\n",
      "exceeded max number of iteration at solving\n",
      "exceeded max number of iteration at solving\n",
      "exceeded max number of iteration at solving\n",
      "4exceeded max number of iteration at solving\n",
      "exceeded max number of iteration at solving\n",
      "exceeded max number of iteration at solving\n",
      "exceeded max number of iteration at solving\n",
      "exceeded max number of iteration at solving\n",
      "5exceeded max number of iteration at solving\n",
      "exceeded max number of iteration at solving\n",
      "exceeded max number of iteration at solving\n",
      "exceeded max number of iteration at solving\n",
      "exceeded max number of iteration at solving\n",
      "6exceeded max number of iteration at solving\n",
      "exceeded max number of iteration at solving\n",
      "exceeded max number of iteration at solving\n",
      "exceeded max number of iteration at solving\n",
      "exceeded max number of iteration at solving\n",
      "7exceeded max number of iteration at solving\n",
      "exceeded max number of iteration at solving\n",
      "exceeded max number of iteration at solving\n",
      "exceeded max number of iteration at solving\n",
      "exceeded max number of iteration at solving\n",
      "8exceeded max number of iteration at solving\n",
      "exceeded max number of iteration at solving\n",
      "exceeded max number of iteration at solving\n",
      "exceeded max number of iteration at solving\n",
      "exceeded max number of iteration at solving\n",
      "9exceeded max number of iteration at solving\n",
      "exceeded max number of iteration at solving\n",
      "exceeded max number of iteration at solving\n",
      "exceeded max number of iteration at solving\n",
      "exceeded max number of iteration at solving\n",
      "10exceeded max number of iteration at solving\n",
      "exceeded max number of iteration at solving\n",
      "exceeded max number of iteration at solving\n",
      "exceeded max number of iteration at solving\n",
      "exceeded max number of iteration at solving\n",
      "11exceeded max number of iteration at solving\n",
      "exceeded max number of iteration at solving\n",
      "exceeded max number of iteration at solving\n",
      "exceeded max number of iteration at solving\n",
      "exceeded max number of iteration at solving\n",
      "1210exceeded max number of iteration at solving\n",
      "exceeded max number of iteration at solving\n",
      "exceeded max number of iteration at solving\n",
      "exceeded max number of iteration at solving\n",
      "exceeded max number of iteration at solving\n",
      "2exceeded max number of iteration at solving\n",
      "exceeded max number of iteration at solving\n",
      "exceeded max number of iteration at solving\n",
      "exceeded max number of iteration at solving\n",
      "exceeded max number of iteration at solving\n",
      "3exceeded max number of iteration at solving\n",
      "exceeded max number of iteration at solving\n",
      "exceeded max number of iteration at solving\n",
      "exceeded max number of iteration at solving\n",
      "exceeded max number of iteration at solving\n",
      "4exceeded max number of iteration at solving\n",
      "exceeded max number of iteration at solving\n",
      "exceeded max number of iteration at solving\n",
      "exceeded max number of iteration at solving\n",
      "exceeded max number of iteration at solving\n",
      "5exceeded max number of iteration at solving\n",
      "exceeded max number of iteration at solving\n",
      "exceeded max number of iteration at solving\n",
      "exceeded max number of iteration at solving\n",
      "exceeded max number of iteration at solving\n",
      "6exceeded max number of iteration at solving\n",
      "exceeded max number of iteration at solving\n",
      "exceeded max number of iteration at solving\n",
      "exceeded max number of iteration at solving\n",
      "exceeded max number of iteration at solving\n",
      "7exceeded max number of iteration at solving\n",
      "exceeded max number of iteration at solving\n",
      "exceeded max number of iteration at solving\n",
      "exceeded max number of iteration at solving\n",
      "exceeded max number of iteration at solving\n",
      "8exceeded max number of iteration at solving\n",
      "exceeded max number of iteration at solving\n",
      "exceeded max number of iteration at solving\n",
      "exceeded max number of iteration at solving\n",
      "exceeded max number of iteration at solving\n",
      "9exceeded max number of iteration at solving\n",
      "exceeded max number of iteration at solving\n",
      "exceeded max number of iteration at solving\n",
      "exceeded max number of iteration at solving\n",
      "exceeded max number of iteration at solving\n",
      "10exceeded max number of iteration at solving\n",
      "exceeded max number of iteration at solving\n",
      "exceeded max number of iteration at solving\n",
      "exceeded max number of iteration at solving\n",
      "exceeded max number of iteration at solving\n",
      "11exceeded max number of iteration at solving\n",
      "exceeded max number of iteration at solving\n",
      "exceeded max number of iteration at solving\n",
      "exceeded max number of iteration at solving\n"
     ]
    },
    {
     "data": {
      "text/plain": [
       "11×11 Array{Float64,2}:\n",
       " 365.071   388.373    372.761    381.761   …  613.57     698.87   777.325\n",
       " 199.619   204.671    170.501    216.994      432.252    571.422  675.479\n",
       "  15.9778   44.251      9.85997   44.2769     296.917    427.93   576.703\n",
       "   0.0       1.94438    0.0        0.0        111.488    284.36   482.95 \n",
       "   0.0       0.0        0.0        0.0         37.2349   223.93   409.471\n",
       "   0.0       0.0        0.0        0.0     …   17.9957   174.687  372.616\n",
       "   0.0       0.0        0.0        0.0         26.0359   187.968  381.31 \n",
       "   0.0       0.0        0.0        0.0         22.1996   196.19   398.696\n",
       "   0.0       0.0        0.0        0.0          8.09697  197.455  357.583\n",
       "   0.0       0.0        0.0        0.0          6.49876  145.364  382.691\n",
       "   0.0       0.0        0.0        0.0     …   24.68     150.305  393.851"
      ]
     },
     "execution_count": 18,
     "metadata": {},
     "output_type": "execute_result"
    },
    {
     "name": "stdout",
     "output_type": "stream",
     "text": [
      "exceeded max number of iteration at solving\n",
      "1211"
     ]
    }
   ],
   "source": [
    "admm3p3 = evaluarADMMGraphLearning3(0.8,7)\n"
   ]
  },
  {
   "cell_type": "code",
   "execution_count": 22,
   "metadata": {
    "collapsed": false
   },
   "outputs": [
    {
     "data": {
      "image/png": "[encoded data removed]",
      "text/plain": [
       "PyPlot.Figure(PyObject <matplotlib.figure.Figure object at 0x00000000361CB358>)"
      ]
     },
     "metadata": {},
     "output_type": "display_data"
    },
    {
     "data": {
      "text/plain": [
       "PyObject Text(101.045,0.5,u'Probability of an edge inside a cluster')"
      ]
     },
     "execution_count": 22,
     "metadata": {},
     "output_type": "execute_result"
    }
   ],
   "source": [
    "imshow(admm3p3)\n",
    "\n",
    "title(\"Probability of recovery with 7 observations for different values of \\$p\\$ and \\$q\\$.\")\n",
    "xlabel(\"Probability of an edge between clusters\")\n",
    "ylabel(\"Probability of an edge inside a cluster\")"
   ]
  },
  {
   "cell_type": "code",
   "execution_count": 27,
   "metadata": {
    "collapsed": false
   },
   "outputs": [
    {
     "data": {
      "image/png": "[encoded data removed]",
      "text/plain": [
       "PyPlot.Figure(PyObject <matplotlib.figure.Figure object at 0x0000000035E50C50>)"
      ]
     },
     "metadata": {},
     "output_type": "display_data"
    },
    {
     "data": {
      "text/plain": [
       "PyObject Text(106.347,0.5,u'Probability of an edge inside a cluster')"
      ]
     },
     "execution_count": 27,
     "metadata": {},
     "output_type": "execute_result"
    }
   ],
   "source": [
    "imshow(admm3p4)\n",
    "\n",
    "title(\"Probability of recovery with 25 observations for different values of \\$p\\$ and \\$q\\$.\")\n",
    "xlabel(\"Probability of an edge between clusters\")\n",
    "ylabel(\"Probability of an edge inside a cluster\")"
   ]
  },
  {
   "cell_type": "code",
   "execution_count": null,
   "metadata": {
    "collapsed": true
   },
   "outputs": [],
   "source": [
    "admm3p4 = evaluarADMMGraphLearning3(0.8,25)\n"
   ]
  },
  {
   "cell_type": "code",
   "execution_count": 3,
   "metadata": {
    "collapsed": false
   },
   "outputs": [
    {
     "data": {
      "text/plain": [
       "50×50 Array{Float64,2}:\n",
       " 1.0  1.0  1.0  1.0  1.0  1.0  1.0  1.0  …  0.0  0.0  0.0  0.0  0.0  0.0  1.0\n",
       " 1.0  1.0  1.0  0.0  1.0  1.0  1.0  1.0     1.0  0.0  0.0  1.0  0.0  0.0  0.0\n",
       " 1.0  1.0  1.0  1.0  1.0  1.0  1.0  0.0     0.0  0.0  0.0  1.0  0.0  0.0  0.0\n",
       " 1.0  0.0  1.0  1.0  1.0  1.0  1.0  1.0     0.0  0.0  0.0  0.0  0.0  0.0  0.0\n",
       " 1.0  1.0  1.0  1.0  1.0  1.0  1.0  1.0     0.0  1.0  0.0  0.0  0.0  0.0  0.0\n",
       " 1.0  1.0  1.0  1.0  1.0  1.0  1.0  1.0  …  0.0  1.0  0.0  0.0  0.0  0.0  1.0\n",
       " 1.0  1.0  1.0  1.0  1.0  1.0  1.0  0.0     0.0  0.0  0.0  1.0  0.0  0.0  0.0\n",
       " 1.0  1.0  0.0  1.0  1.0  1.0  0.0  1.0     1.0  1.0  1.0  0.0  0.0  0.0  1.0\n",
       " 1.0  1.0  1.0  1.0  0.0  1.0  1.0  1.0     0.0  0.0  0.0  1.0  0.0  1.0  0.0\n",
       " 1.0  1.0  0.0  1.0  1.0  1.0  1.0  1.0     0.0  0.0  0.0  0.0  0.0  0.0  0.0\n",
       " 1.0  0.0  0.0  1.0  1.0  1.0  0.0  1.0  …  0.0  0.0  0.0  0.0  0.0  0.0  1.0\n",
       " 1.0  1.0  0.0  1.0  1.0  1.0  0.0  1.0     0.0  1.0  0.0  0.0  0.0  0.0  0.0\n",
       " 1.0  1.0  1.0  1.0  1.0  1.0  1.0  1.0     1.0  0.0  1.0  0.0  1.0  0.0  0.0\n",
       " ⋮                        ⋮              ⋱            ⋮                      \n",
       " 0.0  0.0  1.0  0.0  0.0  0.0  0.0  0.0     1.0  1.0  1.0  1.0  1.0  0.0  1.0\n",
       " 1.0  0.0  1.0  0.0  1.0  0.0  1.0  0.0     1.0  1.0  1.0  1.0  1.0  0.0  1.0\n",
       " 0.0  0.0  0.0  0.0  1.0  0.0  0.0  0.0  …  1.0  1.0  0.0  1.0  1.0  1.0  1.0\n",
       " 0.0  0.0  0.0  1.0  0.0  0.0  0.0  1.0     1.0  0.0  1.0  0.0  1.0  1.0  1.0\n",
       " 0.0  0.0  1.0  0.0  1.0  0.0  0.0  1.0     1.0  1.0  1.0  1.0  0.0  0.0  0.0\n",
       " 0.0  1.0  0.0  0.0  0.0  0.0  0.0  1.0     1.0  1.0  1.0  1.0  1.0  0.0  1.0\n",
       " 0.0  0.0  0.0  0.0  1.0  1.0  0.0  1.0     1.0  1.0  1.0  1.0  1.0  1.0  1.0\n",
       " 0.0  0.0  0.0  0.0  0.0  0.0  0.0  1.0  …  1.0  1.0  1.0  1.0  1.0  1.0  1.0\n",
       " 0.0  1.0  1.0  0.0  0.0  0.0  1.0  0.0     1.0  1.0  1.0  1.0  1.0  0.0  1.0\n",
       " 0.0  0.0  0.0  0.0  0.0  0.0  0.0  0.0     1.0  1.0  1.0  1.0  1.0  1.0  1.0\n",
       " 0.0  0.0  0.0  0.0  0.0  0.0  0.0  0.0     0.0  1.0  1.0  0.0  1.0  1.0  0.0\n",
       " 1.0  0.0  0.0  0.0  0.0  1.0  0.0  1.0     1.0  1.0  1.0  1.0  1.0  0.0  1.0"
      ]
     },
     "execution_count": 3,
     "metadata": {},
     "output_type": "execute_result"
    }
   ],
   "source": [
    "B=Array{Any}(2)\n",
    "grafo1 = erdosgraph([0.75,0.75],0.2,[15,35],50)\n",
    "grafo2 = erdosgraph([0.75,0.75],0.2,[15,35],50)\n",
    "B[1]=grafo1+diagm(ones(50))\n",
    "B[2]=grafo2+diagm(ones(50))\n"
   ]
  },
  {
   "cell_type": "code",
   "execution_count": 2,
   "metadata": {
    "collapsed": false
   },
   "outputs": [],
   "source": [
    "cd(\"C:\\\\Users\\\\Daniel\\\\MasterThesis\\\\GraphProyects\")\n"
   ]
  },
  {
   "cell_type": "code",
   "execution_count": 34,
   "metadata": {
    "collapsed": false
   },
   "outputs": [
    {
     "data": {
      "text/plain": [
       "50×50 Array{Float64,2}:\n",
       " 0.0  1.0  1.0  1.0  1.0  0.0  1.0  1.0  …  0.0  0.0  0.0  1.0  0.0  0.0  0.0\n",
       " 1.0  0.0  1.0  1.0  1.0  0.0  1.0  0.0     0.0  0.0  0.0  0.0  0.0  1.0  0.0\n",
       " 1.0  1.0  0.0  0.0  0.0  1.0  0.0  1.0     0.0  0.0  0.0  0.0  0.0  1.0  0.0\n",
       " 1.0  1.0  0.0  0.0  0.0  1.0  1.0  0.0     0.0  0.0  0.0  0.0  0.0  0.0  0.0\n",
       " 1.0  1.0  0.0  0.0  0.0  0.0  1.0  1.0     0.0  0.0  0.0  0.0  1.0  1.0  1.0\n",
       " 0.0  0.0  1.0  1.0  0.0  0.0  0.0  1.0  …  0.0  0.0  0.0  0.0  0.0  0.0  0.0\n",
       " 1.0  1.0  0.0  1.0  1.0  0.0  0.0  1.0     0.0  0.0  1.0  0.0  0.0  0.0  1.0\n",
       " 1.0  0.0  1.0  0.0  1.0  1.0  1.0  0.0     0.0  0.0  0.0  0.0  0.0  0.0  0.0\n",
       " 1.0  0.0  1.0  0.0  1.0  1.0  1.0  1.0     0.0  0.0  1.0  0.0  1.0  0.0  0.0\n",
       " 1.0  0.0  1.0  1.0  0.0  0.0  1.0  1.0     1.0  0.0  0.0  0.0  1.0  0.0  0.0\n",
       " 1.0  1.0  0.0  1.0  1.0  1.0  0.0  1.0  …  0.0  0.0  1.0  0.0  0.0  0.0  1.0\n",
       " 1.0  1.0  1.0  1.0  1.0  1.0  1.0  1.0     0.0  0.0  0.0  0.0  0.0  0.0  0.0\n",
       " 1.0  1.0  1.0  0.0  1.0  1.0  1.0  1.0     0.0  0.0  1.0  0.0  0.0  0.0  0.0\n",
       " ⋮                        ⋮              ⋱            ⋮                      \n",
       " 0.0  1.0  0.0  0.0  0.0  0.0  0.0  0.0     0.0  0.0  0.0  1.0  0.0  0.0  0.0\n",
       " 0.0  0.0  0.0  0.0  0.0  0.0  1.0  0.0     0.0  0.0  0.0  1.0  0.0  0.0  1.0\n",
       " 0.0  0.0  0.0  1.0  0.0  0.0  0.0  0.0  …  0.0  0.0  0.0  0.0  0.0  0.0  0.0\n",
       " 0.0  0.0  0.0  1.0  0.0  0.0  0.0  1.0     0.0  0.0  0.0  0.0  0.0  0.0  0.0\n",
       " 1.0  0.0  1.0  0.0  1.0  1.0  0.0  0.0     0.0  0.0  0.0  0.0  0.0  0.0  0.0\n",
       " 0.0  0.0  0.0  0.0  0.0  0.0  0.0  0.0     0.0  0.0  0.0  0.0  0.0  0.0  0.0\n",
       " 0.0  0.0  0.0  0.0  0.0  0.0  0.0  0.0     0.0  0.0  0.0  0.0  0.0  0.0  0.0\n",
       " 0.0  0.0  0.0  0.0  0.0  0.0  1.0  0.0  …  0.0  0.0  0.0  0.0  0.0  0.0  0.0\n",
       " 1.0  0.0  0.0  0.0  0.0  0.0  0.0  0.0     0.0  0.0  0.0  0.0  0.0  0.0  0.0\n",
       " 0.0  0.0  0.0  0.0  1.0  0.0  0.0  0.0     0.0  0.0  0.0  0.0  0.0  0.0  0.0\n",
       " 0.0  1.0  1.0  0.0  1.0  0.0  0.0  0.0     0.0  0.0  0.0  0.0  0.0  0.0  0.0\n",
       " 0.0  0.0  0.0  0.0  1.0  0.0  1.0  0.0     0.0  0.0  0.0  0.0  0.0  0.0  0.0"
      ]
     },
     "execution_count": 34,
     "metadata": {},
     "output_type": "execute_result"
    }
   ],
   "source": [
    "grafo1"
   ]
  },
  {
   "cell_type": "code",
   "execution_count": 40,
   "metadata": {
    "collapsed": false
   },
   "outputs": [],
   "source": [
    "writecsv(\"grafo1.txt\", grafo1)\n",
    "writecsv(\"grafo2.txt\", grafo2)\n"
   ]
  },
  {
   "cell_type": "code",
   "execution_count": 13,
   "metadata": {
    "collapsed": false
   },
   "outputs": [],
   "source": [
    "bli =admmRecovery(B,14,50,1.6,1.0e-3,400)\n",
    "recupera =(bli[1]+ones(50)*ones(50)')/2\n",
    "recupera2 = round.(recupera,3)\n",
    "writecsv(\"recupera.txt\", recupera2)"
   ]
  },
  {
   "cell_type": "code",
   "execution_count": 14,
   "metadata": {
    "collapsed": false
   },
   "outputs": [
    {
     "data": {
      "text/plain": [
       "50×50 Array{Float64,2}:\n",
       " 0.5  0.5  0.5  0.5  0.5  0.5  0.5  0.5  …  0.5  0.5  0.5  0.5  0.5  0.5  0.5\n",
       " 0.5  0.5  0.5  0.5  0.5  0.5  0.5  0.5     0.5  0.5  0.5  0.5  0.5  0.5  0.5\n",
       " 0.5  0.5  0.5  0.5  0.5  0.5  0.5  0.5     0.5  0.5  0.5  0.5  0.5  0.5  0.5\n",
       " 0.5  0.5  0.5  0.5  0.5  0.5  0.5  0.5     0.5  0.5  0.5  0.5  0.5  0.5  0.5\n",
       " 0.5  0.5  0.5  0.5  0.5  0.5  0.5  0.5     0.5  0.5  0.5  0.5  0.5  0.5  0.5\n",
       " 0.5  0.5  0.5  0.5  0.5  0.5  0.5  0.5  …  0.5  0.5  0.5  0.5  0.5  0.5  0.5\n",
       " 0.5  0.5  0.5  0.5  0.5  0.5  0.5  0.5     0.5  0.5  0.5  0.5  0.5  0.5  0.5\n",
       " 0.5  0.5  0.5  0.5  0.5  0.5  0.5  0.5     0.5  0.5  0.5  0.5  0.5  0.5  0.5\n",
       " 0.5  0.5  0.5  0.5  0.5  0.5  0.5  0.5     0.5  0.5  0.5  0.5  0.5  0.5  0.5\n",
       " 0.5  0.5  0.5  0.5  0.5  0.5  0.5  0.5     0.5  0.5  0.5  0.5  0.5  0.5  0.5\n",
       " 0.5  0.5  0.5  0.5  0.5  0.5  0.5  0.5  …  0.5  0.5  0.5  0.5  0.5  0.5  0.5\n",
       " 0.5  0.5  0.5  0.5  0.5  0.5  0.5  0.5     0.5  0.5  0.5  0.5  0.5  0.5  0.5\n",
       " 0.5  0.5  0.5  0.5  0.5  0.5  0.5  0.5     0.5  0.5  0.5  0.5  0.5  0.5  0.5\n",
       " ⋮                        ⋮              ⋱            ⋮                      \n",
       " 0.5  0.5  0.5  0.5  0.5  0.5  0.5  0.5     0.5  0.5  0.5  0.5  0.5  0.5  0.5\n",
       " 0.5  0.5  0.5  0.5  0.5  0.5  0.5  0.5     0.5  0.5  0.5  0.5  0.5  0.5  0.5\n",
       " 0.5  0.5  0.5  0.5  0.5  0.5  0.5  0.5  …  0.5  0.5  0.5  0.5  0.5  0.5  0.5\n",
       " 0.5  0.5  0.5  0.5  0.5  0.5  0.5  0.5     0.5  0.5  0.5  0.5  0.5  0.5  0.5\n",
       " 0.5  0.5  0.5  0.5  0.5  0.5  0.5  0.5     0.5  0.5  0.5  0.5  0.5  0.5  0.5\n",
       " 0.5  0.5  0.5  0.5  0.5  0.5  0.5  0.5     0.5  0.5  0.5  0.5  0.5  0.5  0.5\n",
       " 0.5  0.5  0.5  0.5  0.5  0.5  0.5  0.5     0.5  0.5  0.5  0.5  0.5  0.5  0.5\n",
       " 0.5  0.5  0.5  0.5  0.5  0.5  0.5  0.5  …  0.5  0.5  0.5  0.5  0.5  0.5  0.5\n",
       " 0.5  0.5  0.5  0.5  0.5  0.5  0.5  0.5     0.5  0.5  0.5  0.5  0.5  0.5  0.5\n",
       " 0.5  0.5  0.5  0.5  0.5  0.5  0.5  0.5     0.5  0.5  0.5  0.5  0.5  0.5  0.5\n",
       " 0.5  0.5  0.5  0.5  0.5  0.5  0.5  0.5     0.5  0.5  0.5  0.5  0.5  0.5  0.5\n",
       " 0.5  0.5  0.5  0.5  0.5  0.5  0.5  0.5     0.5  0.5  0.5  0.5  0.5  0.5  0.5"
      ]
     },
     "execution_count": 14,
     "metadata": {},
     "output_type": "execute_result"
    }
   ],
   "source": [
    "recupera"
   ]
  },
  {
   "cell_type": "code",
   "execution_count": 53,
   "metadata": {
    "collapsed": true
   },
   "outputs": [],
   "source": [
    "writecsv(\"recupera.txt\", recupera2)"
   ]
  },
  {
   "cell_type": "code",
   "execution_count": 56,
   "metadata": {
    "collapsed": false
   },
   "outputs": [
    {
     "data": {
      "text/plain": [
       "50×50 Array{Float64,2}:\n",
       "  1.0          1.0         …  4.33322e-7   4.0541e-7   4.89719e-7\n",
       "  1.0          1.0            2.55608e-7   3.60124e-7  6.96575e-7\n",
       "  1.0          1.0            2.37931e-7   2.81889e-7  6.18337e-7\n",
       "  1.0          1.0            4.60024e-7   6.79657e-7  1.0161e-6 \n",
       "  1.0          1.0            4.45963e-7   4.74283e-7  5.58594e-7\n",
       "  1.0          1.0         …  1.16737e-7   1.61063e-7  4.97523e-7\n",
       "  1.0          1.0            5.12602e-7   4.32544e-8  1.27566e-7\n",
       "  1.0          1.0            3.58798e-7  -4.48903e-7  5.81235e-7\n",
       "  1.0          1.0            7.14259e-7   2.62869e-7  3.47182e-7\n",
       "  1.0          1.0            6.88747e-7   4.98152e-7  5.82461e-7\n",
       "  1.0          1.0         …  5.18113e-7   8.19117e-8  4.18359e-7\n",
       "  1.0          1.0            4.89886e-7   8.59145e-7  9.43456e-7\n",
       "  1.0          1.0            5.26823e-7   6.71786e-7  7.56096e-7\n",
       "  ⋮                        ⋱                                     \n",
       " -4.00082e-7  -1.1056e-6      1.0          1.0         1.0       \n",
       "  6.46466e-7   3.63064e-7     0.999999     0.999999    0.999999  \n",
       "  4.28734e-7   4.58339e-7  …  0.999999     0.999999    0.999999  \n",
       "  1.24547e-6   3.13079e-6     0.999996     0.999999    0.999998  \n",
       "  1.05704e-7   5.52363e-7     0.999999     0.999999    0.999999  \n",
       " -4.08476e-7  -1.35709e-6     1.0          1.0         1.0       \n",
       " -2.59028e-7   3.10849e-7     0.999999     1.0         1.0       \n",
       "  2.54063e-7   4.69444e-7  …  0.999999     0.999999    0.999999  \n",
       "  2.0295e-7   -1.13885e-7     1.0          1.0         0.999999  \n",
       "  4.33322e-7   2.55608e-7     0.999999     0.999999    0.999999  \n",
       "  4.0541e-7    3.60124e-7     0.999999     0.999999    0.999999  \n",
       "  4.89719e-7   6.96575e-7     0.999999     0.999999    0.999999  "
      ]
     },
     "execution_count": 56,
     "metadata": {},
     "output_type": "execute_result"
    }
   ],
   "source": [
    "bli =admmRecovery(B,1.5,50,1.6,1.0e-3,400)\n",
    "recupera =(bli[1]+ones(50)*ones(50)')/2"
   ]
  },
  {
   "cell_type": "code",
   "execution_count": null,
   "metadata": {
    "collapsed": true
   },
   "outputs": [],
   "source": []
  }
 ],
 "metadata": {
  "kernelspec": {
   "display_name": "Julia 0.6.0",
   "language": "julia",
   "name": "julia-0.6"
  },
  "language_info": {
   "file_extension": ".jl",
   "mimetype": "application/julia",
   "name": "julia",
   "version": "0.6.0"
  }
 },
 "nbformat": 4,
 "nbformat_minor": 0
}
