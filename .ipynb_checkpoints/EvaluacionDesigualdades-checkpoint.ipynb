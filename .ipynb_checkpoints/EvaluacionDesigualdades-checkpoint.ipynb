{
 "cells": [
  {
   "cell_type": "code",
   "execution_count": null,
   "metadata": {
    "collapsed": true
   },
   "outputs": [],
   "source": [
    "#en este script evaluamos diferentes desigualdades importantes para el trabajo. Comenzamos con la desigualdad...\n",
    "# de la seccion ... de las notas. \n"
   ]
  },
  {
   "cell_type": "code",
   "execution_count": 1,
   "metadata": {
    "collapsed": false
   },
   "outputs": [
    {
     "data": {
      "text/plain": [
       "learnLinearError (generic function with 1 method)"
      ]
     },
     "execution_count": 1,
     "metadata": {},
     "output_type": "execute_result"
    }
   ],
   "source": [
    "using JuMP \n",
    "using Mosek\n",
    "using NBInclude\n",
    "using PyPlot\n",
    "nbinclude(\"AuxFunctions.ipynb\")\n",
    "nbinclude(\"GraphLearning.ipynb\") "
   ]
  },
  {
   "cell_type": "code",
   "execution_count": null,
   "metadata": {
    "collapsed": true
   },
   "outputs": [],
   "source": []
  },
  {
   "cell_type": "code",
   "execution_count": null,
   "metadata": {
    "collapsed": false
   },
   "outputs": [],
   "source": [
    "rand(2,2)"
   ]
  },
  {
   "cell_type": "markdown",
   "metadata": {},
   "source": [
    "<h2>norma nuclear de matrices con entrada en 0,1.<h2>"
   ]
  },
  {
   "cell_type": "code",
   "execution_count": 2,
   "metadata": {
    "collapsed": false
   },
   "outputs": [
    {
     "data": {
      "text/plain": [
       "crearAleatoria01 (generic function with 1 method)"
      ]
     },
     "execution_count": 2,
     "metadata": {},
     "output_type": "execute_result"
    }
   ],
   "source": [
    "function crearAleatoria01(n)\n",
    "    B = round.(rand(n,n),0)\n",
    "    C = 2*B-ones(n)*ones(n)'\n",
    "    return([B,C])\n",
    "end"
   ]
  },
  {
   "cell_type": "code",
   "execution_count": 9,
   "metadata": {
    "collapsed": false
   },
   "outputs": [
    {
     "data": {
      "image/png": "[encoded data removed]",
      "text/plain": [
       "PyPlot.Figure(PyObject <matplotlib.figure.Figure object at 0x000000004133FE10>)"
      ]
     },
     "metadata": {},
     "output_type": "display_data"
    },
    {
     "data": {
      "text/plain": [
       "PyObject <matplotlib.legend.Legend object at 0x00000000415B3198>"
      ]
     },
     "execution_count": 9,
     "metadata": {},
     "output_type": "execute_result"
    }
   ],
   "source": [
    "P=Array{Any}(10000)\n",
    "Q=Array{Any}(10000)\n",
    "for t in 1:10000\n",
    "    randomMat = crearAleatoria01(7)\n",
    "    P[t]= 0\n",
    "    Q[t]= nuclearNorm(randomMat[2])-nuclearNorm(randomMat[1])\n",
    "end\n",
    "plot(1:1:10000,P[1:10000],label=\"y=0\")\n",
    "plot(1:1:10000,sort(Q[1:10000]),label=\"Norma nuclear de 2A-11t menos norma nuclear de A.\")\n",
    "\n",
    "grid(\"on\")\n",
    "legend(bbox_to_anchor=[1.05,1],loc=2,borderaxespad=0)\n",
    "\n",
    "    "
   ]
  },
  {
   "cell_type": "markdown",
   "metadata": {},
   "source": [
    "<h2>Evaluacion de la desigualdad<h2>"
   ]
  },
  {
   "cell_type": "code",
   "execution_count": null,
   "metadata": {
    "collapsed": true
   },
   "outputs": [],
   "source": [
    "#el lado izquierdo de la desigualdad no es mas que el error R_epsilon(A)"
   ]
  },
  {
   "cell_type": "code",
   "execution_count": null,
   "metadata": {
    "collapsed": true
   },
   "outputs": [],
   "source": []
  },
  {
   "cell_type": "code",
   "execution_count": 76,
   "metadata": {
    "collapsed": false
   },
   "outputs": [
    {
     "data": {
      "text/plain": [
       "1"
      ]
     },
     "execution_count": 76,
     "metadata": {},
     "output_type": "execute_result"
    }
   ],
   "source": [
    "srand(1236)\n",
    "grafo20obs3 = Array{Any}(3)\n",
    "grafo20obs3[1]=erdosgraph([0.7,0.7],0.3,[12,8],20)\n",
    "grafo20obs3[2]=erdosgraph([0.7,0.7],0.3,[12,8],20)\n",
    "grafo20obs3[3]=erdosgraph([0.7,0.7],0.3,[12,8],20)\n",
    "1"
   ]
  },
  {
   "cell_type": "code",
   "execution_count": null,
   "metadata": {
    "collapsed": true
   },
   "outputs": [],
   "source": [
    "respuestaFinal = learnEspectralGraph([1/3,1/3,1/3],1.7,grafo20obs3,20)\n",
    "intento = respuestaFinal[1]"
   ]
  },
  {
   "cell_type": "code",
   "execution_count": 99,
   "metadata": {
    "collapsed": false
   },
   "outputs": [
    {
     "data": {
      "text/plain": [
       "20×20 Array{Float64,2}:\n",
       " 1.0         1.0         1.0         …  6.53794e-8  7.15831e-9   1.97833e-7\n",
       " 1.0         1.0         1.0            3.24425e-8  7.946e-9     2.74493e-8\n",
       " 1.0         1.0         1.0            2.0236e-8   7.41013e-9   1.35094e-7\n",
       " 1.0         1.0         1.0            2.4649e-8   9.5735e-9    1.18911e-6\n",
       " 1.0         1.0         1.0            1.00368e-8  0.00157781   0.0746608 \n",
       " 1.0         1.0         1.0         …  6.50197e-9  0.00108168   0.070741  \n",
       " 1.0         1.0         1.0            2.56633e-8  0.000440821  2.59884e-8\n",
       " 1.0         1.0         1.0            4.19535e-8  1.3785e-8    1.61738e-8\n",
       " 1.0         1.0         1.0            1.04933e-8  1.76207e-8   1.51957e-7\n",
       " 1.0         1.0         1.0            1.51301e-8  6.95643e-9   8.67456e-8\n",
       " 1.0         1.0         1.0         …  4.49135e-9  0.00029359   0.0235122 \n",
       " 0.939014    0.939014    0.939014       0.0609858   0.061956     0.137294  \n",
       " 9.74979e-8  1.09259e-7  3.09991e-8     1.0         1.0          1.0       \n",
       " 8.93154e-8  6.53231e-8  1.33351e-8     1.0         1.0          1.0       \n",
       " 8.12832e-8  2.21153e-8  1.58588e-8     1.0         0.999706     0.976478  \n",
       " 1.61043e-7  2.16963e-8  3.73465e-8  …  1.0         1.0          0.978834  \n",
       " 5.80616e-9  3.09494e-8  7.40096e-9     1.0         0.999002     0.981483  \n",
       " 6.53794e-8  3.24425e-8  2.0236e-8      1.0         1.0          1.0       \n",
       " 7.15831e-9  7.946e-9    7.41013e-9     1.0         0.999948     0.999035  \n",
       " 1.97833e-7  2.74493e-8  1.35094e-7     1.0         0.999035     0.922748  "
      ]
     },
     "execution_count": 99,
     "metadata": {},
     "output_type": "execute_result"
    }
   ],
   "source": [
    "intento"
   ]
  },
  {
   "cell_type": "code",
   "execution_count": 100,
   "metadata": {
    "collapsed": false
   },
   "outputs": [
    {
     "data": {
      "text/plain": [
       "155.92883337990847"
      ]
     },
     "execution_count": 100,
     "metadata": {},
     "output_type": "execute_result"
    }
   ],
   "source": [
    "respuestaFinal[5]"
   ]
  },
  {
   "cell_type": "code",
   "execution_count": null,
   "metadata": {
    "collapsed": true
   },
   "outputs": [],
   "source": [
    "errorRedondeado=learnSpectralError([1/3,1/3,1/3],1.7,round.(intento,0),grafo20obs3,20)[4]"
   ]
  },
  {
   "cell_type": "code",
   "execution_count": 104,
   "metadata": {
    "collapsed": false
   },
   "outputs": [
    {
     "data": {
      "text/plain": [
       "156.00000000163817"
      ]
     },
     "execution_count": 104,
     "metadata": {},
     "output_type": "execute_result"
    }
   ],
   "source": [
    "errorRedondeado"
   ]
  },
  {
   "cell_type": "code",
   "execution_count": 108,
   "metadata": {
    "collapsed": false
   },
   "outputs": [
    {
     "data": {
      "text/plain": [
       "155.94151098929245"
      ]
     },
     "execution_count": 108,
     "metadata": {},
     "output_type": "execute_result"
    }
   ],
   "source": [
    "cota[1]"
   ]
  },
  {
   "cell_type": "code",
   "execution_count": null,
   "metadata": {
    "collapsed": true
   },
   "outputs": [],
   "source": []
  }
 ],
 "metadata": {
  "kernelspec": {
   "display_name": "Julia 0.6.0",
   "language": "julia",
   "name": "julia-0.6"
  },
  "language_info": {
   "file_extension": ".jl",
   "mimetype": "application/julia",
   "name": "julia",
   "version": "0.6.0"
  }
 },
 "nbformat": 4,
 "nbformat_minor": 0
}
