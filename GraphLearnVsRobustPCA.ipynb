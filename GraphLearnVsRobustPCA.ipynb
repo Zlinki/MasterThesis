{
 "cells": [
  {
   "cell_type": "code",
   "execution_count": 5,
   "metadata": {
    "collapsed": false
   },
   "outputs": [
    {
     "name": "stderr",
     "output_type": "stream",
     "text": [
      "\u001b[1m\u001b[36mINFO: \u001b[39m\u001b[22m\u001b[36mPrecompiling module NBInclude.\n",
      "\u001b[39m"
     ]
    }
   ],
   "source": [
    "using NBInclude\n"
   ]
  },
  {
   "cell_type": "code",
   "execution_count": null,
   "metadata": {
    "collapsed": true
   },
   "outputs": [],
   "source": [
    "#In this script, we include some examples to test the robust pca method for graph clustering\n",
    "#and the graph learning methods. Then we compare these two methods using the Erdos-Ranyi random graph\n",
    "#model."
   ]
  },
  {
   "cell_type": "code",
   "execution_count": 6,
   "metadata": {
    "collapsed": true
   },
   "outputs": [],
   "source": [
    "nbinclude(\"Robust PCA.ipynb\")\n",
    "nbinclude(\"GraphLearning\")"
   ]
  },
  {
   "cell_type": "markdown",
   "metadata": {},
   "source": [
    "<h1> 1) Robust PCA examples<h1>"
   ]
  },
  {
   "cell_type": "code",
   "execution_count": null,
   "metadata": {
    "collapsed": true
   },
   "outputs": [],
   "source": [
    "<h3>Test of finding sparse + low rank<h3>"
   ]
  },
  {
   "cell_type": "code",
   "execution_count": null,
   "metadata": {
    "collapsed": true
   },
   "outputs": [],
   "source": [
    "A=testMethod(7,4,2,0.1)"
   ]
  },
  {
   "cell_type": "code",
   "execution_count": null,
   "metadata": {
    "collapsed": true
   },
   "outputs": [],
   "source": [
    "A[1]"
   ]
  },
  {
   "cell_type": "code",
   "execution_count": null,
   "metadata": {
    "collapsed": true
   },
   "outputs": [],
   "source": [
    "A[2]"
   ]
  },
  {
   "cell_type": "code",
   "execution_count": null,
   "metadata": {
    "collapsed": true
   },
   "outputs": [],
   "source": [
    "A[3]"
   ]
  },
  {
   "cell_type": "code",
   "execution_count": null,
   "metadata": {
    "collapsed": true
   },
   "outputs": [],
   "source": [
    "A[4]"
   ]
  },
  {
   "cell_type": "markdown",
   "metadata": {},
   "source": [
    "<h3>Test 2: finding the cluster structure using RPCA.<h3>"
   ]
  },
  {
   "cell_type": "code",
   "execution_count": null,
   "metadata": {
    "collapsed": true
   },
   "outputs": [],
   "source": [
    "ejemploObs= [0 1 1 0 0 0;1 0 1 1 0 0; 1 1 0 0 0 0; 0 1 0 0 1  1; 0 0 0 1 0 1; 0 0 0 1  1 0]\n",
    "ejemploReal=[0 1 1 0 0 0;1 0 1 0 0 0; 1 1 0 0 0 0; 0 0 0 0 1  1; 0 0 0 1 0 1; 0 0 0 1  1 0]\n",
    "I=diagm(ones(6))\n",
    "ejemplo1=ejemploObs+I\n",
    "respuesta=rpca(ejemplo1+diagm(ones(10)),0.6,1.6,1.0e-7,1.0e-5,10000)"
   ]
  },
  {
   "cell_type": "code",
   "execution_count": null,
   "metadata": {
    "collapsed": true
   },
   "outputs": [],
   "source": [
    "roundZeroMatrix(respuesta[1])"
   ]
  },
  {
   "cell_type": "code",
   "execution_count": null,
   "metadata": {
    "collapsed": true
   },
   "outputs": [],
   "source": [
    "roundZeroMatrix(respuesta[2])"
   ]
  },
  {
   "cell_type": "markdown",
   "metadata": {},
   "source": [
    "<h1> 2)Graph learning examples <h1>"
   ]
  },
  {
   "cell_type": "code",
   "execution_count": null,
   "metadata": {
    "collapsed": true
   },
   "outputs": [],
   "source": [
    "<h3>Example 1 of GL<h3>"
   ]
  },
  {
   "cell_type": "code",
   "execution_count": null,
   "metadata": {
    "collapsed": true
   },
   "outputs": [],
   "source": [
    "ejemplo1= [0 1 1 0 0 0;1 0 1 1 0 0; 1 1 0 0 0 0; 0 1 0 0 1  1; 0 0 0 1 0 1; 0 0 0 1  1 0]\n",
    "ejemplo2= [0 1 1 0 0 0;1 0 1 0 0 0; 1 1 0 0 0 1; 0 0 0 0 1  1; 0 0 0 1 0 1; 0 0 1 1  1 0]\n",
    "ejemplo3= [0 1 1 0 0 1;1 0 1 0 0 0; 1 1 0 0 0 0; 0 0 0 0 1  1; 0 0 0 1 0 1; 1 0 0 1  1 0]\n",
    "ejemploReal=[0 1 1 0 0 0;1 0 1 0 0 0; 1 1 0 0 0 0; 0 0 0 0 1  1; 0 0 0 1 0 1; 0 0 0 1  1 0]\n",
    "B=Array{Any}(3)\n",
    "B[1]=ejemplo3\n",
    "B[2]=ejemplo1\n",
    "B[3]=ejemplo2\n",
    "learnError([1/3,1/3,1/3],0.005,ejemploReal,B,6,3)"
   ]
  },
  {
   "cell_type": "code",
   "execution_count": null,
   "metadata": {
    "collapsed": true
   },
   "outputs": [],
   "source": [
    "resultado=learnGraph([1/3,1/3,1/3],0.005,B,6,3)\n",
    "resultado[5]"
   ]
  },
  {
   "cell_type": "markdown",
   "metadata": {},
   "source": [
    "<h3>Example 2 OF GL<h3>"
   ]
  },
  {
   "cell_type": "code",
   "execution_count": null,
   "metadata": {
    "collapsed": true
   },
   "outputs": [],
   "source": [
    "ejemplo2=erdosgraph([0.8,1,1],0,[4,2,4],10)\n",
    "ejemplo3=erdosgraph([0.8,1,1],0,[4,2,4],10)\n",
    "ejemplo4=erdosgraph([0.8,1,1],0,[4,2,4],10)\n",
    "ejemplo5=erdosgraph([0.8,1,1],0,[4,2,4],10)\n",
    "ejemplo6=erdosgraph([0.8,1,1],0,[4,2,4],10)\n",
    "ejemplo7=erdosgraph([0.8,1,1],0,[4,2,4],10)\n",
    "ejemplo8=erdosgraph([0.8,1,1],0,[4,2,4],10)\n",
    "B= Array{Any}(8)\n",
    "B[1]=ejemplo2\n",
    "B[2]=ejemplo3\n",
    "B[3]=ejemplo4\n",
    "B[4]=ejemplo5\n",
    "B[5]=ejemplo6\n",
    "B[6]=ejemplo7\n",
    "B[7]=ejemplo8\n",
    "resultado=learnGraph([1,1,1,1,1,1,1],0.3,B,10,7)\n",
    "resultado[1]"
   ]
  },
  {
   "cell_type": "markdown",
   "metadata": {},
   "source": [
    "<h1> 3) Robust PCA vs Graph learning simulations<h1>"
   ]
  },
  {
   "cell_type": "code",
   "execution_count": null,
   "metadata": {
    "collapsed": true
   },
   "outputs": [],
   "source": []
  }
 ],
 "metadata": {
  "kernelspec": {
   "display_name": "Julia 0.6.0",
   "language": "julia",
   "name": "julia-0.6"
  },
  "language_info": {
   "file_extension": ".jl",
   "mimetype": "application/julia",
   "name": "julia",
   "version": "0.6.0"
  }
 },
 "nbformat": 4,
 "nbformat_minor": 0
}
