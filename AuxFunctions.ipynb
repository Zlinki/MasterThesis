{
 "cells": [
  {
   "cell_type": "code",
   "execution_count": null,
   "metadata": {
    "collapsed": true
   },
   "outputs": [],
   "source": [
    "#script for auxiliar functions."
   ]
  },
  {
   "cell_type": "code",
   "execution_count": 3,
   "metadata": {
    "collapsed": false
   },
   "outputs": [
    {
     "data": {
      "text/plain": [
       "erdosgraph3 (generic function with 1 method)"
      ]
     },
     "execution_count": 3,
     "metadata": {},
     "output_type": "execute_result"
    }
   ],
   "source": [
    "#Aux functions\n",
    "#def function prod computes the product 1^t*Z*t.\n",
    "#@param: n : the dimension of the matrices.\n",
    "function produ(Z,n)\n",
    "    return(ones(n)'*Z*ones(n))\n",
    "end\n",
    "\n",
    "#def function roundMatrix applies the function roundZero to every element of the matrix.\n",
    "#@param: A : matrix to round\n",
    "function roundZeroMatrix(A)\n",
    "    map(A) do x\n",
    "        roundZero(x)\n",
    "    end\n",
    "end\n",
    "\n",
    "#def function roundZero rounds close reals to zero to zero\n",
    "function roundZero(a)\n",
    "    if(abs(a)<=0.0001)\n",
    "        return(0)\n",
    "    end\n",
    "    return(a) \n",
    "end\n",
    "\n",
    "#def function nuclearNorm Computes the nuclear norm of a matrix\n",
    "#@param mat : mat to compute the nuclear norm\n",
    "function nuclearNorm(mat)\n",
    "    return(sum(svdfact(mat)[:S]))\n",
    "end\n",
    "\n",
    "#function which computes the estimation of the error as by theorem 3.1\n",
    "#@param delta: radius of the wasserstein metric ball.\n",
    "#@param A : solution of the optimization problem.\n",
    "#@param B : Array of the observation matrix\n",
    "#@param N : numero de observaciones\n",
    "#@param n : dimension de las matrices\n",
    "function estimarCota(delta,A,B,N,n)\n",
    "    a = delta*nuclearNorm(2*A-ones(n)*ones(n)')\n",
    "    [B[i] = A-B[i] for i in 1:N]\n",
    "    d = (1/N)*sum(norm1.(B))\n",
    "    return(a+d)\n",
    "end\n",
    "#function that computes the norm1 of a matrix. note that the norm(,1) implemented\n",
    "#in julia is the induced 1 norm.\n",
    "#@param W: a matrix\n",
    "function norm1(W)\n",
    "    a= 0\n",
    "    map(W) do x\n",
    "        a = abs(x)+a\n",
    "    end\n",
    "    return(a)\n",
    "end\n",
    "\n",
    "#function to generate a random Erdos-renyi graph with a given number of \n",
    "# clusters and probabilities. Creates an inferior triangluar matrix and then sums its transpose.\n",
    "#@param: probabilities: vector of probabilities>0.5 of each intracluster probability.\n",
    "#The size of the vector is the number of clusters. min(probabilities)>1/2\n",
    "#@param: sizes : the sizes of the clusters.\n",
    "#@param: n : the dimension of the adjacency matrix.\n",
    "#@param: q : outercluster adjacency probability : q<1/2\n",
    "#@Pre: the sum of the sizes must be n.\n",
    "function erdosgraph(probabilities,q,sizes,n)\n",
    "    A= zeros(n,n)\n",
    "    contador2=0\n",
    "    proba = 1\n",
    "    contador1=1\n",
    "    for k in sizes\n",
    "        contador2=contador2+k\n",
    "        for j in contador1:contador2\n",
    "            for i in j+1:n\n",
    "                rand1=rand()\n",
    "                rand2=rand()\n",
    "                if(i>=contador1 && i<=contador2)\n",
    "                    if(rand1<=probabilities[proba])\n",
    "                        A[i,j]=1\n",
    "                    end\n",
    "                else\n",
    "                    if(rand2<=q)\n",
    "                        A[i,j]=1\n",
    "                    end\n",
    "                end\n",
    "            end\n",
    "        end\n",
    "        proba=proba+1\n",
    "        contador1=contador1+k\n",
    "    end\n",
    "    return(A+A')\n",
    "end\n",
    "\n",
    "function erdosgraph2(probabilities,q,sizes,n)\n",
    "    A= zeros(n,n)\n",
    "    for r in 1:n\n",
    "        for w in r+1:n\n",
    "            rand0 = rand()\n",
    "            if(rand0<=q)\n",
    "                A[r,w]=1\n",
    "            end\n",
    "        end\n",
    "    end    \n",
    "    for i in 1:sizes[1]-1\n",
    "        for j in i+1: sizes[1]\n",
    "            rand1=rand()\n",
    "            if(rand1<=probabilities[1])\n",
    "                A[i,j]=1\n",
    "            else\n",
    "                A[i,j]=0\n",
    "            end\n",
    "        end\n",
    "    end\n",
    "    for k in sizes[1]+1:sizes[1]+sizes[2]-1\n",
    "        for l in k+1: sizes[1]+sizes[2]\n",
    "            rand2=rand()\n",
    "            if(rand2<=probabilities[2])\n",
    "                A[k,l]=1\n",
    "            else\n",
    "                A[k,l]=0\n",
    "            end\n",
    "        end\n",
    "    end\n",
    "    return(A+A')\n",
    "end\n",
    "\n",
    "#Calcula la distancia en norma 1 de dos matrices\n",
    "function distance1(A,B)\n",
    "    return(vecnorm(roundZeroMatrix(A-B),1))\n",
    "end\n",
    "\n",
    "#Erdos graph function that fixes an r,s entry of the matrix to 1. This allows to test if \n",
    "# our method vs the mean method. \n",
    "\n",
    "function erdosgraph3(probabilities,q,sizes,n,r,s)\n",
    "    A= zeros(n,n)\n",
    "    contador2=0\n",
    "    proba = 1\n",
    "    contador1=1\n",
    "    for k in sizes\n",
    "        contador2=contador2+k\n",
    "        for j in contador1:contador2\n",
    "            for i in j+1:n\n",
    "                rand1=rand()\n",
    "                rand2=rand()\n",
    "                if(i>=contador1 && i<=contador2)\n",
    "                    if(rand1<=probabilities[proba])\n",
    "                        A[i,j]=1\n",
    "                    end\n",
    "                else\n",
    "                    if(rand2<=q)\n",
    "                        A[i,j]=1\n",
    "                    end\n",
    "                end\n",
    "            end\n",
    "        end\n",
    "        proba=proba+1\n",
    "        contador1=contador1+k\n",
    "    end\n",
    "    adjacencia = A+A'\n",
    "    adjacencia[r,s] = 1\n",
    "    adjacencia[s,r] = 1\n",
    "\n",
    "    return(adjacencia)\n",
    "end\n",
    "\n"
   ]
  },
  {
   "cell_type": "markdown",
   "metadata": {},
   "source": [
    "<h1>Funciones de evaluacion de graph learning lineal<h1>"
   ]
  },
  {
   "cell_type": "code",
   "execution_count": null,
   "metadata": {
    "collapsed": true
   },
   "outputs": [],
   "source": [
    "# evalua el modelo variando la probabilidad intra cluster y outra cluster. cada simulacion toma unos 3 minutos\n",
    "# y resuelve 2400 problemas de optimizacion aprox. Evaluar graph learning 3 no pone un 1 en las diagonales de las matrices.\n",
    "function evaluarLinearGraphLearning3(delta,observaciones)\n",
    "    real = erdosgraph([1,1,1],0,[5,3,4],12)\n",
    "    lala=zeros(9,9)\n",
    "    indicet=1\n",
    "     for t in 1:-0.05:0.6\n",
    "        indicew=1\n",
    "        for w in 0:0.05:0.4\n",
    "            contador=0\n",
    "            for u in 1:50\n",
    "                B=Array{Any}(observaciones)\n",
    "                [B[r]=erdosgraph([t,1,1],w,[5,3,4],12) for r in 1:observaciones]\n",
    "                respuesta=learnLinearGraph(ones(observaciones)/observaciones,delta,B,12)\n",
    "                errorGrafo = distance1(real,respuesta[1])\n",
    "                contador=contador+errorGrafo\n",
    "            end\n",
    "       # println(contador/50)\n",
    "            lala[indicet,indicew]=contador/50\n",
    "        indicew=indicew+1\n",
    "        end\n",
    "    indicet=indicet+1\n",
    "    end\n",
    "    #println(lala)\n",
    "    return(lala)\n",
    "end"
   ]
  },
  {
   "cell_type": "code",
   "execution_count": null,
   "metadata": {
    "collapsed": true
   },
   "outputs": [],
   "source": [
    "#Evaluar graph learning 4 permite variar delta y encontrar errores promedio al ir moviendo el radio de la bola de la metrica\n",
    "#de Wasserstein.\n",
    "function evaluarLinearGraphLearning4(inProba,outProba,observaciones,intervalo=0.01:0.04:2.0)\n",
    "    real = erdosgraph([1,1],0,[12,8],20)\n",
    "    lala=Array{Any}(length(intervalo))\n",
    "    indicet=1\n",
    "    for t in intervalo\n",
    "            contador=0\n",
    "            for u in 1:10\n",
    "                B=Array{Any}(observaciones)\n",
    "            [B[r]=erdosgraph([inProba,inProba],outProba,[12,8],20) for r in 1:observaciones]\n",
    "            respuesta=learnLinearGraph(ones(observaciones)/observaciones,t,B,20)\n",
    "                errorGrafo = distance1(real,respuesta[1])\n",
    "                contador=contador+errorGrafo\n",
    "            end\n",
    "            lala[indicet]=contador/10\n",
    "            indicet=indicet+1\n",
    "    end\n",
    "    return([lala,intervalo])\n",
    "end"
   ]
  },
  {
   "cell_type": "code",
   "execution_count": null,
   "metadata": {
    "collapsed": true
   },
   "outputs": [],
   "source": [
    "#evaluarLinearGraphLearning6 es una funcion que mide el error de recuperaciones al variar el numero de observaciones.\n",
    "#el radio de la bola se varia a varios niveles. Se compara con el modelo de promedios.\n",
    "\n",
    "function evaluarLinearGraphLearning6(inProba,outProba,delta)\n",
    "    real = erdosgraph([1,1,1],0,[5,3,4],12)\n",
    "       lala= Array{Any}(30)\n",
    "    indicet=1\n",
    "    for t in 1:30\n",
    "            contador=0\n",
    "            for u in 1:25\n",
    "                B=Array{Any}(t)\n",
    "                [B[r]=erdosgraph([inProba,1,1],outProba,[5,3,4],12) for r in 1:t]\n",
    "            respuesta=learnLinearGraph(ones(t)/t,delta,B,12)\n",
    "                errorGrafo = distance1(real,respuesta[1])\n",
    "                contador=contador+errorGrafo\n",
    "            end\n",
    "            lala[indicet]=contador/25\n",
    "            indicet=indicet+1\n",
    "    end\n",
    "    return(lala)\n",
    "end"
   ]
  },
  {
   "cell_type": "code",
   "execution_count": null,
   "metadata": {
    "collapsed": true
   },
   "outputs": [],
   "source": [
    "function evaluarGraphLearninglineal6grande(inProba,outProba,delta,redondeado)\n",
    "    real = erdosgraph([1,1],0,[25,25],50)\n",
    "       lala= Array{Any}(30)\n",
    "    indicet=1\n",
    "    for t in 1:30\n",
    "            contador=0\n",
    "            for u in 1:5\n",
    "                B=Array{Any}(t)\n",
    "                [B[r]=erdosgraph([inProba,inProba],outProba,[25,25],50) for r in 1:t]\n",
    "            if(redondeado==true)\n",
    "                respuesta=round.(learnLinearGraph(ones(t)/t,delta,B,50)[1],0)\n",
    "            else\n",
    "                respuesta=learnLinearGraph(ones(t)/t,delta,B,50)[1]\n",
    "            end\n",
    "                errorGrafo = distance1(real,respuesta)\n",
    "                contador=contador+errorGrafo\n",
    "            end\n",
    "            lala[indicet]=contador/5\n",
    "            indicet=indicet+1\n",
    "    end\n",
    "    return(lala)\n",
    "end"
   ]
  },
  {
   "cell_type": "markdown",
   "metadata": {},
   "source": [
    "<h1>Funciones de evaluacion de graph learning espectral<h1>"
   ]
  },
  {
   "cell_type": "code",
   "execution_count": null,
   "metadata": {
    "collapsed": true
   },
   "outputs": [],
   "source": [
    "#evaluarGraphLearning6 es una funcion que mide el error de recuperaciones al variar el numero de observaciones.\n",
    "#el radio de la bola se varia a varios niveles. Se compara con el modelo de promedios. No se ponen unos en la diagonas\n",
    "# al igual que en evaluar6 lineal.\n",
    "\n",
    "function evaluarGraphLearningEspectral6(inProba,outProba,delta,redondeado)\n",
    "    real = erdosgraph([1,1,1],0,[5,3,4],12)+diagm(ones(12))\n",
    "       lala= Array{Any}(30)\n",
    "    indicet=1\n",
    "    for t in 1:30\n",
    "            contador=0\n",
    "            for u in 1:25\n",
    "                B=Array{Any}(t)\n",
    "                [B[r]=erdosgraph([inProba,1,1],outProba,[5,3,4],12)+diagm(ones(12)) for r in 1:t]\n",
    "            if(redondeado==true)\n",
    "                respuesta=round.(learnEspectralGraph(ones(t)/t,delta,B,12)[1],0)\n",
    "            else    \n",
    "                respuesta=learnEspectralGraph(ones(t)/t,delta,B,12)[1]\n",
    "            end\n",
    "                errorGrafo = distance1(real,respuesta)\n",
    "                contador=contador+errorGrafo\n",
    "            end\n",
    "            lala[indicet]=contador/25\n",
    "            indicet=indicet+1\n",
    "    end\n",
    "    return(lala)\n",
    "end\n",
    "\n",
    "\n",
    "\n",
    "\n"
   ]
  },
  {
   "cell_type": "code",
   "execution_count": null,
   "metadata": {
    "collapsed": true
   },
   "outputs": [],
   "source": [
    "#Evaluar graph learning 4 permite variar delta y encontrar errores promedio al ir moviendo el radio de la bola de la metrica\n",
    "#de Wasserstein.\n",
    "function evaluarspectralGraphLearning4(inProba,outProba,observaciones,intervalo=0.01:0.1:5.0)\n",
    "    verdadera = erdosgraph([1,1],0,[12,8],20)+diagm(ones(20))\n",
    "    lala=Array{Any}(length(intervalo))\n",
    "    indicet=1\n",
    "    for t in intervalo\n",
    "            contador=0\n",
    "            for u in 1:10\n",
    "                B=Array{Any}(observaciones)\n",
    "            [B[r]=erdosgraph([inProba,inProba],outProba,[12,8],20)+diagm(ones(20)) for r in 1:observaciones]\n",
    "            respuesta=learnEspectralGraph(ones(observaciones)/observaciones,t,B,20)\n",
    "                errorGrafo = distance1(verdadera,respuesta[1])\n",
    "                contador=contador+errorGrafo\n",
    "            end\n",
    "            lala[indicet]=contador/10\n",
    "            indicet=indicet+1\n",
    "    end\n",
    "    return([lala,intervalo])\n",
    "end"
   ]
  },
  {
   "cell_type": "markdown",
   "metadata": {},
   "source": [
    "<h1>Funciones de evaluacion de graph learning l2<h1>"
   ]
  },
  {
   "cell_type": "code",
   "execution_count": null,
   "metadata": {
    "collapsed": true
   },
   "outputs": [],
   "source": [
    "function evaluarGraphLearningl26(inProba,outProba,delta)\n",
    "    real = erdosgraph([1,1,1],0,[5,3,4],12)+diagm(ones(12))\n",
    "       lala= Array{Any}(30)\n",
    "    indicet=1\n",
    "    for t in 1:30\n",
    "            contador=0\n",
    "            for u in 1:25\n",
    "                B=Array{Any}(t)\n",
    "                [B[r]=erdosgraph([inProba,1,1],outProba,[5,3,4],12)+diagm(ones(12)) for r in 1:t]\n",
    "                respuesta=learnl2Graph(ones(t)/t,delta,B,12)\n",
    "                errorGrafo = distance1(real,respuesta[1])\n",
    "                contador=contador+errorGrafo\n",
    "            end\n",
    "            lala[indicet]=contador/25\n",
    "            indicet=indicet+1\n",
    "    end\n",
    "    return(lala)\n",
    "end"
   ]
  },
  {
   "cell_type": "code",
   "execution_count": null,
   "metadata": {
    "collapsed": true
   },
   "outputs": [],
   "source": [
    "function evaluarGraphLearningl262(inProba,outProba,delta,redondeado)\n",
    "    real = erdosgraph([1,1,1],0,[5,3,4],12)\n",
    "       lala= Array{Any}(40)\n",
    "    indicet=1\n",
    "    for t in 1:40\n",
    "            contador=0\n",
    "            for u in 1:25\n",
    "                B=Array{Any}(t)\n",
    "                [B[r]=erdosgraph([inProba,1,1],outProba,[5,3,4],12) for r in 1:t]\n",
    "            if(redondeado==true)\n",
    "                respuesta=round.(learnl2Graph(ones(t)/t,delta,B,12)[1],0)\n",
    "            else\n",
    "                respuesta=learnl2Graph(ones(t)/t,delta,B,12)[1]\n",
    "            end\n",
    "                errorGrafo = distance1(real,respuesta)\n",
    "                contador=contador+errorGrafo\n",
    "            end\n",
    "            lala[indicet]=contador/25\n",
    "            indicet=indicet+1\n",
    "    end\n",
    "    return(lala)\n",
    "end"
   ]
  },
  {
   "cell_type": "code",
   "execution_count": null,
   "metadata": {
    "collapsed": true
   },
   "outputs": [],
   "source": [
    "# evalua el modelo variando la probabilidad intra cluster y outra cluster. cada simulacion toma unos 3 minutos\n",
    "# y resuelve 2400 problemas de optimizacion aprox. Evaluar graph learning 3 no pone un 1 en las diagonales de las matrices.\n",
    "function evaluarl2GraphLearning3(delta,observaciones)\n",
    "    real = erdosgraph([1,1],0,[10,10],20)\n",
    "    lala=zeros(9,9)\n",
    "    indicet=1\n",
    "     for t in 1:-0.05:0.6\n",
    "        indicew=1\n",
    "        for w in 0:0.05:0.4\n",
    "            contador=0\n",
    "            for u in 1:50\n",
    "                B=Array{Any}(observaciones)\n",
    "                [B[r]=erdosgraph([t,t],w,[10,10],20) for r in 1:observaciones]\n",
    "                respuesta=learnl2Graph(ones(observaciones)/observaciones,delta,B,20)\n",
    "                errorGrafo = distance1(real,respuesta[1])\n",
    "                contador=contador+errorGrafo\n",
    "            end\n",
    "       # println(contador/50)\n",
    "            lala[indicet,indicew]=contador/50\n",
    "        indicew=indicew+1\n",
    "        end\n",
    "    indicet=indicet+1\n",
    "    end\n",
    "    #println(lala)\n",
    "    return(lala)\n",
    "end"
   ]
  },
  {
   "cell_type": "code",
   "execution_count": null,
   "metadata": {
    "collapsed": true
   },
   "outputs": [],
   "source": [
    "function evaluarGraphLearningl26grande(inProba,outProba,delta,redondeado)\n",
    "    real = erdosgraph([1,1],0,[25,25],50)\n",
    "       lala= Array{Any}(30)\n",
    "    indicet=1\n",
    "    for t in 1:30\n",
    "            contador=0\n",
    "            for u in 1:5\n",
    "                B=Array{Any}(t)\n",
    "                [B[r]=erdosgraph([inProba,inProba],outProba,[25,25],50) for r in 1:t]\n",
    "            if(redondeado==true)\n",
    "                respuesta=round.(learnl2Graph(ones(t)/t,delta,B,50)[1],0)\n",
    "            else\n",
    "                respuesta=learnl2Graph(ones(t)/t,delta,B,50)[1]\n",
    "            end\n",
    "                errorGrafo = distance1(real,respuesta)\n",
    "                contador=contador+errorGrafo\n",
    "            end\n",
    "            lala[indicet]=contador/5\n",
    "            indicet=indicet+1\n",
    "    end\n",
    "    return(lala)\n",
    "end"
   ]
  },
  {
   "cell_type": "code",
   "execution_count": null,
   "metadata": {
    "collapsed": true
   },
   "outputs": [],
   "source": [
    "#Evaluar graph learning 4 permite variar delta y encontrar errores promedio al ir moviendo el radio de la bola de la metrica\n",
    "#de Wasserstein.\n",
    "function evaluarl2GraphLearning4(inProba,outProba,observaciones,intervalo=0.01:0.1:5.0)\n",
    "    verdadera = erdosgraph([1,1],0,[12,8],20)\n",
    "    lala=Array{Any}(length(intervalo))\n",
    "    indicet=1\n",
    "    for t in intervalo\n",
    "            contador=0\n",
    "            for u in 1:10\n",
    "                B=Array{Any}(observaciones)\n",
    "            [B[r]=erdosgraph([inProba,inProba],outProba,[12,8],20) for r in 1:observaciones]\n",
    "            respuesta=learnl2Graph(ones(observaciones)/observaciones,t,B,20)\n",
    "                errorGrafo = distance1(verdadera,respuesta[1])\n",
    "                contador=contador+errorGrafo\n",
    "            end\n",
    "            lala[indicet]=contador/10\n",
    "            indicet=indicet+1\n",
    "    end\n",
    "    return([lala,intervalo])\n",
    "end"
   ]
  },
  {
   "cell_type": "code",
   "execution_count": null,
   "metadata": {
    "collapsed": true
   },
   "outputs": [],
   "source": []
  },
  {
   "cell_type": "markdown",
   "metadata": {},
   "source": [
    "<h1>Funciones de evaluacion para grafo promedio<h1>"
   ]
  },
  {
   "cell_type": "code",
   "execution_count": null,
   "metadata": {
    "collapsed": true
   },
   "outputs": [],
   "source": [
    "#method for matrix recovery using the mean of the observations. \n",
    "#B the observations to recover the graph\n",
    "#n dimension of the adjacency matrices\n",
    "#N number of observations\n",
    "\n",
    "function meanGraphLearn(B)\n",
    "    N = length(B)\n",
    "    A= sum(B)/N\n",
    "    return A\n",
    "end\n",
    "    \n",
    "\n",
    "#method for matrix recovery using the mean of the observations. Returns the rounded result. \n",
    "#B the observations to recover the graph\n",
    "#n dimension of the adjacency matrices\n",
    "#N number of observations\n",
    "\n",
    "function meanGraphLearn(B,redondeado)\n",
    "    N = length(B)\n",
    "    A= sum(B)/N\n",
    "    if(redondeado==true)\n",
    "        return round.(A,0)\n",
    "    else\n",
    "        return(A)\n",
    "    end\n",
    "end\n",
    "    "
   ]
  },
  {
   "cell_type": "code",
   "execution_count": 6,
   "metadata": {
    "collapsed": false
   },
   "outputs": [
    {
     "data": {
      "text/plain": [
       "evaluarGraphLearningMean6 (generic function with 1 method)"
      ]
     },
     "execution_count": 6,
     "metadata": {},
     "output_type": "execute_result"
    }
   ],
   "source": [
    "#Evalua la tasa de decaimiento del error del metodo meangraphlearn al aumentar el numero de observaciones. \n",
    "function evaluarGraphLearningMean6(inProba,outProba,redondeado)\n",
    "    real = erdosgraph([1,1,1],0,[5,3,4],12)\n",
    "    lala= Array{Any}(50)\n",
    "    indicet=1\n",
    "    for t in 1:50\n",
    "            contador=0\n",
    "            for u in 1:50\n",
    "                B=Array{Any}(t)\n",
    "                [B[r]=erdosgraph([inProba,1,1],outProba,[5,3,4],12) for r in 1:t]\n",
    "                respuesta=meanGraphLearn(B,redondeado)\n",
    "                errorGrafo = distance1(real,respuesta)\n",
    "                contador=contador+errorGrafo\n",
    "            end\n",
    "            lala[indicet]=contador/50\n",
    "            indicet=indicet+1\n",
    "    end\n",
    "    return(lala)\n",
    "end"
   ]
  },
  {
   "cell_type": "code",
   "execution_count": null,
   "metadata": {
    "collapsed": true
   },
   "outputs": [],
   "source": [
    "#Evalua la tasa de decaimiento del error del metodo meangraphlearn al aumentar el numero de observaciones. \n",
    "function evaluarGraphLearningMean6Grande(inProba,outProba,redondeado)\n",
    "    real = erdosgraph([1,1],0,[25,25],50)\n",
    "    lala= Array{Any}(30)\n",
    "    indicet=1\n",
    "    for t in 1:30\n",
    "            contador=0\n",
    "            for u in 1:50\n",
    "                B=Array{Any}(t)\n",
    "            [B[r]=erdosgraph([inProba,inProba],outProba,[25,25],50) for r in 1:t]\n",
    "                respuesta=meanGraphLearn(B,redondeado)\n",
    "                errorGrafo = distance1(real,respuesta)\n",
    "                contador=contador+errorGrafo\n",
    "            end\n",
    "            lala[indicet]=contador/50\n",
    "            indicet=indicet+1\n",
    "    end\n",
    "    return(lala)\n",
    "end"
   ]
  },
  {
   "cell_type": "markdown",
   "metadata": {
    "collapsed": true
   },
   "source": [
    "<h1>Funciones de evaluacion para recuperacion por regularizacion<h1>"
   ]
  },
  {
   "cell_type": "code",
   "execution_count": null,
   "metadata": {
    "collapsed": true
   },
   "outputs": [],
   "source": [
    "#Evaluar graph learning 4 permite variar delta y encontrar errores promedio al ir moviendo el radio de la bola de la metrica\n",
    "#de Wasserstein usando la recuperacion regularizada por 2A-11^t.\n",
    "function evaluarRegularized2AGraphLearning4(inProba,outProba,observaciones,intervalo=0.01:0.1:5.0)\n",
    "    verdadera = erdosgraph([1,1],0,[12,8],20)+diagm(ones(20))\n",
    "    lala=Array{Any}(length(intervalo))\n",
    "    indicet=1\n",
    "    for t in intervalo\n",
    "            contador=0\n",
    "            for u in 1:10\n",
    "                B=Array{Any}(observaciones)\n",
    "            [B[r]=erdosgraph([inProba,inProba],outProba,[12,8],20)+diagm(ones(20)) for r in 1:observaciones]\n",
    "            respuesta=learnRegularized2A(ones(observaciones)/observaciones,t,B,20)\n",
    "                errorGrafo = distance1(verdadera,respuesta[1])\n",
    "                contador=contador+errorGrafo\n",
    "            end\n",
    "            lala[indicet]=contador/10\n",
    "            indicet=indicet+1\n",
    "    end\n",
    "    return([lala,intervalo])\n",
    "end"
   ]
  },
  {
   "cell_type": "code",
   "execution_count": null,
   "metadata": {
    "collapsed": true
   },
   "outputs": [],
   "source": [
    "#Evaluar graph learning 4 permite variar delta y encontrar errores promedio al ir moviendo el radio de la bola de la metrica\n",
    "#de Wasserstein usando la recuperacion regularizada por A.\n",
    "function evaluarRegularizedAGraphLearning4(inProba,outProba,observaciones,intervalo=0.01:0.1:5.0)\n",
    "    verdadera = erdosgraph([1,1],0,[12,8],20)+diagm(ones(20))\n",
    "    lala=Array{Any}(length(intervalo))\n",
    "    indicet=1\n",
    "    for t in intervalo\n",
    "            contador=0\n",
    "            for u in 1:10\n",
    "                B=Array{Any}(observaciones)\n",
    "            [B[r]=erdosgraph([inProba,inProba],outProba,[12,8],20)+diagm(ones(20)) for r in 1:observaciones]\n",
    "            respuesta=learnRegularizedA(ones(observaciones)/observaciones,t,B,20)\n",
    "                errorGrafo = distance1(verdadera,respuesta[1])\n",
    "                contador=contador+errorGrafo\n",
    "            end\n",
    "            lala[indicet]=contador/10\n",
    "            indicet=indicet+1\n",
    "    end\n",
    "    return([lala,intervalo])\n",
    "end"
   ]
  },
  {
   "cell_type": "code",
   "execution_count": null,
   "metadata": {
    "collapsed": true
   },
   "outputs": [],
   "source": []
  },
  {
   "cell_type": "markdown",
   "metadata": {},
   "source": [
    "<h1>Funciones de evaluacion para grafos recuperados con ADMM recovery<h1>"
   ]
  },
  {
   "cell_type": "code",
   "execution_count": 3,
   "metadata": {
    "collapsed": false
   },
   "outputs": [
    {
     "data": {
      "text/plain": [
       "evaluarADMMGraphLearning4 (generic function with 2 methods)"
      ]
     },
     "execution_count": 3,
     "metadata": {},
     "output_type": "execute_result"
    }
   ],
   "source": [
    "#Evaluar graph learning 4 permite variar delta y encontrar errores promedio al ir moviendo el radio de la bola de la metrica\n",
    "#de Wasserstein.\n",
    "function evaluarADMMGraphLearning4(inProba,outProba,observaciones,intervalo=0:1:20.0)\n",
    "    verdadera = erdosgraph([1,1],0,[40,160],200)+diagm(ones(200))\n",
    "    lala=Array{Any}(length(intervalo))\n",
    "    indicet=1\n",
    "    for t in intervalo\n",
    "            contador=0\n",
    "            for u in 1:3\n",
    "                B=Array{Any}(observaciones)\n",
    "            [B[r]=erdosgraph([inProba,inProba],outProba,[40,160],200)+diagm(ones(200)) for r in 1:observaciones]\n",
    "            respuesta=admmRecovery(B,t,200,1.6,1.0e-4,250)\n",
    "            bli =(respuesta[1]+ones(200)*ones(200)')/2\n",
    "            errorGrafo = distance1(verdadera,bli)\n",
    "                contador=contador+errorGrafo\n",
    "            end\n",
    "            lala[indicet]=contador/3\n",
    "            indicet=indicet+1\n",
    "    end\n",
    "    return([lala,intervalo])\n",
    "end"
   ]
  },
  {
   "cell_type": "code",
   "execution_count": null,
   "metadata": {
    "collapsed": true
   },
   "outputs": [],
   "source": []
  },
  {
   "cell_type": "code",
   "execution_count": null,
   "metadata": {
    "collapsed": true
   },
   "outputs": [],
   "source": []
  },
  {
   "cell_type": "code",
   "execution_count": null,
   "metadata": {
    "collapsed": true
   },
   "outputs": [],
   "source": []
  }
 ],
 "metadata": {
  "kernelspec": {
   "display_name": "Julia 0.6.0",
   "language": "julia",
   "name": "julia-0.6"
  },
  "language_info": {
   "file_extension": ".jl",
   "mimetype": "application/julia",
   "name": "julia",
   "version": "0.6.0"
  }
 },
 "nbformat": 4,
 "nbformat_minor": 0
}
