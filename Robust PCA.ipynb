{
 "cells": [
  {
   "cell_type": "code",
   "execution_count": null,
   "metadata": {
    "collapsed": false
   },
   "outputs": [],
   "source": [
    "#This notebook contains a quick implementation of the robust pca algorithm.\n",
    "#We solve the problem using the implementation of \"The Augmented Lagrange Multiplier\n",
    "#method for exact recovery of corrupted low-rank matrices\"\n",
    "#In the end, we also use a solver to compare times and overall performance.\n",
    "#We expect to find much more promising results using the implemantation on the latter paper:\n",
    "#\"/although interior point methods normally take very few iterations t converge, they have difficulty in\n",
    "#handling large matrices because of the complexity of computing the step direction is O(m^6), where m is the dimension of \n",
    "#matrix [...] generic interior point solvers are too limited for Robust PCA \".\n",
    "\n",
    "#Note that the robust PCA is used in many context. Ours is the clique problem which deals with nxn symetric matrices\n",
    "#. However this implementation works for m x n matrices.\n",
    "\n"
   ]
  },
  {
   "cell_type": "code",
   "execution_count": null,
   "metadata": {
    "collapsed": true
   },
   "outputs": [],
   "source": [
    "# The model\n",
    "#D- a m x n matrix of data/variables. Usually D is nxn graph adjacency matrix.\n",
    "# We seek to solve the problem min a||E||_1 + ||A||_* subject to E+A = D+I \n",
    "#a is a positive real number. \n"
   ]
  },
  {
   "cell_type": "code",
   "execution_count": null,
   "metadata": {
    "collapsed": true
   },
   "outputs": [],
   "source": [
    "#rpca is the main function. \n",
    "#If D is square matrix, we redefine D to be D = D+I.\n",
    "\n",
    "function rpca(D,lambda,stopCrit1=1.0e-7,stopCrit2=1.0e-5,maxIter=1000)\n",
    "    #Initialization\n",
    "    dims =size(D)\n",
    "    if dims[1]==dims[2]\n",
    "        D = D+I\n",
    "    end    \n",
    "    mu = 1.25/norm(D)\n",
    "    ro=1.6    \n",
    "    E = zeros(D)\n",
    "    k = 0\n",
    "    Y = D/J(D)\n",
    "        #Iteraciones\n",
    "    while ~firstCriterium(stopCrit1,D,A_k,E_k) || ~secondCriterium(stopCrit2,E_k,E_k1)    \n",
    "        # First solve A_k+1 = arg min L(A,E_k,Y_k,mu_k)\n",
    "        singValDesc = svd(D-E+((1/mu)*Y))\n",
    "        #SVD(A) returns a triple (U,S,V) where S contains the singular values and A=U*S*V' (' denotes ')\n",
    "        #for SVD(A) to work correctly, A must be m x n where m>= n or else S wont have the proper dimensions.\n",
    "        A = U*perturb(S,1/mu)*V'\n",
    "        #Now solve E_k+1= arg min L(A_k+1,E,Y_k,mu_k)\n",
    "        perturbFactor = lambda*(1/mu)\n",
    "        E = perturb(D-A+((1/mu)*Y),perturbFactor)\n",
    "        Y = Y + mu*(D-A-E)\n",
    "        updateMu(mu)\n",
    "        k=k+1\n",
    "        println(\"voy en el paso $(k)\")        \n",
    "    end\n",
    "    return(A,E)\n",
    "end\n"
   ]
  },
  {
   "cell_type": "code",
   "execution_count": null,
   "metadata": {
    "collapsed": true
   },
   "outputs": [],
   "source": [
    "#Stoping criteria functions  \n",
    "\n",
    "function firstCriterium(stopCrit1,D,A_k,E_k)\n",
    "    asdf\n",
    "end \n",
    "\n",
    "function secondCriterium(stopCrit2,E_k,E_k1)\n",
    "    asdf\n",
    "end\n",
    "\n",
    "\n",
    "    \n"
   ]
  },
  {
   "cell_type": "code",
   "execution_count": null,
   "metadata": {
    "collapsed": true
   },
   "outputs": [],
   "source": [
    "# Updating functions\n",
    "\n",
    "function updateMu(mu,rho,Ek,Ek_1,D,epsilon2)\n",
    "    asdf\n",
    "end\n",
    "\n",
    "\n",
    "\n",
    "\n"
   ]
  },
  {
   "cell_type": "code",
   "execution_count": 50,
   "metadata": {
    "collapsed": false
   },
   "outputs": [
    {
     "data": {
      "text/plain": [
       "J (generic function with 2 methods)"
      ]
     },
     "execution_count": 50,
     "metadata": {},
     "output_type": "execute_result"
    }
   ],
   "source": [
    "#Other useful operators\n",
    "\n",
    "#perturbation operator\n",
    "#X is a m x n matriz to perturb\n",
    "#epsilon is the perturbation\n",
    "function perturb(A,perturbation)\n",
    "    map(A) do x\n",
    "        f(x,perturbation)\n",
    "    end\n",
    "end\n",
    "\n",
    "\n",
    "#J operator\n",
    "#D is an m x n matriz\n",
    "#lambda : parameter of the robust pca\n",
    "function J(D,lambda)\n",
    "    return max(norm(A,2),(1/lambda)*maximum(abs(A)))\n",
    "end\n",
    "\n",
    "function f(x,epsilon)\n",
    "    if x>epsilon \n",
    "        return x-epsilon\n",
    "    end\n",
    "    if x<-epsilon\n",
    "        return x+epsilon\n",
    "    else\n",
    "        return(0)\n",
    "    end\n",
    "end\n",
    "\n",
    "\n"
   ]
  },
  {
   "cell_type": "code",
   "execution_count": 57,
   "metadata": {
    "collapsed": false
   },
   "outputs": [
    {
     "data": {
      "text/plain": [
       "2×3 Array{Int64,2}:\n",
       " 3  2   2\n",
       " 2  3  -2"
      ]
     },
     "execution_count": 57,
     "metadata": {},
     "output_type": "execute_result"
    }
   ],
   "source": [
    "A = [3 2 2 ; 2 3 -2]"
   ]
  },
  {
   "cell_type": "code",
   "execution_count": 58,
   "metadata": {
    "collapsed": false
   },
   "outputs": [
    {
     "data": {
      "text/plain": [
       "Base.LinAlg.SVD{Float64,Float64,Array{Float64,2}}([-0.707107 -0.707107; -0.707107 0.707107],[5.0,3.0],[-0.707107 -0.707107 -5.55112e-17; -0.235702 0.235702 -0.942809])"
      ]
     },
     "execution_count": 58,
     "metadata": {},
     "output_type": "execute_result"
    }
   ],
   "source": [
    "fact = svdfact(A)"
   ]
  },
  {
   "cell_type": "code",
   "execution_count": 59,
   "metadata": {
    "collapsed": false
   },
   "outputs": [
    {
     "data": {
      "text/plain": [
       "2-element Array{Float64,1}:\n",
       " 5.0\n",
       " 3.0"
      ]
     },
     "execution_count": 59,
     "metadata": {},
     "output_type": "execute_result"
    }
   ],
   "source": [
    "fact[:S]"
   ]
  },
  {
   "cell_type": "code",
   "execution_count": 63,
   "metadata": {
    "collapsed": false
   },
   "outputs": [
    {
     "data": {
      "text/plain": [
       "3×3 Array{Float64,2}:\n",
       " 0.0  5.0  0.0\n",
       " 0.0  0.0  3.0\n",
       " 0.0  0.0  0.0"
      ]
     },
     "execution_count": 63,
     "metadata": {},
     "output_type": "execute_result"
    }
   ],
   "source": [
    "diagm(fact[:S],1)"
   ]
  },
  {
   "cell_type": "code",
   "execution_count": 72,
   "metadata": {
    "collapsed": false
   },
   "outputs": [
    {
     "name": "stdout",
     "output_type": "stream",
     "text": [
      "voy en el paso 3\n"
     ]
    }
   ],
   "source": [
    "println(\"voy en el paso $(3)\")"
   ]
  },
  {
   "cell_type": "code",
   "execution_count": 69,
   "metadata": {
    "collapsed": false
   },
   "outputs": [
    {
     "data": {
      "text/plain": [
       "\"1 + 2 = 3\""
      ]
     },
     "execution_count": 69,
     "metadata": {},
     "output_type": "execute_result"
    }
   ],
   "source": [
    "\"1 + 2 = $(1 + 2)\""
   ]
  },
  {
   "cell_type": "code",
   "execution_count": null,
   "metadata": {
    "collapsed": true
   },
   "outputs": [],
   "source": []
  }
 ],
 "metadata": {
  "kernelspec": {
   "display_name": "Julia 0.5.0",
   "language": "julia",
   "name": "julia-0.5"
  },
  "language_info": {
   "file_extension": ".jl",
   "mimetype": "application/julia",
   "name": "julia",
   "version": "0.5.0"
  }
 },
 "nbformat": 4,
 "nbformat_minor": 0
}
