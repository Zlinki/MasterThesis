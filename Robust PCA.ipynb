{
 "cells": [
  {
   "cell_type": "code",
   "execution_count": null,
   "metadata": {
    "collapsed": false
   },
   "outputs": [],
   "source": [
    "#This notebook contains a quick implementation of the robust pca algorithm.\n",
    "#We solve the problem using the implementation of \"The Augmented Lagrange Multiplier\n",
    "#method for exact recovery of corrupted low-rank matrices\"\n",
    "#In the end, we also use a solver to compare times and overall performance.\n",
    "#We expect to find much more promising results using the implemantation on the latter paper:\n",
    "#\"/although interior point methods normally take very few iterations t converge, they have difficulty in\n",
    "#handling large matrices because of the complexity of computing the step direction is O(m^6), where m is the dimension of \n",
    "#matrix [...] generic interior point solvers are too limited for Robust PCA \".\n",
    "\n",
    "#Note that the robust PCA is used in many contexts. Ours is the clique problem which deals with nxn symetric matrices\n",
    "#. However this implementation works for m x n matrices.\n",
    "\n",
    "#Following the implementation of the solution proposed in the latter paper, we implement the solution\n",
    "#proposed in \"SHARP PERFORMANCE BOUNDS FOR GRAPH CLUSTERING VIA CONVEX OPTIMIZATION\" by Korlakai, Oymak and Hassibi. for\n",
    "#detection of cliques.\n",
    "\n",
    "\n"
   ]
  },
  {
   "cell_type": "code",
   "execution_count": null,
   "metadata": {
    "collapsed": true
   },
   "outputs": [],
   "source": [
    "# The model\n",
    "#D- a m x n matrix of data/variables. Usually D is nxn graph adjacency matrix.\n",
    "# We seek to solve the problem min a||E||_1 + ||A||_* subject to E+A = D+I \n",
    "#a is a positive real number. \n"
   ]
  },
  {
   "cell_type": "code",
   "execution_count": 2,
   "metadata": {
    "collapsed": false
   },
   "outputs": [
    {
     "name": "stderr",
     "output_type": "stream",
     "text": [
      "WARNING: Method definition rpca(Any, Any) in module Main at In[1]:12"
     ]
    },
    {
     "data": {
      "text/plain": [
       "rpca (generic function with 5 methods)"
      ]
     },
     "execution_count": 2,
     "metadata": {},
     "output_type": "execute_result"
    },
    {
     "name": "stderr",
     "output_type": "stream",
     "text": [
      " overwritten at In[2]:9.\n",
      "WARNING: Method definition rpca(Any, Any, Any) in module Main at In[1]:12 overwritten at In[2]:9.\n",
      "WARNING: Method definition rpca(Any, Any, Any, Any) in module Main at In[1]:12 overwritten at In[2]:9.\n",
      "WARNING: Method definition rpca(Any, Any, Any, Any, Any) in module Main at In[1]:12 overwritten at In[2]:9.\n",
      "WARNING: Method definition rpca(Any, Any, Any, Any, Any, Any) in module Main at In[1]:12 overwritten at In[2]:9.\n"
     ]
    }
   ],
   "source": [
    "#rpca is the main function. \n",
    "function rpca(D,lambda,rho=1.6,stopCrit1=1.0e-7,stopCrit2=1.0e-5,maxIter=10000)\n",
    "    #Initialization\n",
    "    #For problems where we have to add the identity...\n",
    "    #dims =size(D)\n",
    "    #if dims[1]==dims[2]\n",
    "    #    D = D+I\n",
    "    #end    \n",
    "    mu = 1.25/norm(D)  \n",
    "    E = zeros(D)\n",
    "    k = 0\n",
    "    Y = D/J(D,lambda)\n",
    "    A=D\n",
    "    #println(\"Comienzo!\")\n",
    "    #Iterations\n",
    "    #In order to avoid evaluation of stoping criteria in the first loop, we do a while true and then \n",
    "    #add breaks if the stoping criteria are met.\n",
    "    while true   \n",
    "        # First solve A_k+1 = arg min L(A,E_k,Y_k,mu_k)\n",
    "        singValDesc = svd(D-E+((1/mu)*Y))\n",
    "        #SVD(A) returns a triple (U,S,V) where S contains the singular values and A=U*S*V' (' denotes ')\n",
    "        #for SVD(A) to work correctly, A must be m x n where m>= n or else S wont have the proper dimensions.\n",
    "        A = singValDesc[1]*perturb(diagm(singValDesc[2]),1/mu)*singValDesc[3]'\n",
    "        #Now solve E_k+1= arg min L(A_k+1,E,Y_k,mu_k)\n",
    "        perturbFactor = lambda*(1/mu)\n",
    "        Eupdated = perturb(D-A+((1/mu)*Y),perturbFactor)\n",
    "        Y = Y + mu*(D-A-Eupdated)\n",
    "        mu=updateMu(mu,rho,E,Eupdated,D,stopCrit2)\n",
    "        \n",
    "       #Checks if both the first and second criterium are met.\n",
    "        if  firstCriterium(stopCrit1,D,A,Eupdated) && secondCriterium(stopCrit2,D,mu,E,Eupdated) \n",
    "            #println(\"Done\")\n",
    "            break\n",
    "        end\n",
    "        E=Eupdated\n",
    "        k=k+1\n",
    "        #println(\"Step $(k)\")\n",
    "        #println(mu)\n",
    "        \n",
    "        #forces the algorithm to stop if k>maxIter. This should never happen. maxIter is 1000 by default.\n",
    "        if k>maxIter\n",
    "            println(\"exceeded max number of iteration at solving\")\n",
    "            break\n",
    "        end\n",
    "    end\n",
    "#    return(roundResultMatrix(A,mean(A)),roundResultMatrix(E,mean(E)))\n",
    "     return(A,E)\n",
    "\n",
    "end\n"
   ]
  },
  {
   "cell_type": "code",
   "execution_count": 3,
   "metadata": {
    "collapsed": false
   },
   "outputs": [
    {
     "data": {
      "text/plain": [
       "secondCriterium (generic function with 1 method)"
      ]
     },
     "execution_count": 3,
     "metadata": {},
     "output_type": "execute_result"
    }
   ],
   "source": [
    "#Stoping criteria functions  \n",
    "\n",
    "function firstCriterium(stopCrit1,D,A,E)\n",
    "    \n",
    "    if vecnorm(D-A-E)/vecnorm(D)<stopCrit1\n",
    "        return true\n",
    "    end\n",
    "    return false\n",
    "end \n",
    "\n",
    "#Ek is the value of E computed on the kth step. Ek1 is the value of E computed in the k+1th step.\n",
    "function secondCriterium(stopCrit2,D,mu,Ek,Ek1)\n",
    "    \n",
    "    if (mu*vecnorm(Ek1-Ek))/vecnorm(D)<stopCrit2\n",
    "        return true\n",
    "    end\n",
    "    return false\n",
    "end\n",
    "\n",
    "\n",
    "    \n"
   ]
  },
  {
   "cell_type": "code",
   "execution_count": 4,
   "metadata": {
    "collapsed": false
   },
   "outputs": [
    {
     "data": {
      "text/plain": [
       "updateMu (generic function with 1 method)"
      ]
     },
     "execution_count": 4,
     "metadata": {},
     "output_type": "execute_result"
    }
   ],
   "source": [
    "# Updating functions\n",
    "#Ek is the value of E computed on the kth step. Ek1 is the value of E computed in the k+1th step.\n",
    "function updateMu(mu,rho,Ek,Ek1,D,epsilon2)\n",
    "    \n",
    "    eval = min(mu,sqrt(mu))*(vecnorm(Ek1-Ek) /vecnorm(D))\n",
    "    if eval<epsilon2\n",
    "        return rho*mu\n",
    "    end\n",
    "    return mu\n",
    "end\n"
   ]
  },
  {
   "cell_type": "code",
   "execution_count": 1,
   "metadata": {
    "collapsed": false
   },
   "outputs": [
    {
     "data": {
      "text/plain": [
       "distance1 (generic function with 1 method)"
      ]
     },
     "execution_count": 1,
     "metadata": {},
     "output_type": "execute_result"
    }
   ],
   "source": [
    "#Other useful operators and methods\n",
    "\n",
    "#perturbation operator. Perturbs every entry of the matrix W using the function f.\n",
    "#W is a m x n matriz to perturb\n",
    "#epsilon is the perturbation\n",
    "function perturb(W,perturbation)\n",
    "    map(W) do x\n",
    "        f(x,perturbation)\n",
    "    end\n",
    "end\n",
    "\n",
    "\n",
    "#J operator\n",
    "#W is an m x n matriz\n",
    "#lambda : parameter of the robust pca\n",
    "function J(W,lambda)\n",
    "    return max(norm(W,2),(1/lambda)*maximum(abs(W)))\n",
    "end\n",
    "\n",
    "#Method for perturbing x given epsilon. Used in the perturb function.\n",
    "function f(x,epsilon)\n",
    "    if x>epsilon \n",
    "        return x-epsilon\n",
    "    end\n",
    "    if x<-epsilon\n",
    "        return x+epsilon\n",
    "    else\n",
    "        return(0)\n",
    "    end\n",
    "end\n",
    "\n",
    "function roundResult(x,matrixMean)\n",
    "    if abs(x)<matrixMean\n",
    "        return 0\n",
    "    end\n",
    "    return 1\n",
    "end\n",
    "\n",
    "function roundResultMatrix(W,matrixMean)\n",
    "    map(W) do x\n",
    "        roundResult(x,matrixMean)\n",
    "    end\n",
    "end\n",
    "\n",
    "#def function roundMatrix applies the function roundZero to every element of the matrix.\n",
    "#@param: A : matrix to round\n",
    "function roundZeroMatrix(A)\n",
    "    map(A) do x\n",
    "        roundZero(x)\n",
    "    end\n",
    "end\n",
    "\n",
    "#def function roundZero rounds close reals to zero to zero\n",
    "function roundZero(a)\n",
    "    if(abs(a)<=0.0001)\n",
    "        return(0)\n",
    "    end\n",
    "    return(a) \n",
    "end\n",
    "\n",
    "#def function distance1 function that returns the distance in norm1 of two matrices\n",
    "\n",
    "function distance1(A,B)\n",
    "    return(vecnorm(roundZeroMatrix(A-B),1))\n",
    "end\n",
    "\n",
    "\n",
    "\n",
    "\n"
   ]
  },
  {
   "cell_type": "code",
   "execution_count": 51,
   "metadata": {
    "collapsed": false
   },
   "outputs": [
    {
     "name": "stderr",
     "output_type": "stream",
     "text": [
      "WARNING: Method definition CreateRandomNoisy(Any, Any, Any)"
     ]
    },
    {
     "data": {
      "text/plain": [
       "testMethodReply1 (generic function with 1 method)"
      ]
     },
     "execution_count": 51,
     "metadata": {},
     "output_type": "execute_result"
    },
    {
     "name": "stderr",
     "output_type": "stream",
     "text": [
      " in module Main at In[49]:5 overwritten at In[51]:5.\n",
      "WARNING: Method definition testMethod(Any, Any, Any, Any) in module Main at In[49]:23 overwritten at In[51]:23.\n",
      "WARNING: Method definition checkSolution(Any, Any, Any, Any, Any) in module Main at In[49]:38 overwritten at In[51]:38.\n",
      "WARNING: Method definition testMethodReply1(Any, Any, Any, Any) in module Main at In[49]:47 overwritten at In[51]:47.\n"
     ]
    }
   ],
   "source": [
    "#n is the dimension\n",
    "#m is the sparcity\n",
    "#k is the rank\n",
    "function CreateRandomNoisy(n,m,k)\n",
    "    X = randn(n,k)\n",
    "    Y = randn(n,k)\n",
    "    B = X*Y'\n",
    "    totalEntries = n*n\n",
    "    randomEntries1=rand(1:n,n*n-m)    \n",
    "    randomEntries2=rand(1:n,n*n-m)\n",
    "    A= randn(n,n)\n",
    "    randomEntries1=rand(1:n,m)\n",
    "    randomEntries2=rand(1:n,m)\n",
    "    S = zeros(A)\n",
    "    for i = 1:m\n",
    "        S[randomEntries1[i],randomEntries2[i]]=A[randomEntries1[i],randomEntries2[i]]   \n",
    "    end\n",
    "    return (B,S)\n",
    "end \n",
    "\n",
    "#Function that test if the recover was succsesfull given the known matrices.\n",
    "function testMethod(n,m,k,epsilon)\n",
    "    for i in 0.0:0.1:0.9\n",
    "    println(i)\n",
    "        j=i/(1-i)\n",
    "        real= CreateRandomNoisy(n,m,k)\n",
    "        solve=rpca(real[1]+real[2],j,1.6,1.0e-7,1.0e-5,50000)\n",
    "        if checkSolution(real[1],real[2],solve[1],solve[2],epsilon)==true\n",
    "            println(\"SolucionEncontrada!\")\n",
    "            return(real[1],real[2],solve[1],solve[2])\n",
    "        end\n",
    "    end\n",
    "    println(\"Didn't find a solution :/\")\n",
    "end\n",
    "\n",
    "function testMethod(n,m,k,epsilon)\n",
    "    for i in 0.0:0.1:0.9\n",
    "    println(i)\n",
    "        j=i/(1-i)\n",
    "        real= CreateRandomNoisy(n,m,k)\n",
    "        solve=rpca(real[1]+real[2],j,1.6,1.0e-7,1.0e-5,50000)\n",
    "        if checkSolution(real[1],real[2],solve[1],solve[2],epsilon)==true\n",
    "            println(\"SolucionEncontrada!\")\n",
    "            return(real[1],real[2],solve[1],solve[2])\n",
    "        end\n",
    "    end\n",
    "    println(\"Didn't find a solution :/\")\n",
    "end\n",
    "\n",
    "\n",
    "\n",
    "\n",
    "\n",
    "\n",
    "\n",
    "\n",
    "\n",
    "#Function that checks if a given pair of matrices is a solution\n",
    "function checkSolution(RealLowRank,RealSparse,LowRank,Sparse,epsilon)\n",
    "    tolerance =  vecnorm(LowRank-RealLowRank)/vecnorm(RealLowRank)+vecnorm(Sparse-RealSparse)/vecnorm(RealSparse)\n",
    "    if tolerance < epsilon\n",
    "        return true\n",
    "    end\n",
    "        return false\n",
    "end    \n",
    "\n",
    "\n",
    "function testMethodReply1(n,m,k,epsilon)\n",
    "    for i in 0.0:0.1:0.9\n",
    "        j=i/(1-i)\n",
    "        real= CreateRandomNoisy(n,m,k)\n",
    "        solve=rpca(real[1]+real[2],j,1.6,1.0e-7,1.0e-5,10000)\n",
    "        if checkSolution(real[1],real[2],solve[1],solve[2],epsilon)==true\n",
    "            return(1)\n",
    "        end\n",
    "    end\n",
    "    return(0)\n",
    "end\n",
    "   "
   ]
  },
  {
   "cell_type": "code",
   "execution_count": 11,
   "metadata": {
    "collapsed": false
   },
   "outputs": [
    {
     "data": {
      "text/plain": [
       "crearMatrizExito (generic function with 1 method)"
      ]
     },
     "execution_count": 11,
     "metadata": {},
     "output_type": "execute_result"
    }
   ],
   "source": [
    "#We create a matrix that shows how good the method performs.\n",
    "#k is the rank\n",
    "#m is the sparcity\n",
    "#n is the dimension of the matrix\n",
    "function crearMatrizExito(n)    \n",
    "    A = zeros(10,10)\n",
    "    for k in 1:10\n",
    "        contador = 0 \n",
    "        for m in 1:10\n",
    "            for l in 1:10\n",
    "            contador = contador+testMethodReply1(n,m*5,k,0.1)\n",
    "            end\n",
    "         A[m,k]=contador/10\n",
    "        end\n",
    "        println(k)\n",
    "    end\n",
    "    return(A)\n",
    "end\n",
    "\n",
    "    \n",
    "    "
   ]
  }
 ],
 "metadata": {
  "kernelspec": {
   "display_name": "Julia 0.5.0",
   "language": "julia",
   "name": "julia-0.5"
  },
  "language_info": {
   "file_extension": ".jl",
   "mimetype": "application/julia",
   "name": "julia",
   "version": "0.5.0"
  }
 },
 "nbformat": 4,
 "nbformat_minor": 0
}
