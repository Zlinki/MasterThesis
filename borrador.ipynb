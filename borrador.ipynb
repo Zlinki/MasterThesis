{
 "cells": [
  {
   "cell_type": "code",
   "execution_count": null,
   "metadata": {
    "collapsed": false
   },
   "outputs": [],
   "source": [
    "s = @spawnat 2 1"
   ]
  },
  {
   "cell_type": "code",
   "execution_count": null,
   "metadata": {
    "collapsed": false
   },
   "outputs": [],
   "source": [
    "#vamos a intentar paralelizar la funcion\n",
    "@everywhere function sumar(A)\n",
    "    a = sum(A)\n",
    "    return(a)\n",
    "end"
   ]
  },
  {
   "cell_type": "code",
   "execution_count": null,
   "metadata": {
    "collapsed": false
   },
   "outputs": [],
   "source": [
    "sumar(mat1)"
   ]
  },
  {
   "cell_type": "code",
   "execution_count": null,
   "metadata": {
    "collapsed": false
   },
   "outputs": [],
   "source": [
    "mat1"
   ]
  },
  {
   "cell_type": "code",
   "execution_count": null,
   "metadata": {
    "collapsed": false
   },
   "outputs": [],
   "source": [
    "nprocs()"
   ]
  },
  {
   "cell_type": "code",
   "execution_count": null,
   "metadata": {
    "collapsed": false
   },
   "outputs": [],
   "source": [
    "addprocs(1)"
   ]
  },
  {
   "cell_type": "code",
   "execution_count": null,
   "metadata": {
    "collapsed": false
   },
   "outputs": [],
   "source": [
    "mat1 = rand(5,5)"
   ]
  },
  {
   "cell_type": "code",
   "execution_count": null,
   "metadata": {
    "collapsed": false
   },
   "outputs": [],
   "source": [
    "bli = @spawn sumar(mat1)"
   ]
  },
  {
   "cell_type": "code",
   "execution_count": null,
   "metadata": {
    "collapsed": false
   },
   "outputs": [],
   "source": [
    "fetch(bli)"
   ]
  },
  {
   "cell_type": "code",
   "execution_count": null,
   "metadata": {
    "collapsed": false
   },
   "outputs": [],
   "source": [
    " mat1[shuffle(1:end), :]"
   ]
  },
  {
   "cell_type": "code",
   "execution_count": null,
   "metadata": {
    "collapsed": false
   },
   "outputs": [],
   "source": [
    "using NBInclude\n",
    "nbinclude(\"AuxFunctions.ipynb\")\n",
    "#nbinclude(\"GraphLearning.ipynb\")"
   ]
  },
  {
   "cell_type": "code",
   "execution_count": null,
   "metadata": {
    "collapsed": false
   },
   "outputs": [],
   "source": [
    " mat1[shuffle(1:end), :]"
   ]
  },
  {
   "cell_type": "code",
   "execution_count": null,
   "metadata": {
    "collapsed": false
   },
   "outputs": [],
   "source": [
    "grafo10obs3 = Array{Any}(3)\n",
    "grafo10obs3[1]=erdosgraph([0.9,0.9],0.1,[3,7],10)+diagm(ones(10))\n",
    "grafo10obs3[2]=erdosgraph([0.9,0.9],0.1,[3,7],10)+diagm(ones(10))\n",
    "grafo10obs3[3]=erdosgraph([0.9,0.9],0.1,[3,7],10)+diagm(ones(10))\n",
    "1"
   ]
  },
  {
   "cell_type": "code",
   "execution_count": null,
   "metadata": {
    "collapsed": false
   },
   "outputs": [],
   "source": [
    "revuelve=shuffle(1:10)"
   ]
  },
  {
   "cell_type": "code",
   "execution_count": null,
   "metadata": {
    "collapsed": false
   },
   "outputs": [],
   "source": [
    "grafo10obs3[1]=grafo10obs3[1][revuelve,revuelve]\n",
    "grafo10obs3[2]=grafo10obs3[2][revuelve,revuelve]\n",
    "grafo10obs3[3]=grafo10obs3[3][revuelve,revuelve]\n",
    "1"
   ]
  },
  {
   "cell_type": "code",
   "execution_count": null,
   "metadata": {
    "collapsed": true
   },
   "outputs": [],
   "source": [
    "recuperaRegular = learnRegularized2A([1/3,1/3,1/3],1.6,grafo10obs3,10)\n"
   ]
  },
  {
   "cell_type": "code",
   "execution_count": null,
   "metadata": {
    "collapsed": false
   },
   "outputs": [],
   "source": [
    "recuperaRegular[1]"
   ]
  },
  {
   "cell_type": "code",
   "execution_count": null,
   "metadata": {
    "collapsed": false
   },
   "outputs": [],
   "source": [
    "recup = round.(recuperaRegular[1])"
   ]
  },
  {
   "cell_type": "code",
   "execution_count": null,
   "metadata": {
    "collapsed": false
   },
   "outputs": [],
   "source": [
    "Pkg.add(\"LightGraphs\")"
   ]
  },
  {
   "cell_type": "code",
   "execution_count": null,
   "metadata": {
    "collapsed": false
   },
   "outputs": [],
   "source": [
    "using LightGraphs"
   ]
  },
  {
   "cell_type": "code",
   "execution_count": null,
   "metadata": {
    "collapsed": false
   },
   "outputs": [],
   "source": [
    " g = PathGraph(6)"
   ]
  },
  {
   "cell_type": "code",
   "execution_count": null,
   "metadata": {
    "collapsed": false
   },
   "outputs": [],
   "source": [
    "A = [1 1 0; 1 1 0; 0 0 1]"
   ]
  },
  {
   "cell_type": "code",
   "execution_count": null,
   "metadata": {
    "collapsed": false
   },
   "outputs": [],
   "source": [
    "g = Graph(A)"
   ]
  },
  {
   "cell_type": "code",
   "execution_count": null,
   "metadata": {
    "collapsed": false
   },
   "outputs": [],
   "source": [
    "connected_components(g)"
   ]
  },
  {
   "cell_type": "code",
   "execution_count": null,
   "metadata": {
    "collapsed": false
   },
   "outputs": [],
   "source": [
    "mat1=erdosgraph([1,1],0,[3,7],10)+diagm(ones(10))\n"
   ]
  },
  {
   "cell_type": "code",
   "execution_count": null,
   "metadata": {
    "collapsed": false
   },
   "outputs": [],
   "source": [
    "asdf=shuffle(1:10)"
   ]
  },
  {
   "cell_type": "code",
   "execution_count": null,
   "metadata": {
    "collapsed": false
   },
   "outputs": [],
   "source": [
    "mat1 =mat1[asdf,asdf]"
   ]
  },
  {
   "cell_type": "code",
   "execution_count": null,
   "metadata": {
    "collapsed": false
   },
   "outputs": [],
   "source": [
    "g = Graph(mat1)"
   ]
  },
  {
   "cell_type": "code",
   "execution_count": null,
   "metadata": {
    "collapsed": false
   },
   "outputs": [],
   "source": [
    "connected_components(g)"
   ]
  },
  {
   "cell_type": "code",
   "execution_count": null,
   "metadata": {
    "collapsed": false
   },
   "outputs": [],
   "source": [
    "function SoftThreshold(W,perturbation)\n",
    "    map(W) do x\n",
    "        perturb(x,perturbation)\n",
    "    end\n",
    "end\n",
    "\n",
    "\n",
    "\n",
    "#Method for perturbing x given epsilon. Used in the softThresholding function.\n",
    "function perturb(x,epsilon)\n",
    "    if x>epsilon \n",
    "        return x-epsilon\n",
    "    end\n",
    "    if x<-epsilon\n",
    "        return x+epsilon\n",
    "    else\n",
    "        return(0)\n",
    "    end\n",
    "end\n"
   ]
  },
  {
   "cell_type": "code",
   "execution_count": null,
   "metadata": {
    "collapsed": false
   },
   "outputs": [],
   "source": [
    "function solveForXprox(obs,Y,Z,mu,n)\n",
    "#    actualizado = SoftThreshold(Z-(1/mu)*Y-obs,1/mu)+obs\n",
    "    actualizado = SoftThreshold(Z-(1/mu)*Y-obs,1/(2*mu))+obs\n",
    "    return(actualizado)\n",
    "end    \n"
   ]
  },
  {
   "cell_type": "code",
   "execution_count": null,
   "metadata": {
    "collapsed": true
   },
   "outputs": [],
   "source": []
  },
  {
   "cell_type": "code",
   "execution_count": null,
   "metadata": {
    "collapsed": true
   },
   "outputs": [],
   "source": []
  },
  {
   "cell_type": "code",
   "execution_count": null,
   "metadata": {
    "collapsed": true
   },
   "outputs": [],
   "source": [
    "grafo10obs3 = Array{Any}(3)\n",
    "grafo10obs3[1]=erdosgraph([0.9,0.9],0.1,[3,7],10)+diagm(ones(10))\n",
    "grafo10obs3[2]=erdosgraph([0.9,0.9],0.1,[3,7],10)+diagm(ones(10))\n",
    "grafo10obs3[3]=erdosgraph([0.9,0.9],0.1,[3,7],10)+diagm(ones(10))"
   ]
  },
  {
   "cell_type": "code",
   "execution_count": null,
   "metadata": {
    "collapsed": false
   },
   "outputs": [],
   "source": [
    "mat3=erdosgraph([0.9,0.9],0.1,[250,750],1000)+diagm(ones(1000))"
   ]
  },
  {
   "cell_type": "code",
   "execution_count": null,
   "metadata": {
    "collapsed": false
   },
   "outputs": [],
   "source": [
    "tic()\n",
    "SoftThreshold(mat3,0.3125)\n",
    "toc()"
   ]
  },
  {
   "cell_type": "code",
   "execution_count": null,
   "metadata": {
    "collapsed": false
   },
   "outputs": [],
   "source": [
    "1/3.2"
   ]
  },
  {
   "cell_type": "code",
   "execution_count": null,
   "metadata": {
    "collapsed": false
   },
   "outputs": [],
   "source": [
    "tic()\n",
    "perturb.(mat1,0.3125)\n",
    "toc()"
   ]
  },
  {
   "cell_type": "code",
   "execution_count": null,
   "metadata": {
    "collapsed": true
   },
   "outputs": [],
   "source": []
  },
  {
   "cell_type": "code",
   "execution_count": 1,
   "metadata": {
    "collapsed": true
   },
   "outputs": [],
   "source": [
    "using NBInclude\n",
    "#using LightGraphs\n",
    "nbinclude(\"C:\\\\Users\\\\Daniel\\\\MasterThesis\\\\admmRecovery.ipynb\")"
   ]
  },
  {
   "cell_type": "code",
   "execution_count": null,
   "metadata": {
    "collapsed": false
   },
   "outputs": [],
   "source": [
    "euObs = Array{Any}(1)\n",
    "euObs[1]= erdosgraph([0.65,0.65,0.65,0.65],0.2,[250,250,250,250],1000)+diagm(ones(1000))"
   ]
  },
  {
   "cell_type": "code",
   "execution_count": null,
   "metadata": {
    "collapsed": false
   },
   "outputs": [],
   "source": [
    "recover=admmRecovery(euObs,2.3,1000,1.6,1.0e-4,300)\n"
   ]
  },
  {
   "cell_type": "code",
   "execution_count": null,
   "metadata": {
    "collapsed": true
   },
   "outputs": [],
   "source": []
  },
  {
   "cell_type": "code",
   "execution_count": 2,
   "metadata": {
    "collapsed": false
   },
   "outputs": [
    {
     "data": {
      "text/plain": [
       "4.278333333333333"
      ]
     },
     "execution_count": 2,
     "metadata": {},
     "output_type": "execute_result"
    }
   ],
   "source": [
    "256.7/60"
   ]
  },
  {
   "cell_type": "code",
   "execution_count": 1,
   "metadata": {
    "collapsed": false
   },
   "outputs": [
    {
     "name": "stdout",
     "output_type": "stream",
     "text": [
      "elapsed time: 1.015080618 seconds\n"
     ]
    },
    {
     "data": {
      "text/plain": [
       "1.015080618"
      ]
     },
     "execution_count": 1,
     "metadata": {},
     "output_type": "execute_result"
    }
   ],
   "source": [
    "mat1 = randn(1000,1000)\n",
    "tic()\n",
    "svd(mat1)\n",
    "toc()"
   ]
  },
  {
   "cell_type": "code",
   "execution_count": 3,
   "metadata": {
    "collapsed": false
   },
   "outputs": [
    {
     "data": {
      "text/plain": [
       "3×3 Array{Int64,2}:\n",
       " 1  1  3\n",
       " 3  5  1\n",
       " 2  6  4"
      ]
     },
     "execution_count": 3,
     "metadata": {},
     "output_type": "execute_result"
    }
   ],
   "source": [
    "mat1 = [1 1 3; 3 5 1; 2 6 4]"
   ]
  },
  {
   "cell_type": "code",
   "execution_count": null,
   "metadata": {
    "collapsed": true
   },
   "outputs": [],
   "source": []
  },
  {
   "cell_type": "code",
   "execution_count": 5,
   "metadata": {
    "collapsed": false
   },
   "outputs": [
    {
     "data": {
      "text/plain": [
       "Base.LinAlg.SVD{Float64,Float64,Array{Float64,2}}([-0.265414 -0.712482 0.649557; -0.580553 0.655991 0.482321; -0.769749 -0.249088 -0.587743], [9.647, 2.80433, 1.03499], [-0.367635 -0.80716 -0.461884; 0.270053 0.382604 -0.883564; 0.889897 -0.449562 0.0773172])"
      ]
     },
     "execution_count": 5,
     "metadata": {},
     "output_type": "execute_result"
    }
   ],
   "source": [
    "fact1 = svdfact(mat1)"
   ]
  },
  {
   "cell_type": "code",
   "execution_count": 7,
   "metadata": {
    "collapsed": false
   },
   "outputs": [
    {
     "data": {
      "text/plain": [
       "3×3 Array{Float64,2}:\n",
       " -0.265414  -0.712482   0.649557\n",
       " -0.580553   0.655991   0.482321\n",
       " -0.769749  -0.249088  -0.587743"
      ]
     },
     "execution_count": 7,
     "metadata": {},
     "output_type": "execute_result"
    }
   ],
   "source": [
    "fact1[:U]"
   ]
  },
  {
   "cell_type": "code",
   "execution_count": 8,
   "metadata": {
    "collapsed": false
   },
   "outputs": [
    {
     "data": {
      "text/plain": [
       "3-element Array{Float64,1}:\n",
       " 9.647  \n",
       " 2.80433\n",
       " 1.03499"
      ]
     },
     "execution_count": 8,
     "metadata": {},
     "output_type": "execute_result"
    }
   ],
   "source": [
    "fact1[:S]"
   ]
  },
  {
   "cell_type": "code",
   "execution_count": 9,
   "metadata": {
    "collapsed": false
   },
   "outputs": [
    {
     "data": {
      "text/plain": [
       "3×3 Array{Float64,2}:\n",
       " -0.367635  -0.80716   -0.461884 \n",
       "  0.270053   0.382604  -0.883564 \n",
       "  0.889897  -0.449562   0.0773172"
      ]
     },
     "execution_count": 9,
     "metadata": {},
     "output_type": "execute_result"
    }
   ],
   "source": [
    "fact1[:Vt]"
   ]
  },
  {
   "cell_type": "code",
   "execution_count": 10,
   "metadata": {
    "collapsed": false
   },
   "outputs": [
    {
     "data": {
      "text/plain": [
       "([-0.265414 -0.712482 0.649557; -0.580553 0.655991 0.482321; -0.769749 -0.249088 -0.587743], [9.647, 2.80433, 1.03499], [-0.367635 0.270053 0.889897; -0.80716 0.382604 -0.449562; -0.461884 -0.883564 0.0773172])"
      ]
     },
     "execution_count": 10,
     "metadata": {},
     "output_type": "execute_result"
    }
   ],
   "source": [
    "fact2 =svd(mat1)"
   ]
  },
  {
   "cell_type": "code",
   "execution_count": 11,
   "metadata": {
    "collapsed": false
   },
   "outputs": [
    {
     "data": {
      "text/plain": [
       "3×3 Array{Float64,2}:\n",
       " -0.265414  -0.712482   0.649557\n",
       " -0.580553   0.655991   0.482321\n",
       " -0.769749  -0.249088  -0.587743"
      ]
     },
     "execution_count": 11,
     "metadata": {},
     "output_type": "execute_result"
    }
   ],
   "source": [
    "fact2[1]"
   ]
  },
  {
   "cell_type": "code",
   "execution_count": 12,
   "metadata": {
    "collapsed": false
   },
   "outputs": [
    {
     "data": {
      "text/plain": [
       "3-element Array{Float64,1}:\n",
       " 9.647  \n",
       " 2.80433\n",
       " 1.03499"
      ]
     },
     "execution_count": 12,
     "metadata": {},
     "output_type": "execute_result"
    }
   ],
   "source": [
    "fact2[2]"
   ]
  },
  {
   "cell_type": "code",
   "execution_count": 13,
   "metadata": {
    "collapsed": false
   },
   "outputs": [
    {
     "data": {
      "text/plain": [
       "3×3 Array{Float64,2}:\n",
       " -0.367635   0.270053   0.889897 \n",
       " -0.80716    0.382604  -0.449562 \n",
       " -0.461884  -0.883564   0.0773172"
      ]
     },
     "execution_count": 13,
     "metadata": {},
     "output_type": "execute_result"
    }
   ],
   "source": [
    "fact2[3]"
   ]
  },
  {
   "cell_type": "code",
   "execution_count": null,
   "metadata": {
    "collapsed": true
   },
   "outputs": [],
   "source": [
    "cd(\"C:/Users/Daniel/MasterThesis/GraphProyects/NipCollabs\")\n",
    "include(\"pruebaADMM.jl\")\n",
    "Nips = Array{Any}(6)\n",
    "Nips[1]= readdlm(\"nips21.txt\")+diagm(ones(5722))\n",
    "Nips[2]= readdlm(\"nips22.txt\")+diagm(ones(5722))\n",
    "Nips[3]= readdlm(\"nips23.txt\")+diagm(ones(5722))\n",
    "Nips[4]= readdlm(\"nips24.txt\")+diagm(ones(5722))\n",
    "Nips[5]= readdlm(\"nips25.txt\")+diagm(ones(5722))\n",
    "Nips[6]= readdlm(\"nips26.txt\")+diagm(ones(5722))\n",
    "\n",
    "tic()\n",
    "recover=admmRecovery(Nips,3,5722,1.6,1.0e-4,200)\n",
    "toc()\n",
    "RealRecovery=(recover[1]+ones(5722)*ones(5722)')/2\n",
    "writedlm(\"NipsRecovered.txt\",RealRecovery)"
   ]
  },
  {
   "cell_type": "code",
   "execution_count": null,
   "metadata": {
    "collapsed": true
   },
   "outputs": [],
   "source": []
  },
  {
   "cell_type": "code",
   "execution_count": null,
   "metadata": {
    "collapsed": true
   },
   "outputs": [],
   "source": []
  },
  {
   "cell_type": "code",
   "execution_count": 19,
   "metadata": {
    "collapsed": false
   },
   "outputs": [
    {
     "name": "stdout",
     "output_type": "stream",
     "text": [
      "elapsed time: 0.95767606 seconds\n"
     ]
    },
    {
     "data": {
      "text/plain": [
       "0.95767606"
      ]
     },
     "execution_count": 19,
     "metadata": {},
     "output_type": "execute_result"
    }
   ],
   "source": [
    "tic()\n",
    "singValDesc = svdfact(mat1)\n",
    "toc()"
   ]
  },
  {
   "cell_type": "code",
   "execution_count": 21,
   "metadata": {
    "collapsed": false
   },
   "outputs": [
    {
     "name": "stdout",
     "output_type": "stream",
     "text": [
      "elapsed time: 0.195563683 seconds\n"
     ]
    },
    {
     "data": {
      "text/plain": [
       "1000×1000 Array{Float64,2}:\n",
       " -0.524587   -1.36845     0.0962655  …  -0.568819   -2.36363    1.01624  \n",
       " -0.647133   -0.718962    1.2681        -0.464929   -0.925547   1.29815  \n",
       " -0.726949   -1.66703     1.36015       -1.26581    -0.874583  -0.0743908\n",
       " -0.252659    1.15193     1.07875       -0.591441    0.234644  -0.166097 \n",
       " -0.377012    1.12742    -0.574232      -1.11853    -0.171567  -0.438598 \n",
       "  1.04553     1.17693    -0.453178   …   0.779399   -0.909639   1.39379  \n",
       " -0.392305    2.22719    -0.384819       1.70521    -0.383975  -0.870332 \n",
       "  2.55664    -0.490191   -1.37538       -1.17022    -1.19008   -1.62265  \n",
       " -0.732283   -0.746533    1.28218       -1.045      -0.232921   0.167483 \n",
       "  0.749854   -0.405137   -1.03894        0.0828048   0.110496   0.388229 \n",
       "  0.394458   -0.963022    0.492247   …  -0.543118    0.952909  -1.97382  \n",
       " -1.47758     0.144909   -0.466203       0.151511   -0.496114   0.0230741\n",
       "  0.0425463  -0.595528    0.745858      -1.92775    -0.798215   0.103108 \n",
       "  ⋮                                  ⋱                                   \n",
       " -1.31589    -1.65518    -1.52327        0.996821    0.647667  -0.807265 \n",
       "  0.866767    0.106941    0.160605       0.701646    0.291648  -0.645915 \n",
       " -1.29591     0.296285    1.00222    …  -0.0406255   0.580838   0.394985 \n",
       " -0.986362   -2.07247    -1.25274       -0.0195854  -0.869314   0.881103 \n",
       "  0.300804   -0.163422   -0.175963      -0.799402    0.404443  -1.00841  \n",
       "  0.242365   -0.36119     0.607771       0.878926    1.03211    0.822376 \n",
       "  1.97664    -2.61199    -0.107196      -0.354485    0.426816  -0.887342 \n",
       " -1.85       -0.694009   -1.99174    …   1.8739      1.03435    2.66693  \n",
       "  0.227279    0.0194465  -0.278166      -1.04687    -0.346149   0.304139 \n",
       "  0.561415   -1.68865    -0.705461      -1.35715     1.99687    0.597147 \n",
       " -0.44206    -0.394409   -0.39194        0.875232   -0.746651  -4.02395  \n",
       "  0.391287   -1.52161    -0.0911635      1.17741     3.61677   -0.943424 "
      ]
     },
     "execution_count": 21,
     "metadata": {},
     "output_type": "execute_result"
    }
   ],
   "source": [
    "tic()\n",
    "Z = singValDesc[:U]*(diagm(singValDesc[:S])*singValDesc[:Vt])\n",
    "toc()\n",
    "Z"
   ]
  },
  {
   "cell_type": "code",
   "execution_count": 25,
   "metadata": {
    "collapsed": false
   },
   "outputs": [
    {
     "name": "stdout",
     "output_type": "stream",
     "text": [
      "elapsed time: 0.143253236 seconds\n"
     ]
    },
    {
     "data": {
      "text/plain": [
       "0.143253236"
      ]
     },
     "execution_count": 25,
     "metadata": {},
     "output_type": "execute_result"
    }
   ],
   "source": [
    "tic()\n",
    "p=*(singValDesc[:U],diagm(singValDesc[:S]),singValDesc[:Vt])\n",
    "toc()"
   ]
  },
  {
   "cell_type": "code",
   "execution_count": 26,
   "metadata": {
    "collapsed": false
   },
   "outputs": [
    {
     "data": {
      "text/plain": [
       "1000×1000 Array{Float64,2}:\n",
       " -0.524587   -1.36845     0.0962655  …  -0.568819   -2.36363    1.01624  \n",
       " -0.647133   -0.718962    1.2681        -0.464929   -0.925547   1.29815  \n",
       " -0.726949   -1.66703     1.36015       -1.26581    -0.874583  -0.0743908\n",
       " -0.252659    1.15193     1.07875       -0.591441    0.234644  -0.166097 \n",
       " -0.377012    1.12742    -0.574232      -1.11853    -0.171567  -0.438598 \n",
       "  1.04553     1.17693    -0.453178   …   0.779399   -0.909639   1.39379  \n",
       " -0.392305    2.22719    -0.384819       1.70521    -0.383975  -0.870332 \n",
       "  2.55664    -0.490191   -1.37538       -1.17022    -1.19008   -1.62265  \n",
       " -0.732283   -0.746533    1.28218       -1.045      -0.232921   0.167483 \n",
       "  0.749854   -0.405137   -1.03894        0.0828048   0.110496   0.388229 \n",
       "  0.394458   -0.963022    0.492247   …  -0.543118    0.952909  -1.97382  \n",
       " -1.47758     0.144909   -0.466203       0.151511   -0.496114   0.0230741\n",
       "  0.0425463  -0.595528    0.745858      -1.92775    -0.798215   0.103108 \n",
       "  ⋮                                  ⋱                                   \n",
       " -1.31589    -1.65518    -1.52327        0.996821    0.647667  -0.807265 \n",
       "  0.866767    0.106941    0.160605       0.701646    0.291648  -0.645915 \n",
       " -1.29591     0.296285    1.00222    …  -0.0406255   0.580838   0.394985 \n",
       " -0.986362   -2.07247    -1.25274       -0.0195854  -0.869314   0.881103 \n",
       "  0.300804   -0.163422   -0.175963      -0.799402    0.404443  -1.00841  \n",
       "  0.242365   -0.36119     0.607771       0.878926    1.03211    0.822376 \n",
       "  1.97664    -2.61199    -0.107196      -0.354485    0.426816  -0.887342 \n",
       " -1.85       -0.694009   -1.99174    …   1.8739      1.03435    2.66693  \n",
       "  0.227279    0.0194465  -0.278166      -1.04687    -0.346149   0.304139 \n",
       "  0.561415   -1.68865    -0.705461      -1.35715     1.99687    0.597147 \n",
       " -0.44206    -0.394409   -0.39194        0.875232   -0.746651  -4.02395  \n",
       "  0.391287   -1.52161    -0.0911635      1.17741     3.61677   -0.943424 "
      ]
     },
     "execution_count": 26,
     "metadata": {},
     "output_type": "execute_result"
    }
   ],
   "source": [
    "p"
   ]
  },
  {
   "cell_type": "code",
   "execution_count": 24,
   "metadata": {
    "collapsed": false
   },
   "outputs": [
    {
     "data": {
      "text/plain": [
       "evaluarADMMGraphLearning4 (generic function with 2 methods)"
      ]
     },
     "execution_count": 24,
     "metadata": {},
     "output_type": "execute_result"
    }
   ],
   "source": [
    "using NBInclude\n",
    "#using LightGraphs\n",
    "nbinclude(\"C:\\\\Users\\\\Daniel\\\\MasterThesis\\\\admmRecovery.ipynb\")\n",
    "using LightGraphs\n",
    "nbinclude(\"AuxFunctions.ipynb\")"
   ]
  },
  {
   "cell_type": "code",
   "execution_count": 17,
   "metadata": {
    "collapsed": false
   },
   "outputs": [
    {
     "data": {
      "text/plain": [
       "2"
      ]
     },
     "execution_count": 17,
     "metadata": {},
     "output_type": "execute_result"
    }
   ],
   "source": [
    "a =7\n",
    "b =2"
   ]
  },
  {
   "cell_type": "code",
   "execution_count": 18,
   "metadata": {
    "collapsed": false
   },
   "outputs": [
    {
     "data": {
      "text/plain": [
       "1.2315377486914956"
      ]
     },
     "execution_count": 18,
     "metadata": {},
     "output_type": "execute_result"
    }
   ],
   "source": [
    "abs(sqrt(a)-sqrt(b))"
   ]
  },
  {
   "cell_type": "code",
   "execution_count": 12,
   "metadata": {
    "collapsed": false
   },
   "outputs": [
    {
     "data": {
      "text/plain": [
       "100"
      ]
     },
     "execution_count": 12,
     "metadata": {},
     "output_type": "execute_result"
    }
   ],
   "source": [
    "n=100"
   ]
  },
  {
   "cell_type": "code",
   "execution_count": 23,
   "metadata": {
    "collapsed": false
   },
   "outputs": [
    {
     "data": {
      "text/plain": [
       "0.3223619130191664"
      ]
     },
     "execution_count": 23,
     "metadata": {},
     "output_type": "execute_result"
    }
   ],
   "source": [
    "intra = a*log(n)/n"
   ]
  },
  {
   "cell_type": "code",
   "execution_count": 22,
   "metadata": {
    "collapsed": false
   },
   "outputs": [
    {
     "data": {
      "text/plain": [
       "0.09210340371976183"
      ]
     },
     "execution_count": 22,
     "metadata": {},
     "output_type": "execute_result"
    }
   ],
   "source": [
    "outra = b*log(n)/n"
   ]
  },
  {
   "cell_type": "code",
   "execution_count": null,
   "metadata": {
    "collapsed": true
   },
   "outputs": [],
   "source": [
    "log()"
   ]
  },
  {
   "cell_type": "code",
   "execution_count": 27,
   "metadata": {
    "collapsed": false
   },
   "outputs": [
    {
     "data": {
      "text/plain": [
       "100×100 Array{Float64,2}:\n",
       " 1.0  0.0  1.0  0.0  1.0  0.0  1.0  0.0  …  0.0  0.0  1.0  0.0  0.0  0.0  0.0\n",
       " 0.0  1.0  0.0  0.0  0.0  1.0  0.0  0.0     0.0  1.0  0.0  0.0  0.0  0.0  0.0\n",
       " 1.0  0.0  1.0  0.0  1.0  1.0  1.0  0.0     0.0  0.0  0.0  0.0  0.0  0.0  0.0\n",
       " 0.0  0.0  0.0  1.0  1.0  0.0  1.0  0.0     0.0  0.0  0.0  0.0  0.0  0.0  1.0\n",
       " 1.0  0.0  1.0  1.0  1.0  0.0  0.0  0.0     0.0  0.0  0.0  0.0  0.0  0.0  0.0\n",
       " 0.0  1.0  1.0  0.0  0.0  1.0  1.0  1.0  …  0.0  0.0  0.0  0.0  0.0  0.0  0.0\n",
       " 1.0  0.0  1.0  1.0  0.0  1.0  1.0  0.0     0.0  0.0  0.0  0.0  0.0  0.0  0.0\n",
       " 0.0  0.0  0.0  0.0  0.0  1.0  0.0  1.0     0.0  0.0  0.0  0.0  0.0  0.0  0.0\n",
       " 0.0  0.0  0.0  1.0  0.0  0.0  0.0  1.0     0.0  0.0  0.0  0.0  0.0  0.0  0.0\n",
       " 0.0  1.0  1.0  0.0  1.0  0.0  1.0  0.0     0.0  0.0  0.0  0.0  0.0  0.0  0.0\n",
       " 0.0  0.0  1.0  1.0  1.0  0.0  0.0  0.0  …  0.0  0.0  0.0  0.0  0.0  1.0  0.0\n",
       " 0.0  0.0  0.0  0.0  0.0  0.0  0.0  0.0     0.0  0.0  0.0  0.0  0.0  0.0  0.0\n",
       " 0.0  1.0  0.0  1.0  0.0  0.0  0.0  1.0     0.0  0.0  0.0  1.0  0.0  0.0  0.0\n",
       " ⋮                        ⋮              ⋱            ⋮                      \n",
       " 1.0  0.0  0.0  1.0  0.0  0.0  0.0  1.0     0.0  0.0  0.0  0.0  1.0  0.0  0.0\n",
       " 0.0  0.0  0.0  0.0  0.0  0.0  0.0  0.0     0.0  0.0  0.0  0.0  0.0  0.0  0.0\n",
       " 0.0  0.0  1.0  0.0  0.0  0.0  0.0  0.0  …  1.0  1.0  1.0  0.0  1.0  0.0  1.0\n",
       " 0.0  0.0  0.0  0.0  1.0  0.0  0.0  0.0     0.0  1.0  0.0  0.0  0.0  0.0  0.0\n",
       " 0.0  0.0  0.0  1.0  0.0  1.0  1.0  0.0     0.0  0.0  0.0  1.0  1.0  1.0  0.0\n",
       " 0.0  0.0  0.0  0.0  0.0  0.0  0.0  0.0     1.0  1.0  0.0  0.0  0.0  1.0  0.0\n",
       " 0.0  1.0  0.0  0.0  0.0  0.0  0.0  0.0     1.0  1.0  0.0  0.0  1.0  1.0  0.0\n",
       " 1.0  0.0  0.0  0.0  0.0  0.0  0.0  0.0  …  0.0  0.0  1.0  0.0  1.0  0.0  1.0\n",
       " 0.0  0.0  0.0  0.0  0.0  0.0  0.0  0.0     0.0  0.0  0.0  1.0  0.0  1.0  1.0\n",
       " 0.0  0.0  0.0  0.0  0.0  0.0  0.0  0.0     0.0  1.0  1.0  0.0  1.0  0.0  0.0\n",
       " 0.0  0.0  0.0  0.0  0.0  0.0  0.0  0.0     1.0  1.0  0.0  1.0  0.0  1.0  0.0\n",
       " 0.0  0.0  0.0  1.0  0.0  0.0  0.0  0.0     0.0  0.0  1.0  1.0  0.0  0.0  1.0"
      ]
     },
     "execution_count": 27,
     "metadata": {},
     "output_type": "execute_result"
    }
   ],
   "source": [
    "\n",
    "euObs = Array{Any}(3)\n",
    "euObs[1]= erdosgraph([intra,intra],outra,[60,40],100)+diagm(ones(100))\n",
    "euObs[2]= erdosgraph([intra,intra],outra,[60,40],100)+diagm(ones(100))\n",
    "euObs[3]= erdosgraph([intra,intra],outra,[60,40],100)+diagm(ones(100))"
   ]
  },
  {
   "cell_type": "code",
   "execution_count": 28,
   "metadata": {
    "collapsed": false
   },
   "outputs": [
    {
     "name": "stdout",
     "output_type": "stream",
     "text": [
      "solving for x...\n",
      "Solved, now solving for Z\n",
      "elapsed time: 4.056314661 seconds\n",
      "solved. now solving Y\n",
      "Step 0\n",
      "0.8\n",
      "solving for x...\n",
      "Solved, now solving for Z\n",
      "elapsed time: 0.007012934 seconds\n",
      "solved. now solving Y\n",
      "Step 1\n",
      "0.8\n",
      "solving for x...\n",
      "Solved, now solving for Z\n",
      "elapsed time: 0.007140435 seconds\n",
      "solved. now solving Y\n",
      "Step 2\n",
      "0.8\n",
      "solving for x...\n",
      "Solved, now solving for Z\n",
      "elapsed time: 0.008415837 seconds\n",
      "solved. now solving Y\n",
      "Step 3\n",
      "0.8\n",
      "solving for x...\n",
      "Solved, now solving for Z\n",
      "elapsed time: 0.007499648 seconds\n",
      "solved. now solving Y\n",
      "Step 4\n",
      "0.8\n",
      "solving for x...\n",
      "Solved, now solving for Z\n",
      "elapsed time: 0.007552543 seconds\n",
      "solved. now solving Y\n",
      "Step 5\n",
      "0.8\n",
      "solving for x...\n",
      "Solved, now solving for Z\n",
      "elapsed time: 0.00705675 seconds\n",
      "solved. now solving Y\n",
      "Step 6\n",
      "0.8\n",
      "solving for x...\n",
      "Solved, now solving for Z\n",
      "elapsed time: 0.011122958 seconds\n",
      "solved. now solving Y\n",
      "Step 7\n",
      "0.8\n",
      "solving for x...\n",
      "Solved, now solving for Z\n",
      "elapsed time: 0.007360305 seconds\n",
      "solved. now solving Y\n",
      "Step 8\n",
      "0.8\n",
      "solving for x...\n",
      "Solved, now solving for Z\n",
      "elapsed time: 0.008502285 seconds\n",
      "solved. now solving Y\n",
      "Step 9\n",
      "0.8\n",
      "solving for x...\n",
      "Solved, now solving for Z\n",
      "elapsed time: 0.008120967 seconds\n",
      "solved. now solving Y\n",
      "Step 10\n",
      "0.8\n",
      "solving for x...\n",
      "Solved, now solving for Z\n",
      "elapsed time: 0.007984387 seconds\n",
      "solved. now solving Y\n",
      "Step 11\n",
      "0.8\n",
      "solving for x...\n",
      "Solved, now solving for Z\n",
      "elapsed time: 0.007561621 seconds\n",
      "solved. now solving Y\n",
      "Step 12\n",
      "0.8\n",
      "solving for x...\n",
      "Solved, now solving for Z\n",
      "elapsed time: 0.007337016 seconds\n",
      "solved. now solving Y\n",
      "Step 13\n",
      "0.8\n",
      "solving for x...\n",
      "Solved, now solving for Z\n",
      "elapsed time: 0.007773202 seconds\n",
      "solved. now solving Y\n",
      "Step 14\n",
      "0.8\n",
      "solving for x...\n",
      "Solved, now solving for Z\n",
      "elapsed time: 0.00750478 seconds\n",
      "solved. now solving Y\n",
      "Step 15\n",
      "0.8\n",
      "solving for x...\n",
      "Solved, now solving for Z\n",
      "elapsed time: 0.007385963 seconds\n",
      "solved. now solving Y\n",
      "Step 16\n",
      "0.8\n",
      "solving for x...\n",
      "Solved, now solving for Z\n",
      "elapsed time: 0.007541096 seconds\n",
      "solved. now solving Y\n",
      "Step 17\n",
      "0.8\n",
      "solving for x...\n",
      "Solved, now solving for Z\n",
      "elapsed time: 0.007663859 seconds\n",
      "solved. now solving Y\n",
      "Step 18\n",
      "0.8\n",
      "solving for x...\n",
      "Solved, now solving for Z\n",
      "elapsed time: 0.007742413 seconds\n",
      "solved. now solving Y\n",
      "Step 19\n",
      "0.8\n",
      "solving for x...\n",
      "Solved, now solving for Z\n",
      "elapsed time: 0.010965457 seconds\n",
      "solved. now solving Y\n",
      "Step 20\n",
      "0.8\n",
      "solving for x...\n",
      "Solved, now solving for Z\n",
      "elapsed time: 0.007678465 seconds\n",
      "solved. now solving Y\n",
      "Step 21\n",
      "0.8\n",
      "solving for x...\n",
      "Solved, now solving for Z\n",
      "elapsed time: 0.007468069 seconds\n",
      "solved. now solving Y\n",
      "Step 22\n",
      "0.8\n",
      "solving for x...\n",
      "Solved, now solving for Z\n",
      "elapsed time: 0.007497674 seconds\n",
      "solved. now solving Y\n",
      "Step 23\n",
      "0.8\n",
      "solving for x...\n",
      "Solved, now solving for Z\n",
      "elapsed time: 0.010693482 seconds\n",
      "solved. now solving Y\n",
      "Step 24\n",
      "0.8\n",
      "solving for x...\n",
      "Solved, now solving for Z\n",
      "elapsed time: 0.007040961 seconds\n",
      "solved. now solving Y\n",
      "Step 25\n",
      "0.8\n",
      "solving for x...\n",
      "Solved, now solving for Z\n",
      "elapsed time: 0.007501227 seconds\n",
      "solved. now solving Y\n",
      "Step 26\n",
      "0.8\n",
      "solving for x...\n",
      "Solved, now solving for Z\n",
      "elapsed time: 0.007713597 seconds\n",
      "solved. now solving Y\n",
      "Step 27\n",
      "0.8\n",
      "solving for x...\n",
      "Solved, now solving for Z\n",
      "elapsed time: 0.007625964 seconds\n",
      "solved. now solving Y\n",
      "Step 28\n",
      "0.8\n",
      "solving for x...\n",
      "Solved, now solving for Z\n",
      "elapsed time: 0.007582148 seconds\n",
      "solved. now solving Y\n",
      "Step 29\n",
      "0.8\n",
      "solving for x...\n",
      "Solved, now solving for Z\n",
      "elapsed time: 0.007773596 seconds\n",
      "solved. now solving Y\n",
      "Step 30\n",
      "0.8\n",
      "solving for x...\n",
      "Solved, now solving for Z\n",
      "elapsed time: 0.007713597 seconds\n",
      "solved. now solving Y\n",
      "Step 31\n",
      "0.8\n",
      "solving for x...\n",
      "Solved, now solving for Z\n",
      "elapsed time: 0.007560438 seconds\n",
      "solved. now solving Y\n",
      "Step 32\n",
      "0.8\n",
      "solving for x...\n",
      "Solved, now solving for Z\n",
      "elapsed time: 0.010236769 seconds\n",
      "solved. now solving Y\n",
      "Step 33\n",
      "0.8\n",
      "solving for x...\n",
      "Solved, now solving for Z\n",
      "elapsed time: 0.007470832 seconds\n",
      "solved. now solving Y\n",
      "Step 34\n",
      "0.8\n",
      "solving for x...\n",
      "Solved, now solving for Z\n",
      "elapsed time: 0.007709649 seconds\n",
      "solved. now solving Y\n",
      "Step 35\n",
      "0.8\n",
      "solving for x...\n",
      "Solved, now solving for Z\n",
      "elapsed time: 0.007815439 seconds\n",
      "solved. now solving Y\n",
      "Step 36\n",
      "0.8\n",
      "solving for x...\n",
      "Solved, now solving for Z\n",
      "elapsed time: 0.007611754 seconds\n",
      "solved. now solving Y\n",
      "Step 37\n",
      "0.8\n",
      "solving for x...\n",
      "Solved, now solving for Z\n",
      "elapsed time: 0.00729991 seconds\n",
      "solved. now solving Y\n",
      "Step 38\n",
      "0.8\n",
      "solving for x...\n",
      "Solved, now solving for Z\n",
      "elapsed time: 0.007541884 seconds\n",
      "solved. now solving Y\n",
      "Step 39\n",
      "0.8\n",
      "solving for x...\n",
      "Solved, now solving for Z\n",
      "elapsed time: 0.007787807 seconds\n",
      "solved. now solving Y\n",
      "Step 40\n",
      "0.8\n",
      "solving for x...\n",
      "Solved, now solving for Z\n",
      "elapsed time: 0.008004124 seconds\n",
      "solved. now solving Y\n",
      "Step 41\n",
      "0.8\n",
      "solving for x...\n",
      "Solved, now solving for Z\n",
      "elapsed time: 0.007886887 seconds\n",
      "solved. now solving Y\n",
      "Step 42\n",
      "0.8\n",
      "solving for x...\n",
      "Solved, now solving for Z\n",
      "elapsed time: 0.007809913 seconds\n",
      "solved. now solving Y\n",
      "Step 43\n",
      "0.8\n",
      "solving for x...\n",
      "Solved, now solving for Z\n",
      "elapsed time: 0.007753859 seconds\n",
      "solved. now solving Y\n",
      "Step 44\n",
      "0.8\n",
      "solving for x...\n",
      "Solved, now solving for Z\n",
      "elapsed time: 0.007134908 seconds\n",
      "solved. now solving Y\n",
      "Step 45\n",
      "0.8\n",
      "solving for x...\n",
      "Solved, now solving for Z\n",
      "elapsed time: 0.007074908 seconds\n",
      "solved. now solving Y\n",
      "Step 46\n",
      "0.8\n",
      "solving for x...\n",
      "Solved, now solving for Z\n",
      "elapsed time: 0.007496885 seconds\n",
      "solved. now solving Y\n",
      "Step 47\n",
      "0.8\n",
      "solving for x...\n",
      "Solved, now solving for Z\n",
      "elapsed time: 0.008798339 seconds\n",
      "solved. now solving Y\n",
      "Step 48\n",
      "0.8\n",
      "solving for x...\n",
      "Solved, now solving for Z\n",
      "elapsed time: 0.007333463 seconds\n",
      "solved. now solving Y\n",
      "Step 49\n",
      "0.8\n",
      "solving for x...\n",
      "Solved, now solving for Z\n",
      "elapsed time: 0.007559648 seconds\n",
      "solved. now solving Y\n",
      "Step 50\n",
      "0.8\n",
      "solving for x...\n",
      "Solved, now solving for Z\n",
      "elapsed time: 0.007550569 seconds\n",
      "solved. now solving Y\n",
      "Step 51\n",
      "0.8\n",
      "solving for x...\n",
      "Solved, now solving for Z\n",
      "elapsed time: 0.00740412 seconds\n",
      "solved. now solving Y\n",
      "Step 52\n",
      "0.8\n",
      "solving for x...\n",
      "Solved, now solving for Z\n",
      "elapsed time: 0.007541095 seconds\n",
      "solved. now solving Y\n",
      "Step 53\n",
      "0.8\n",
      "solving for x...\n",
      "Solved, now solving for Z\n",
      "elapsed time: 0.007487805 seconds\n",
      "solved. now solving Y\n",
      "Step 54\n",
      "0.8\n",
      "solving for x...\n",
      "Solved, now solving for Z\n",
      "elapsed time: 0.00801123 seconds\n",
      "solved. now solving Y\n",
      "Step 55\n",
      "0.8\n",
      "solving for x...\n",
      "Solved, now solving for Z\n",
      "elapsed time: 0.009824661 seconds\n",
      "solved. now solving Y\n",
      "Step 56\n",
      "0.8\n",
      "solving for x...\n",
      "Solved, now solving for Z\n",
      "elapsed time: 0.007492938 seconds\n",
      "solved. now solving Y\n",
      "Step 57\n",
      "0.8\n",
      "solving for x...\n",
      "Solved, now solving for Z\n",
      "elapsed time: 0.007353199 seconds\n",
      "solved. now solving Y\n",
      "Step 58\n",
      "0.8\n",
      "solving for x...\n",
      "Solved, now solving for Z\n",
      "elapsed time: 0.007401358 seconds\n",
      "solved. now solving Y\n",
      "Step 59\n",
      "0.8\n",
      "solving for x...\n",
      "Solved, now solving for Z\n",
      "elapsed time: 0.008245704 seconds\n",
      "solved. now solving Y\n",
      "Step 60\n",
      "0.8\n",
      "solving for x...\n",
      "Solved, now solving for Z\n",
      "elapsed time: 0.00785886 seconds\n",
      "solved. now solving Y\n",
      "Step 61\n",
      "0.8\n",
      "solving for x...\n",
      "Solved, now solving for Z\n",
      "elapsed time: 0.009284658 seconds\n",
      "solved. now solving Y\n",
      "Step 62\n",
      "0.8\n",
      "solving for x...\n",
      "Solved, now solving for Z\n",
      "elapsed time: 0.007910176 seconds\n",
      "solved. now solving Y\n",
      "Step 63\n",
      "0.8\n",
      "solving for x...\n",
      "Solved, now solving for Z\n",
      "elapsed time: 0.007918861 seconds\n",
      "solved. now solving Y\n",
      "Step 64\n",
      "0.8\n",
      "solving for x...\n",
      "Solved, now solving for Z\n",
      "elapsed time: 0.008862287 seconds\n",
      "solved. now solving Y\n",
      "Step 65\n",
      "0.8\n",
      "solving for x...\n",
      "Solved, now solving for Z\n",
      "elapsed time: 0.008635707 seconds\n",
      "solved. now solving Y\n",
      "Step 66\n",
      "0.8\n",
      "solving for x...\n",
      "Solved, now solving for Z\n",
      "elapsed time: 0.007568727 seconds\n",
      "solved. now solving Y\n",
      "Step 67\n",
      "0.8\n",
      "solving for x...\n",
      "Solved, now solving for Z\n",
      "elapsed time: 0.007646491 seconds\n",
      "solved. now solving Y\n",
      "Step 68\n",
      "0.8\n",
      "solving for x...\n",
      "Solved, now solving for Z\n",
      "elapsed time: 0.012271253 seconds\n",
      "solved. now solving Y\n",
      "Step 69\n",
      "0.8\n",
      "solving for x...\n",
      "Solved, now solving for Z\n",
      "elapsed time: 0.007399384 seconds\n",
      "solved. now solving Y\n",
      "Step 70\n",
      "0.8\n",
      "solving for x...\n",
      "Solved, now solving for Z\n",
      "elapsed time: 0.007835176 seconds\n",
      "solved. now solving Y\n",
      "Step 71\n",
      "0.8\n",
      "solving for x...\n",
      "Solved, now solving for Z\n",
      "elapsed time: 0.008260705 seconds\n",
      "solved. now solving Y\n",
      "Step 72\n",
      "0.8\n",
      "solving for x...\n",
      "Solved, now solving for Z\n",
      "elapsed time: 0.006992013 seconds\n",
      "solved. now solving Y\n",
      "Step 73\n",
      "0.8\n",
      "solving for x...\n",
      "Solved, now solving for Z\n",
      "elapsed time: 0.007955966 seconds\n",
      "solved. now solving Y\n",
      "Step 74\n",
      "0.8\n",
      "solving for x...\n",
      "Solved, now solving for Z\n",
      "elapsed time: 0.008981893 seconds\n",
      "solved. now solving Y\n",
      "Step 75\n",
      "0.8\n",
      "solving for x...\n",
      "Solved, now solving for Z\n",
      "elapsed time: 0.007931493 seconds\n",
      "solved. now solving Y\n",
      "Step 76\n",
      "0.8\n",
      "solving for x...\n",
      "Solved, now solving for Z\n",
      "elapsed time: 0.007812676 seconds\n",
      "solved. now solving Y\n",
      "Step 77\n",
      "0.8\n",
      "solving for x...\n",
      "Solved, now solving for Z\n",
      "elapsed time: 0.00765478 seconds\n",
      "solved. now solving Y\n",
      "Step 78\n",
      "0.8\n",
      "solving for x...\n",
      "Solved, now solving for Z\n",
      "elapsed time: 0.008045967 seconds\n",
      "solved. now solving Y\n",
      "Step 79\n",
      "0.8\n",
      "solving for x...\n",
      "Solved, now solving for Z\n",
      "elapsed time: 0.007628333 seconds\n",
      "solved. now solving Y\n",
      "Step 80\n",
      "0.8\n",
      "solving for x...\n",
      "Solved, now solving for Z\n",
      "elapsed time: 0.007701359 seconds\n",
      "solved. now solving Y\n",
      "Step 81\n",
      "0.8\n",
      "solving for x...\n",
      "Solved, now solving for Z\n",
      "elapsed time: 0.01073414 seconds\n",
      "solved. now solving Y\n",
      "Step 82\n",
      "0.8\n",
      "solving for x...\n",
      "Solved, now solving for Z\n",
      "elapsed time: 0.007932281 seconds\n",
      "solved. now solving Y\n",
      "Step 83\n",
      "0.8\n",
      "solving for x...\n",
      "Solved, now solving for Z\n",
      "elapsed time: 0.007490963 seconds\n",
      "solved. now solving Y\n",
      "Step 84\n",
      "0.8\n",
      "solving for x...\n",
      "Solved, now solving for Z\n",
      "elapsed time: 0.007558069 seconds\n",
      "solved. now solving Y\n",
      "Step 85\n",
      "0.8\n",
      "solving for x...\n",
      "Solved, now solving for Z\n",
      "elapsed time: 0.007730965 seconds\n",
      "solved. now solving Y\n",
      "Step 86\n",
      "0.8\n",
      "solving for x...\n",
      "Solved, now solving for Z\n",
      "elapsed time: 0.007184645 seconds\n",
      "solved. now solving Y\n",
      "Step 87\n",
      "0.8\n",
      "solving for x...\n",
      "Solved, now solving for Z\n",
      "elapsed time: 0.006933592 seconds\n",
      "solved. now solving Y\n",
      "Step 88\n",
      "0.8\n",
      "solving for x...\n",
      "Solved, now solving for Z\n",
      "elapsed time: 0.008272546 seconds\n",
      "solved. now solving Y\n",
      "Step 89\n",
      "0.8\n",
      "solving for x...\n",
      "Solved, now solving for Z\n",
      "elapsed time: 0.006959645 seconds\n",
      "solved. now solving Y\n",
      "Step 90\n",
      "0.8\n",
      "solving for x...\n",
      "Solved, now solving for Z\n",
      "elapsed time: 0.007039777 seconds\n",
      "solved. now solving Y\n",
      "Step 91\n",
      "0.8\n",
      "solving for x...\n",
      "Solved, now solving for Z\n",
      "elapsed time: 0.007408463 seconds\n",
      "solved. now solving Y\n",
      "Step 92\n",
      "0.8\n",
      "solving for x...\n",
      "Solved, now solving for Z\n",
      "elapsed time: 0.007915308 seconds\n",
      "solved. now solving Y\n",
      "Step 93\n",
      "0.8\n",
      "solving for x...\n",
      "Solved, now solving for Z\n",
      "elapsed time: 0.007760176 seconds\n",
      "solved. now solving Y\n",
      "Step 94\n",
      "0.8\n",
      "solving for x...\n",
      "Solved, now solving for Z\n",
      "elapsed time: 0.009772556 seconds\n",
      "solved. now solving Y\n",
      "Step 95\n",
      "0.8\n",
      "solving for x...\n",
      "Solved, now solving for Z\n",
      "elapsed time: 0.007627938 seconds\n",
      "solved. now solving Y\n",
      "Step 96\n",
      "0.8\n",
      "solving for x...\n",
      "Solved, now solving for Z\n",
      "elapsed time: 0.007028329 seconds\n",
      "solved. now solving Y\n",
      "Step 97\n",
      "0.8\n",
      "solving for x...\n",
      "Solved, now solving for Z\n",
      "elapsed time: 0.006909513 seconds\n",
      "solved. now solving Y\n",
      "Step 98\n",
      "0.8\n",
      "solving for x...\n",
      "Solved, now solving for Z\n",
      "elapsed time: 0.007434911 seconds\n",
      "solved. now solving Y\n",
      "Step 99\n",
      "0.8\n",
      "solving for x...\n",
      "Solved, now solving for Z\n",
      "elapsed time: 0.007897545 seconds\n",
      "solved. now solving Y\n",
      "Step 100\n",
      "0.8\n",
      "solving for x...\n",
      "Solved, now solving for Z\n",
      "elapsed time: 0.007390699 seconds\n",
      "solved. now solving Y\n",
      "Step 101\n",
      "0.8\n",
      "solving for x...\n",
      "Solved, now solving for Z\n",
      "elapsed time: 0.007695439 seconds\n",
      "solved. now solving Y\n",
      "Step 102\n",
      "0.8\n",
      "solving for x...\n",
      "Solved, now solving for Z\n",
      "elapsed time: 0.007732544 seconds\n",
      "solved. now solving Y\n",
      "Step 103\n",
      "0.8\n",
      "solving for x...\n",
      "Solved, now solving for Z\n",
      "elapsed time: 0.007869518 seconds\n",
      "solved. now solving Y\n",
      "Step 104\n",
      "0.8\n",
      "solving for x...\n",
      "Solved, now solving for Z\n",
      "elapsed time: 0.00755728 seconds\n",
      "solved. now solving Y\n",
      "Step 105\n",
      "0.8\n",
      "solving for x...\n",
      "Solved, now solving for Z\n",
      "elapsed time: 0.007938598 seconds\n",
      "solved. now solving Y\n",
      "Step 106\n",
      "0.8\n",
      "solving for x...\n",
      "Solved, now solving for Z\n",
      "elapsed time: 0.007938597 seconds\n",
      "solved. now solving Y\n",
      "Step 107\n",
      "0.8\n",
      "solving for x...\n",
      "Solved, now solving for Z\n",
      "elapsed time: 0.009785582 seconds\n",
      "solved. now solving Y\n",
      "Step 108\n",
      "0.8\n",
      "solving for x...\n",
      "Solved, now solving for Z\n",
      "elapsed time: 0.00812452 seconds\n",
      "solved. now solving Y\n",
      "Step 109\n",
      "0.8\n",
      "solving for x...\n",
      "Solved, now solving for Z\n",
      "elapsed time: 0.008506627 seconds\n",
      "solved. now solving Y\n",
      "Step 110\n",
      "0.8\n",
      "solving for x...\n",
      "Solved, now solving for Z\n",
      "elapsed time: 0.007071356 seconds\n",
      "solved. now solving Y\n",
      "Step 111\n",
      "0.8\n",
      "solving for x...\n",
      "Solved, now solving for Z\n",
      "elapsed time: 0.007564385 seconds\n",
      "solved. now solving Y\n",
      "Step 112\n",
      "0.8\n",
      "solving for x...\n",
      "Solved, now solving for Z\n",
      "elapsed time: 0.007576622 seconds\n",
      "solved. now solving Y\n",
      "Step 113\n",
      "0.8\n",
      "solving for x...\n",
      "Solved, now solving for Z\n",
      "elapsed time: 0.00785136 seconds\n",
      "solved. now solving Y\n",
      "Step 114\n",
      "0.8\n",
      "solving for x...\n",
      "Solved, now solving for Z\n",
      "elapsed time: 0.007682806 seconds\n",
      "solved. now solving Y\n",
      "Step 115\n",
      "0.8\n",
      "solving for x...\n",
      "Solved, now solving for Z\n",
      "elapsed time: 0.007774781 seconds\n",
      "solved. now solving Y\n",
      "Step 116\n",
      "0.8\n",
      "solving for x...\n",
      "Solved, now solving for Z\n",
      "elapsed time: 0.009275974 seconds\n",
      "solved. now solving Y\n",
      "Step 117\n",
      "0.8\n",
      "solving for x...\n",
      "Solved, now solving for Z\n",
      "elapsed time: 0.007905439 seconds\n",
      "solved. now solving Y\n",
      "Step 118\n",
      "0.8\n",
      "solving for x...\n",
      "Solved, now solving for Z\n",
      "elapsed time: 0.008886366 seconds\n",
      "solved. now solving Y\n",
      "Step 119\n",
      "0.8\n",
      "solving for x...\n",
      "Solved, now solving for Z\n",
      "elapsed time: 0.008046362 seconds\n",
      "solved. now solving Y\n",
      "Step 120\n",
      "0.8\n",
      "solving for x...\n",
      "Solved, now solving for Z\n",
      "elapsed time: 0.009890977 seconds\n",
      "solved. now solving Y\n",
      "Step 121\n",
      "0.8\n",
      "solving for x...\n",
      "Solved, now solving for Z\n",
      "elapsed time: 0.007727018 seconds\n",
      "solved. now solving Y\n",
      "Step 122\n",
      "0.8\n",
      "solving for x...\n",
      "Solved, now solving for Z\n",
      "elapsed time: 0.007588464 seconds\n",
      "solved. now solving Y\n",
      "Step 123\n",
      "0.8\n",
      "solving for x...\n",
      "Solved, now solving for Z\n",
      "elapsed time: 0.007803992 seconds\n",
      "solved. now solving Y\n",
      "Step 124\n",
      "0.8\n",
      "solving for x...\n",
      "Solved, now solving for Z\n",
      "elapsed time: 0.007543069 seconds\n",
      "solved. now solving Y\n",
      "Step 125\n",
      "0.8\n",
      "solving for x...\n",
      "Solved, now solving for Z\n",
      "elapsed time: 0.007415963 seconds\n",
      "solved. now solving Y\n",
      "Step 126\n",
      "0.8\n",
      "solving for x...\n",
      "Solved, now solving for Z\n",
      "elapsed time: 0.008359389 seconds\n",
      "solved. now solving Y\n",
      "Step 127\n",
      "0.8\n",
      "solving for x...\n",
      "Solved, now solving for Z\n",
      "elapsed time: 0.007672148 seconds\n",
      "solved. now solving Y\n",
      "Step 128\n",
      "0.8\n",
      "solving for x...\n",
      "Solved, now solving for Z\n",
      "elapsed time: 0.007741623 seconds\n",
      "solved. now solving Y\n",
      "Step 129\n",
      "0.8\n",
      "solving for x...\n",
      "Solved, now solving for Z\n",
      "elapsed time: 0.007548201 seconds\n",
      "solved. now solving Y\n",
      "Step 130\n",
      "0.8\n",
      "solving for x...\n",
      "Solved, now solving for Z\n",
      "elapsed time: 0.009884661 seconds\n",
      "solved. now solving Y\n",
      "Step 131\n",
      "0.8\n",
      "solving for x...\n",
      "Solved, now solving for Z\n",
      "elapsed time: 0.007657149 seconds\n",
      "solved. now solving Y\n",
      "Step 132\n",
      "0.8\n",
      "solving for x...\n",
      "Solved, now solving for Z\n",
      "elapsed time: 0.007611359 seconds\n",
      "solved. now solving Y\n",
      "Step 133\n",
      "0.8\n",
      "solving for x...\n",
      "Solved, now solving for Z\n",
      "elapsed time: 0.009242815 seconds\n",
      "solved. now solving Y\n",
      "Step 134\n",
      "0.8\n",
      "solving for x...\n",
      "Solved, now solving for Z\n",
      "elapsed time: 0.007067408 seconds\n",
      "solved. now solving Y\n",
      "Step 135\n",
      "0.8\n",
      "solving for x...\n",
      "Solved, now solving for Z\n",
      "elapsed time: 0.007019646 seconds\n",
      "solved. now solving Y\n",
      "Step 136\n",
      "0.8\n",
      "solving for x...\n",
      "Solved, now solving for Z\n",
      "elapsed time: 0.007615306 seconds\n",
      "solved. now solving Y\n",
      "Step 137\n",
      "0.8\n",
      "solving for x...\n",
      "Solved, now solving for Z\n",
      "elapsed time: 0.007477147 seconds\n",
      "solved. now solving Y\n",
      "Step 138\n",
      "0.8\n",
      "solving for x...\n",
      "Solved, now solving for Z\n",
      "elapsed time: 0.007212672 seconds\n",
      "solved. now solving Y\n",
      "Step 139\n",
      "0.8\n",
      "solving for x...\n",
      "Solved, now solving for Z\n",
      "elapsed time: 0.007025961 seconds\n",
      "solved. now solving Y\n",
      "Step 140\n",
      "0.8\n",
      "solving for x...\n",
      "Solved, now solving for Z\n",
      "elapsed time: 0.009289394 seconds\n",
      "solved. now solving Y\n",
      "Step 141\n",
      "0.8\n",
      "solving for x...\n",
      "Solved, now solving for Z\n",
      "elapsed time: 0.007554911 seconds\n",
      "solved. now solving Y\n",
      "Step 142\n",
      "0.8\n",
      "solving for x...\n",
      "Solved, now solving for Z\n",
      "elapsed time: 0.007485437 seconds\n",
      "solved. now solving Y\n",
      "Step 143\n",
      "0.8\n",
      "solving for x...\n",
      "Solved, now solving for Z\n",
      "elapsed time: 0.01187612 seconds\n",
      "solved. now solving Y\n",
      "Step 144\n",
      "0.8\n",
      "solving for x...\n",
      "Solved, now solving for Z\n",
      "elapsed time: 0.008182941 seconds\n",
      "solved. now solving Y\n",
      "Step 145\n",
      "0.8\n",
      "solving for x...\n",
      "Solved, now solving for Z\n",
      "elapsed time: 0.007871887 seconds\n",
      "solved. now solving Y\n",
      "Step 146\n",
      "0.8\n",
      "solving for x...\n",
      "Solved, now solving for Z\n",
      "elapsed time: 0.007697412 seconds\n",
      "solved. now solving Y\n",
      "Step 147\n",
      "0.8\n",
      "solving for x...\n",
      "Solved, now solving for Z\n",
      "elapsed time: 0.00879005 seconds\n",
      "solved. now solving Y\n",
      "Step 148\n",
      "0.8\n",
      "solving for x...\n",
      "Solved, now solving for Z\n",
      "elapsed time: 0.008943209 seconds\n",
      "solved. now solving Y\n",
      "Step 149\n",
      "0.8\n",
      "solving for x...\n",
      "Solved, now solving for Z\n",
      "elapsed time: 0.007939782 seconds\n",
      "solved. now solving Y\n",
      "Step 150\n",
      "0.8\n",
      "solving for x...\n",
      "Solved, now solving for Z\n",
      "elapsed time: 0.008812944 seconds\n",
      "solved. now solving Y\n",
      "Step 151\n",
      "0.8\n",
      "solving for x...\n",
      "Solved, now solving for Z\n",
      "elapsed time: 0.008111098 seconds\n",
      "solved. now solving Y\n",
      "Step 152\n",
      "0.8\n",
      "solving for x...\n",
      "Solved, now solving for Z\n",
      "elapsed time: 0.007782676 seconds\n",
      "solved. now solving Y\n",
      "Step 153\n",
      "0.8\n",
      "solving for x...\n",
      "Solved, now solving for Z\n",
      "elapsed time: 0.008714655 seconds\n",
      "solved. now solving Y\n",
      "Step 154\n",
      "0.8\n",
      "solving for x...\n",
      "Solved, now solving for Z\n",
      "elapsed time: 0.007703333 seconds\n",
      "solved. now solving Y\n",
      "Step 155\n",
      "0.8\n",
      "solving for x...\n",
      "Solved, now solving for Z\n",
      "elapsed time: 0.007215435 seconds\n",
      "solved. now solving Y\n",
      "Step 156\n",
      "0.8\n",
      "solving for x...\n",
      "Solved, now solving for Z\n",
      "elapsed time: 0.009755187 seconds\n",
      "solved. now solving Y\n",
      "Step 157\n",
      "0.8\n",
      "solving for x...\n",
      "Solved, now solving for Z\n",
      "elapsed time: 0.008310442 seconds\n",
      "solved. now solving Y\n",
      "Step 158\n",
      "0.8\n",
      "solving for x...\n",
      "Solved, now solving for Z\n",
      "elapsed time: 0.007802807 seconds\n",
      "solved. now solving Y\n",
      "Step 159\n",
      "0.8\n",
      "solving for x...\n",
      "Solved, now solving for Z\n",
      "elapsed time: 0.007468858 seconds\n",
      "solved. now solving Y\n",
      "Step 160\n",
      "0.8\n",
      "solving for x...\n",
      "Solved, now solving for Z\n",
      "elapsed time: 0.007399384 seconds\n",
      "solved. now solving Y\n",
      "Step 161\n",
      "0.8\n",
      "solving for x...\n",
      "Solved, now solving for Z\n",
      "elapsed time: 0.008025835 seconds\n",
      "solved. now solving Y\n",
      "Step 162\n",
      "0.8\n",
      "solving for x...\n",
      "Solved, now solving for Z\n",
      "elapsed time: 0.00685267 seconds\n",
      "solved. now solving Y\n",
      "Step 163\n",
      "0.8\n",
      "solving for x...\n",
      "Solved, now solving for Z\n",
      "elapsed time: 0.007003066 seconds\n",
      "solved. now solving Y\n",
      "Step 164\n",
      "0.8\n",
      "solving for x...\n",
      "Solved, now solving for Z\n",
      "elapsed time: 0.00891084 seconds\n",
      "solved. now solving Y\n",
      "Step 165\n",
      "0.8\n",
      "solving for x...\n",
      "Solved, now solving for Z\n",
      "elapsed time: 0.007164515 seconds\n",
      "solved. now solving Y\n",
      "Step 166\n",
      "0.8\n",
      "solving for x...\n",
      "Solved, now solving for Z\n",
      "elapsed time: 0.007490963 seconds\n",
      "solved. now solving Y\n",
      "Step 167\n",
      "0.8\n",
      "solving for x...\n",
      "Solved, now solving for Z\n",
      "elapsed time: 0.008482154 seconds\n",
      "solved. now solving Y\n",
      "Step 168\n",
      "0.8\n",
      "solving for x...\n",
      "Solved, now solving for Z\n",
      "elapsed time: 0.008370836 seconds\n",
      "solved. now solving Y\n",
      "Step 169\n",
      "0.8\n",
      "solving for x...\n",
      "Solved, now solving for Z\n",
      "elapsed time: 0.009790318 seconds\n",
      "solved. now solving Y\n",
      "Step 170\n",
      "0.8\n",
      "solving for x...\n",
      "Solved, now solving for Z\n",
      "elapsed time: 0.007588858 seconds\n",
      "solved. now solving Y\n",
      "Step 171\n",
      "0.8\n",
      "solving for x...\n",
      "Solved, now solving for Z\n",
      "elapsed time: 0.009344658 seconds\n",
      "solved. now solving Y\n",
      "Step 172\n",
      "0.8\n",
      "solving for x...\n",
      "Solved, now solving for Z\n",
      "elapsed time: 0.009155183 seconds\n",
      "solved. now solving Y\n",
      "Step 173\n",
      "0.8\n",
      "solving for x...\n",
      "Solved, now solving for Z\n",
      "elapsed time: 0.008787681 seconds\n",
      "solved. now solving Y\n",
      "Step 174\n",
      "0.8\n",
      "solving for x...\n",
      "Solved, now solving for Z\n",
      "elapsed time: 0.007173988 seconds\n",
      "solved. now solving Y\n",
      "Step 175\n",
      "0.8\n",
      "solving for x...\n",
      "Solved, now solving for Z\n",
      "elapsed time: 0.007280173 seconds\n",
      "solved. now solving Y\n",
      "Step 176\n",
      "0.8\n",
      "solving for x...\n",
      "Solved, now solving for Z\n",
      "elapsed time: 0.006768591 seconds\n",
      "solved. now solving Y\n",
      "Step 177\n",
      "0.8\n",
      "solving for x...\n",
      "Solved, now solving for Z\n",
      "elapsed time: 0.007475174 seconds\n",
      "solved. now solving Y\n",
      "Step 178\n",
      "0.8\n",
      "solving for x...\n",
      "Solved, now solving for Z\n",
      "elapsed time: 0.008020308 seconds\n",
      "solved. now solving Y\n",
      "Step 179\n",
      "0.8\n",
      "solving for x...\n",
      "Solved, now solving for Z\n",
      "elapsed time: 0.006756749 seconds\n",
      "solved. now solving Y\n",
      "Step 180\n",
      "0.8\n",
      "solving for x...\n",
      "Solved, now solving for Z\n",
      "elapsed time: 0.006888591 seconds\n",
      "solved. now solving Y\n",
      "Step 181\n",
      "0.8\n",
      "solving for x...\n",
      "Solved, now solving for Z\n",
      "elapsed time: 0.009313473 seconds\n",
      "solved. now solving Y\n",
      "Step 182\n",
      "0.8\n",
      "solving for x...\n",
      "Solved, now solving for Z\n",
      "elapsed time: 0.00981203 seconds\n",
      "solved. now solving Y\n",
      "Step 183\n",
      "0.8\n",
      "solving for x...\n",
      "Solved, now solving for Z\n",
      "elapsed time: 0.007687543 seconds\n",
      "solved. now solving Y\n",
      "Step 184\n",
      "0.8\n",
      "solving for x...\n",
      "Solved, now solving for Z\n",
      "elapsed time: 0.007652411 seconds\n",
      "solved. now solving Y\n",
      "Step 185\n",
      "0.8\n",
      "solving for x...\n",
      "Solved, now solving for Z\n",
      "elapsed time: 0.008084256 seconds\n",
      "solved. now solving Y\n",
      "Step 186\n",
      "0.8\n",
      "solving for x...\n",
      "Solved, now solving for Z\n",
      "elapsed time: 0.007037803 seconds\n",
      "solved. now solving Y\n",
      "Step 187\n",
      "0.8\n",
      "solving for x...\n",
      "Solved, now solving for Z\n",
      "elapsed time: 0.007616885 seconds\n",
      "solved. now solving Y\n",
      "Step 188\n",
      "0.8\n",
      "solving for x...\n",
      "Solved, now solving for Z\n",
      "elapsed time: 0.009140578 seconds\n",
      "solved. now solving Y\n",
      "Step 189\n",
      "0.8\n",
      "solving for x...\n",
      "Solved, now solving for Z\n",
      "elapsed time: 0.007582938 seconds\n",
      "solved. now solving Y\n",
      "Step 190\n",
      "0.8\n",
      "solving for x...\n",
      "Solved, now solving for Z\n",
      "elapsed time: 0.007634649 seconds\n",
      "solved. now solving Y\n",
      "Step 191\n",
      "0.8\n",
      "solving for x...\n",
      "Solved, now solving for Z\n",
      "elapsed time: 0.007545832 seconds\n",
      "solved. now solving Y\n",
      "Step 192\n",
      "0.8\n",
      "solving for x...\n",
      "Solved, now solving for Z\n",
      "elapsed time: 0.007544253 seconds\n",
      "solved. now solving Y\n",
      "Step 193\n",
      "0.8\n",
      "solving for x...\n",
      "Solved, now solving for Z\n",
      "elapsed time: 0.007487411 seconds\n",
      "solved. now solving Y\n",
      "Step 194\n",
      "0.8\n",
      "solving for x...\n",
      "Solved, now solving for Z\n",
      "elapsed time: 0.007991887 seconds\n",
      "solved. now solving Y\n",
      "Step 195\n",
      "0.8\n",
      "solving for x...\n",
      "Solved, now solving for Z\n",
      "elapsed time: 0.010659139 seconds\n",
      "solved. now solving Y\n",
      "Step 196\n",
      "0.8\n",
      "solving for x...\n",
      "Solved, now solving for Z\n",
      "elapsed time: 0.007759781 seconds\n",
      "solved. now solving Y\n",
      "Step 197\n",
      "0.8\n",
      "solving for x...\n",
      "Solved, now solving for Z\n",
      "elapsed time: 0.007936624 seconds\n",
      "solved. now solving Y\n",
      "Step 198\n",
      "0.8\n",
      "solving for x...\n",
      "Solved, now solving for Z\n",
      "elapsed time: 0.009502949 seconds\n",
      "solved. now solving Y\n",
      "Step 199\n",
      "0.8\n",
      "solving for x...\n",
      "Solved, now solving for Z\n",
      "elapsed time: 0.007857282 seconds\n",
      "solved. now solving Y\n",
      "Step 200\n",
      "0.8\n",
      "solving for x...\n",
      "Solved, now solving for Z\n",
      "elapsed time: 0.007845439 seconds\n",
      "solved. now solving Y\n",
      "Step 201\n",
      "0.8\n",
      "solving for x...\n",
      "Solved, now solving for Z\n",
      "elapsed time: 0.009559791 seconds\n",
      "solved. now solving Y\n",
      "Step 202\n",
      "0.8\n",
      "solving for x...\n",
      "Solved, now solving for Z\n",
      "elapsed time: 0.007240304 seconds\n",
      "solved. now solving Y\n",
      "Step 203\n",
      "0.8\n",
      "solving for x...\n",
      "Solved, now solving for Z\n",
      "elapsed time: 0.007435305 seconds\n",
      "solved. now solving Y\n",
      "Step 204\n",
      "0.8\n",
      "solving for x...\n",
      "Solved, now solving for Z\n",
      "elapsed time: 0.008426495 seconds\n",
      "solved. now solving Y\n",
      "Step 205\n",
      "0.8\n",
      "solving for x...\n",
      "Solved, now solving for Z\n",
      "elapsed time: 0.007251357 seconds\n",
      "solved. now solving Y\n",
      "Step 206\n",
      "0.8\n",
      "solving for x...\n",
      "Solved, now solving for Z\n",
      "elapsed time: 0.007716359 seconds\n",
      "solved. now solving Y\n",
      "Step 207\n",
      "0.8\n",
      "solving for x...\n",
      "Solved, now solving for Z\n",
      "elapsed time: 0.008190047 seconds\n",
      "solved. now solving Y\n",
      "Step 208\n",
      "0.8\n",
      "solving for x...\n",
      "Solved, now solving for Z\n",
      "elapsed time: 0.00810873 seconds\n",
      "solved. now solving Y\n",
      "Step 209\n",
      "0.8\n",
      "solving for x...\n",
      "Solved, now solving for Z\n",
      "elapsed time: 0.007601491 seconds\n",
      "solved. now solving Y\n",
      "Step 210\n",
      "0.8\n",
      "solving for x...\n",
      "Solved, now solving for Z\n",
      "elapsed time: 0.007446752 seconds\n",
      "solved. now solving Y\n",
      "Step 211\n",
      "0.8\n",
      "solving for x...\n",
      "Solved, now solving for Z\n",
      "elapsed time: 0.010306242 seconds\n",
      "solved. now solving Y\n",
      "Step 212\n",
      "0.8\n",
      "solving for x...\n",
      "Solved, now solving for Z\n",
      "elapsed time: 0.007342147 seconds\n",
      "solved. now solving Y\n",
      "Step 213\n",
      "0.8\n",
      "solving for x...\n",
      "Solved, now solving for Z\n",
      "elapsed time: 0.007652017 seconds\n",
      "solved. now solving Y\n",
      "Step 214\n",
      "0.8\n",
      "solving for x...\n",
      "Solved, now solving for Z\n",
      "elapsed time: 0.007777149 seconds\n",
      "solved. now solving Y\n",
      "Step 215\n",
      "0.8\n",
      "solving for x...\n",
      "Solved, now solving for Z\n",
      "elapsed time: 0.007529648 seconds\n",
      "solved. now solving Y\n",
      "Step 216\n",
      "0.8\n",
      "solving for x...\n",
      "Solved, now solving for Z\n",
      "elapsed time: 0.007626359 seconds\n",
      "solved. now solving Y\n",
      "Step 217\n",
      "0.8\n",
      "solving for x...\n",
      "Solved, now solving for Z\n",
      "elapsed time: 0.008839787 seconds\n",
      "solved. now solving Y\n",
      "Step 218\n",
      "0.8\n",
      "solving for x...\n",
      "Solved, now solving for Z\n",
      "elapsed time: 0.009583475 seconds\n",
      "solved. now solving Y\n",
      "Step 219\n",
      "0.8\n",
      "solving for x...\n",
      "Solved, now solving for Z\n",
      "elapsed time: 0.007289251 seconds\n",
      "solved. now solving Y\n",
      "Step 220\n",
      "0.8\n",
      "solving for x...\n",
      "Solved, now solving for Z\n",
      "elapsed time: 0.007300305 seconds\n",
      "solved. now solving Y\n",
      "Step 221\n",
      "0.8\n",
      "solving for x...\n",
      "Solved, now solving for Z\n",
      "elapsed time: 0.007545043 seconds\n",
      "solved. now solving Y\n",
      "Step 222\n",
      "0.8\n",
      "solving for x...\n",
      "Solved, now solving for Z\n",
      "elapsed time: 0.006960434 seconds\n",
      "solved. now solving Y\n",
      "Step 223\n",
      "0.8\n",
      "solving for x...\n",
      "Solved, now solving for Z\n",
      "elapsed time: 0.007455831 seconds\n",
      "solved. now solving Y\n",
      "Step 224\n",
      "0.8\n",
      "solving for x...\n",
      "Solved, now solving for Z\n",
      "elapsed time: 0.008300968 seconds\n",
      "solved. now solving Y\n",
      "Step 225\n",
      "0.8\n",
      "solving for x...\n",
      "Solved, now solving for Z\n",
      "elapsed time: 0.007704517 seconds\n",
      "solved. now solving Y\n",
      "Step 226\n",
      "0.8\n",
      "solving for x...\n",
      "Solved, now solving for Z\n",
      "elapsed time: 0.006786354 seconds\n",
      "solved. now solving Y\n",
      "Step 227\n",
      "0.8\n",
      "solving for x...\n",
      "Solved, now solving for Z\n",
      "elapsed time: 0.007134909 seconds\n",
      "solved. now solving Y\n",
      "Step 228\n",
      "0.8\n",
      "solving for x...\n",
      "Solved, now solving for Z\n",
      "elapsed time: 0.007559254 seconds\n",
      "solved. now solving Y\n",
      "Step 229\n",
      "0.8\n",
      "solving for x...\n",
      "Solved, now solving for Z\n",
      "elapsed time: 0.007384778 seconds\n",
      "solved. now solving Y\n",
      "Step 230\n",
      "0.8\n",
      "solving for x...\n",
      "Solved, now solving for Z\n",
      "elapsed time: 0.007765702 seconds\n",
      "solved. now solving Y\n",
      "Step 231\n",
      "0.8\n",
      "solving for x...\n",
      "Solved, now solving for Z\n",
      "elapsed time: 0.009943872 seconds\n",
      "solved. now solving Y\n",
      "Step 232\n",
      "0.8\n",
      "solving for x...\n",
      "Solved, now solving for Z\n",
      "elapsed time: 0.00726991 seconds\n",
      "solved. now solving Y\n",
      "Step 233\n",
      "0.8\n",
      "solving for x...\n",
      "Solved, now solving for Z\n",
      "elapsed time: 0.007712807 seconds\n",
      "solved. now solving Y\n",
      "Step 234\n",
      "0.8\n",
      "solving for x...\n",
      "Solved, now solving for Z\n",
      "elapsed time: 0.007706885 seconds\n",
      "solved. now solving Y\n",
      "Step 235\n",
      "0.8\n",
      "solving for x...\n",
      "Solved, now solving for Z\n",
      "elapsed time: 0.007265173 seconds\n",
      "solved. now solving Y\n",
      "Step 236\n",
      "0.8\n",
      "solving for x...\n",
      "Solved, now solving for Z\n",
      "elapsed time: 0.008474259 seconds\n",
      "solved. now solving Y\n",
      "Step 237\n",
      "0.8\n",
      "solving for x...\n",
      "Solved, now solving for Z\n",
      "elapsed time: 0.009981767 seconds\n",
      "solved. now solving Y\n",
      "Step 238\n",
      "0.8\n",
      "solving for x...\n",
      "Solved, now solving for Z\n",
      "elapsed time: 0.008112677 seconds\n",
      "solved. now solving Y\n",
      "Step 239\n",
      "0.8\n",
      "solving for x...\n",
      "Solved, now solving for Z\n",
      "elapsed time: 0.007309383 seconds\n",
      "solved. now solving Y\n",
      "Step 240\n",
      "0.8\n",
      "solving for x...\n",
      "Solved, now solving for Z\n",
      "elapsed time: 0.00791965 seconds\n",
      "solved. now solving Y\n",
      "Step 241\n",
      "0.8\n",
      "solving for x...\n",
      "Solved, now solving for Z\n",
      "elapsed time: 0.009279131 seconds\n",
      "solved. now solving Y\n",
      "Step 242\n",
      "0.8\n",
      "solving for x...\n",
      "Solved, now solving for Z\n",
      "elapsed time: 0.007674122 seconds\n",
      "solved. now solving Y\n",
      "Step 243\n",
      "0.8\n",
      "solving for x...\n",
      "Solved, now solving for Z\n",
      "elapsed time: 0.009410185 seconds\n",
      "solved. now solving Y\n",
      "Step 244\n",
      "0.8\n",
      "solving for x...\n",
      "Solved, now solving for Z\n",
      "elapsed time: 0.012503755 seconds\n",
      "solved. now solving Y\n",
      "Step 245\n",
      "0.8\n",
      "solving for x...\n",
      "Solved, now solving for Z\n",
      "elapsed time: 0.008307284 seconds\n",
      "solved. now solving Y\n",
      "Step 246\n",
      "0.8\n",
      "solving for x...\n",
      "Solved, now solving for Z\n",
      "elapsed time: 0.008894261 seconds\n",
      "solved. now solving Y\n",
      "Step 247\n",
      "0.8\n",
      "solving for x...\n",
      "Solved, now solving for Z\n",
      "elapsed time: 0.008980709 seconds\n",
      "solved. now solving Y\n",
      "Step 248\n",
      "0.8\n",
      "solving for x...\n",
      "Solved, now solving for Z\n",
      "elapsed time: 0.007991098 seconds\n",
      "solved. now solving Y\n",
      "Step 249\n",
      "0.8\n",
      "solving for x...\n",
      "Solved, now solving for Z\n",
      "elapsed time: 0.008079914 seconds\n",
      "solved. now solving Y\n",
      "Step 250\n",
      "0.8\n",
      "solving for x...\n",
      "Solved, now solving for Z\n",
      "elapsed time: 0.008780181 seconds\n",
      "solved. now solving Y\n",
      "Step 251\n",
      "0.8\n",
      "solving for x...\n",
      "Solved, now solving for Z\n",
      "elapsed time: 0.008332942 seconds\n",
      "solved. now solving Y\n",
      "Step 252\n",
      "0.8\n",
      "solving for x...\n",
      "Solved, now solving for Z\n",
      "elapsed time: 0.007984783 seconds\n",
      "solved. now solving Y\n",
      "Step 253\n",
      "0.8\n",
      "solving for x...\n",
      "Solved, now solving for Z\n",
      "elapsed time: 0.007681623 seconds\n",
      "solved. now solving Y\n",
      "Step 254\n",
      "0.8\n",
      "solving for x...\n",
      "Solved, now solving for Z\n",
      "elapsed time: 0.006722011 seconds\n",
      "solved. now solving Y\n",
      "Step 255\n",
      "0.8\n",
      "solving for x...\n",
      "Solved, now solving for Z\n",
      "elapsed time: 0.007256883 seconds\n",
      "solved. now solving Y\n",
      "Step 256\n",
      "0.8\n",
      "solving for x...\n",
      "Solved, now solving for Z\n",
      "elapsed time: 0.007536359 seconds\n",
      "solved. now solving Y\n",
      "Step 257\n",
      "0.8\n",
      "solving for x...\n",
      "Solved, now solving for Z\n",
      "elapsed time: 0.010927956 seconds\n",
      "solved. now solving Y\n",
      "Step 258\n",
      "0.8\n",
      "solving for x...\n",
      "Solved, now solving for Z\n",
      "elapsed time: 0.007736491 seconds\n",
      "solved. now solving Y\n",
      "Step 259\n",
      "0.8\n",
      "solving for x...\n",
      "Solved, now solving for Z\n",
      "elapsed time: 0.007782281 seconds\n",
      "solved. now solving Y\n",
      "Step 260\n",
      "0.8\n",
      "solving for x...\n",
      "Solved, now solving for Z\n",
      "elapsed time: 0.009006762 seconds\n",
      "solved. now solving Y\n",
      "Step 261\n",
      "0.8\n",
      "solving for x...\n",
      "Solved, now solving for Z\n",
      "elapsed time: 0.007801623 seconds\n",
      "solved. now solving Y\n",
      "Step 262\n",
      "0.8\n",
      "solving for x...\n",
      "Solved, now solving for Z\n",
      "elapsed time: 0.00760978 seconds\n",
      "solved. now solving Y\n",
      "Step 263\n",
      "0.8\n",
      "solving for x...\n",
      "Solved, now solving for Z\n",
      "elapsed time: 0.008549259 seconds\n",
      "solved. now solving Y\n",
      "Step 264\n",
      "0.8\n",
      "solving for x...\n",
      "Solved, now solving for Z\n",
      "elapsed time: 0.007472805 seconds\n",
      "solved. now solving Y\n",
      "Step 265\n",
      "0.8\n",
      "solving for x...\n",
      "Solved, now solving for Z\n",
      "elapsed time: 0.007472806 seconds\n",
      "solved. now solving Y\n",
      "Step 266\n",
      "0.8\n",
      "solving for x...\n",
      "Solved, now solving for Z\n",
      "elapsed time: 0.007975703 seconds\n",
      "solved. now solving Y\n",
      "Step 267\n",
      "0.8\n",
      "solving for x...\n",
      "Solved, now solving for Z\n",
      "elapsed time: 0.008491626 seconds\n",
      "solved. now solving Y\n",
      "Step 268\n",
      "0.8\n",
      "solving for x...\n",
      "Solved, now solving for Z\n",
      "elapsed time: 0.007508727 seconds\n",
      "solved. now solving Y\n",
      "Step 269\n",
      "0.8\n",
      "solving for x...\n",
      "Solved, now solving for Z\n",
      "elapsed time: 0.007665832 seconds\n",
      "solved. now solving Y\n",
      "Step 270\n",
      "0.8\n",
      "solving for x...\n",
      "Solved, now solving for Z\n",
      "elapsed time: 0.010939799 seconds\n",
      "solved. now solving Y\n",
      "Step 271\n",
      "0.8\n",
      "solving for x...\n",
      "Solved, now solving for Z\n",
      "elapsed time: 0.007410437 seconds\n",
      "solved. now solving Y\n",
      "Step 272\n",
      "0.8\n",
      "solving for x...\n",
      "Solved, now solving for Z\n",
      "elapsed time: 0.007346489 seconds\n",
      "solved. now solving Y\n",
      "Step 273\n",
      "0.8\n",
      "solving for x...\n",
      "Solved, now solving for Z\n",
      "elapsed time: 0.00929729 seconds\n",
      "solved. now solving Y\n",
      "Step 274\n",
      "0.8\n",
      "solving for x...\n",
      "Solved, now solving for Z\n",
      "elapsed time: 0.007488595 seconds\n",
      "solved. now solving Y\n",
      "Step 275\n",
      "0.8\n",
      "solving for x...\n",
      "Solved, now solving for Z\n",
      "elapsed time: 0.007762544 seconds\n",
      "solved. now solving Y\n",
      "Step 276\n",
      "0.8\n",
      "solving for x...\n",
      "Solved, now solving for Z\n",
      "elapsed time: 0.007378068 seconds\n",
      "solved. now solving Y\n",
      "Step 277\n",
      "0.8\n",
      "solving for x...\n",
      "Solved, now solving for Z\n",
      "elapsed time: 0.008815708 seconds\n",
      "solved. now solving Y\n",
      "Step 278\n",
      "0.8\n",
      "solving for x...\n",
      "Solved, now solving for Z\n",
      "elapsed time: 0.007082803 seconds\n",
      "solved. now solving Y\n",
      "Step 279\n",
      "0.8\n",
      "solving for x...\n",
      "Solved, now solving for Z\n",
      "elapsed time: 0.009875187 seconds\n",
      "solved. now solving Y\n",
      "Step 280\n",
      "0.8\n",
      "solving for x...\n",
      "Solved, now solving for Z\n",
      "elapsed time: 0.007997808 seconds\n",
      "solved. now solving Y\n",
      "Step 281\n",
      "0.8\n",
      "solving for x...\n",
      "Solved, now solving for Z\n",
      "elapsed time: 0.007507937 seconds\n",
      "solved. now solving Y\n",
      "Step 282\n",
      "0.8\n",
      "solving for x...\n",
      "Solved, now solving for Z\n",
      "elapsed time: 0.007273463 seconds\n",
      "solved. now solving Y\n",
      "Step 283\n",
      "0.8\n",
      "solving for x...\n",
      "Solved, now solving for Z\n",
      "elapsed time: 0.011582039 seconds\n",
      "solved. now solving Y\n",
      "Step 284\n",
      "0.8\n",
      "solving for x...\n",
      "Solved, now solving for Z\n",
      "elapsed time: 0.007748728 seconds\n",
      "solved. now solving Y\n",
      "Step 285\n",
      "0.8\n",
      "solving for x...\n",
      "Solved, now solving for Z\n",
      "elapsed time: 0.00739741 seconds\n",
      "solved. now solving Y\n",
      "Step 286\n",
      "0.8\n",
      "solving for x...\n",
      "Solved, now solving for Z\n",
      "elapsed time: 0.010030715 seconds\n",
      "solved. now solving Y\n",
      "Step 287\n",
      "0.8\n",
      "solving for x...\n",
      "Solved, now solving for Z\n",
      "elapsed time: 0.007252146 seconds\n",
      "solved. now solving Y\n",
      "Step 288\n",
      "0.8\n",
      "solving for x...\n",
      "Solved, now solving for Z\n",
      "elapsed time: 0.006948592 seconds\n",
      "solved. now solving Y\n",
      "Step 289\n",
      "0.8\n",
      "solving for x...\n",
      "Solved, now solving for Z\n",
      "elapsed time: 0.007309778 seconds\n",
      "solved. now solving Y\n",
      "Step 290\n",
      "0.8\n",
      "solving for x...\n",
      "Solved, now solving for Z\n",
      "elapsed time: 0.008956235 seconds\n",
      "solved. now solving Y\n",
      "Step 291\n",
      "0.8\n",
      "solving for x...\n",
      "Solved, now solving for Z\n",
      "elapsed time: 0.007616095 seconds\n",
      "solved. now solving Y\n",
      "Step 292\n",
      "0.8\n",
      "solving for x...\n",
      "Solved, now solving for Z\n",
      "elapsed time: 0.007780307 seconds\n",
      "solved. now solving Y\n",
      "Step 293\n",
      "0.8\n",
      "solving for x...\n",
      "Solved, now solving for Z\n",
      "elapsed time: 0.008872551 seconds\n",
      "solved. now solving Y\n",
      "Step 294\n",
      "0.8\n",
      "solving for x...\n",
      "Solved, now solving for Z\n",
      "elapsed time: 0.007616096 seconds\n",
      "solved. now solving Y\n",
      "Step 295\n",
      "0.8\n",
      "solving for x...\n",
      "Solved, now solving for Z\n",
      "elapsed time: 0.007396621 seconds\n",
      "solved. now solving Y\n",
      "Step 296\n",
      "0.8\n",
      "solving for x...\n",
      "Solved, now solving for Z\n",
      "elapsed time: 0.011089405 seconds\n",
      "solved. now solving Y\n",
      "Step 297\n",
      "0.8\n",
      "solving for x...\n",
      "Solved, now solving for Z\n",
      "elapsed time: 0.008186099 seconds\n",
      "solved. now solving Y\n",
      "Step 298\n",
      "0.8\n",
      "solving for x...\n",
      "Solved, now solving for Z\n",
      "elapsed time: 0.007107672 seconds\n",
      "solved. now solving Y\n",
      "Step 299\n",
      "0.8\n",
      "solving for x...\n",
      "Solved, now solving for Z\n",
      "elapsed time: 0.007389515 seconds\n",
      "solved. now solving Y\n",
      "Step 300\n",
      "0.8\n",
      "exceeded max number of iteration at solving\n"
     ]
    },
    {
     "data": {
      "text/plain": [
       "([-0.638712 -0.999999 … -0.999983 -0.999989; -0.999999 0.173802 … -0.999965 -1.00002; … ; -0.999983 -0.999965 … 0.999999 0.140492; -0.999989 -1.00002 … 0.140492 -0.317471], Any[[-0.638712 -1.0 … -1.0 -1.0; -1.0 0.173802 … -1.0 -1.0; … ; -1.0 -1.0 … 1.0 0.140492; -1.0 -1.0 … 0.140492 -0.317471], [-0.638712 -1.0 … -1.0 -1.0; -1.0 0.173802 … -1.0 -1.0; … ; -1.0 -1.0 … 1.0 0.140492; -1.0 -1.0 … 0.140492 -0.317471], [-0.638712 -1.0 … -1.0 -1.0; -1.0 0.173802 … -1.0 -1.0; … ; -1.0 -1.0 … 1.0 0.140492; -1.0 -1.0 … 0.140492 -0.317471]])"
      ]
     },
     "execution_count": 28,
     "metadata": {},
     "output_type": "execute_result"
    }
   ],
   "source": [
    "recover=admmRecovery(euObs,1.5,100,1.6,1.0e-4,300)\n"
   ]
  },
  {
   "cell_type": "code",
   "execution_count": 29,
   "metadata": {
    "collapsed": false
   },
   "outputs": [
    {
     "data": {
      "text/plain": [
       "100×100 Array{Float64,2}:\n",
       "  0.180644     5.83402e-7   1.16516e-7  …   8.53434e-6    5.66343e-6 \n",
       "  5.83402e-7   0.586901     0.057008        1.73999e-5   -8.64227e-6 \n",
       "  1.16516e-7   0.057008     0.913056       -2.4354e-5    -4.32095e-6 \n",
       "  7.81677e-7   7.61911e-7   0.348546        2.11886e-5   -7.48161e-6 \n",
       "  0.0610563    0.20411      0.0996673      -3.77751e-5    4.33889e-5 \n",
       "  2.87794e-6   5.60052e-6   0.0695008   …   5.32272e-5   -2.185e-5   \n",
       "  0.163653     1.60554e-7  -2.27687e-6     -1.09311e-5   -3.5611e-5  \n",
       "  9.26311e-7   1.26418e-6   5.24666e-7      1.30916e-5   -2.02724e-5 \n",
       "  0.104147     2.90682e-7   0.462334        1.59247e-6    2.93732e-5 \n",
       "  8.91703e-7  -2.08334e-6   0.0682998       2.57475e-5    1.93722e-5 \n",
       " -4.40142e-7   8.17305e-8   1.0         …   1.55619e-5    3.69235e-6 \n",
       " -1.13147e-7  -1.14538e-7  -6.29933e-7      7.55598e-6   -3.45327e-5 \n",
       "  2.31556e-6   0.330957     0.196675        1.87689e-7   -1.98407e-5 \n",
       "  ⋮                                     ⋱                            \n",
       " -3.03633e-5  -2.8048e-5    1.41744e-5      4.58361e-5   -9.02078e-6 \n",
       " -2.10281e-5   4.12829e-7   1.16095e-5     -9.20349e-6   -2.09955e-5 \n",
       "  2.47239e-5   2.77854e-5  -4.25823e-5  …  -1.69151e-6    0.0066113  \n",
       "  1.60544e-6  -8.31812e-7   5.45772e-6     -3.91452e-5    0.000891066\n",
       " -2.41872e-6  -2.9843e-6   -7.85814e-6      0.318671      0.239344   \n",
       " -1.20793e-5   5.93117e-6   1.06933e-5      0.00312195    0.00145385 \n",
       " -3.12122e-6  -6.90714e-5  -2.38771e-6      0.00787654    7.10525e-6 \n",
       " -6.60817e-5   4.24702e-5   3.88029e-5  …   0.000411975   0.00467275 \n",
       " -1.59735e-6  -1.32405e-5   3.33505e-6      0.0337526     0.0317318  \n",
       " -3.04843e-5  -2.68767e-5   2.50939e-6      2.73315e-6    0.00470363 \n",
       "  8.53434e-6   1.73999e-5  -2.4354e-5       1.0           0.570246   \n",
       "  5.66343e-6  -8.64227e-6  -4.32095e-6      0.570246      0.341264   "
      ]
     },
     "execution_count": 29,
     "metadata": {},
     "output_type": "execute_result"
    }
   ],
   "source": [
    "RealRecovery=(recover[1]+ones(100)*ones(100)')/2\n"
   ]
  },
  {
   "cell_type": "code",
   "execution_count": null,
   "metadata": {
    "collapsed": true
   },
   "outputs": [],
   "source": [
    "g = Graph(RealRecovery)\n",
    "comps =connected_components(g)"
   ]
  }
 ],
 "metadata": {
  "kernelspec": {
   "display_name": "Julia 0.6.0",
   "language": "julia",
   "name": "julia-0.6"
  },
  "language_info": {
   "file_extension": ".jl",
   "mimetype": "application/julia",
   "name": "julia",
   "version": "0.6.0"
  }
 },
 "nbformat": 4,
 "nbformat_minor": 0
}
