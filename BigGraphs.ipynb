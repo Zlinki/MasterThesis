{
 "cells": [
  {
   "cell_type": "markdown",
   "metadata": {},
   "source": [
    "<h1>Script para evaluación de tamaños y tiempos<h1>"
   ]
  },
  {
   "cell_type": "code",
   "execution_count": 1,
   "metadata": {
    "collapsed": false
   },
   "outputs": [
    {
     "data": {
      "text/plain": [
       "learnl2Error (generic function with 1 method)"
      ]
     },
     "execution_count": 1,
     "metadata": {},
     "output_type": "execute_result"
    }
   ],
   "source": [
    "using NBInclude\n",
    "using PyPlot\n",
    "nbinclude(\"LinearGraphLearning.ipynb\")\n",
    "nbinclude(\"AuxFunctions.ipynb\")\n",
    "nbinclude(\"GraphLearning.ipynb\")"
   ]
  },
  {
   "cell_type": "code",
   "execution_count": 7,
   "metadata": {
    "collapsed": false
   },
   "outputs": [
    {
     "data": {
      "text/plain": [
       "Base.PipeEndpoint(Base.Libc.WindowsRawSocket(Ptr{Void} @0x0000000000000280) open, 0 bytes waiting)"
      ]
     },
     "execution_count": 7,
     "metadata": {},
     "output_type": "execute_result"
    }
   ],
   "source": [
    "#Seed para las pruebas\n",
    "TT = STDOUT # save original STDOUT stream\n",
    "redirect_stdout()\n",
    "srand(1236)\n",
    "redirect_stdout(TT) # restore STDOUT"
   ]
  },
  {
   "cell_type": "markdown",
   "metadata": {},
   "source": [
    "<h2>Grafos usados<h2>"
   ]
  },
  {
   "cell_type": "markdown",
   "metadata": {},
   "source": [
    "<h5>n =250<h5>"
   ]
  },
  {
   "cell_type": "code",
   "execution_count": 8,
   "metadata": {
    "collapsed": false
   },
   "outputs": [
    {
     "data": {
      "text/plain": [
       "250×250 Array{Float64,2}:\n",
       " 0.0  1.0  1.0  0.0  1.0  0.0  1.0  1.0  …  0.0  0.0  0.0  0.0  0.0  1.0  0.0\n",
       " 1.0  0.0  1.0  1.0  1.0  1.0  1.0  1.0     0.0  0.0  0.0  0.0  0.0  0.0  0.0\n",
       " 1.0  1.0  0.0  0.0  1.0  1.0  0.0  0.0     0.0  0.0  0.0  0.0  0.0  0.0  0.0\n",
       " 0.0  1.0  0.0  0.0  1.0  1.0  1.0  0.0     0.0  0.0  0.0  0.0  0.0  0.0  0.0\n",
       " 1.0  1.0  1.0  1.0  0.0  1.0  1.0  1.0     0.0  0.0  0.0  0.0  0.0  0.0  0.0\n",
       " 0.0  1.0  1.0  1.0  1.0  0.0  1.0  1.0  …  0.0  0.0  0.0  0.0  0.0  0.0  0.0\n",
       " 1.0  1.0  0.0  1.0  1.0  1.0  0.0  1.0     0.0  0.0  0.0  0.0  0.0  0.0  0.0\n",
       " 1.0  1.0  0.0  0.0  1.0  1.0  1.0  0.0     0.0  0.0  0.0  0.0  0.0  0.0  0.0\n",
       " 0.0  0.0  0.0  1.0  1.0  1.0  0.0  1.0     0.0  0.0  0.0  0.0  0.0  0.0  0.0\n",
       " 1.0  1.0  1.0  0.0  1.0  0.0  1.0  1.0     0.0  0.0  0.0  0.0  0.0  0.0  0.0\n",
       " 1.0  1.0  1.0  0.0  1.0  1.0  1.0  0.0  …  0.0  0.0  0.0  0.0  0.0  0.0  0.0\n",
       " 1.0  0.0  0.0  0.0  0.0  1.0  1.0  1.0     0.0  0.0  0.0  0.0  0.0  0.0  0.0\n",
       " 1.0  0.0  0.0  1.0  0.0  1.0  1.0  0.0     0.0  0.0  0.0  0.0  0.0  1.0  0.0\n",
       " ⋮                        ⋮              ⋱            ⋮                      \n",
       " 0.0  0.0  0.0  0.0  0.0  0.0  0.0  0.0     1.0  0.0  0.0  0.0  1.0  1.0  0.0\n",
       " 0.0  0.0  0.0  0.0  0.0  0.0  0.0  0.0     0.0  0.0  1.0  1.0  1.0  1.0  1.0\n",
       " 0.0  0.0  0.0  0.0  0.0  0.0  0.0  0.0  …  0.0  1.0  1.0  0.0  0.0  1.0  1.0\n",
       " 0.0  0.0  0.0  0.0  0.0  1.0  1.0  0.0     1.0  1.0  1.0  0.0  1.0  1.0  1.0\n",
       " 0.0  0.0  0.0  0.0  0.0  0.0  0.0  0.0     1.0  1.0  0.0  0.0  1.0  0.0  1.0\n",
       " 0.0  0.0  0.0  0.0  0.0  0.0  0.0  0.0     0.0  0.0  1.0  0.0  1.0  1.0  1.0\n",
       " 0.0  0.0  0.0  0.0  0.0  0.0  0.0  0.0     0.0  0.0  0.0  1.0  1.0  1.0  0.0\n",
       " 0.0  0.0  0.0  0.0  0.0  0.0  0.0  0.0  …  1.0  0.0  0.0  1.0  1.0  1.0  1.0\n",
       " 0.0  0.0  0.0  0.0  0.0  0.0  0.0  0.0     0.0  1.0  1.0  0.0  1.0  0.0  0.0\n",
       " 0.0  0.0  0.0  0.0  0.0  0.0  0.0  0.0     1.0  1.0  1.0  1.0  0.0  1.0  1.0\n",
       " 1.0  0.0  0.0  0.0  0.0  0.0  0.0  0.0     1.0  1.0  1.0  0.0  1.0  0.0  1.0\n",
       " 0.0  0.0  0.0  0.0  0.0  0.0  0.0  0.0     1.0  0.0  1.0  0.0  1.0  1.0  0.0"
      ]
     },
     "execution_count": 8,
     "metadata": {},
     "output_type": "execute_result"
    }
   ],
   "source": [
    "grafo250obs1 = Array{Any}(1)\n",
    "grafo250obs1[1]=erdosgraph([0.6,0.6],0.05,[125,125],250)\n"
   ]
  },
  {
   "cell_type": "code",
   "execution_count": null,
   "metadata": {
    "collapsed": true
   },
   "outputs": [],
   "source": [
    "\n",
    "grafo250obs3 = Array{Any}(3)\n",
    "grafo250obs3[1]=erdosgraph([0.6,0.6],0.05,[125,125],250)\n",
    "grafo250obs3[2]=erdosgraph([0.6,0.6],0.05,[125,125],250)\n",
    "grafo250obs3[3]=erdosgraph([0.6,0.6],0.05,[125,125],250)\n"
   ]
  },
  {
   "cell_type": "code",
   "execution_count": null,
   "metadata": {
    "collapsed": true
   },
   "outputs": [],
   "source": [
    "grafo250obs7 = Array{Any}(7)\n",
    "grafo250obs7[1]=erdosgraph([0.6,0.6],0.05,[125,125],250)\n",
    "grafo250obs7[2]=erdosgraph([0.6,0.6],0.05,[125,125],250)\n",
    "grafo250obs7[3]=erdosgraph([0.6,0.6],0.05,[125,125],250)\n",
    "grafo250obs7[4]=erdosgraph([0.6,0.6],0.05,[125,125],250)\n",
    "grafo250obs7[5]=erdosgraph([0.6,0.6],0.05,[125,125],250)\n",
    "grafo250obs7[6]=erdosgraph([0.6,0.6],0.05,[125,125],250)\n",
    "grafo250obs7[7]=erdosgraph([0.6,0.6],0.05,[125,125],250)\n"
   ]
  },
  {
   "cell_type": "markdown",
   "metadata": {},
   "source": [
    "<h5>n =500<h5>"
   ]
  },
  {
   "cell_type": "code",
   "execution_count": null,
   "metadata": {
    "collapsed": true
   },
   "outputs": [],
   "source": [
    "grafo500obs1 = Array{Any}(1)\n",
    "grafo500obs1[1]=erdosgraph([0.6,0.6],0.05,[250,250],500)"
   ]
  },
  {
   "cell_type": "code",
   "execution_count": null,
   "metadata": {
    "collapsed": true
   },
   "outputs": [],
   "source": [
    "\n",
    "grafo500obs3 = Array{Any}(3)\n",
    "grafo500obs3[1]=erdosgraph([0.6,0.6],0.05,[250,250],500)\n",
    "grafo500obs3[2]=erdosgraph([0.6,0.6],0.05,[250,250],500)\n",
    "grafo500obs3[3]=erdosgraph([0.6,0.6],0.05,[250,250],500)"
   ]
  },
  {
   "cell_type": "code",
   "execution_count": 3,
   "metadata": {
    "collapsed": false
   },
   "outputs": [
    {
     "data": {
      "text/plain": [
       "500×500 Array{Float64,2}:\n",
       " 0.0  1.0  1.0  1.0  1.0  1.0  0.0  0.0  …  1.0  0.0  0.0  0.0  0.0  0.0  0.0\n",
       " 1.0  0.0  1.0  1.0  0.0  1.0  1.0  1.0     0.0  0.0  0.0  0.0  0.0  0.0  0.0\n",
       " 1.0  1.0  0.0  1.0  0.0  0.0  1.0  0.0     0.0  0.0  0.0  0.0  0.0  0.0  0.0\n",
       " 1.0  1.0  1.0  0.0  1.0  1.0  0.0  0.0     0.0  0.0  0.0  0.0  0.0  0.0  0.0\n",
       " 1.0  0.0  0.0  1.0  0.0  1.0  1.0  0.0     0.0  0.0  0.0  0.0  0.0  0.0  1.0\n",
       " 1.0  1.0  0.0  1.0  1.0  0.0  0.0  1.0  …  0.0  0.0  0.0  0.0  0.0  0.0  0.0\n",
       " 0.0  1.0  1.0  0.0  1.0  0.0  0.0  0.0     0.0  0.0  0.0  0.0  0.0  0.0  0.0\n",
       " 0.0  1.0  0.0  0.0  0.0  1.0  0.0  0.0     0.0  0.0  0.0  0.0  0.0  0.0  0.0\n",
       " 0.0  1.0  0.0  1.0  1.0  1.0  1.0  0.0     0.0  1.0  0.0  0.0  0.0  0.0  0.0\n",
       " 1.0  1.0  0.0  0.0  0.0  0.0  0.0  0.0     0.0  0.0  0.0  0.0  0.0  0.0  0.0\n",
       " 0.0  1.0  1.0  0.0  1.0  1.0  0.0  1.0  …  0.0  0.0  0.0  0.0  0.0  0.0  0.0\n",
       " 0.0  1.0  0.0  1.0  1.0  1.0  0.0  1.0     0.0  0.0  0.0  0.0  0.0  1.0  0.0\n",
       " 1.0  0.0  0.0  1.0  1.0  0.0  0.0  0.0     0.0  0.0  0.0  0.0  0.0  0.0  0.0\n",
       " ⋮                        ⋮              ⋱            ⋮                      \n",
       " 0.0  0.0  0.0  0.0  0.0  0.0  0.0  0.0     1.0  1.0  1.0  1.0  0.0  1.0  1.0\n",
       " 0.0  0.0  0.0  0.0  0.0  0.0  0.0  0.0     1.0  1.0  1.0  1.0  0.0  1.0  1.0\n",
       " 0.0  0.0  0.0  0.0  0.0  0.0  0.0  1.0  …  1.0  1.0  1.0  0.0  1.0  0.0  1.0\n",
       " 0.0  0.0  0.0  0.0  0.0  0.0  0.0  0.0     1.0  0.0  0.0  0.0  1.0  0.0  0.0\n",
       " 0.0  0.0  0.0  0.0  0.0  0.0  1.0  0.0     0.0  0.0  1.0  0.0  1.0  1.0  1.0\n",
       " 1.0  0.0  0.0  0.0  0.0  0.0  0.0  0.0     0.0  0.0  1.0  1.0  0.0  1.0  0.0\n",
       " 0.0  0.0  0.0  0.0  0.0  0.0  0.0  0.0     0.0  0.0  0.0  1.0  1.0  0.0  0.0\n",
       " 0.0  0.0  0.0  0.0  0.0  0.0  0.0  0.0  …  1.0  0.0  0.0  1.0  1.0  0.0  1.0\n",
       " 0.0  0.0  0.0  0.0  0.0  0.0  0.0  0.0     1.0  1.0  1.0  0.0  1.0  0.0  0.0\n",
       " 0.0  0.0  0.0  0.0  0.0  0.0  0.0  0.0     0.0  1.0  1.0  1.0  0.0  1.0  0.0\n",
       " 0.0  0.0  0.0  0.0  0.0  0.0  0.0  0.0     1.0  0.0  0.0  0.0  1.0  0.0  0.0\n",
       " 0.0  0.0  0.0  0.0  1.0  0.0  0.0  0.0     0.0  0.0  1.0  0.0  0.0  0.0  0.0"
      ]
     },
     "execution_count": 3,
     "metadata": {},
     "output_type": "execute_result"
    }
   ],
   "source": [
    "grafo500obs7 = Array{Any}(7)\n",
    "grafo500obs7[1]=erdosgraph([0.6,0.6],0.05,[250,250],500)\n",
    "grafo500obs7[2]=erdosgraph([0.6,0.6],0.05,[250,250],500)\n",
    "grafo500obs7[3]=erdosgraph([0.6,0.6],0.05,[250,250],500)\n",
    "grafo500obs7[4]=erdosgraph([0.6,0.6],0.05,[250,250],500)\n",
    "grafo500obs7[5]=erdosgraph([0.6,0.6],0.05,[250,250],500)\n",
    "grafo500obs7[6]=erdosgraph([0.6,0.6],0.05,[250,250],500)\n",
    "grafo500obs7[7]=erdosgraph([0.6,0.6],0.05,[250,250],500)\n"
   ]
  },
  {
   "cell_type": "markdown",
   "metadata": {},
   "source": [
    "<h2>Evaluación de recuperación lineal de grafos<h2>"
   ]
  },
  {
   "cell_type": "markdown",
   "metadata": {},
   "source": [
    "<h5>n=250<h5>"
   ]
  },
  {
   "cell_type": "code",
   "execution_count": null,
   "metadata": {
    "collapsed": true
   },
   "outputs": [],
   "source": [
    "#30 s\n",
    "tic()\n",
    "resultado1lineal=learnLinearGraph([1],0.5,grafo250obs1,250)\n",
    "toc()"
   ]
  },
  {
   "cell_type": "code",
   "execution_count": null,
   "metadata": {
    "collapsed": true
   },
   "outputs": [],
   "source": [
    "#t=48 s\n",
    "tic()\n",
    "resultado2lineal=learnLinearGraph([1/3,1/3,1/3],0.5,grafo250obs3,250)\n",
    "toc()"
   ]
  },
  {
   "cell_type": "code",
   "execution_count": null,
   "metadata": {
    "collapsed": true
   },
   "outputs": [],
   "source": [
    "#t=2.3min\n",
    "tic()\n",
    "resultado3lineal=learnLinearGraph([1/7,1/7,1/7,1/7,1/7,1/7,1/7],0.5,grafo250obs7,250)\n",
    "toc()"
   ]
  },
  {
   "cell_type": "markdown",
   "metadata": {},
   "source": [
    "<h5>n=500<h5>"
   ]
  },
  {
   "cell_type": "code",
   "execution_count": null,
   "metadata": {
    "collapsed": true
   },
   "outputs": [],
   "source": []
  },
  {
   "cell_type": "markdown",
   "metadata": {},
   "source": [
    "<h2>Evaluación de recuperación l2 de grafos<h2>"
   ]
  },
  {
   "cell_type": "markdown",
   "metadata": {},
   "source": [
    "<h5>n=250<h5>"
   ]
  },
  {
   "cell_type": "code",
   "execution_count": 9,
   "metadata": {
    "collapsed": false
   },
   "outputs": [
    {
     "name": "stdout",
     "output_type": "stream",
     "text": [
      "MOSEK warning 710: #1 (nearly) zero elements are specified in sparse col '' (2) of matrix 'A'.\n",
      "MOSEK warning 710: #1 (nearly) zero elements are specified in sparse col '' (5) of matrix 'A'.\n",
      "MOSEK warning 710: #1 (nearly) zero elements are specified in sparse col '' (7) of matrix 'A'.\n",
      "MOSEK warning 710: #1 (nearly) zero elements are specified in sparse col '' (10) of matrix 'A'.\n",
      "MOSEK warning 710: #1 (nearly) zero elements are specified in sparse col '' (17) of matrix 'A'.\n",
      "MOSEK warning 710: #1 (nearly) zero elements are specified in sparse col '' (18) of matrix 'A'.\n",
      "MOSEK warning 710: #1 (nearly) zero elements are specified in sparse col '' (19) of matrix 'A'.\n",
      "MOSEK warning 710: #1 (nearly) zero elements are specified in sparse col '' (20) of matrix 'A'.\n",
      "MOSEK warning 710: #1 (nearly) zero elements are specified in sparse col '' (21) of matrix 'A'.\n",
      "MOSEK warning 710: #1 (nearly) zero elements are specified in sparse col '' (22) of matrix 'A'.\n",
      "Warning number 710 is disabled.\n",
      "Problem\n",
      "  Name                   :                 \n",
      "  Objective sense        : min             \n",
      "  Type                   : QCQO (quadratically constrained optimization problem)\n",
      "  Constraints            : 375002          \n",
      "  Cones                  : 0               \n",
      "  Scalar variables       : 156627          \n",
      "  Matrix variables       : 0               \n",
      "  Integer variables      : 0               \n",
      "\n",
      "Optimizer started.\n",
      "Quadratic to conic reformulation started.\n",
      "Quadratic to conic reformulation terminated. Time: 0.16    \n",
      "Presolve started.\n",
      "Linear dependency checker started.\n",
      "Linear dependency checker terminated.\n",
      "Eliminator - tries                  : 0                 time                   : 0.00            \n",
      "Lin. dep.  - tries                  : 1                 time                   : 0.13            \n",
      "Lin. dep.  - number                 : 0               \n",
      "Presolve terminated. Time: 1.19    \n",
      "Problem\n",
      "  Name                   :                 \n",
      "  Objective sense        : min             \n",
      "  Type                   : QCQO (quadratically constrained optimization problem)\n",
      "  Constraints            : 375002          \n",
      "  Cones                  : 0               \n",
      "  Scalar variables       : 156627          \n",
      "  Matrix variables       : 0               \n",
      "  Integer variables      : 0               \n",
      "\n",
      "Optimizer  - threads                : 2               \n",
      "Optimizer  - solved problem         : the dual        \n",
      "Optimizer  - Constraints            : 94125\n",
      "Optimizer  - Cones                  : 1\n",
      "Optimizer  - Scalar variables       : 188252            conic                  : 31377           \n",
      "Optimizer  - Semi-definite variables: 0                 scalarized             : 0               \n",
      "Factor     - setup time             : 0.69              dense det. time        : 0.00            \n",
      "Factor     - ML order time          : 0.06              GP order time          : 0.00            \n",
      "Factor     - nonzeros before factor : 2.20e+05          after factor           : 2.20e+05        \n",
      "Factor     - dense dim.             : 2                 flops                  : 1.29e+06        \n",
      "ITE PFEAS    DFEAS    GFEAS    PRSTATUS   POBJ              DOBJ              MU       TIME  \n",
      "0   2.0e+00  1.5e+00  1.4e+00  0.00e+00   4.218600000e+04   4.218458579e+04   1.0e+00  2.42  \n",
      "1   2.0e+00  1.5e+00  1.4e+00  1.50e+00   4.212084831e+04   4.211943696e+04   1.0e+00  2.67  \n",
      "2   2.0e+00  1.5e+00  1.4e+00  1.52e+00   4.196124748e+04   4.195984361e+04   1.0e+00  2.86  \n",
      "3   2.0e+00  1.5e+00  1.3e+00  1.52e+00   4.150072454e+04   4.149934267e+04   9.9e-01  3.02  \n",
      "4   1.0e+00  7.7e-01  1.0e+00  1.51e+00   2.414053217e+04   2.414000733e+04   5.1e-01  3.19  \n",
      "5   5.5e-01  4.2e-01  7.8e-01  1.22e+00   2.699904539e+04   2.699876958e+04   2.8e-01  3.34  \n",
      "6   4.7e-01  3.5e-01  7.1e-01  1.10e+00   2.628353864e+04   2.628330583e+04   2.3e-01  3.52  \n",
      "7   1.9e-01  1.4e-01  4.8e-01  1.13e+00   2.621541056e+04   2.621530092e+04   9.5e-02  3.69  \n",
      "8   1.4e-01  1.1e-01  4.2e-01  1.02e+00   2.485921247e+04   2.485912843e+04   7.2e-02  3.86  \n",
      "9   5.9e-02  4.4e-02  2.7e-01  1.03e+00   2.465079262e+04   2.465075500e+04   2.9e-02  4.03  \n",
      "10  3.5e-02  2.6e-02  2.1e-01  9.70e-01   2.390422825e+04   2.390420489e+04   1.8e-02  4.19  \n",
      "11  1.3e-02  4.7e-03  9.2e-02  1.00e+00   2.358816434e+04   2.358815951e+04   3.2e-03  4.34  \n",
      "12  2.3e-02  8.5e-04  3.9e-02  9.90e-01   2.346156532e+04   2.346156441e+04   5.7e-04  4.51  \n",
      "13  7.0e-02  8.1e-07  2.2e-02  9.99e-01   2.343749802e+04   2.343749807e+04   6.5e-07  4.70  \n",
      "14  2.5e-04  3.5e-09  8.8e-03  1.00e+00   2.343750005e+04   2.343750005e+04   2.9e-09  4.91  \n",
      "Optimizer terminated. Time: 5.25    \n",
      "\n",
      "\n",
      "Interior-point solution summary\n",
      "  Problem status  : PRIMAL_AND_DUAL_FEASIBLE\n",
      "  Solution status : OPTIMAL\n",
      "  Primal.  obj: 2.3437500047e+04    nrm: 2e+04    Viol.  con: 4e-04    var: 0e+00  \n",
      "  Dual.    obj: 2.3436542738e+04    nrm: 2e+00    Viol.  con: 4e-09    var: 6e-05  \n",
      "elapsed time: 75.485795534 seconds\n"
     ]
    },
    {
     "data": {
      "text/plain": [
       "75.485795534"
      ]
     },
     "execution_count": 9,
     "metadata": {},
     "output_type": "execute_result"
    }
   ],
   "source": [
    "#28 s\n",
    "tic()\n",
    "resultado1l2=learnl2Graph([1],0.5,grafo250obs1,250)\n",
    "toc()"
   ]
  },
  {
   "cell_type": "code",
   "execution_count": null,
   "metadata": {
    "collapsed": true
   },
   "outputs": [],
   "source": [
    "#61 s\n",
    "tic()\n",
    "resultado2l2=learnl2Graph([1/3,1/3,1/3],0.5,grafo250obs3,250)\n",
    "toc()"
   ]
  },
  {
   "cell_type": "code",
   "execution_count": null,
   "metadata": {
    "collapsed": true
   },
   "outputs": [],
   "source": [
    "#t=2.25 min\n",
    "tic()\n",
    "resultado3l2=learnl2Graph([1/7,1/7,1/7,1/7,1/7,1/7,1/7],0.5,grafo250obs7,250)\n",
    "toc()"
   ]
  },
  {
   "cell_type": "markdown",
   "metadata": {
    "collapsed": true
   },
   "source": [
    "<h5>n=500<h5>"
   ]
  },
  {
   "cell_type": "code",
   "execution_count": null,
   "metadata": {
    "collapsed": true
   },
   "outputs": [],
   "source": [
    "#661 s\n",
    "tic()\n",
    "resultado1l2n500=learnl2Graph([1],0.5,grafo500obs1,500)\n",
    "toc()"
   ]
  },
  {
   "cell_type": "code",
   "execution_count": null,
   "metadata": {
    "collapsed": true
   },
   "outputs": [],
   "source": [
    "# 2 500 000 constraints\n",
    "# 876254 variables\n",
    "# 23.2 min\n",
    "tic()\n",
    "resultado2l2n500=learnl2Graph([1/3,1/3,1/3],0.5,grafo500obs3,500)\n",
    "toc()"
   ]
  },
  {
   "cell_type": "code",
   "execution_count": null,
   "metadata": {
    "collapsed": true
   },
   "outputs": [],
   "source": [
    "#t=62 min\n",
    "tic()\n",
    "resultado3l2n500=learnl2Graph([1/7,1/7,1/7,1/7,1/7,1/7,1/7],0.5,grafo500obs7,500)\n",
    "toc()"
   ]
  },
  {
   "cell_type": "markdown",
   "metadata": {},
   "source": [
    "<h2>Evaluación de recuperación espectral de grafos<h2>"
   ]
  },
  {
   "cell_type": "code",
   "execution_count": null,
   "metadata": {
    "collapsed": false
   },
   "outputs": [],
   "source": [
    "#aparentemente se come mucha memoria en SDP cuando hay muchas interacciones con los constraints. Ver los \n",
    "#siguientes links:\n",
    "#https://groups.google.com/forum/#!topic/yalmip/Wa0QXQOX-_k\n",
    "#https://docs.mosek.com/8.1/capi/solving-linear.html\n",
    "#https://github.com/JuliaOpt/JuMP.jl/issues/474\n",
    "#http://jump.readthedocs.io/en/latest/nlp.html\n",
    "tic()\n",
    "resultado1Espectral=learnEspectralGraph([1],0.5,grafo250obs1,250)\n",
    "toc()"
   ]
  },
  {
   "cell_type": "code",
   "execution_count": null,
   "metadata": {
    "collapsed": true
   },
   "outputs": [],
   "source": [
    "tic()\n",
    "resultado2Espectral=learnEspectralGraph([1/3,1/3,1/3],0.5,grafo250obs3,250)\n",
    "toc()"
   ]
  },
  {
   "cell_type": "code",
   "execution_count": null,
   "metadata": {
    "collapsed": true
   },
   "outputs": [],
   "source": [
    "#t=2.25 min\n",
    "tic()\n",
    "resultado3Espectral=learnEspectralGraph([1/7,1/7,1/7,1/7,1/7,1/7,1/7],0.5,grafo250obs7,250)\n",
    "toc()"
   ]
  },
  {
   "cell_type": "markdown",
   "metadata": {},
   "source": [
    "<h2>Pruebas de recuperacion l2<h2>"
   ]
  },
  {
   "cell_type": "code",
   "execution_count": 21,
   "metadata": {
    "collapsed": false
   },
   "outputs": [
    {
     "data": {
      "text/plain": [
       "100×100 Array{Float64,2}:\n",
       " 0.0  1.0  1.0  0.0  1.0  1.0  1.0  1.0  …  1.0  1.0  0.0  0.0  0.0  0.0  0.0\n",
       " 1.0  0.0  1.0  1.0  1.0  0.0  1.0  1.0     0.0  0.0  0.0  0.0  0.0  0.0  0.0\n",
       " 1.0  1.0  0.0  1.0  0.0  1.0  1.0  1.0     0.0  0.0  0.0  0.0  0.0  1.0  0.0\n",
       " 0.0  1.0  1.0  0.0  1.0  0.0  1.0  1.0     1.0  0.0  0.0  0.0  0.0  0.0  0.0\n",
       " 1.0  1.0  0.0  1.0  0.0  1.0  0.0  1.0     0.0  0.0  0.0  0.0  0.0  0.0  0.0\n",
       " 1.0  0.0  1.0  0.0  1.0  0.0  1.0  1.0  …  1.0  0.0  0.0  0.0  0.0  0.0  0.0\n",
       " 1.0  1.0  1.0  1.0  0.0  1.0  0.0  0.0     0.0  0.0  0.0  0.0  0.0  0.0  0.0\n",
       " 1.0  1.0  1.0  1.0  1.0  1.0  0.0  0.0     0.0  0.0  0.0  1.0  0.0  0.0  0.0\n",
       " 1.0  1.0  1.0  1.0  1.0  1.0  1.0  1.0     1.0  0.0  0.0  0.0  0.0  1.0  1.0\n",
       " 1.0  1.0  0.0  1.0  0.0  1.0  1.0  0.0     0.0  1.0  0.0  0.0  0.0  0.0  0.0\n",
       " 1.0  1.0  1.0  0.0  1.0  1.0  1.0  1.0  …  0.0  0.0  0.0  0.0  0.0  0.0  0.0\n",
       " 1.0  1.0  0.0  1.0  1.0  0.0  0.0  0.0     0.0  0.0  0.0  0.0  0.0  0.0  0.0\n",
       " 0.0  1.0  0.0  1.0  0.0  1.0  1.0  1.0     0.0  0.0  0.0  0.0  0.0  1.0  1.0\n",
       " ⋮                        ⋮              ⋱            ⋮                      \n",
       " 1.0  0.0  0.0  0.0  0.0  0.0  0.0  0.0     1.0  1.0  1.0  1.0  0.0  1.0  1.0\n",
       " 0.0  0.0  0.0  0.0  0.0  0.0  0.0  0.0     1.0  1.0  1.0  1.0  1.0  0.0  1.0\n",
       " 0.0  0.0  1.0  0.0  0.0  0.0  1.0  0.0  …  1.0  0.0  1.0  1.0  1.0  1.0  1.0\n",
       " 0.0  1.0  0.0  0.0  0.0  0.0  0.0  0.0     1.0  1.0  1.0  1.0  1.0  1.0  1.0\n",
       " 0.0  0.0  0.0  1.0  0.0  0.0  1.0  1.0     1.0  1.0  1.0  0.0  1.0  1.0  1.0\n",
       " 1.0  0.0  0.0  1.0  0.0  1.0  0.0  0.0     0.0  1.0  1.0  0.0  1.0  1.0  0.0\n",
       " 1.0  0.0  0.0  0.0  0.0  0.0  0.0  0.0     1.0  0.0  0.0  1.0  1.0  0.0  1.0\n",
       " 0.0  0.0  0.0  0.0  0.0  0.0  0.0  0.0  …  1.0  0.0  0.0  1.0  1.0  1.0  1.0\n",
       " 0.0  0.0  0.0  0.0  0.0  0.0  0.0  1.0     0.0  1.0  1.0  0.0  1.0  0.0  0.0\n",
       " 0.0  0.0  0.0  0.0  0.0  0.0  0.0  0.0     1.0  1.0  1.0  1.0  0.0  1.0  0.0\n",
       " 0.0  0.0  1.0  0.0  0.0  0.0  0.0  0.0     1.0  0.0  1.0  0.0  1.0  0.0  0.0\n",
       " 0.0  0.0  0.0  0.0  0.0  0.0  0.0  0.0     0.0  1.0  1.0  0.0  0.0  0.0  0.0"
      ]
     },
     "execution_count": 21,
     "metadata": {},
     "output_type": "execute_result"
    }
   ],
   "source": [
    "\n",
    "grafo100obs7 = Array{Any}(12)\n",
    "grafo100obs7[1]=erdosgraph([0.75,0.75],0.1,[50,50],100)\n",
    "grafo100obs7[2]=erdosgraph([0.75,0.75],0.1,[50,50],100)\n",
    "grafo100obs7[3]=erdosgraph([0.75,0.75],0.1,[50,50],100)\n",
    "grafo100obs7[4]=erdosgraph([0.75,0.75],0.1,[50,50],100)\n",
    "grafo100obs7[5]=erdosgraph([0.75,0.75],0.1,[50,50],100)\n",
    "grafo100obs7[6]=erdosgraph([0.75,0.75],0.1,[50,50],100)\n",
    "grafo100obs7[7]=erdosgraph([0.75,0.75],0.1,[50,50],100)\n",
    "grafo100obs7[8]=erdosgraph([0.75,0.75],0.1,[50,50],100)\n",
    "grafo100obs7[9]=erdosgraph([0.75,0.75],0.1,[50,50],100)\n",
    "grafo100obs7[10]=erdosgraph([0.75,0.75],0.1,[50,50],100)\n",
    "grafo100obs7[11]=erdosgraph([0.75,0.75],0.1,[50,50],100)\n",
    "grafo100obs7[12]=erdosgraph([0.75,0.75],0.1,[50,50],100)"
   ]
  },
  {
   "cell_type": "code",
   "execution_count": 22,
   "metadata": {
    "collapsed": false
   },
   "outputs": [
    {
     "name": "stdout",
     "output_type": "stream",
     "text": [
      "MOSEK warning 710: #12 (nearly) zero elements are specified in sparse col '' (13) of matrix 'A'.\n",
      "MOSEK warning 710: #1 (nearly) zero elements are specified in sparse col '' (14) of matrix 'A'.\n",
      "MOSEK warning 710: #5 (nearly) zero elements are specified in sparse col '' (15) of matrix 'A'.\n",
      "MOSEK warning 710: #1 (nearly) zero elements are specified in sparse col '' (16) of matrix 'A'.\n",
      "MOSEK warning 710: #3 (nearly) zero elements are specified in sparse col '' (17) of matrix 'A'.\n",
      "MOSEK warning 710: #5 (nearly) zero elements are specified in sparse col '' (18) of matrix 'A'.\n",
      "MOSEK warning 710: #3 (nearly) zero elements are specified in sparse col '' (19) of matrix 'A'.\n",
      "MOSEK warning 710: #2 (nearly) zero elements are specified in sparse col '' (21) of matrix 'A'.\n",
      "MOSEK warning 710: #2 (nearly) zero elements are specified in sparse col '' (22) of matrix 'A'.\n",
      "MOSEK warning 710: #4 (nearly) zero elements are specified in sparse col '' (23) of matrix 'A'.\n",
      "Warning number 710 is disabled.\n",
      "Problem\n",
      "  Name                   :                 \n",
      "  Objective sense        : min             \n",
      "  Type                   : QCQO (quadratically constrained optimization problem)\n",
      "  Constraints            : 280013          \n",
      "  Cones                  : 0               \n",
      "  Scalar variables       : 80713           \n",
      "  Matrix variables       : 0               \n",
      "  Integer variables      : 0               \n",
      "\n",
      "Optimizer started.\n",
      "Quadratic to conic reformulation started.\n",
      "Quadratic to conic reformulation terminated. Time: 0.16    \n",
      "Presolve started.\n",
      "Linear dependency checker started.\n",
      "Linear dependency checker terminated.\n",
      "Eliminator - tries                  : 0                 time                   : 0.00            \n",
      "Lin. dep.  - tries                  : 1                 time                   : 0.08            \n",
      "Lin. dep.  - number                 : 0               \n",
      "Presolve terminated. Time: 0.88    \n",
      "Problem\n",
      "  Name                   :                 \n",
      "  Objective sense        : min             \n",
      "  Type                   : QCQO (quadratically constrained optimization problem)\n",
      "  Constraints            : 280013          \n",
      "  Cones                  : 0               \n",
      "  Scalar variables       : 80713           \n",
      "  Matrix variables       : 0               \n",
      "  Integer variables      : 0               \n",
      "\n",
      "Optimizer  - threads                : 2               \n",
      "Optimizer  - solved problem         : the dual        \n",
      "Optimizer  - Constraints            : 70700\n",
      "Optimizer  - Cones                  : 1\n",
      "Optimizer  - Scalar variables       : 141402            conic                  : 5052            \n",
      "Optimizer  - Semi-definite variables: 0                 scalarized             : 0               \n",
      "Factor     - setup time             : 0.72              dense det. time        : 0.00            \n",
      "Factor     - ML order time          : 0.06              GP order time          : 0.00            \n",
      "Factor     - nonzeros before factor : 1.46e+05          after factor           : 1.46e+05        \n",
      "Factor     - dense dim.             : 2                 flops                  : 1.10e+06        \n",
      "ITE PFEAS    DFEAS    GFEAS    PRSTATUS   POBJ              DOBJ              MU       TIME  \n",
      "0   2.0e+00  1.7e+00  1.4e+00  0.00e+00   5.809666667e+03   5.808252453e+03   1.0e+00  2.08  \n",
      "1   2.0e+00  1.7e+00  1.4e+00  1.12e+00   5.953171468e+03   5.951765247e+03   9.8e-01  2.23  \n",
      "2   1.9e+00  1.6e+00  1.3e+00  1.14e+00   6.425799959e+03   6.424423374e+03   9.3e-01  2.39  \n",
      "3   1.2e+00  1.0e+00  1.3e+00  1.19e+00   8.945930211e+03   8.944799593e+03   5.9e-01  2.50  \n",
      "4   9.1e-01  7.8e-01  1.3e+00  1.55e+00   8.355871409e+03   8.355045107e+03   4.6e-01  2.56  \n",
      "5   8.7e-01  7.4e-01  1.3e+00  1.58e+00   7.910601548e+03   7.909826480e+03   4.4e-01  2.61  \n",
      "6   5.3e-01  4.5e-01  1.2e+00  1.65e+00   6.728066118e+03   6.727649523e+03   2.7e-01  2.67  \n",
      "7   3.9e-01  3.4e-01  1.1e+00  1.65e+00   5.148039263e+03   5.147764513e+03   2.0e-01  2.72  \n",
      "8   2.0e-01  1.7e-01  9.3e-01  1.73e+00   3.836329896e+03   3.836221816e+03   9.8e-02  2.78  \n",
      "9   9.8e-02  8.3e-02  7.1e-01  1.44e+00   2.597449767e+03   2.597401062e+03   4.9e-02  2.83  \n",
      "10  2.0e-02  1.7e-02  3.4e-01  1.28e+00   1.953477522e+03   1.953468766e+03   9.9e-03  2.88  \n",
      "11  5.6e-03  4.7e-03  1.9e-01  1.05e+00   1.810230083e+03   1.810227488e+03   2.8e-03  2.94  \n",
      "12  1.5e-03  2.1e-05  2.6e-02  1.03e+00   1.751993773e+03   1.751993757e+03   1.2e-05  3.00  \n",
      "13  7.3e-04  3.0e-06  9.6e-03  1.00e+00   1.751732987e+03   1.751732985e+03   1.8e-06  3.06  \n",
      "14  8.7e-05  3.5e-07  3.1e-03  1.00e+00   1.751700756e+03   1.751700756e+03   2.0e-07  3.28  \n",
      "15  1.8e-04  1.0e-08  3.0e-03  1.00e+00   1.751696783e+03   1.751696783e+03   5.9e-09  3.50  \n",
      "Optimizer terminated. Time: 3.58    \n",
      "\n",
      "\n",
      "Interior-point solution summary\n",
      "  Problem status  : PRIMAL_AND_DUAL_FEASIBLE\n",
      "  Solution status : OPTIMAL\n",
      "  Primal.  obj: 1.7516967828e+03    nrm: 1e+04    Viol.  con: 3e-09    var: 0e+00  \n",
      "  Dual.    obj: 1.7516986179e+03    nrm: 1e+00    Viol.  con: 1e-08    var: 1e-05  \n",
      "elapsed time: 27.139488332 seconds\n"
     ]
    },
    {
     "data": {
      "text/plain": [
       "27.139488332"
      ]
     },
     "execution_count": 22,
     "metadata": {},
     "output_type": "execute_result"
    }
   ],
   "source": [
    "#28 s\n",
    "tic()\n",
    "resultado1l2=learnl2Graph((1/12)*ones(12),0.005,grafo100obs7,100)\n",
    "toc()"
   ]
  },
  {
   "cell_type": "code",
   "execution_count": 25,
   "metadata": {
    "collapsed": false
   },
   "outputs": [
    {
     "data": {
      "text/plain": [
       "30×30 Array{Float64,2}:\n",
       " 5.08395e-9  1.0         1.0         …  1.0         3.66426e-8  1.0       \n",
       " 1.0         5.08395e-9  1.0            1.0         0.5         1.0       \n",
       " 1.0         1.0         5.08395e-9     1.0         1.0         1.0       \n",
       " 1.0         1.0         1.0            1.0         1.0         1.0       \n",
       " 1.0         1.0         0.5            1.0         1.0         1.0       \n",
       " 1.0         1.0         1.0         …  1.0         1.0         1.0       \n",
       " 1.0         1.0         1.0            1.0         1.0         1.0       \n",
       " 1.0         1.0         1.0            1.0         1.0         1.0       \n",
       " 1.0         1.0         1.0            1.0         1.0         1.0       \n",
       " 1.0         1.0         1.0            1.0         1.0         1.0       \n",
       " 1.0         1.0         1.0         …  1.0         1.0         1.0       \n",
       " 1.0         1.0         1.0            1.0         1.0         1.0       \n",
       " 1.0         0.5         1.0            1.0         1.0         1.0       \n",
       " ⋮                                   ⋱                                    \n",
       " 1.0         1.0         1.0            1.0         1.0         1.0       \n",
       " 1.0         1.0         1.0            1.0         1.0         1.0       \n",
       " 1.0         0.5         1.0         …  1.0         1.0         1.0       \n",
       " 3.64771e-9  1.0         1.0            1.0         1.0         1.0       \n",
       " 1.0         1.0         1.0            1.0         1.0         1.0       \n",
       " 1.0         1.0         3.66426e-8     1.0         1.0         1.0       \n",
       " 1.0         1.0         1.0            1.0         1.0         1.0       \n",
       " 1.0         1.0         1.0         …  1.0         1.0         1.0       \n",
       " 1.0         1.0         1.0            1.0         1.0         1.0       \n",
       " 1.0         1.0         1.0            5.08395e-9  1.0         1.0       \n",
       " 3.66426e-8  0.5         1.0            1.0         5.08395e-9  1.0       \n",
       " 1.0         1.0         1.0            1.0         1.0         5.08395e-9"
      ]
     },
     "execution_count": 25,
     "metadata": {},
     "output_type": "execute_result"
    }
   ],
   "source": [
    "resultado1l2[1][1:30,1:30]"
   ]
  },
  {
   "cell_type": "code",
   "execution_count": 24,
   "metadata": {
    "collapsed": false
   },
   "outputs": [
    {
     "data": {
      "text/plain": [
       "6×6 Array{Float64,2}:\n",
       " 0.0  1.0  0.0  1.0  0.0  1.0\n",
       " 1.0  0.0  1.0  0.0  1.0  0.0\n",
       " 0.0  1.0  0.0  1.0  0.0  1.0\n",
       " 1.0  0.0  1.0  0.0  0.0  1.0\n",
       " 0.0  1.0  0.0  0.0  0.0  1.0\n",
       " 1.0  0.0  1.0  1.0  1.0  0.0"
      ]
     },
     "execution_count": 24,
     "metadata": {},
     "output_type": "execute_result"
    }
   ],
   "source": [
    "grafo100obs7[1][1:6,1:6]"
   ]
  },
  {
   "cell_type": "code",
   "execution_count": 19,
   "metadata": {
    "collapsed": false
   },
   "outputs": [
    {
     "data": {
      "text/plain": [
       "6×6 Array{Float64,2}:\n",
       " 0.0  1.0  1.0  1.0  1.0  0.0\n",
       " 1.0  0.0  1.0  1.0  1.0  1.0\n",
       " 1.0  1.0  0.0  1.0  1.0  1.0\n",
       " 1.0  1.0  1.0  0.0  1.0  0.0\n",
       " 1.0  1.0  1.0  1.0  0.0  0.0\n",
       " 0.0  1.0  1.0  0.0  0.0  0.0"
      ]
     },
     "execution_count": 19,
     "metadata": {},
     "output_type": "execute_result"
    }
   ],
   "source": [
    "grafo100obs7[7][1:6,1:6]"
   ]
  },
  {
   "cell_type": "code",
   "execution_count": null,
   "metadata": {
    "collapsed": true
   },
   "outputs": [],
   "source": []
  },
  {
   "cell_type": "code",
   "execution_count": 10,
   "metadata": {
    "collapsed": false
   },
   "outputs": [
    {
     "data": {
      "text/plain": [
       "50×50 Array{Float64,2}:\n",
       " 0.0  1.0  1.0  1.0  0.0  0.0  0.0  1.0  …  0.0  1.0  1.0  0.0  0.0  0.0  0.0\n",
       " 1.0  0.0  1.0  1.0  1.0  1.0  1.0  0.0     0.0  0.0  0.0  0.0  0.0  0.0  0.0\n",
       " 1.0  1.0  0.0  1.0  1.0  1.0  1.0  1.0     0.0  0.0  0.0  0.0  1.0  0.0  1.0\n",
       " 1.0  1.0  1.0  0.0  1.0  1.0  1.0  1.0     0.0  1.0  0.0  1.0  0.0  1.0  0.0\n",
       " 0.0  1.0  1.0  1.0  0.0  0.0  0.0  1.0     0.0  1.0  0.0  0.0  0.0  0.0  1.0\n",
       " 0.0  1.0  1.0  1.0  0.0  0.0  1.0  1.0  …  0.0  0.0  0.0  0.0  0.0  0.0  1.0\n",
       " 0.0  1.0  1.0  1.0  0.0  1.0  0.0  1.0     0.0  0.0  0.0  0.0  1.0  0.0  0.0\n",
       " 1.0  0.0  1.0  1.0  1.0  1.0  1.0  0.0     1.0  0.0  0.0  0.0  0.0  0.0  0.0\n",
       " 0.0  1.0  1.0  1.0  0.0  1.0  1.0  1.0     0.0  0.0  0.0  0.0  1.0  0.0  0.0\n",
       " 0.0  1.0  1.0  1.0  0.0  1.0  0.0  0.0     0.0  0.0  0.0  0.0  0.0  0.0  0.0\n",
       " 0.0  1.0  1.0  1.0  0.0  1.0  0.0  1.0  …  0.0  0.0  1.0  0.0  0.0  0.0  1.0\n",
       " 1.0  1.0  1.0  1.0  0.0  0.0  1.0  1.0     0.0  0.0  0.0  0.0  0.0  0.0  0.0\n",
       " 1.0  0.0  0.0  0.0  1.0  1.0  0.0  1.0     0.0  0.0  1.0  0.0  0.0  1.0  0.0\n",
       " ⋮                        ⋮              ⋱            ⋮                      \n",
       " 0.0  0.0  0.0  0.0  0.0  1.0  1.0  0.0     1.0  1.0  0.0  0.0  1.0  1.0  1.0\n",
       " 0.0  0.0  0.0  1.0  0.0  0.0  1.0  0.0     1.0  1.0  1.0  1.0  1.0  0.0  0.0\n",
       " 0.0  1.0  1.0  0.0  1.0  0.0  0.0  0.0  …  1.0  1.0  0.0  1.0  1.0  1.0  1.0\n",
       " 1.0  0.0  0.0  0.0  0.0  1.0  0.0  0.0     1.0  1.0  1.0  1.0  0.0  0.0  1.0\n",
       " 0.0  1.0  0.0  1.0  0.0  0.0  0.0  0.0     1.0  1.0  1.0  0.0  1.0  0.0  1.0\n",
       " 0.0  0.0  0.0  0.0  0.0  0.0  0.0  1.0     0.0  1.0  1.0  1.0  0.0  0.0  0.0\n",
       " 1.0  0.0  0.0  1.0  1.0  0.0  0.0  0.0     1.0  0.0  1.0  1.0  0.0  1.0  0.0\n",
       " 1.0  0.0  0.0  0.0  0.0  0.0  0.0  0.0  …  1.0  1.0  0.0  1.0  1.0  1.0  1.0\n",
       " 0.0  0.0  0.0  1.0  0.0  0.0  0.0  0.0     1.0  1.0  1.0  0.0  1.0  0.0  0.0\n",
       " 0.0  0.0  1.0  0.0  0.0  0.0  1.0  0.0     0.0  0.0  1.0  1.0  0.0  1.0  1.0\n",
       " 0.0  0.0  0.0  1.0  0.0  0.0  0.0  0.0     0.0  1.0  1.0  0.0  1.0  0.0  0.0\n",
       " 0.0  0.0  1.0  0.0  1.0  1.0  0.0  0.0     0.0  0.0  1.0  0.0  1.0  0.0  0.0"
      ]
     },
     "execution_count": 10,
     "metadata": {},
     "output_type": "execute_result"
    }
   ],
   "source": [
    "\n",
    "grafo250obs3 = Array{Any}(10)\n",
    "grafo250obs3[1]=erdosgraph([0.75,0.75],0.2,[25,25],50)\n",
    "grafo250obs3[2]=erdosgraph([0.75,0.75],0.2,[25,25],50)\n",
    "grafo250obs3[3]=erdosgraph([0.75,0.75],0.2,[25,25],50)\n",
    "grafo250obs3[4]=erdosgraph([0.75,0.75],0.2,[25,25],50)\n",
    "grafo250obs3[5]=erdosgraph([0.75,0.75],0.2,[25,25],50)\n",
    "grafo250obs3[6]=erdosgraph([0.75,0.75],0.2,[25,25],50)\n",
    "grafo250obs3[7]=erdosgraph([0.75,0.75],0.2,[25,25],50)\n",
    "grafo250obs3[8]=erdosgraph([0.75,0.75],0.2,[25,25],50)\n",
    "grafo250obs3[9]=erdosgraph([0.75,0.75],0.2,[25,25],50)\n",
    "grafo250obs3[10]=erdosgraph([0.75,0.75],0.2,[25,25],50)\n",
    "\n"
   ]
  },
  {
   "cell_type": "code",
   "execution_count": 11,
   "metadata": {
    "collapsed": false
   },
   "outputs": [
    {
     "name": "stdout",
     "output_type": "stream",
     "text": [
      "MOSEK warning 710: #10 (nearly) zero elements are specified in sparse col '' (11) of matrix 'A'.\n",
      "MOSEK warning 710: #3 (nearly) zero elements are specified in sparse col '' (12) of matrix 'A'.\n",
      "MOSEK warning 710: #2 (nearly) zero elements are specified in sparse col '' (13) of matrix 'A'.\n",
      "MOSEK warning 710: #3 (nearly) zero elements are specified in sparse col '' (14) of matrix 'A'.\n",
      "MOSEK warning 710: #2 (nearly) zero elements are specified in sparse col '' (15) of matrix 'A'.\n",
      "MOSEK warning 710: #6 (nearly) zero elements are specified in sparse col '' (16) of matrix 'A'.\n",
      "MOSEK warning 710: #4 (nearly) zero elements are specified in sparse col '' (17) of matrix 'A'.\n",
      "MOSEK warning 710: #3 (nearly) zero elements are specified in sparse col '' (18) of matrix 'A'.\n",
      "MOSEK warning 710: #2 (nearly) zero elements are specified in sparse col '' (19) of matrix 'A'.\n",
      "MOSEK warning 710: #3 (nearly) zero elements are specified in sparse col '' (20) of matrix 'A'.\n",
      "Warning number 710 is disabled.\n",
      "Problem\n",
      "  Name                   :                 \n",
      "  Objective sense        : min             \n",
      "  Type                   : QCQO (quadratically constrained optimization problem)\n",
      "  Constraints            : 60011           \n",
      "  Cones                  : 0               \n",
      "  Scalar variables       : 17811           \n",
      "  Matrix variables       : 0               \n",
      "  Integer variables      : 0               \n",
      "\n",
      "Optimizer started.\n",
      "Quadratic to conic reformulation started.\n",
      "Quadratic to conic reformulation terminated. Time: 0.05    \n",
      "Presolve started.\n",
      "Linear dependency checker started.\n",
      "Linear dependency checker terminated.\n",
      "Eliminator - tries                  : 0                 time                   : 0.00            \n",
      "Lin. dep.  - tries                  : 1                 time                   : 0.02            \n",
      "Lin. dep.  - number                 : 0               \n",
      "Presolve terminated. Time: 0.25    \n",
      "Problem\n",
      "  Name                   :                 \n",
      "  Objective sense        : min             \n",
      "  Type                   : QCQO (quadratically constrained optimization problem)\n",
      "  Constraints            : 60011           \n",
      "  Cones                  : 0               \n",
      "  Scalar variables       : 17811           \n",
      "  Matrix variables       : 0               \n",
      "  Integer variables      : 0               \n",
      "\n",
      "Optimizer  - threads                : 2               \n",
      "Optimizer  - solved problem         : the dual        \n",
      "Optimizer  - Constraints            : 15300\n",
      "Optimizer  - Cones                  : 1\n",
      "Optimizer  - Scalar variables       : 30602             conic                  : 1277            \n",
      "Optimizer  - Semi-definite variables: 0                 scalarized             : 0               \n",
      "Factor     - setup time             : 0.17              dense det. time        : 0.00            \n",
      "Factor     - ML order time          : 0.02              GP order time          : 0.00            \n",
      "Factor     - nonzeros before factor : 3.19e+04          after factor           : 3.19e+04        \n",
      "Factor     - dense dim.             : 2                 flops                  : 2.36e+05        \n",
      "ITE PFEAS    DFEAS    GFEAS    PRSTATUS   POBJ              DOBJ              MU       TIME  \n",
      "0   2.0e+00  1.7e+00  1.4e+00  0.00e+00   1.348600000e+03   1.347185786e+03   1.0e+00  0.56  \n",
      "1   1.8e+00  1.6e+00  1.3e+00  1.19e+00   1.526302310e+03   1.524937778e+03   9.2e-01  0.59  \n",
      "2   1.1e+00  9.1e-01  1.3e+00  1.25e+00   2.206455905e+03   2.205411869e+03   5.3e-01  0.63  \n",
      "3   8.0e-01  6.9e-01  1.2e+00  1.62e+00   1.980618702e+03   1.979901675e+03   4.0e-01  0.67  \n",
      "4   7.5e-01  6.4e-01  1.2e+00  1.62e+00   1.858968975e+03   1.858317290e+03   3.8e-01  0.70  \n",
      "5   4.3e-01  3.7e-01  1.1e+00  1.67e+00   1.523970725e+03   1.523651798e+03   2.2e-01  0.75  \n",
      "6   3.0e-01  2.5e-01  1.0e+00  1.59e+00   1.210426812e+03   1.210232110e+03   1.5e-01  0.80  \n",
      "7   1.7e-01  1.4e-01  8.2e-01  1.53e+00   1.008135876e+03   1.008040760e+03   8.4e-02  0.83  \n",
      "8   6.0e-02  5.1e-02  5.3e-01  1.31e+00   7.004627370e+02   7.004302800e+02   3.0e-02  0.86  \n",
      "9   1.4e-02  1.2e-02  2.6e-01  1.16e+00   5.930141019e+02   5.930071815e+02   6.9e-03  0.89  \n",
      "10  2.6e-03  2.2e-03  1.1e-01  1.02e+00   5.607871251e+02   5.607857750e+02   1.3e-03  0.92  \n",
      "11  3.9e-05  3.3e-05  1.5e-02  1.02e+00   5.535436695e+02   5.535436485e+02   2.0e-05  0.97  \n",
      "12  4.0e-06  2.0e-06  3.6e-03  1.00e+00   5.534458818e+02   5.534458806e+02   1.2e-06  1.00  \n",
      "13  2.3e-05  7.5e-08  7.0e-04  1.00e+00   5.534402130e+02   5.534402129e+02   4.4e-08  1.05  \n",
      "Optimizer terminated. Time: 1.09    \n",
      "\n",
      "\n",
      "Interior-point solution summary\n",
      "  Problem status  : PRIMAL_AND_DUAL_FEASIBLE\n",
      "  Solution status : OPTIMAL\n",
      "  Primal.  obj: 5.5344021295e+02    nrm: 2e+03    Viol.  con: 1e-08    var: 0e+00  \n",
      "  Dual.    obj: 5.5344858213e+02    nrm: 1e+00    Viol.  con: 1e-07    var: 3e-05  \n",
      "elapsed time: 4.654798855 seconds\n"
     ]
    },
    {
     "data": {
      "text/plain": [
       "4.654798855"
      ]
     },
     "execution_count": 11,
     "metadata": {},
     "output_type": "execute_result"
    }
   ],
   "source": [
    "#28 s\n",
    "tic()\n",
    "resultado1l2=learnl2Graph((1/10)*ones(10),0.005,grafo250obs3,50)\n",
    "toc()"
   ]
  },
  {
   "cell_type": "code",
   "execution_count": 15,
   "metadata": {
    "collapsed": false
   },
   "outputs": [
    {
     "data": {
      "text/plain": [
       "11×11 Array{Float64,2}:\n",
       " 0.0  0.5  1.0  1.0  1.0  1.0  0.5  0.0  0.0  0.0  0.0\n",
       " 0.5  0.0  0.5  1.0  1.0  1.0  0.0  0.0  0.0  0.0  0.0\n",
       " 1.0  0.5  0.0  1.0  1.0  1.0  0.0  0.0  0.0  0.0  0.0\n",
       " 1.0  1.0  1.0  0.0  1.0  1.0  0.0  0.0  0.5  0.0  0.0\n",
       " 1.0  1.0  1.0  1.0  0.0  1.0  0.0  0.0  0.0  0.0  0.0\n",
       " 1.0  1.0  1.0  1.0  1.0  0.0  0.0  0.0  0.0  0.0  0.0\n",
       " 0.5  0.0  0.0  0.0  0.0  0.0  0.0  1.0  1.0  1.0  1.0\n",
       " 0.0  0.0  0.0  0.0  0.0  0.0  1.0  0.0  1.0  1.0  0.5\n",
       " 0.0  0.0  0.0  0.5  0.0  0.0  1.0  1.0  0.0  1.0  1.0\n",
       " 0.0  0.0  0.0  0.0  0.0  0.0  1.0  1.0  1.0  0.0  1.0\n",
       " 0.0  0.0  0.0  0.0  0.0  0.0  1.0  0.5  1.0  1.0  0.0"
      ]
     },
     "execution_count": 15,
     "metadata": {},
     "output_type": "execute_result"
    }
   ],
   "source": [
    "round.(resultado1l2[1][20:30,20:30],2)"
   ]
  },
  {
   "cell_type": "code",
   "execution_count": null,
   "metadata": {
    "collapsed": true
   },
   "outputs": [],
   "source": []
  }
 ],
 "metadata": {
  "kernelspec": {
   "display_name": "Julia 0.6.0",
   "language": "julia",
   "name": "julia-0.6"
  },
  "language_info": {
   "file_extension": ".jl",
   "mimetype": "application/julia",
   "name": "julia",
   "version": "0.6.0"
  }
 },
 "nbformat": 4,
 "nbformat_minor": 0
}
