{
 "cells": [
  {
   "cell_type": "code",
   "execution_count": 1,
   "metadata": {
    "collapsed": true
   },
   "outputs": [],
   "source": [
    "#Script para evaluar los diferentes programas de optimizacion.\n",
    "#Implementamos la distancia de wasserstein entre dos medidas empiricas."
   ]
  },
  {
   "cell_type": "code",
   "execution_count": 2,
   "metadata": {
    "collapsed": false
   },
   "outputs": [
    {
     "data": {
      "text/plain": [
       "learnl2Error (generic function with 1 method)"
      ]
     },
     "execution_count": 2,
     "metadata": {},
     "output_type": "execute_result"
    }
   ],
   "source": [
    "using NBInclude\n",
    "using PyPlot\n",
    "nbinclude(\"LinearGraphLearning.ipynb\")\n",
    "nbinclude(\"AuxFunctions.ipynb\")\n",
    "nbinclude(\"GraphLearning.ipynb\")\n"
   ]
  },
  {
   "cell_type": "code",
   "execution_count": 3,
   "metadata": {
    "collapsed": false
   },
   "outputs": [
    {
     "data": {
      "text/plain": [
       "wassersteinDistance (generic function with 1 method)"
      ]
     },
     "execution_count": 3,
     "metadata": {},
     "output_type": "execute_result"
    }
   ],
   "source": [
    "#Funcion para calcular la distancia de wasserstein entre dos medidas empiricas\n",
    "#@param observaciones1: observaciones que construyen la primera medida usando los pesos en pesos1\n",
    "#@param pesos1 : pesos de las observaciones para construir la primera medida. Suma de pesos1 es 1\n",
    "#@param observaciones2: observaciones que construyen la segunda medida usando los pesos en pesos2\n",
    "#@param pesos2 : pesos de las observaciones para construir la segunda medida. Suma de pesos2 es 1 \n",
    "#nota: como esto se va a usar para comparar con el calculo en las funciones de learn graph, \n",
    "# es importante que pesos1 contenga los mismos pesos que los pasados a estas funciones.\n",
    "function wassersteinDistance(observaciones1,observaciones2,pesos1,pesos2,metrica)\n",
    "    #primero calculamos la matriz B con los costos de mover un punto \n",
    "    #a otro, i.e ||G_i-H_j||1 que usamos luego para calcular la distancia\n",
    "    i = length(observaciones1)\n",
    "    j = length(observaciones2)    \n",
    "    B = zeros(i,j)\n",
    "    \n",
    "    if metrica ==\"espectral\"\n",
    "        [B[l,k]=norm(observaciones1[l]-observaciones2[k],2) for l in 1:i for k in 1:j]\n",
    "    elseif metrica ==\"l2\"\n",
    "        [B[l,k]=vecnorm(observaciones1[l]-observaciones2[k],2) for l in 1:i for k in 1:j]\n",
    "    else\n",
    "        [B[l,k]=vecnorm(observaciones1[l]-observaciones2[k],1) for l in 1:i for k in 1:j]\n",
    "    end\n",
    "    \n",
    "    m = Model(solver=MosekSolver())\n",
    "    # w es una matriz que va a tener los pesos de transporte.\n",
    "    @variable(m,w[1:i,1:j]>=0)\n",
    "        \n",
    "    for l in 1:i\n",
    "        @constraint(m,w[l,1:j]'*ones(j)==pesos1[l])\n",
    "    end\n",
    "    for k in 1:j\n",
    "        @constraint(m,w[1:i,k]'*ones(i)==pesos2[k])\n",
    "    end       \n",
    "    @objective(m,Min,sum(B.*w))\n",
    "    status = solve(m)\n",
    "    return([getobjectivevalue(m),getvalue(w),B])\n",
    "end\n"
   ]
  },
  {
   "cell_type": "code",
   "execution_count": 4,
   "metadata": {
    "collapsed": false
   },
   "outputs": [
    {
     "data": {
      "text/plain": [
       "betas (generic function with 1 method)"
      ]
     },
     "execution_count": 4,
     "metadata": {},
     "output_type": "execute_result"
    }
   ],
   "source": [
    "#funcion para calcular beta. La funcion beta utiliza una medida mu_H empirica que permite calcular explicitamente\n",
    "#E||A-H||_1 y por lo tanto cuando H esta en la bola de Wasserstein, esto nos da una cota inferior del riesgo de A.\n",
    "#@param observacionesH: observaciones que definen la medida mu_H. NO SON las observaciones sobre las \n",
    "# que se centra la bola de Wasserstein.\n",
    "function betas(A,observacionesH)\n",
    "    m = length(observacionesH)\n",
    "    contador = 0\n",
    "    for i in 1:m\n",
    "        contador+=vecnorm(A-observacionesH[i],1)\n",
    "        end\n",
    "        return((1/m)*contador)\n",
    "end        "
   ]
  },
  {
   "cell_type": "markdown",
   "metadata": {},
   "source": [
    "<h2>Ahora que ya sabemos calcular la metrica de wasserstein, hagamos pruebas<h2>"
   ]
  },
  {
   "cell_type": "code",
   "execution_count": 25,
   "metadata": {
    "collapsed": false
   },
   "outputs": [
    {
     "data": {
      "text/plain": [
       "evaluarCotaRecuperada (generic function with 1 method)"
      ]
     },
     "execution_count": 25,
     "metadata": {},
     "output_type": "execute_result"
    }
   ],
   "source": [
    "#todas las simulaciones se haran con matrices 30*30\n",
    "# todas se haran con entre 1 y 10 observaciones.\n",
    "#La funcion observar obtiene matrices al azar G sobre las que se centra la bola, y matrices al azar \n",
    "# H con las que se evaluar la funcion betas. \n",
    "# LA funcion recupera la matriz A, que luego se redondea y se compara con la cota inferior. A diferencia de la \n",
    "#funcion evaluarCota, el margen de error deberia ser mucho mas chiquito ya que estamos buscando la A que minimiza este error.\n",
    "function evaluarCotaRecuperada(metrica)\n",
    "    observacionesBola = rand(1:10,1)[1]\n",
    "    pesos1 = (1/observacionesBola)*ones(observacionesBola)\n",
    "    observacionesOtraMedida = rand(1:10,1)[1]\n",
    "    pesos2 = (1/observacionesOtraMedida)*ones(observacionesOtraMedida)\n",
    "    p= rand()\n",
    "    q= rand()\n",
    "    G=Array{Any}(observacionesBola) \n",
    "    [G[r]=erdosgraph([p,p],q,[15,15],30) for r in 1:observacionesBola]\n",
    "    H=Array{Any}(observacionesOtraMedida)     \n",
    "    for r in 1:observacionesOtraMedida\n",
    "        a = rand(30,30)\n",
    "        H[r]=(a+a')*0.5\n",
    "    end\n",
    "    if metrica==\"l2\"\n",
    "        distW = wassersteinDistance(G,H,pesos1,pesos2,\"l2\")\n",
    "        recupera = learnl2Graph(pesos1,distW[1]+0.001,G,30)\n",
    "        redondeada = round.(recupera[1])\n",
    "        riesgo = learnl2Error(pesos1,distW[1]+0.001,redondeada,G,30)[4]\n",
    "        cotainf = betas(redondeada,H)\n",
    "    elseif metrica==\"espectral\"\n",
    "        distW = wassersteinDistance(G,H,pesos1,pesos2,\"espectral\")\n",
    "        recupera = learnEspectralGraph(pesos1,distW[1]+0.001,G,30)\n",
    "        redondeada = round.(recupera[1])\n",
    "        riesgo =  learnSpectralError(pesos1,distW[1]+0.001,redondeada,G,30)[4]\n",
    "        cotainf = betas(redondeada,H)\n",
    "    else\n",
    "        distW = wassersteinDistance(G,H,pesos1,pesos2,\"lineal\")\n",
    "        recupera = learnLinearGraph(pesos1,distW[1]+0.001,G,30)\n",
    "        redondeada = round.(recupera[1])\n",
    "        riesgo = learnLinearError(pesos1,distW[1]+0.001,redondeada,G,30)[4]\n",
    "        cotainf = betas(redondeada,H)\n",
    "    end\n",
    "    return(riesgo-cotainf)\n",
    "end"
   ]
  },
  {
   "cell_type": "code",
   "execution_count": 6,
   "metadata": {
    "collapsed": false
   },
   "outputs": [
    {
     "data": {
      "text/plain": [
       "evaluarCota (generic function with 1 method)"
      ]
     },
     "execution_count": 6,
     "metadata": {},
     "output_type": "execute_result"
    }
   ],
   "source": [
    "#todas las simulaciones se haran con matrices 30*30\n",
    "# todas se haran con entre 1 y 10 observaciones \n",
    "#Funcion que toma una matriz al azar A y luego compara el riesgo de A con la cota obtenida por la funcion betas.\n",
    "\n",
    "function evaluarCota(metrica)\n",
    "    a=rand(30,30)    \n",
    "    a= (a+a')/2\n",
    "    A= round.(a)\n",
    "    observacionesBola = rand(1:10,1)[1]\n",
    "    pesos1 = (1/observacionesBola)*ones(observacionesBola)\n",
    "    observacionesOtraMedida = rand(1:10,1)[1]\n",
    "    pesos2 = (1/observacionesOtraMedida)*ones(observacionesOtraMedida)\n",
    "    p= rand()\n",
    "    q= rand()\n",
    "    G=Array{Any}(observacionesBola) \n",
    "    [G[r]=erdosgraph([p,p],q,[15,15],30) for r in 1:observacionesBola]\n",
    "    H=Array{Any}(observacionesOtraMedida)     \n",
    "    for r in 1:observacionesOtraMedida\n",
    "        u = rand(30,30)\n",
    "        H[r]=(u+u')*0.5\n",
    "    end\n",
    "    if metrica==\"l2\"\n",
    "        distW = wassersteinDistance(G,H,pesos1,pesos2,\"l2\")\n",
    "        recupera = learnl2Error(pesos1,distW[1]+0.001,A,G,30)\n",
    "    elseif metrica==\"espectral\"\n",
    "        distW = wassersteinDistance(G,H,pesos1,pesos2,\"espectral\")\n",
    "        recupera = learnSpectralError(pesos1,distW[1]+0.001,A,G,30)\n",
    "    else\n",
    "        distW = wassersteinDistance(G,H,pesos1,pesos2,\"lineal\")\n",
    "        recupera = learnLinearError(pesos1,distW[1]+0.001,A,G,30)\n",
    "    end\n",
    "    riesgo = recupera[4]\n",
    "    cotainf = betas(A,H)\n",
    "    return(riesgo-cotainf)\n",
    "end"
   ]
  },
  {
   "cell_type": "code",
   "execution_count": 7,
   "metadata": {
    "collapsed": true
   },
   "outputs": [],
   "source": [
    "#hacer test para cuando delta tienda a 0 y ver lim cuando delta tiende a 0 R(A) deberia ser igual a \\\n",
    "#esperanza de A-B con B distribuido segun la empirica."
   ]
  },
  {
   "cell_type": "markdown",
   "metadata": {},
   "source": [
    "<h2>Pruebas: A tomada al azar<h2>"
   ]
  },
  {
   "cell_type": "code",
   "execution_count": null,
   "metadata": {
    "collapsed": true
   },
   "outputs": [],
   "source": [
    "srand(5467)"
   ]
  },
  {
   "cell_type": "code",
   "execution_count": null,
   "metadata": {
    "collapsed": true
   },
   "outputs": [],
   "source": [
    "PruebaCotasAzarl2=Array{Any}(5000)     \n",
    "for o in 1:5000\n",
    "PruebaCotasAzarl2[o]=evaluarCota(\"l2\")\n",
    "end"
   ]
  },
  {
   "cell_type": "code",
   "execution_count": null,
   "metadata": {
    "collapsed": true
   },
   "outputs": [],
   "source": [
    "PruebaCotasAzarEspectral=Array{Any}(5000)     \n",
    "for o in 1:5000\n",
    "PruebaCotasAzarEspectral[o]=evaluarCota(\"espectral\")\n",
    "end"
   ]
  },
  {
   "cell_type": "code",
   "execution_count": null,
   "metadata": {
    "collapsed": true
   },
   "outputs": [],
   "source": [
    "PruebaCotasAzarl1=Array{Any}(5000)     \n",
    "for o in 1:5000\n",
    "PruebaCotasAzarl1[o]=evaluarCota(\"lineal\")\n",
    "end"
   ]
  },
  {
   "cell_type": "code",
   "execution_count": 12,
   "metadata": {
    "collapsed": false
   },
   "outputs": [
    {
     "data": {
      "text/plain": [
       "369.5701002833749"
      ]
     },
     "execution_count": 12,
     "metadata": {},
     "output_type": "execute_result"
    }
   ],
   "source": [
    "minimum(PruebaCotasAzarl1)"
   ]
  },
  {
   "cell_type": "code",
   "execution_count": 13,
   "metadata": {
    "collapsed": false
   },
   "outputs": [
    {
     "data": {
      "text/plain": [
       "368.1849009490138"
      ]
     },
     "execution_count": 13,
     "metadata": {},
     "output_type": "execute_result"
    }
   ],
   "source": [
    "minimum(PruebaCotasAzarEspectral)"
   ]
  },
  {
   "cell_type": "code",
   "execution_count": 14,
   "metadata": {
    "collapsed": false
   },
   "outputs": [
    {
     "data": {
      "text/plain": [
       "420.25841640456576"
      ]
     },
     "execution_count": 14,
     "metadata": {},
     "output_type": "execute_result"
    }
   ],
   "source": [
    "minimum(PruebaCotasAzarl2)"
   ]
  },
  {
   "cell_type": "markdown",
   "metadata": {},
   "source": [
    "<h2>Pruebas: A recuperada <h2>"
   ]
  },
  {
   "cell_type": "code",
   "execution_count": null,
   "metadata": {
    "collapsed": true
   },
   "outputs": [],
   "source": [
    "PruebaCotasRecuperadal2=Array{Any}(1000)     \n",
    "for o in 1:1000\n",
    "PruebaCotasRecuperadal2[o]=evaluarCotaRecuperada(\"l2\")\n",
    "end"
   ]
  },
  {
   "cell_type": "code",
   "execution_count": null,
   "metadata": {
    "collapsed": true
   },
   "outputs": [],
   "source": [
    "PruebaCotasRecuperadaEspectral=Array{Any}(500)     \n",
    "for o in 1:500\n",
    "    PruebaCotasRecuperadaEspectral[o]=evaluarCotaRecuperada(\"espectral\")\n",
    "end"
   ]
  },
  {
   "cell_type": "code",
   "execution_count": null,
   "metadata": {
    "collapsed": true
   },
   "outputs": [],
   "source": [
    "PruebaCotasRecuperadal1=Array{Any}(1000)     \n",
    "for o in 1:1000\n",
    "    PruebaCotasRecuperadal1[o]=evaluarCotaRecuperada(\"lineal\")\n",
    "end"
   ]
  },
  {
   "cell_type": "code",
   "execution_count": 29,
   "metadata": {
    "collapsed": false
   },
   "outputs": [
    {
     "data": {
      "text/plain": [
       "413.84647647142526"
      ]
     },
     "execution_count": 29,
     "metadata": {},
     "output_type": "execute_result"
    }
   ],
   "source": [
    "minimum(PruebaCotasRecuperadal2)"
   ]
  },
  {
   "cell_type": "code",
   "execution_count": 30,
   "metadata": {
    "collapsed": false
   },
   "outputs": [
    {
     "data": {
      "text/plain": [
       "2.473273117902238"
      ]
     },
     "execution_count": 30,
     "metadata": {},
     "output_type": "execute_result"
    }
   ],
   "source": [
    "minimum(PruebaCotasRecuperadaEspectral)"
   ]
  },
  {
   "cell_type": "code",
   "execution_count": 31,
   "metadata": {
    "collapsed": false
   },
   "outputs": [
    {
     "data": {
      "text/plain": [
       "0.000998170186619518"
      ]
     },
     "execution_count": 31,
     "metadata": {},
     "output_type": "execute_result"
    }
   ],
   "source": [
    "minimum(PruebaCotasRecuperadal1)"
   ]
  },
  {
   "cell_type": "markdown",
   "metadata": {},
   "source": [
    "<h2>Pruebas de convergencia cuando delta tienda a 0<h2>"
   ]
  },
  {
   "cell_type": "code",
   "execution_count": 85,
   "metadata": {
    "collapsed": false
   },
   "outputs": [
    {
     "data": {
      "text/plain": [
       "evaluarConvergenciaRiesgo (generic function with 1 method)"
      ]
     },
     "execution_count": 85,
     "metadata": {},
     "output_type": "execute_result"
    }
   ],
   "source": [
    "function evaluarConvergenciaRiesgo(numeroObservaciones,metrica)\n",
    "    a=rand(30,30)    \n",
    "    a= (a+a')/2\n",
    "    A= round.(a)\n",
    "    G=Array{Any}(numeroObservaciones)\n",
    "    pesos1 = (1/numeroObservaciones)*ones(numeroObservaciones)\n",
    "    [G[r]=erdosgraph([0.7,0.7],0.2,[15,15],30) for r in 1:numeroObservaciones]\n",
    "    convergencia=betas(A,G)\n",
    "    valores=Array{Any}(1)\n",
    "    if metrica==\"l2\"\n",
    "        valores[1]= learnl2Error(pesos1,0.10005,A,G,30)[4]-convergencia\n",
    "        for u in 0.1:-0.0005:0\n",
    "            recupera = learnl2Error(pesos1,u,A,G,30)  \n",
    "            push!(valores, recupera[4]-convergencia)\n",
    "        end\n",
    "    elseif metrica==\"espectral\"        \n",
    "        valores[1]= learnSpectralError(pesos1,0.10005,A,G,30)[4]-convergencia\n",
    "        for u in 0.1:-0.0005:0\n",
    "            recupera = learnSpectralError(pesos1,u,A,G,30)   \n",
    "            push!(valores, recupera[4]-convergencia)\n",
    "        end\n",
    "    else\n",
    "        valores[1]= learnLinearError(pesos1,0.10005,A,G,30)[4]-convergencia\n",
    "        for u in 0.1:-0.0005:0\n",
    "            recupera = learnLinearError(pesos1,u,A,G,30)   \n",
    "            push!(valores, recupera[4]-convergencia)        \n",
    "        end\n",
    "    end\n",
    "    return(valores) \n",
    "end\n",
    "    "
   ]
  },
  {
   "cell_type": "code",
   "execution_count": 107,
   "metadata": {
    "collapsed": false
   },
   "outputs": [
    {
     "data": {
      "text/plain": [
       "evaluarCambioA (generic function with 1 method)"
      ]
     },
     "execution_count": 107,
     "metadata": {},
     "output_type": "execute_result"
    }
   ],
   "source": [
    "function evaluarCambioA(numObs,metrica)\n",
    "    G=Array{Any}(numObs)\n",
    "    pesos1 = (1/numObs)*ones(numObs)\n",
    "    [G[r]=erdosgraph([0.75,0.75],0.2,[15,15],30) for r in 1:numObs]\n",
    "    valores=Array{Any}(1)\n",
    "        \n",
    "    if metrica==\"l2\"\n",
    "        valores[1] = vecnorm(learnl2Graph(pesos1,5.05,G,30)[1],1)\n",
    "        for u in 5:-0.05:0\n",
    "            recupera = vecnorm(learnl2Graph(pesos1,u,G,30)[1],1)\n",
    "        push!(valores, recupera)\n",
    "        end\n",
    "    elseif metrica==\"espectral\"\n",
    "        valores[1] = vecnorm(learnEspectralGraph(pesos1,5.05,G,30)[1],1)\n",
    "        for u in 5:-0.05:0\n",
    "            recupera = vecnorm(learnEspectralGraph(pesos1,u,G,30)[1],1)\n",
    "        push!(valores, recupera)\n",
    "        end\n",
    "    else\n",
    "        valores[1] = vecnorm(learnLinearGraph(pesos1,5.05,G,30)[1],1)\n",
    "        for u in 5:-0.05:0\n",
    "            recupera = vecnorm(learnLinearGraph(pesos1,u,G,30)[1],1)\n",
    "        push!(valores, recupera)\n",
    "        end\n",
    "    end\n",
    "    return(valores)\n",
    "end"
   ]
  },
  {
   "cell_type": "code",
   "execution_count": null,
   "metadata": {
    "collapsed": true
   },
   "outputs": [],
   "source": [
    "convergencial2=evaluarConvergenciaRiesgo(7,\"l2\")"
   ]
  },
  {
   "cell_type": "code",
   "execution_count": 88,
   "metadata": {
    "collapsed": false
   },
   "outputs": [
    {
     "data": {
      "image/png": "[encoded data removed]",
      "text/plain": [
       "PyPlot.Figure(PyObject <matplotlib.figure.Figure object at 0x0000000058AFD898>)"
      ]
     },
     "metadata": {},
     "output_type": "display_data"
    },
    {
     "data": {
      "text/plain": [
       "1.4853299035166856e-8"
      ]
     },
     "execution_count": 88,
     "metadata": {},
     "output_type": "execute_result"
    }
   ],
   "source": [
    "plot(convergencial2)\n",
    "grid(\"on\")\n",
    "convergencial2[202]"
   ]
  },
  {
   "cell_type": "code",
   "execution_count": null,
   "metadata": {
    "collapsed": true
   },
   "outputs": [],
   "source": [
    "convergenciaEspectral=evaluarConvergenciaRiesgo(7,\"espectral\")"
   ]
  },
  {
   "cell_type": "code",
   "execution_count": 90,
   "metadata": {
    "collapsed": false
   },
   "outputs": [
    {
     "data": {
      "image/png": "[encoded data removed]",
      "text/plain": [
       "PyPlot.Figure(PyObject <matplotlib.figure.Figure object at 0x0000000058AEF2B0>)"
      ]
     },
     "metadata": {},
     "output_type": "display_data"
    },
    {
     "data": {
      "text/plain": [
       "4.831690603168681e-12"
      ]
     },
     "execution_count": 90,
     "metadata": {},
     "output_type": "execute_result"
    }
   ],
   "source": [
    "plot(convergenciaEspectral)\n",
    "grid(\"on\")\n",
    "convergenciaEspectral[202]"
   ]
  },
  {
   "cell_type": "code",
   "execution_count": null,
   "metadata": {
    "collapsed": true
   },
   "outputs": [],
   "source": [
    "convergencialineal=evaluarConvergenciaRiesgo(7,\"lineal\")"
   ]
  },
  {
   "cell_type": "code",
   "execution_count": 92,
   "metadata": {
    "collapsed": false
   },
   "outputs": [
    {
     "data": {
      "image/png": "[encoded data removed]",
      "text/plain": [
       "PyPlot.Figure(PyObject <matplotlib.figure.Figure object at 0x000000002170AFD0>)"
      ]
     },
     "metadata": {},
     "output_type": "display_data"
    },
    {
     "data": {
      "text/plain": [
       "-7.958078640513122e-13"
      ]
     },
     "execution_count": 92,
     "metadata": {},
     "output_type": "execute_result"
    }
   ],
   "source": [
    "plot(convergencialineal)\n",
    "grid(\"on\")\n",
    "convergencialineal[202]"
   ]
  },
  {
   "cell_type": "code",
   "execution_count": null,
   "metadata": {
    "collapsed": true
   },
   "outputs": [],
   "source": [
    "cambioAl2=evaluarCambioA(10,\"l2\")"
   ]
  },
  {
   "cell_type": "code",
   "execution_count": 111,
   "metadata": {
    "collapsed": false
   },
   "outputs": [
    {
     "data": {
      "image/png": "[encoded data removed]",
      "text/plain": [
       "PyPlot.Figure(PyObject <matplotlib.figure.Figure object at 0x00000000502C2470>)"
      ]
     },
     "metadata": {},
     "output_type": "display_data"
    }
   ],
   "source": [
    "plot(cambioAl2)\n",
    "grid(\"on\")"
   ]
  },
  {
   "cell_type": "code",
   "execution_count": null,
   "metadata": {
    "collapsed": true
   },
   "outputs": [],
   "source": [
    "cambioAespectral=evaluarCambioA(10,\"espectral\")"
   ]
  },
  {
   "cell_type": "code",
   "execution_count": 112,
   "metadata": {
    "collapsed": false
   },
   "outputs": [
    {
     "data": {
      "image/png": "[encoded data removed]",
      "text/plain": [
       "PyPlot.Figure(PyObject <matplotlib.figure.Figure object at 0x0000000058D385C0>)"
      ]
     },
     "metadata": {},
     "output_type": "display_data"
    }
   ],
   "source": [
    "plot(cambioAespectral)\n",
    "grid(\"on\")"
   ]
  },
  {
   "cell_type": "code",
   "execution_count": null,
   "metadata": {
    "collapsed": true
   },
   "outputs": [],
   "source": [
    "cambiolineal=evaluarCambioA(10,\"lineal\")"
   ]
  },
  {
   "cell_type": "code",
   "execution_count": 114,
   "metadata": {
    "collapsed": false
   },
   "outputs": [
    {
     "data": {
      "image/png": "[encoded data removed]",
      "text/plain": [
       "PyPlot.Figure(PyObject <matplotlib.figure.Figure object at 0x000000005070F358>)"
      ]
     },
     "metadata": {},
     "output_type": "display_data"
    }
   ],
   "source": [
    "plot(cambiolineal)\n",
    "grid(\"on\")"
   ]
  },
  {
   "cell_type": "code",
   "execution_count": null,
   "metadata": {
    "collapsed": true
   },
   "outputs": [],
   "source": []
  }
 ],
 "metadata": {
  "kernelspec": {
   "display_name": "Julia 0.6.0",
   "language": "julia",
   "name": "julia-0.6"
  },
  "language_info": {
   "file_extension": ".jl",
   "mimetype": "application/julia",
   "name": "julia",
   "version": "0.6.0"
  }
 },
 "nbformat": 4,
 "nbformat_minor": 0
}
