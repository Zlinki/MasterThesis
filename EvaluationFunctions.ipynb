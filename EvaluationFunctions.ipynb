{
 "cells": [
  {
   "cell_type": "code",
   "execution_count": null,
   "metadata": {
    "collapsed": true
   },
   "outputs": [],
   "source": [
    "#script that includes functions to evaluate the recovery of \n",
    "#the different recovery algorithms."
   ]
  },
  {
   "cell_type": "code",
   "execution_count": 1,
   "metadata": {
    "collapsed": true
   },
   "outputs": [],
   "source": [
    "using NBInclude\n",
    "@nbinclude(\"AuxFunctions.ipynb\")\n"
   ]
  },
  {
   "cell_type": "code",
   "execution_count": null,
   "metadata": {
    "collapsed": true
   },
   "outputs": [],
   "source": []
  },
  {
   "cell_type": "markdown",
   "metadata": {},
   "source": [
    "<h1>Functions to evaluate linear graph learning<h1>"
   ]
  },
  {
   "cell_type": "code",
   "execution_count": null,
   "metadata": {
    "collapsed": true
   },
   "outputs": [],
   "source": [
    "# evalua el modelo variando la probabilidad intra cluster y outra cluster. cada simulacion toma unos 3 minutos\n",
    "# y resuelve 2400 problemas de optimizacion aprox. Evaluar graph learning 3 no pone un 1 en las diagonales de las matrices.\n",
    "function evaluarLinearGraphLearning3(delta,observaciones)\n",
    "    real = erdosgraph([1,1,1],0,[5,3,4],12)\n",
    "    lala=zeros(9,9)\n",
    "    indicet=1\n",
    "     for t in 1:-0.05:0.6\n",
    "        indicew=1\n",
    "        for w in 0:0.05:0.4\n",
    "            contador=0\n",
    "            for u in 1:50\n",
    "                B=Array{Any}(observaciones)\n",
    "                [B[r]=erdosgraph([t,1,1],w,[5,3,4],12) for r in 1:observaciones]\n",
    "                respuesta=learnLinearGraph(ones(observaciones)/observaciones,delta,B,12)\n",
    "                errorGrafo = distance1(real,respuesta[1])\n",
    "                contador=contador+errorGrafo\n",
    "            end\n",
    "       # println(contador/50)\n",
    "            lala[indicet,indicew]=contador/50\n",
    "        indicew=indicew+1\n",
    "        end\n",
    "    indicet=indicet+1\n",
    "    end\n",
    "    #println(lala)\n",
    "    return(lala)\n",
    "end"
   ]
  },
  {
   "cell_type": "code",
   "execution_count": null,
   "metadata": {
    "collapsed": true
   },
   "outputs": [],
   "source": [
    "#Evaluar graph learning 4 permite variar delta y encontrar errores promedio al ir moviendo el radio de la bola de la metrica\n",
    "#de Wasserstein.\n",
    "function evaluarLinearGraphLearning4(inProba,outProba,observaciones,intervalo=0.01:0.04:2.0)\n",
    "    real = erdosgraph([1,1,1],0,[8,17,25],50)\n",
    "    lala=Array{Any}(length(intervalo))\n",
    "    indicet=1\n",
    "    for t in intervalo\n",
    "            contador=0\n",
    "            for u in 1:5\n",
    "                B=Array{Any}(observaciones)\n",
    "            [B[r]=erdosgraph([inProba,inProba,inProba],outProba,[8,17,25],50) for r in 1:observaciones]\n",
    "            respuesta=learnLinearGraph(ones(observaciones)/observaciones,t,B,50)\n",
    "                errorGrafo = distance1(real,respuesta[1])\n",
    "                contador=contador+errorGrafo\n",
    "            end\n",
    "            lala[indicet]=contador/5\n",
    "            indicet=indicet+1\n",
    "    end\n",
    "    return([lala,intervalo])\n",
    "end"
   ]
  },
  {
   "cell_type": "code",
   "execution_count": null,
   "metadata": {
    "collapsed": true
   },
   "outputs": [],
   "source": [
    "#evaluarLinearGraphLearning6 es una funcion que mide el error de recuperaciones al variar el numero de observaciones.\n",
    "#el radio de la bola se varia a varios niveles. Se compara con el modelo de promedios.\n",
    "\n",
    "function evaluarLinearGraphLearning6(inProba,outProba,delta)\n",
    "    real = erdosgraph([1,1,1],0,[5,3,4],12)\n",
    "       lala= Array{Any}(30)\n",
    "    indicet=1\n",
    "    for t in 1:30\n",
    "            contador=0\n",
    "            for u in 1:25\n",
    "                B=Array{Any}(t)\n",
    "                [B[r]=erdosgraph([inProba,1,1],outProba,[5,3,4],12) for r in 1:t]\n",
    "            respuesta=learnLinearGraph(ones(t)/t,delta,B,12)\n",
    "                errorGrafo = distance1(real,respuesta[1])\n",
    "                contador=contador+errorGrafo\n",
    "            end\n",
    "            lala[indicet]=contador/25\n",
    "            indicet=indicet+1\n",
    "    end\n",
    "    return(lala)\n",
    "end"
   ]
  },
  {
   "cell_type": "code",
   "execution_count": null,
   "metadata": {
    "collapsed": true
   },
   "outputs": [],
   "source": [
    "function evaluarGraphLearninglineal6grande(inProba,outProba,delta,redondeado)\n",
    "    real = erdosgraph([1,1],0,[25,25],50)\n",
    "       lala= Array{Any}(30)\n",
    "    indicet=1\n",
    "    for t in 1:30\n",
    "            contador=0\n",
    "            for u in 1:5\n",
    "                B=Array{Any}(t)\n",
    "                [B[r]=erdosgraph([inProba,inProba],outProba,[25,25],50) for r in 1:t]\n",
    "            if(redondeado==true)\n",
    "                respuesta=round.(learnLinearGraph(ones(t)/t,delta,B,50)[1],0)\n",
    "            else\n",
    "                respuesta=learnLinearGraph(ones(t)/t,delta,B,50)[1]\n",
    "            end\n",
    "                errorGrafo = distance1(real,respuesta)\n",
    "                contador=contador+errorGrafo\n",
    "            end\n",
    "            lala[indicet]=contador/5\n",
    "            indicet=indicet+1\n",
    "    end\n",
    "    return(lala)\n",
    "end"
   ]
  },
  {
   "cell_type": "markdown",
   "metadata": {},
   "source": [
    "<h1>Functions to evaluate spectral graph learning<h1>"
   ]
  },
  {
   "cell_type": "code",
   "execution_count": null,
   "metadata": {
    "collapsed": true
   },
   "outputs": [],
   "source": [
    "#evaluarGraphLearning6 es una funcion que mide el error de recuperaciones al variar el numero de observaciones.\n",
    "#el radio de la bola se varia a varios niveles. Se compara con el modelo de promedios. No se ponen unos en la diagonas\n",
    "# al igual que en evaluar6 lineal.\n",
    "function evaluarGraphLearningEspectral6(inProba,outProba,delta,redondeado)\n",
    "    real = erdosgraph([1,1,1],0,[5,3,4],12)+diagm(ones(12))\n",
    "       lala= Array{Any}(27)\n",
    "    indicet=1\n",
    "    for t in 1:27\n",
    "            contador=0\n",
    "            for u in 1:7\n",
    "                B=Array{Any}(t)\n",
    "                [B[r]=erdosgraph([inProba,1,1],outProba,[5,3,4],12)+diagm(ones(12)) for r in 1:t]\n",
    "                respuesta=learnEspectralGraph(ones(t)/t,delta,B,12)[1]\n",
    "                errorGrafo = distance1(real,respuesta)\n",
    "                contador=contador+errorGrafo\n",
    "            end\n",
    "            lala[indicet]=contador/7\n",
    "            indicet=indicet+1\n",
    "    end\n",
    "    return(lala)\n",
    "end\n"
   ]
  },
  {
   "cell_type": "code",
   "execution_count": null,
   "metadata": {
    "collapsed": true
   },
   "outputs": [],
   "source": [
    "#Evaluar graph learning 4 permite variar delta y encontrar errores promedio al ir moviendo el radio de la bola de la metrica\n",
    "#de Wasserstein.\n",
    "function evaluarspectralGraphLearning4(inProba,outProba,observaciones,intervalo=0.01:0.1:5.0)\n",
    "    verdadera = erdosgraph([1,1,1],0,[8,17,25],50)+diagm(ones(50))\n",
    "    lala=Array{Any}(length(intervalo))\n",
    "    indicet=1\n",
    "    for t in intervalo\n",
    "            contador=0\n",
    "            for u in 1:5\n",
    "                B=Array{Any}(observaciones)\n",
    "            [B[r]=erdosgraph([inProba,inProba,inProba],outProba,[8,17,25],50)+diagm(ones(50)) for r in 1:observaciones]\n",
    "            respuesta=learnEspectralGraph(ones(observaciones)/observaciones,t,B,50)\n",
    "                errorGrafo = distance1(verdadera,respuesta[1])\n",
    "                contador=contador+errorGrafo\n",
    "            end\n",
    "            lala[indicet]=contador/5\n",
    "            indicet=indicet+1\n",
    "    end\n",
    "    return([lala,intervalo])\n",
    "end"
   ]
  },
  {
   "cell_type": "code",
   "execution_count": null,
   "metadata": {
    "collapsed": true
   },
   "outputs": [],
   "source": [
    "# evalua el modelo variando la probabilidad intra cluster y outra cluster. cada simulacion toma unos 3 minutos\n",
    "# y resuelve 2400 problemas de optimizacion aprox. Evaluar graph learning 3 no pone un 1 en las diagonales de las matrices.\n",
    "function evaluarspectralGraphLearning3(delta,observaciones)\n",
    "    verdadera = erdosgraph([1,1],0,[15,25],40)+diagm(ones(40))\n",
    "    lala=zeros(11,11)\n",
    "    indicet=1\n",
    "     for t in 1:-0.05:0.5\n",
    "        indicew=1\n",
    "        for w in 0:0.05:0.5\n",
    "            contador=0\n",
    "            for u in 1:5\n",
    "                B=Array{Any}(observaciones)\n",
    "                [B[r]=erdosgraph([t,t],w,[15,25],40)+diagm(ones(40)) for r in 1:observaciones]\n",
    "                 respuesta=learnEspectralGraph(ones(observaciones)/observaciones,delta,B,40)\n",
    "                errorGrafo = distance1(real,respuesta[1])\n",
    "                contador=contador+errorGrafo\n",
    "            end\n",
    "       # println(contador/50)\n",
    "            lala[12-indicet,indicew]=contador/5\n",
    "        indicew=indicew+1\n",
    "        end\n",
    "    indicet=indicet+1\n",
    "    end\n",
    "    #println(lala)\n",
    "    return(lala)\n",
    "end"
   ]
  },
  {
   "cell_type": "markdown",
   "metadata": {},
   "source": [
    "<h1>Functions to evaluate graph learning with the l2 metric<h1>"
   ]
  },
  {
   "cell_type": "code",
   "execution_count": null,
   "metadata": {
    "collapsed": true
   },
   "outputs": [],
   "source": [
    "function evaluarGraphLearningl26(inProba,outProba,delta)\n",
    "    real = erdosgraph([1,1,1],0,[5,3,4],12)+diagm(ones(12))\n",
    "       lala= Array{Any}(30)\n",
    "    indicet=1\n",
    "    for t in 1:30\n",
    "            contador=0\n",
    "            for u in 1:25\n",
    "                B=Array{Any}(t)\n",
    "                [B[r]=erdosgraph([inProba,1,1],outProba,[5,3,4],12)+diagm(ones(12)) for r in 1:t]\n",
    "                respuesta=learnl2Graph(ones(t)/t,delta,B,12)\n",
    "                errorGrafo = distance1(real,respuesta[1])\n",
    "                contador=contador+errorGrafo\n",
    "            end\n",
    "            lala[indicet]=contador/25\n",
    "            indicet=indicet+1\n",
    "    end\n",
    "    return(lala)\n",
    "end"
   ]
  },
  {
   "cell_type": "code",
   "execution_count": null,
   "metadata": {
    "collapsed": true
   },
   "outputs": [],
   "source": [
    "function evaluarGraphLearningl262(inProba,outProba,delta,redondeado)\n",
    "    real = erdosgraph([1,1,1],0,[5,3,4],12)\n",
    "       lala= Array{Any}(40)\n",
    "    indicet=1\n",
    "    for t in 1:40\n",
    "            contador=0\n",
    "            for u in 1:25\n",
    "                B=Array{Any}(t)\n",
    "                [B[r]=erdosgraph([inProba,1,1],outProba,[5,3,4],12) for r in 1:t]\n",
    "            if(redondeado==true)\n",
    "                respuesta=round.(learnl2Graph(ones(t)/t,delta,B,12)[1],0)\n",
    "            else\n",
    "                respuesta=learnl2Graph(ones(t)/t,delta,B,12)[1]\n",
    "            end\n",
    "                errorGrafo = distance1(real,respuesta)\n",
    "                contador=contador+errorGrafo\n",
    "            end\n",
    "            lala[indicet]=contador/25\n",
    "            indicet=indicet+1\n",
    "    end\n",
    "    return(lala)\n",
    "end"
   ]
  },
  {
   "cell_type": "code",
   "execution_count": null,
   "metadata": {
    "collapsed": true
   },
   "outputs": [],
   "source": [
    "# evalua el modelo variando la probabilidad intra cluster y outra cluster. cada simulacion toma unos 3 minutos\n",
    "# y resuelve 2400 problemas de optimizacion aprox. Evaluar graph learning 3 no pone un 1 en las diagonales de las matrices.\n",
    "function evaluarl2GraphLearning3(delta,observaciones)\n",
    "    real = erdosgraph([1,1],0,[10,10],20)\n",
    "    lala=zeros(9,9)\n",
    "    indicet=1\n",
    "     for t in 1:-0.05:0.6\n",
    "        indicew=1\n",
    "        for w in 0:0.05:0.4\n",
    "            contador=0\n",
    "            for u in 1:50\n",
    "                B=Array{Any}(observaciones)\n",
    "                [B[r]=erdosgraph([t,t],w,[10,10],20) for r in 1:observaciones]\n",
    "                respuesta=learnl2Graph(ones(observaciones)/observaciones,delta,B,20)\n",
    "                errorGrafo = distance1(real,respuesta[1])\n",
    "                contador=contador+errorGrafo\n",
    "            end\n",
    "       # println(contador/50)\n",
    "            lala[indicet,indicew]=contador/50\n",
    "        indicew=indicew+1\n",
    "        end\n",
    "    indicet=indicet+1\n",
    "    end\n",
    "    #println(lala)\n",
    "    return(lala)\n",
    "end"
   ]
  },
  {
   "cell_type": "code",
   "execution_count": null,
   "metadata": {
    "collapsed": true
   },
   "outputs": [],
   "source": [
    "function evaluarGraphLearningl26grande(inProba,outProba,delta,redondeado)\n",
    "    real = erdosgraph([1,1],0,[25,25],50)\n",
    "       lala= Array{Any}(30)\n",
    "    indicet=1\n",
    "    for t in 1:30\n",
    "            contador=0\n",
    "            for u in 1:5\n",
    "                B=Array{Any}(t)\n",
    "                [B[r]=erdosgraph([inProba,inProba],outProba,[25,25],50) for r in 1:t]\n",
    "            if(redondeado==true)\n",
    "                respuesta=round.(learnl2Graph(ones(t)/t,delta,B,50)[1],0)\n",
    "            else\n",
    "                respuesta=learnl2Graph(ones(t)/t,delta,B,50)[1]\n",
    "            end\n",
    "                errorGrafo = distance1(real,respuesta)\n",
    "                contador=contador+errorGrafo\n",
    "            end\n",
    "            lala[indicet]=contador/5\n",
    "            indicet=indicet+1\n",
    "    end\n",
    "    return(lala)\n",
    "end"
   ]
  },
  {
   "cell_type": "code",
   "execution_count": null,
   "metadata": {
    "collapsed": true
   },
   "outputs": [],
   "source": [
    "#Evaluar graph learning 4 permite variar delta y encontrar errores promedio al ir moviendo el radio de la bola de la metrica\n",
    "#de Wasserstein.\n",
    "function evaluarl2GraphLearning4(inProba,outProba,observaciones,intervalo=0.01:0.1:5.0)\n",
    "    verdadera = erdosgraph([1,1,1],0,[8,17,25],50)\n",
    "    lala=Array{Any}(length(intervalo))\n",
    "    indicet=1\n",
    "    for t in intervalo\n",
    "            contador=0\n",
    "            for u in 1:5\n",
    "                B=Array{Any}(observaciones)\n",
    "            [B[r]=erdosgraph([inProba,inProba,inProba],outProba,[8,17,25],50) for r in 1:observaciones]\n",
    "            respuesta=learnl2Graph(ones(observaciones)/observaciones,t,B,50)\n",
    "                errorGrafo = distance1(verdadera,respuesta[1])\n",
    "                contador=contador+errorGrafo\n",
    "            end\n",
    "            lala[indicet]=contador/5\n",
    "            indicet=indicet+1\n",
    "    end\n",
    "    return([lala,intervalo])\n",
    "end"
   ]
  },
  {
   "cell_type": "markdown",
   "metadata": {},
   "source": [
    "<h1>Functions to evaluate mean graph recovery<h1>"
   ]
  },
  {
   "cell_type": "code",
   "execution_count": null,
   "metadata": {
    "collapsed": true
   },
   "outputs": [],
   "source": [
    "#method for matrix recovery using the mean of the observations. \n",
    "#B the observations to recover the graph\n",
    "#n dimension of the adjacency matrices\n",
    "#N number of observations\n",
    "\n",
    "function meanGraphLearn(B)\n",
    "    N = length(B)\n",
    "    A= sum(B)/N\n",
    "    return A\n",
    "end\n",
    "    \n",
    "\n",
    "#method for matrix recovery using the mean of the observations. Returns the rounded result. \n",
    "#B the observations to recover the graph\n",
    "#n dimension of the adjacency matrices\n",
    "#N number of observations\n",
    "\n",
    "function meanGraphLearn(B,redondeado)\n",
    "    N = length(B)\n",
    "    A= sum(B)/N\n",
    "    if(redondeado==true)\n",
    "        return round.(A,0)\n",
    "    else\n",
    "        return(A)\n",
    "    end\n",
    "end\n",
    "\n",
    "#computes the error obtained by the mean graph learning.\n",
    "#This function is intended to compare the error obtained vs the other tipes of recovery \n",
    "# and we think of it as fixing delta.\n",
    "function meanGraphErrorObtained(inProba,outProba,observaciones)\n",
    "    verdadera = erdosgraph([1,1,1],0,[8,17,25],50)+diagm(ones(50))\n",
    "    contador  = 0\n",
    "    for u in 1:5\n",
    "        B=Array{Any}(observaciones)\n",
    "        [B[r]=erdosgraph([inProba,inProba,inProba],outProba,[8,17,25],50)+diagm(ones(50)) for r in 1:observaciones]\n",
    "        respuesta=meanGraphLearn(B,true)\n",
    "        errorGrafo = distance1(verdadera,respuesta)\n",
    "        contador=contador+errorGrafo\n",
    "    end\n",
    "    return(contador/5)\n",
    "end"
   ]
  },
  {
   "cell_type": "code",
   "execution_count": null,
   "metadata": {
    "collapsed": true
   },
   "outputs": [],
   "source": [
    "#Evalua la tasa de decaimiento del error del metodo meangraphlearn al aumentar el numero de observaciones. \n",
    "function evaluarGraphLearningMean6(inProba,outProba,redondeado)\n",
    "    real = erdosgraph([1,1,1],0,[5,3,4],12)\n",
    "    lala= Array{Any}(50)\n",
    "    indicet=1\n",
    "    for t in 1:50\n",
    "            contador=0\n",
    "            for u in 1:50\n",
    "                B=Array{Any}(t)\n",
    "                [B[r]=erdosgraph([inProba,1,1],outProba,[5,3,4],12) for r in 1:t]\n",
    "                respuesta=meanGraphLearn(B,redondeado)\n",
    "                errorGrafo = distance1(real,respuesta)\n",
    "                contador=contador+errorGrafo\n",
    "            end\n",
    "            lala[indicet]=contador/50\n",
    "            indicet=indicet+1\n",
    "    end\n",
    "    return(lala)\n",
    "end"
   ]
  },
  {
   "cell_type": "code",
   "execution_count": null,
   "metadata": {
    "collapsed": true
   },
   "outputs": [],
   "source": [
    "#Evalua la tasa de decaimiento del error del metodo meangraphlearn al aumentar el numero de observaciones. \n",
    "function evaluarGraphLearningMean6Grande(inProba,outProba,redondeado)\n",
    "    real = erdosgraph([1,1],0,[25,25],50)\n",
    "    lala= Array{Any}(30)\n",
    "    indicet=1\n",
    "    for t in 1:30\n",
    "            contador=0\n",
    "            for u in 1:50\n",
    "                B=Array{Any}(t)\n",
    "            [B[r]=erdosgraph([inProba,inProba],outProba,[25,25],50) for r in 1:t]\n",
    "                respuesta=meanGraphLearn(B,redondeado)\n",
    "                errorGrafo = distance1(real,respuesta)\n",
    "                contador=contador+errorGrafo\n",
    "            end\n",
    "            lala[indicet]=contador/50\n",
    "            indicet=indicet+1\n",
    "    end\n",
    "    return(lala)\n",
    "end"
   ]
  },
  {
   "cell_type": "markdown",
   "metadata": {},
   "source": [
    "<h1>Functions to evaluate recovery by regularization<h1>"
   ]
  },
  {
   "cell_type": "code",
   "execution_count": null,
   "metadata": {
    "collapsed": true
   },
   "outputs": [],
   "source": [
    "#Evaluar graph learning 4 permite variar delta y encontrar errores promedio al ir moviendo el radio de la bola de la metrica\n",
    "#de Wasserstein usando la recuperacion regularizada por 2A-11^t.\n",
    "function evaluarRegularized2AGraphLearning4(inProba,outProba,observaciones,intervalo=0.01:0.1:5.0)\n",
    "    verdadera = erdosgraph([1,1],0,[12,8],20)+diagm(ones(20))\n",
    "    lala=Array{Any}(length(intervalo))\n",
    "    indicet=1\n",
    "    for t in intervalo\n",
    "            contador=0\n",
    "            for u in 1:10\n",
    "                B=Array{Any}(observaciones)\n",
    "            [B[r]=erdosgraph([inProba,inProba],outProba,[12,8],20)+diagm(ones(20)) for r in 1:observaciones]\n",
    "            respuesta=learnRegularized2A(ones(observaciones)/observaciones,t,B,20)\n",
    "                errorGrafo = distance1(verdadera,respuesta[1])\n",
    "                contador=contador+errorGrafo\n",
    "            end\n",
    "            lala[indicet]=contador/10\n",
    "            indicet=indicet+1\n",
    "    end\n",
    "    return([lala,intervalo])\n",
    "end"
   ]
  },
  {
   "cell_type": "code",
   "execution_count": null,
   "metadata": {
    "collapsed": true
   },
   "outputs": [],
   "source": [
    "#Evaluar graph learning 4 permite variar delta y encontrar errores promedio al ir moviendo el radio de la bola de la metrica\n",
    "#de Wasserstein usando la recuperacion regularizada por A.\n",
    "function evaluarRegularizedAGraphLearning4(inProba,outProba,observaciones,intervalo=0.01:0.1:5.0)\n",
    "    verdadera = erdosgraph([1,1],0,[12,8],20)+diagm(ones(20))\n",
    "    lala=Array{Any}(length(intervalo))\n",
    "    indicet=1\n",
    "    for t in intervalo\n",
    "            contador=0\n",
    "            for u in 1:10\n",
    "                B=Array{Any}(observaciones)\n",
    "            [B[r]=erdosgraph([inProba,inProba],outProba,[12,8],20)+diagm(ones(20)) for r in 1:observaciones]\n",
    "            respuesta=learnRegularizedA(ones(observaciones)/observaciones,t,B,20)\n",
    "                errorGrafo = distance1(verdadera,respuesta[1])\n",
    "                contador=contador+errorGrafo\n",
    "            end\n",
    "            lala[indicet]=contador/10\n",
    "            indicet=indicet+1\n",
    "    end\n",
    "    return([lala,intervalo])\n",
    "end"
   ]
  },
  {
   "cell_type": "code",
   "execution_count": null,
   "metadata": {
    "collapsed": true
   },
   "outputs": [],
   "source": []
  },
  {
   "cell_type": "markdown",
   "metadata": {},
   "source": [
    "<h1>Functions to evaluate recovery using admm spectral algorithm<h1>"
   ]
  },
  {
   "cell_type": "code",
   "execution_count": null,
   "metadata": {
    "collapsed": true
   },
   "outputs": [],
   "source": [
    "#Evaluar graph learning 4 permite variar delta y encontrar errores promedio al ir moviendo el radio de la bola de la metrica\n",
    "#de Wasserstein.\n",
    "function evaluarADMMGraphLearning4(inProba,outProba,observaciones,intervalo=0:1:10)\n",
    "    verdadera = erdosgraph([1,1,1],0,[8,17,25],50)+diagm(ones(50))\n",
    "#        verdadera = erdosgraph([1,1,1],0,[8,17,25],50)\n",
    "    lala=Array{Any}(length(intervalo))\n",
    "    indicet=1\n",
    "    for t in intervalo\n",
    "            contador=0\n",
    "            for u in 1:5\n",
    "                B=Array{Any}(observaciones)\n",
    "            [B[r]=erdosgraph([inProba,inProba,inProba],outProba,[8,17,25],50)+diagm(ones(50)) for r in 1:observaciones]\n",
    "           # [B[r]=erdosgraph([inProba,inProba,inProba],outProba,[8,17,25],50) for r in 1:observaciones]\n",
    "            respuesta=admmRecovery(B,t,50,3,1.0e-3,200)\n",
    "            bli =(respuesta[1]+ones(50)*ones(50)')/2\n",
    "            errorGrafo = distance1(verdadera,bli)\n",
    "                contador=contador+errorGrafo\n",
    "            end\n",
    "            lala[indicet]=contador/5\n",
    "            indicet=indicet+1\n",
    "        println(t)\n",
    "    end\n",
    "    return([lala,intervalo])\n",
    "end"
   ]
  },
  {
   "cell_type": "code",
   "execution_count": null,
   "metadata": {
    "collapsed": true
   },
   "outputs": [],
   "source": [
    "# evalua el modelo variando la probabilidad intra cluster y outra cluster. cada simulacion toma unos 3 minutos\n",
    "# y resuelve 2400 problemas de optimizacion aprox. Evaluar graph learning 3 no pone un 1 en las diagonales de las matrices.\n",
    "function evaluarADMMGraphLearning3(delta,observaciones)\n",
    "    verdadera = erdosgraph([1,1],0,[15,25],40)+diagm(ones(40))\n",
    "    lala=zeros(11,11)\n",
    "    indicet=1\n",
    "     for t in 1:-0.05:0.5\n",
    "        \n",
    "        indicew=1\n",
    "        for w in 0:0.05:0.5\n",
    "            contador=0\n",
    "            for u in 1:5\n",
    "                B=Array{Any}(observaciones)\n",
    "                [B[r]=erdosgraph([t,t],w,[15,25],40)+diagm(ones(40)) for r in 1:observaciones]\n",
    "                respuesta=admmRecovery(B,delta,40,1.6,1.0e-3,300)\n",
    "                bli =(respuesta[1]+ones(40)*ones(40)')/2\n",
    "                errorGrafo = distance1(verdadera,bli)\n",
    "                contador=contador+errorGrafo\n",
    "            end\n",
    "       # println(contador/50)\n",
    "            lala[12-indicet,indicew]=contador/5\n",
    "        indicew=indicew+1\n",
    "        print(indicew)\n",
    "        end\n",
    "        print(indicet)\n",
    "    indicet=indicet+1\n",
    "    end\n",
    "    #println(lala)\n",
    "    return(lala)\n",
    "end"
   ]
  }
 ],
 "metadata": {
  "kernelspec": {
   "display_name": "Julia 0.6.0",
   "language": "julia",
   "name": "julia-0.6"
  },
  "language_info": {
   "file_extension": ".jl",
   "mimetype": "application/julia",
   "name": "julia",
   "version": "0.6.0"
  }
 },
 "nbformat": 4,
 "nbformat_minor": 0
}
