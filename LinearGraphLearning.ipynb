{
 "cells": [
  {
   "cell_type": "code",
   "execution_count": 17,
   "metadata": {
    "collapsed": true
   },
   "outputs": [],
   "source": [
    "using JuMP \n",
    "using Mosek"
   ]
  },
  {
   "cell_type": "code",
   "execution_count": null,
   "metadata": {
    "collapsed": true
   },
   "outputs": [],
   "source": [
    "#Script para el aprendizaje de grafos usando la metrica de Wasserstein, pero esta vez con la funcion de \n",
    "#costo ||.||1 que vuelve al problema lineal."
   ]
  },
  {
   "cell_type": "code",
   "execution_count": null,
   "metadata": {
    "collapsed": true
   },
   "outputs": [],
   "source": [
    "# @param:weights : weights of the observed matrices. Sum of weights must be 1. and non-negative. the size is equal to the amount\n",
    "#of observed graphs.\n",
    "#@param: delta : size of the ball of the Wasserstein metric. delta > 0.\n",
    "#@param: A : cluster form of the data. A entries must be 0 or 1. \n",
    "#@param: B : vector of matrices containing the observations of the graph B. If X,Y are matrices, an array of matrices\n",
    "#is of the form Array[X,Y].\n",
    "#@param: n : the dimension of the matrices.\n",
    "#@param:N : number of observations.\n",
    "#The set over which the is problem is optimized is:"
   ]
  },
  {
   "cell_type": "code",
   "execution_count": null,
   "metadata": {
    "collapsed": true
   },
   "outputs": [],
   "source": [
    "function learnLinearGraph(weights,delta,A,B,n)\n",
    "    N = length(B)\n",
    "    one =ones(n)\n",
    "    m = Model(solver=MosekSolver())\n",
    "    @variable(m,lambda>=0)\n",
    "    @variable(m,S[1:N])\n",
    "    @variable(m,A[1:n,1:n], Symmetric)\n",
    "    #W debe ser simetrica? Creo que no.\n",
    "    @variable(m, W[1:n,1:n],Symmetric)\n",
    "    #a es una variable auxiliar para calcular la norma infinito de W\n",
    "    @variable(m,a>=0)\n",
    "    #Z es un conjunto de matrices que permite calcular la norma 1 de A-B[i].\n",
    "    Z = [@variable(m, [1:n, 1:n], Symmetric) for p in 1:N]\n",
    "    #O es un conjunto de matrices que juega el papel de Delta de la demostracion.\n",
    "    O = [@variable(m, [1:n, 1:n],lowerbound = 0) for p in 1:N]\n",
    "    #C es un conjunto de matrices que juega el papel de eta en la demostracion.\n",
    "    E = [@variable(m, [1:n, 1:n],lowerbound = 0) for p in 1:N]\n",
    "    \n",
    "    #Constrains...\n",
    "    #constrains for lambda already in the definition of the varible.\n",
    "    #Constrains for A.\n",
    "    @constraint(m,A.>=0)\n",
    "    @constraint(m,A.<=1)\n",
    "    #Constrains for Z.\n",
    "    [@constraint(m, -Z[p][k,l] <= A[k,l]-B[p][k,l]) for p in 1:N for k in 1:n for l in 1:n]\n",
    "    [@constraint(m,  A[k,l]-B[p][k,l]<=Z[p][k,l]) for p in 1:N for k in 1:n for l in 1:n]\n",
    "    #Constrains for W.\n",
    "    @constraint(m,a .>=W)\n",
    "    @constraint(m,a .>=-W)\n",
    "    @constraint(m,a<=lambda)\n",
    "    \n",
    "    #Constrains for O and E.\n",
    "    [@constraint(m,2*A-one*one'-W+O[p]+E[p].==0) for p in 1:N]\n",
    "    [@constraint(m, trace(O[p],one*one')<=S[p]-trace((2*A-one*one'-W)'*B[p])) for p in 1:N]\n",
    "    \n",
    "    #Objetivo\n",
    "    @objective(m,Min,lambda*delta+ dot(weights,S+prod.(Z,n)))\n",
    "    status = solve(m)\n",
    "    return([getvalue(A),getvalue(S),getvalue(lambda),getvalue(W),getobjectivevalue(m)])\n",
    "end"
   ]
  },
  {
   "cell_type": "code",
   "execution_count": 44,
   "metadata": {
    "collapsed": false
   },
   "outputs": [
    {
     "data": {
      "text/plain": [
       "learnLinearError (generic function with 1 method)"
      ]
     },
     "execution_count": 44,
     "metadata": {},
     "output_type": "execute_result"
    }
   ],
   "source": [
    "function learnLinearError(weights,delta,A,B,n)\n",
    "    N = length(B)\n",
    "    one =ones(n)\n",
    "    m = Model(solver=MosekSolver())\n",
    "    @variable(m,lambda>=0)\n",
    "    @variable(m,S[1:N])\n",
    "    #W debe ser simetrica? Creo que no.\n",
    "    @variable(m, W[1:n,1:n],Symmetric)\n",
    "    #a es una variable auxiliar para calcular la norma infinito de W\n",
    "    @variable(m,a>=0)\n",
    "    #Z es un conjunto de matrices que permite calcular la norma 1 de A-B[i].\n",
    "    Z = [@variable(m, [1:n, 1:n], Symmetric) for p in 1:N]\n",
    "    #O es un conjunto de matrices que juega el papel de Delta de la demostracion.\n",
    "    O = [@variable(m, [1:n, 1:n],lowerbound = 0) for p in 1:N]\n",
    "    #C es un conjunto de matrices que juega el papel de eta en la demostracion.\n",
    "    E = [@variable(m, [1:n, 1:n],lowerbound = 0) for p in 1:N]\n",
    "    \n",
    "    #Constrains...\n",
    "    #constrains for lambda already in the definition of the varible.\n",
    "    #Constrains for Z.\n",
    "    [@constraint(m, -Z[p][k,l] <= A[k,l]-B[p][k,l]) for p in 1:N for k in 1:n for l in 1:n]\n",
    "    [@constraint(m,  A[k,l]-B[p][k,l]<=Z[p][k,l]) for p in 1:N for k in 1:n for l in 1:n]\n",
    "    #Constrains for W. \n",
    "    @constraint(m,a .>=W)\n",
    "    @constraint(m,a .>=-W)\n",
    "    @constraint(m,a<=lambda)\n",
    "    #Constrains for O and E.\n",
    "    [@constraint(m,2*A-one*one'-W+O[p]+E[p].==0) for p in 1:N]\n",
    "    [@constraint(m, trace(O[p],one*one')<=S[p]-trace((2*A-one*one'-W)'*B[p])) for p in 1:N]\n",
    "    \n",
    "    #Objetivo\n",
    "    @objective(m,Min,lambda*delta+ dot(weights,S+prod.(Z,n)))\n",
    "    status = solve(m)\n",
    "    loss= getobjectivevalue(m)\n",
    "    return(loss)\n",
    "end"
   ]
  },
  {
   "cell_type": "code",
   "execution_count": 15,
   "metadata": {
    "collapsed": false
   },
   "outputs": [
    {
     "data": {
      "text/plain": [
       "false"
      ]
     },
     "execution_count": 15,
     "metadata": {},
     "output_type": "execute_result"
    }
   ],
   "source": [
    "matriz = [1 2;0 4]\n",
    "matriz2 =[-1 -2; 0 -4]\n",
    "#norm(vec(matriz),Inf)\n",
    "matriz+matriz2 == 0"
   ]
  },
  {
   "cell_type": "code",
   "execution_count": 25,
   "metadata": {
    "collapsed": false
   },
   "outputs": [
    {
     "data": {
      "text/plain": [
       "4"
      ]
     },
     "execution_count": 25,
     "metadata": {},
     "output_type": "execute_result"
    }
   ],
   "source": [
    "maximum(abs.(matriz2))"
   ]
  },
  {
   "cell_type": "code",
   "execution_count": 54,
   "metadata": {
    "collapsed": false
   },
   "outputs": [
    {
     "name": "stdout",
     "output_type": "stream",
     "text": [
      "Problem\n",
      "  Name                   :                 \n",
      "  Objective sense        : min             \n",
      "  Type                   : LO (linear optimization problem)\n",
      "  Constraints            : 2               \n",
      "  Cones                  : 0               \n",
      "  Scalar variables       : 18              \n",
      "  Matrix variables       : 0               \n",
      "  Integer variables      : 0               \n",
      "\n",
      "Optimizer started.\n",
      "Presolve started.\n",
      "Eliminator started.\n",
      "Freed constraints in eliminator : 0\n",
      "Eliminator terminated.\n",
      "Eliminator - tries                  : 1                 time                   : 0.00            \n",
      "Lin. dep.  - tries                  : 0                 time                   : 0.00            \n",
      "Lin. dep.  - number                 : 0               \n",
      "Presolve terminated. Time: 0.01    \n",
      "Optimizer terminated. Time: 0.01    \n",
      "\n",
      "\n",
      "Interior-point solution summary\n",
      "  Problem status  : PRIMAL_AND_DUAL_FEASIBLE\n",
      "  Solution status : OPTIMAL\n",
      "  Primal.  obj: 0.0000000000e+00    nrm: 1e+00    Viol.  con: 0e+00    var: 0e+00  \n",
      "  Dual.    obj: 0.0000000000e+00    nrm: 1e+00    Viol.  con: 0e+00    var: 0e+00  \n",
      "\n",
      "Basic solution summary\n",
      "  Problem status  : PRIMAL_AND_DUAL_FEASIBLE\n",
      "  Solution status : OPTIMAL\n",
      "  Primal.  obj: 0.0000000000e+00    nrm: 1e+00    Viol.  con: 0e+00    var: 0e+00  \n",
      "  Dual.    obj: 0.0000000000e+00    nrm: 1e+00    Viol.  con: 0e+00    var: 0e+00  \n"
     ]
    },
    {
     "data": {
      "text/plain": [
       "3×3 Array{Float64,2}:\n",
       " -1.0  0.0  0.0\n",
       "  0.0  0.0  0.0\n",
       "  0.0  0.0  0.0"
      ]
     },
     "execution_count": 54,
     "metadata": {},
     "output_type": "execute_result"
    }
   ],
   "source": [
    "matriz = [-15 -2;-1 10]\n",
    "m = Model(solver=MosekSolver())\n",
    "E = [@variable(m, [1:3, 1:3]) for p in 1:2]\n",
    "@constraint(m,E[1][1,1]==1)\n",
    "@constraint(m,E[2][1,1]==-1)\n",
    "@objective(m,Min,E[1][1,1]+E[2][1,1])\n",
    "status = solve(m)\n",
    "getobjectivevalue(m)\n",
    "getvalue(E[2])"
   ]
  },
  {
   "cell_type": "markdown",
   "metadata": {},
   "source": [
    "<h3>Funciones auxiliares<h3>"
   ]
  },
  {
   "cell_type": "code",
   "execution_count": null,
   "metadata": {
    "collapsed": true
   },
   "outputs": [],
   "source": [
    "#Aux functions\n",
    "#def function prod computes the product 1^t*Z*t.\n",
    "#@param: n : the dimension of the matrices.\n",
    "function prod(Z,n)\n",
    "    return(ones(n)'*Z*ones(n))\n",
    "end\n"
   ]
  }
 ],
 "metadata": {
  "kernelspec": {
   "display_name": "Julia 0.6.0",
   "language": "julia",
   "name": "julia-0.6"
  },
  "language_info": {
   "file_extension": ".jl",
   "mimetype": "application/julia",
   "name": "julia",
   "version": "0.6.0"
  }
 },
 "nbformat": 4,
 "nbformat_minor": 0
}
