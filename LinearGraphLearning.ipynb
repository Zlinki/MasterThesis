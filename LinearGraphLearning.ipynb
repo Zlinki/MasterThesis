{
 "cells": [
  {
   "cell_type": "code",
   "execution_count": 1,
   "metadata": {
    "collapsed": true
   },
   "outputs": [],
   "source": [
    "using JuMP \n",
    "using Mosek"
   ]
  },
  {
   "cell_type": "code",
   "execution_count": null,
   "metadata": {
    "collapsed": true
   },
   "outputs": [],
   "source": [
    "#Script para el aprendizaje de grafos usando la metrica de Wasserstein, pero esta vez con la funcion de \n",
    "#costo ||.||1 que vuelve al problema lineal."
   ]
  },
  {
   "cell_type": "code",
   "execution_count": null,
   "metadata": {
    "collapsed": true
   },
   "outputs": [],
   "source": [
    "# @param:weights : weights of the observed matrices. Sum of weights must be 1. and non-negative. the size is equal to the amount\n",
    "#of observed graphs.\n",
    "#@param: delta : size of the ball of the Wasserstein metric. delta > 0.\n",
    "#@param: A : cluster form of the data. A entries must be 0 or 1. \n",
    "#@param: B : vector of matrices containing the observations of the graph B. If X,Y are matrices, an array of matrices\n",
    "#is of the form Array[X,Y].\n",
    "#@param: n : the dimension of the matrices.\n",
    "#@param:N : number of observations.\n",
    "#The set over which the is problem is optimized is:"
   ]
  },
  {
   "cell_type": "code",
   "execution_count": null,
   "metadata": {
    "collapsed": false
   },
   "outputs": [],
   "source": [
    "function learnLinearGraph(weights,delta,B,n)\n",
    "    N = length(B)\n",
    "    one =ones(n)\n",
    "    m = Model(solver=MosekSolver())\n",
    "    @variable(m,lambda>=0)\n",
    "    @variable(m,S[1:N])\n",
    "    @variable(m,A[1:n,1:n], Symmetric)\n",
    "    #W debe ser simetrica? Creo que no.\n",
    "    @variable(m, W[1:n,1:n],Symmetric)\n",
    "    #Q es una variable auxiliar, juega el papel de Lambda en la demostracion\n",
    "    @variable(m,Q[1:n,1:n])\n",
    "    # u es una variable auxiliar para calcular la norma infinito de W.\n",
    "    @variable(m,u>=0)\n",
    "    #Z es un conjunto de matrices que permite calcular la norma 1 de A-B[i].\n",
    "    Z = [@variable(m, [1:n, 1:n], Symmetric) for p in 1:N]\n",
    " \n",
    "    #Constrains...\n",
    "    #constrains for lambda already in the definition of the varible.\n",
    "    #Constrains for A.\n",
    "    @constraint(m,A.>=0)\n",
    "    @constraint(m,A.<=1)\n",
    "    #Constrains for Z.\n",
    "    [@constraint(m, -Z[p].<= A-B[p]) for p in 1:N]\n",
    "    [@constraint(m,  A-B[p].<=Z[p]) for p in 1:N]\n",
    "    #Constrains for W. \n",
    "    @constraint(m,u<=lambda)\n",
    "    @constraint(m,u .>=W)\n",
    "    @constraint(m,u .>=-W)\n",
    "     #Constrains for Q.\n",
    "    @constraint(m,Q .>=-(2*A-one*one'-W))\n",
    "    @constraint(m,Q .>=0)\n",
    "    #[@constraint(m,2*A-one*one'-W+O[p]+E[p].==0) for p in 1:N]\n",
    "    [@constraint(m, ones(n)'*Q*ones(n)<=S[p]-trace((2*A-one*one'-W)'*B[p])) for p in 1:N]\n",
    "    #Objetivo\n",
    "    @objective(m,Min,lambda*delta+ dot(weights,S+prod.(Z,n)))\n",
    "    status = solve(m)\n",
    "    return([getvalue(A),getvalue(S),getvalue(lambda),getvalue(W),getobjectivevalue(m)])\n",
    "end"
   ]
  },
  {
   "cell_type": "code",
   "execution_count": 57,
   "metadata": {
    "collapsed": false
   },
   "outputs": [
    {
     "data": {
      "text/plain": [
       "learnLinearError (generic function with 1 method)"
      ]
     },
     "execution_count": 57,
     "metadata": {},
     "output_type": "execute_result"
    }
   ],
   "source": [
    "function learnLinearError(weights,delta,A,B,n)\n",
    "    N = length(B)\n",
    "    one =ones(n)\n",
    "    m = Model(solver=MosekSolver())\n",
    "    @variable(m,lambda>=0)\n",
    "    @variable(m,S[1:N])\n",
    "    #W debe ser simetrica? Creo que no.\n",
    "    @variable(m, W[1:n,1:n],Symmetric)\n",
    "    #Q es una variable auxiliar, juega el papel de Lambda en la demostracion\n",
    "    @variable(m,Q[1:n,1:n])\n",
    "    # u es una variable auxiliar para calcular la norma infinito de W.\n",
    "    @variable(m,u>=0)\n",
    "    #Z es un conjunto de matrices que permite calcular la norma 1 de A-B[i].\n",
    "    Z = [@variable(m, [1:n, 1:n], Symmetric) for p in 1:N]\n",
    "    #Constrains...\n",
    "    #constrains for lambda already in the definition of the varible.\n",
    "    #Constrains for Z.\n",
    "    [@constraint(m, -Z[p].<= A-B[p]) for p in 1:N]\n",
    "    [@constraint(m,  A-B[p].<=Z[p]) for p in 1:N]\n",
    "    #Constrains for W. \n",
    "    @constraint(m,u<=lambda)\n",
    "    @constraint(m,u .>=W)\n",
    "    @constraint(m,u .>=-W)\n",
    "    #Constrains for Q.\n",
    "    @constraint(m,Q .>=-(2*A-one*one'-W))\n",
    "    @constraint(m,Q .>=0)\n",
    "    [@constraint(m, ones(n)'*Q*ones(n)<=S[p]-trace((2*A-one*one'-W)'*B[p])) for p in 1:N]\n",
    "    #Objetivo\n",
    "    @objective(m,Min,lambda*delta+ dot(weights,S+prod.(Z,n)))\n",
    "    status = solve(m)\n",
    "    return([getvalue(Q),getvalue(lambda),getvalue(S),getobjectivevalue(m)])\n",
    "end"
   ]
  },
  {
   "cell_type": "code",
   "execution_count": 55,
   "metadata": {
    "collapsed": false
   },
   "outputs": [
    {
     "name": "stdout",
     "output_type": "stream",
     "text": [
      "MOSEK warning 710: #2 (nearly) zero elements are specified in sparse col '' (3) of matrix 'A'.\n",
      "MOSEK warning 710: #2 (nearly) zero elements are specified in sparse col '' (4) of matrix 'A'.\n",
      "MOSEK warning 710: #1 (nearly) zero elements are specified in sparse col '' (5) of matrix 'A'.\n",
      "MOSEK warning 710: #1 (nearly) zero elements are specified in sparse col '' (8) of matrix 'A'.\n",
      "MOSEK warning 710: #2 (nearly) zero elements are specified in sparse col '' (9) of matrix 'A'.\n",
      "MOSEK warning 710: #2 (nearly) zero elements are specified in sparse col '' (10) of matrix 'A'.\n",
      "MOSEK warning 710: #2 (nearly) zero elements are specified in sparse col '' (11) of matrix 'A'.\n",
      "MOSEK warning 710: #2 (nearly) zero elements are specified in sparse col '' (12) of matrix 'A'.\n",
      "MOSEK warning 710: #2 (nearly) zero elements are specified in sparse col '' (13) of matrix 'A'.\n",
      "MOSEK warning 710: #1 (nearly) zero elements are specified in sparse col '' (14) of matrix 'A'.\n",
      "Warning number 710 is disabled.\n",
      "Problem\n",
      "  Name                   :                 \n",
      "  Objective sense        : min             \n",
      "  Type                   : LO (linear optimization problem)\n",
      "  Constraints            : 1155            \n",
      "  Cones                  : 0               \n",
      "  Scalar variables       : 382             \n",
      "  Matrix variables       : 0               \n",
      "  Integer variables      : 0               \n",
      "\n",
      "Optimizer started.\n",
      "Presolve started.\n",
      "Linear dependency checker started.\n",
      "Linear dependency checker terminated.\n",
      "Eliminator started.\n",
      "Freed constraints in eliminator : 78\n",
      "Eliminator terminated.\n",
      "Eliminator - tries                  : 1                 time                   : 0.00            \n",
      "Lin. dep.  - tries                  : 1                 time                   : 0.00            \n",
      "Lin. dep.  - number                 : 0               \n",
      "Presolve terminated. Time: 0.00    \n",
      "Problem\n",
      "  Name                   :                 \n",
      "  Objective sense        : min             \n",
      "  Type                   : LO (linear optimization problem)\n",
      "  Constraints            : 1155            \n",
      "  Cones                  : 0               \n",
      "  Scalar variables       : 382             \n",
      "  Matrix variables       : 0               \n",
      "  Integer variables      : 0               \n",
      "\n",
      "Optimizer  - threads                : 2               \n",
      "Optimizer  - solved problem         : the dual        \n",
      "Optimizer  - Constraints            : 79\n",
      "Optimizer  - Cones                  : 0\n",
      "Optimizer  - Scalar variables       : 301               conic                  : 0               \n",
      "Optimizer  - Semi-definite variables: 0                 scalarized             : 0               \n",
      "Factor     - setup time             : 0.00              dense det. time        : 0.00            \n",
      "Factor     - ML order time          : 0.00              GP order time          : 0.00            \n",
      "Factor     - nonzeros before factor : 157               after factor           : 157             \n",
      "Factor     - dense dim.             : 0                 flops                  : 3.68e+03        \n",
      "ITE PFEAS    DFEAS    GFEAS    PRSTATUS   POBJ              DOBJ              MU       TIME  \n",
      "0   2.0e+00  2.8e+01  6.7e+01  1.00e+00   3.800000000e+01   1.060000000e+02   1.0e+00  0.00  \n",
      "1   3.5e-01  5.3e+01  4.4e+00  0.00e+00   6.063314486e+01   6.263951783e+01   2.9e+00  0.02  \n",
      "2   6.4e-02  9.8e+00  8.0e-01  3.57e-01   2.569351394e+01   2.622944977e+01   5.3e-01  0.02  \n",
      "3   1.1e-03  1.6e-01  1.3e-02  9.18e-01   1.430517095e+01   1.431271613e+01   8.7e-03  0.02  \n",
      "4   9.6e-05  1.5e-02  1.2e-03  2.08e+00   1.411139992e+01   1.411174843e+01   7.9e-04  0.02  \n",
      "5   2.2e-07  3.4e-05  2.7e-06  1.20e+00   1.410002610e+01   1.410002696e+01   1.8e-06  0.02  \n",
      "6   2.2e-11  3.4e-09  2.8e-10  1.00e+00   1.410000000e+01   1.410000000e+01   1.8e-10  0.02  \n",
      "7   2.2e-15  3.2e-12  5.0e-12  1.00e+00   1.410000000e+01   1.410000000e+01   1.8e-14  0.02  \n",
      "Basis identification started.\n",
      "Basis identification terminated. Time: 0.00\n",
      "Optimizer terminated. Time: 0.02    \n",
      "\n",
      "\n",
      "Interior-point solution summary\n",
      "  Problem status  : PRIMAL_AND_DUAL_FEASIBLE\n",
      "  Solution status : OPTIMAL\n",
      "  Primal.  obj: 1.4100000000e+01    nrm: 3e+01    Viol.  con: 7e-16    var: 0e+00  \n",
      "  Dual.    obj: 1.4100000000e+01    nrm: 1e+00    Viol.  con: 1e-14    var: 2e-12  \n",
      "\n",
      "Basic solution summary\n",
      "  Problem status  : PRIMAL_AND_DUAL_FEASIBLE\n",
      "  Solution status : OPTIMAL\n",
      "  Primal.  obj: 1.4100000000e+01    nrm: 3e+01    Viol.  con: 5e-13    var: 0e+00  \n",
      "  Dual.    obj: 1.4100000000e+01    nrm: 1e+00    Viol.  con: 0e+00    var: 5e-16  \n"
     ]
    },
    {
     "data": {
      "text/plain": [
       "3-element Array{Any,1}:\n",
       "  [-0.0 -0.0 … -0.0 -0.0; -0.0 -0.0 … -0.0 -0.0; … ; -0.0 -0.0 … -0.0 9.32587e-14; -0.0 -0.0 … 9.32587e-14 -0.0]\n",
       " 1.0                                                                                                            \n",
       "  [-1.2669e-11, -1.26761e-11]                                                                                   "
      ]
     },
     "execution_count": 55,
     "metadata": {},
     "output_type": "execute_result"
    }
   ],
   "source": [
    "#papa1 = Array{Any}(2)\n",
    "#papa1[1]=erdosgraph([0.8,1,1],0.1,[5,3,4],12)\n",
    "#papa1[2]=erdosgraph([0.8,1,1],0.1,[5,3,4],12)\n",
    "#real = erdosgraph([1,1,1],0,[5,3,4],12)\n",
    "respuesta=learnLinearError([0.5,0.5],0.1,real,papa1,12)"
   ]
  },
  {
   "cell_type": "code",
   "execution_count": null,
   "metadata": {
    "collapsed": true
   },
   "outputs": [],
   "source": []
  }
 ],
 "metadata": {
  "kernelspec": {
   "display_name": "Julia 0.6.0",
   "language": "julia",
   "name": "julia-0.6"
  },
  "language_info": {
   "file_extension": ".jl",
   "mimetype": "application/julia",
   "name": "julia",
   "version": "0.6.0"
  }
 },
 "nbformat": 4,
 "nbformat_minor": 0
}
