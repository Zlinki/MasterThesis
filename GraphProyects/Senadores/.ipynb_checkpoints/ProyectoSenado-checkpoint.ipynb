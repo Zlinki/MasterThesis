{
 "cells": [
  {
   "cell_type": "code",
   "execution_count": null,
   "metadata": {
    "collapsed": true
   },
   "outputs": [],
   "source": [
    "#call the necesary notebooks and packages...\n",
    "using NBInclude\n",
    "using LightGraphs\n",
    "nbinclude(\"C:\\\\Users\\\\Daniel\\\\MasterThesis\\\\admmRecovery.ipynb\")"
   ]
  },
  {
   "cell_type": "markdown",
   "metadata": {},
   "source": [
    "<h2>First, set the period 2012-2013, set senators, then subject = economia<h2>"
   ]
  },
  {
   "cell_type": "code",
   "execution_count": null,
   "metadata": {
    "collapsed": true
   },
   "outputs": [],
   "source": [
    "#Read matrices...\n",
    "Eco1 = readdlm(\"Economia1.txt\")\n",
    "Eco2 = readdlm(\"Economia2.txt\")\n",
    "Eco3 = readdlm(\"Economia3.txt\")\n",
    "Eco4 = readdlm(\"Economia4.txt\")\n",
    "\n",
    "#store them in an array\n",
    "EcoSenadores = Array{Any}(6)\n",
    "EcoSenadores[1]= Eco1\n",
    "EcoSenadores[2]= Eco2\n",
    "EcoSenadores[3]= Eco3\n",
    "EcoSenadores[4]= Eco4\n",
    "\n"
   ]
  },
  {
   "cell_type": "code",
   "execution_count": null,
   "metadata": {
    "collapsed": true
   },
   "outputs": [],
   "source": [
    "#recover the clusters...\n",
    "recover=admmRecovery(EcoSenadores,1.6,156,1.6,1.0e-4,300)\n"
   ]
  },
  {
   "cell_type": "code",
   "execution_count": null,
   "metadata": {
    "collapsed": true
   },
   "outputs": [],
   "source": [
    "#real matrix\n",
    "RealRecovery=(recover[1]+ones(156)*ones(156)')/2\n",
    "#save results\n",
    "writedlm(\"EcoRecovered.txt\",RealRecovery)"
   ]
  },
  {
   "cell_type": "code",
   "execution_count": null,
   "metadata": {
    "collapsed": true
   },
   "outputs": [],
   "source": [
    "#Conected components\n",
    "gEco = Graph(RealRecovery)\n",
    "connected_components(gEco)"
   ]
  },
  {
   "cell_type": "markdown",
   "metadata": {},
   "source": [
    "<h2>Set the period 2012-2013,set senators, All subjects<h2>"
   ]
  },
  {
   "cell_type": "code",
   "execution_count": null,
   "metadata": {
    "collapsed": true
   },
   "outputs": [],
   "source": [
    "#read matrices and save them in an array\n",
    "proyects =  Array{Any}(26)\n",
    "#\"4Economia\"\n",
    "proyects[1]= readdlm(\"proyectoEconomia1.txt\")\n",
    "proyects[2]= readdlm(\"proyectoEconomia2.txt\")\n",
    "proyects[3]=  readdlm(\"proyectoEconomia3.txt\")\n",
    "proyects[4]=  readdlm(\"proyectoEconomia4.txt\")\n",
    "# \"1Corrupcion\"\n",
    "proyects[5]=  readdlm(\"proyectoCorrupcion1.txt\")\n",
    "# \"1Tr nsito y transporte\"\n",
    "proyects[6]=  readdlm(\"proyectoTr nsito y transporte1.txt\")\n",
    "# \"2Seguridad, defensa y fuerza publica\"\n",
    "proyects[7]=  readdlm(\"proyectoSeguridad, defensa y fuerza publica1.txt\")\n",
    "proyects[8]= readdlm(\"proyectoSeguridad, defensa y fuerza publica2.txt\")\n",
    "# \"1Rama Ejecutiva\"\n",
    "proyects[9]= readdlm(\"proyectoRama Ejecutiva1.txt\")\n",
    "# \"2Seguridad Social y salud\"\n",
    "proyects[10]=  readdlm(\"proyectoSeguridad Social y salud1.txt\")\n",
    "proyects[11]= readdlm(\"proyectoSeguridad Social y salud2.txt\")\n",
    "#\"4Politica Internacional\"\n",
    "proyects[12]=  readdlm(\"proyectoPolitica Internacional1.txt\")\n",
    "proyects[13]=  readdlm(\"proyectoPolitica Internacional2.txt\")\n",
    "proyects[14]=  readdlm(\"proyectoPolitica Internacional3.txt\")\n",
    "proyects[15]=  readdlm(\"proyectoPolitica Internacional4.txt\")\n",
    "# \"2Estampillas\"\n",
    "proyects[16]=  readdlm(\"proyectoEstampillas1.txt\")\n",
    "proyects[17]=  readdlm(\"proyectoEstampillas2.txt\")\n",
    "# \"3Celebraciones, honores y monumentos\"\n",
    "proyects[18]=  readdlm(\"proyectoCelebraciones, honores y monumentos1.txt\")\n",
    "proyects[19]=  readdlm(\"proyectoCelebraciones, honores y monumentos2.txt\")\n",
    "proyects[20]=  readdlm(\"proyectoCelebraciones, honores y monumentos3.txt\")\n",
    "# \"1Comercio, industria y turismo\"\n",
    "proyects[21]=  readdlm(\"proyectoComercio, industria y turismo1.txt\")\n",
    "# \"1Impuestos\"\n",
    "proyects[22]=  readdlm(\"proyectoImpuestos1.txt\")\n",
    "# \"2Presupuesto\"\n",
    "proyects[23]= readdlm(\"proyectoPresupuesto1.txt\")\n",
    "proyects[24]= readdlm(\"proyectoPresupuesto2.txt\")\n",
    "# \"1Minas y energia\"\n",
    "proyects[25]=  readdlm(\"proyectoMinas y energia1.txt\")\n",
    "# \"1Conflicto armado\"\n",
    " proyects[26]= readdlm(\"proyectoConflicto armado1.txt\")\n",
    "\n",
    "\n"
   ]
  },
  {
   "cell_type": "code",
   "execution_count": null,
   "metadata": {
    "collapsed": true
   },
   "outputs": [],
   "source": [
    "recoverProyects=admmRecovery(proyects,1.6,156,1.6,1.0e-4,300)\n"
   ]
  },
  {
   "cell_type": "code",
   "execution_count": null,
   "metadata": {
    "collapsed": true
   },
   "outputs": [],
   "source": [
    "#real matrix\n",
    "RealRecoveryProyects=(recoverProyects[1]+ones(156)*ones(156)')/2\n",
    "#save results\n",
    "writedlm(\"ProyectsRecovered.txt\",RealRecoveryProyects)"
   ]
  },
  {
   "cell_type": "code",
   "execution_count": null,
   "metadata": {
    "collapsed": true
   },
   "outputs": [],
   "source": [
    "#Conected components\n",
    "gEco = Graph(RealRecovery)\n",
    "connected_components(gEco)"
   ]
  }
 ],
 "metadata": {
  "kernelspec": {
   "display_name": "Julia 0.6.0",
   "language": "julia",
   "name": "julia-0.6"
  },
  "language_info": {
   "file_extension": ".jl",
   "mimetype": "application/julia",
   "name": "julia",
   "version": "0.6.0"
  }
 },
 "nbformat": 4,
 "nbformat_minor": 0
}
