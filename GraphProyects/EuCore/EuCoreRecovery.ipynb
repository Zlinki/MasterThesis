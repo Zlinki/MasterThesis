{
 "cells": [
  {
   "cell_type": "code",
   "execution_count": 2,
   "metadata": {
    "collapsed": false
   },
   "outputs": [],
   "source": [
    "#call the necesary notebooks and packages...\n",
    "using NBInclude\n",
    "using LightGraphs\n",
    "nbinclude(\"C:\\\\Users\\\\Daniel\\\\MasterThesis\\\\admmRecovery.ipynb\")"
   ]
  },
  {
   "cell_type": "code",
   "execution_count": 3,
   "metadata": {
    "collapsed": false
   },
   "outputs": [
    {
     "data": {
      "text/plain": [
       "1005×1005 Array{Float64,2}:\n",
       " 1.0  0.0  0.0  0.0  0.0  0.0  0.0  0.0  …  0.0  0.0  0.0  0.0  0.0  0.0  0.0\n",
       " 0.0  1.0  1.0  1.0  1.0  1.0  0.0  0.0     0.0  0.0  1.0  0.0  0.0  0.0  0.0\n",
       " 0.0  1.0  1.0  1.0  0.0  1.0  0.0  0.0     0.0  0.0  1.0  0.0  0.0  0.0  0.0\n",
       " 0.0  1.0  1.0  1.0  0.0  1.0  0.0  0.0     0.0  0.0  1.0  0.0  0.0  0.0  0.0\n",
       " 0.0  1.0  0.0  0.0  1.0  1.0  1.0  0.0     0.0  0.0  0.0  0.0  0.0  0.0  0.0\n",
       " 0.0  1.0  1.0  1.0  1.0  1.0  0.0  0.0  …  0.0  0.0  1.0  0.0  0.0  0.0  0.0\n",
       " 0.0  0.0  0.0  0.0  1.0  0.0  1.0  1.0     0.0  0.0  0.0  0.0  0.0  0.0  0.0\n",
       " 0.0  0.0  0.0  0.0  0.0  0.0  1.0  1.0     0.0  0.0  0.0  0.0  0.0  0.0  0.0\n",
       " 0.0  0.0  0.0  0.0  0.0  0.0  0.0  1.0     0.0  0.0  0.0  0.0  0.0  0.0  0.0\n",
       " 0.0  0.0  0.0  0.0  0.0  0.0  0.0  0.0     0.0  0.0  0.0  0.0  0.0  0.0  0.0\n",
       " 0.0  0.0  0.0  0.0  1.0  0.0  1.0  1.0  …  0.0  0.0  0.0  0.0  0.0  0.0  0.0\n",
       " 0.0  0.0  0.0  0.0  0.0  0.0  1.0  1.0     0.0  0.0  0.0  0.0  0.0  0.0  0.0\n",
       " 0.0  1.0  0.0  1.0  0.0  0.0  0.0  0.0     0.0  0.0  0.0  0.0  0.0  0.0  0.0\n",
       " ⋮                        ⋮              ⋱            ⋮                      \n",
       " 0.0  0.0  0.0  0.0  0.0  1.0  0.0  0.0     0.0  0.0  0.0  0.0  0.0  0.0  0.0\n",
       " 0.0  0.0  0.0  0.0  0.0  0.0  0.0  0.0     0.0  0.0  0.0  0.0  0.0  0.0  0.0\n",
       " 0.0  0.0  0.0  0.0  0.0  0.0  0.0  0.0  …  0.0  0.0  0.0  0.0  0.0  0.0  0.0\n",
       " 0.0  0.0  0.0  0.0  0.0  0.0  0.0  0.0     0.0  0.0  0.0  0.0  0.0  0.0  0.0\n",
       " 0.0  0.0  0.0  0.0  0.0  0.0  0.0  0.0     0.0  0.0  0.0  0.0  0.0  0.0  0.0\n",
       " 0.0  0.0  0.0  0.0  0.0  0.0  0.0  0.0     1.0  0.0  0.0  0.0  0.0  0.0  0.0\n",
       " 0.0  0.0  0.0  0.0  0.0  0.0  0.0  0.0     0.0  1.0  0.0  0.0  0.0  0.0  0.0\n",
       " 0.0  1.0  1.0  1.0  0.0  1.0  0.0  0.0  …  0.0  0.0  1.0  0.0  0.0  0.0  0.0\n",
       " 0.0  0.0  0.0  0.0  0.0  0.0  0.0  0.0     0.0  0.0  0.0  1.0  0.0  0.0  0.0\n",
       " 0.0  0.0  0.0  0.0  0.0  0.0  0.0  0.0     0.0  0.0  0.0  0.0  1.0  0.0  0.0\n",
       " 0.0  0.0  0.0  0.0  0.0  0.0  0.0  0.0     0.0  0.0  0.0  0.0  0.0  1.0  0.0\n",
       " 0.0  0.0  0.0  0.0  0.0  0.0  0.0  0.0     0.0  0.0  0.0  0.0  0.0  0.0  1.0"
      ]
     },
     "execution_count": 3,
     "metadata": {},
     "output_type": "execute_result"
    }
   ],
   "source": [
    "#Read the matrix\n",
    "euGraph = readdlm(\"euCore.txt\")\n",
    "euObs = Array{Any}(1)\n",
    "euObs[1]= euGraph"
   ]
  },
  {
   "cell_type": "code",
   "execution_count": null,
   "metadata": {
    "collapsed": false
   },
   "outputs": [
    {
     "name": "stdout",
     "output_type": "stream",
     "text": [
      "solving for x...\n",
      "Solved, now solving for Z\n",
      "elapsed time: 5.280653277 seconds\n",
      "solved. now solving Y\n",
      "Cheking stop criteriums and updating.\n",
      "Step 0\n",
      "944.541976585422\n",
      "0.8\n",
      "solving for x...\n",
      "Solved, now solving for Z\n",
      "elapsed time: 1.25070086 seconds\n",
      "solved. now solving Y\n",
      "Cheking stop criteriums and updating.\n",
      "Step 1\n",
      "947.0107976296747\n",
      "0.8\n",
      "solving for x...\n",
      "Solved, now solving for Z\n",
      "elapsed time: 1.229263756 seconds\n",
      "solved. now solving Y\n",
      "Cheking stop criteriums and updating.\n",
      "Step 2\n",
      "947.052283215525\n",
      "0.8\n",
      "solving for x...\n",
      "Solved, now solving for Z\n",
      "elapsed time: 1.219195537 seconds\n",
      "solved. now solving Y\n",
      "Cheking stop criteriums and updating.\n",
      "Step 3\n",
      "947.0704014331862\n",
      "0.8\n",
      "solving for x...\n",
      "Solved, now solving for Z\n",
      "elapsed time: 1.309948454 seconds\n",
      "solved. now solving Y\n",
      "Cheking stop criteriums and updating.\n",
      "Step 4\n",
      "947.1325879330699\n",
      "0.8\n",
      "solving for x...\n",
      "Solved, now solving for Z\n",
      "elapsed time: 1.226359265 seconds\n",
      "solved. now solving Y\n",
      "Cheking stop criteriums and updating.\n",
      "Step 5\n",
      "947.1892160782465\n",
      "0.8\n",
      "solving for x...\n",
      "Solved, now solving for Z\n",
      "elapsed time: 1.417373579 seconds\n",
      "solved. now solving Y\n",
      "Cheking stop criteriums and updating.\n",
      "Step 6\n",
      "947.2341559573406\n",
      "0.8\n",
      "solving for x...\n",
      "Solved, now solving for Z\n",
      "elapsed time: 1.30297736 seconds\n",
      "solved. now solving Y\n",
      "Cheking stop criteriums and updating.\n",
      "Step 7\n",
      "947.2694039015685\n",
      "0.8\n",
      "solving for x...\n",
      "Solved, now solving for Z\n",
      "elapsed time: 1.343920502 seconds\n",
      "solved. now solving Y\n",
      "Cheking stop criteriums and updating.\n",
      "Step 8\n",
      "947.2967216959788\n",
      "0.8\n",
      "solving for x...\n",
      "Solved, now solving for Z\n",
      "elapsed time: 1.475013796 seconds\n",
      "solved. now solving Y\n",
      "Cheking stop criteriums and updating.\n",
      "Step 9\n",
      "947.3184601927132\n",
      "0.8\n",
      "solving for x...\n",
      "Solved, now solving for Z\n",
      "elapsed time: 1.304731976 seconds\n",
      "solved. now solving Y\n",
      "Cheking stop criteriums and updating.\n",
      "Step 10\n",
      "947.3359478205397\n",
      "0.8\n",
      "solving for x...\n",
      "Solved, now solving for Z\n",
      "elapsed time: 1.284357511 seconds\n",
      "solved. now solving Y\n",
      "Cheking stop criteriums and updating.\n",
      "Step 11\n",
      "947.349947838004\n",
      "0.8\n",
      "solving for x...\n",
      "Solved, now solving for Z\n",
      "elapsed time: 1.243732922 seconds\n",
      "solved. now solving Y\n",
      "Cheking stop criteriums and updating.\n",
      "Step 12\n",
      "947.3611284643018\n",
      "0.8\n",
      "solving for x...\n",
      "Solved, now solving for Z\n",
      "elapsed time: 1.367651435 seconds\n",
      "solved. now solving Y\n",
      "Cheking stop criteriums and updating.\n",
      "Step 13\n",
      "947.3704615645509\n",
      "0.8\n",
      "solving for x...\n",
      "Solved, now solving for Z\n",
      "elapsed time: 1.296476794 seconds\n",
      "solved. now solving Y\n",
      "Cheking stop criteriums and updating.\n",
      "Step 14\n",
      "947.3776848630466\n",
      "0.8\n",
      "solving for x...\n",
      "Solved, now solving for Z\n",
      "elapsed time: 1.285962915 seconds\n",
      "solved. now solving Y\n",
      "Cheking stop criteriums and updating.\n",
      "Step 15\n",
      "947.3834715140365\n",
      "0.8\n",
      "solving for x...\n",
      "Solved, now solving for Z\n",
      "elapsed time: 1.267307934 seconds\n",
      "solved. now solving Y\n"
     ]
    }
   ],
   "source": [
    "#recover the clusters...\n",
    "recover=admmRecovery(euObs,2.3,1005,1.6,1.0e-4,300)\n"
   ]
  },
  {
   "cell_type": "code",
   "execution_count": null,
   "metadata": {
    "collapsed": true
   },
   "outputs": [],
   "source": [
    "#real matrix\n",
    "RealRecovery=(recover[1]+ones(1005)*ones(1005)')/2\n",
    "#save results\n",
    "writedlm(\"EuRecovered.txt\",RealRecovery)\n"
   ]
  },
  {
   "cell_type": "code",
   "execution_count": null,
   "metadata": {
    "collapsed": true
   },
   "outputs": [],
   "source": [
    "#Conected components\n",
    "g = Graph(RealRecovery)\n",
    "connected_components(g)"
   ]
  },
  {
   "cell_type": "code",
   "execution_count": null,
   "metadata": {
    "collapsed": true
   },
   "outputs": [],
   "source": []
  }
 ],
 "metadata": {
  "kernelspec": {
   "display_name": "Julia 0.6.0",
   "language": "julia",
   "name": "julia-0.6"
  },
  "language_info": {
   "file_extension": ".jl",
   "mimetype": "application/julia",
   "name": "julia",
   "version": "0.6.0"
  }
 },
 "nbformat": 4,
 "nbformat_minor": 0
}
