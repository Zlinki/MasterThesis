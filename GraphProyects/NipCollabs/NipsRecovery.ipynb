{
 "cells": [
  {
   "cell_type": "code",
   "execution_count": 2,
   "metadata": {
    "collapsed": false
   },
   "outputs": [],
   "source": [
    "#call the necesary notebooks and packages...\n",
    "using NBInclude\n",
    "using LightGraphs\n",
    "@nbinclude(\"C:\\\\Users\\\\Daniel\\\\MasterThesis\\\\admmRecovery.ipynb\")"
   ]
  },
  {
   "cell_type": "code",
   "execution_count": 3,
   "metadata": {
    "collapsed": false
   },
   "outputs": [
    {
     "data": {
      "text/plain": [
       "1"
      ]
     },
     "execution_count": 3,
     "metadata": {},
     "output_type": "execute_result"
    }
   ],
   "source": [
    "#Read matrices...\n",
    "#nips21 = readdlm(\"nips21.txt\")\n",
    "#nips22 = readdlm(\"nips22.txt\")\n",
    "#nips23 = readdlm(\"nips23.txt\")\n",
    "#nips24 = readdlm(\"nips24.txt\")\n",
    "#nips25 = readdlm(\"nips25.txt\")\n",
    "#nips26 = readdlm(\"nips26.txt\")\n",
    "\n",
    "#store them in an array and add ones on the diagonal.\n",
    "Nips = Array{Any}(6)\n",
    "Nips[1]= readdlm(\"nips21.txt\")+diagm(ones(5722))\n",
    "Nips[2]= readdlm(\"nips22.txt\")+diagm(ones(5722))\n",
    "Nips[3]= readdlm(\"nips23.txt\")+diagm(ones(5722))\n",
    "Nips[4]= readdlm(\"nips24.txt\")+diagm(ones(5722))\n",
    "Nips[5]= readdlm(\"nips25.txt\")+diagm(ones(5722))\n",
    "Nips[6]= readdlm(\"nips26.txt\")+diagm(ones(5722))\n",
    "1"
   ]
  },
  {
   "cell_type": "code",
   "execution_count": 4,
   "metadata": {
    "collapsed": false
   },
   "outputs": [
    {
     "ename": "LoadError",
     "evalue": "\u001b[91mOutOfMemoryError()\u001b[39m",
     "output_type": "error",
     "traceback": [
      "\u001b[91mOutOfMemoryError()\u001b[39m",
      "",
      "Stacktrace:",
      " [1] \u001b[1mzeros\u001b[22m\u001b[22m\u001b[1m(\u001b[22m\u001b[22m::Array{Float64,2}\u001b[1m)\u001b[22m\u001b[22m at \u001b[1m.\\array.jl:261\u001b[22m\u001b[22m",
      " [2] \u001b[1m#15\u001b[22m\u001b[22m at \u001b[1m.\\<missing>:0\u001b[22m\u001b[22m [inlined]",
      " [3] \u001b[1mnext\u001b[22m\u001b[22m at \u001b[1m.\\generator.jl:45\u001b[22m\u001b[22m [inlined]",
      " [4] \u001b[1mcollect_to!\u001b[22m\u001b[22m\u001b[1m(\u001b[22m\u001b[22m::Array{Array{Float64,2},1}, ::Base.Generator{UnitRange{Int64},##15#20{Array{Any,1}}}, ::Int64, ::Int64\u001b[1m)\u001b[22m\u001b[22m at \u001b[1m.\\array.jl:474\u001b[22m\u001b[22m",
      " [5] \u001b[1mcollect\u001b[22m\u001b[22m\u001b[1m(\u001b[22m\u001b[22m::Base.Generator{UnitRange{Int64},##15#20{Array{Any,1}}}\u001b[1m)\u001b[22m\u001b[22m at \u001b[1m.\\array.jl:442\u001b[22m\u001b[22m",
      " [6] \u001b[1madmmRecovery\u001b[22m\u001b[22m\u001b[1m(\u001b[22m\u001b[22m::Array{Any,1}, ::Int64, ::Int64, ::Float64, ::Float64, ::Int64\u001b[1m)\u001b[22m\u001b[22m at \u001b[1mC:\\Users\\Daniel\\MasterThesis\\admmRecovery.ipynb:In[1]:20\u001b[22m\u001b[22m"
     ]
    }
   ],
   "source": [
    "#recover the clusters...\n",
    "tic()\n",
    "recover=admmRecovery(Nips,3,5722,1.6,1.0e-3,200)\n",
    "toc()"
   ]
  },
  {
   "cell_type": "code",
   "execution_count": null,
   "metadata": {
    "collapsed": true
   },
   "outputs": [],
   "source": [
    "#real matrix\n",
    "RealRecovery=(recover[1]+ones(5722)*ones(5722)')/2\n",
    "#save results\n",
    "writedlm(\"NipsRecovered.txt\",RealRecovery)"
   ]
  },
  {
   "cell_type": "code",
   "execution_count": null,
   "metadata": {
    "collapsed": true
   },
   "outputs": [],
   "source": [
    "#Conected components\n",
    "tic()\n",
    "g = Graph(RealRecovery)\n",
    "comps =connected_components(g)\n",
    "toc()"
   ]
  },
  {
   "cell_type": "code",
   "execution_count": null,
   "metadata": {
    "collapsed": true
   },
   "outputs": [],
   "source": [
    "RealRecovery"
   ]
  },
  {
   "cell_type": "code",
   "execution_count": null,
   "metadata": {
    "collapsed": true
   },
   "outputs": [],
   "source": []
  }
 ],
 "metadata": {
  "kernelspec": {
   "display_name": "Julia 0.6.0",
   "language": "julia",
   "name": "julia-0.6"
  },
  "language_info": {
   "file_extension": ".jl",
   "mimetype": "application/julia",
   "name": "julia",
   "version": "0.6.0"
  }
 },
 "nbformat": 4,
 "nbformat_minor": 0
}
