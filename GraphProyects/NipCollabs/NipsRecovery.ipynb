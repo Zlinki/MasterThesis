{
 "cells": [
  {
   "cell_type": "code",
   "execution_count": 1,
   "metadata": {
    "collapsed": true
   },
   "outputs": [],
   "source": [
    "#call the necesary notebooks and packages...\n",
    "using NBInclude\n",
    "using LightGraphs\n",
    "nbinclude(\"C:\\\\Users\\\\Daniel\\\\MasterThesis\\\\admmRecovery.ipynb\")"
   ]
  },
  {
   "cell_type": "code",
   "execution_count": 2,
   "metadata": {
    "collapsed": false
   },
   "outputs": [
    {
     "data": {
      "text/plain": [
       "1"
      ]
     },
     "execution_count": 2,
     "metadata": {},
     "output_type": "execute_result"
    }
   ],
   "source": [
    "#Read matrices...\n",
    "#nips21 = readdlm(\"nips21.txt\")\n",
    "#nips22 = readdlm(\"nips22.txt\")\n",
    "#nips23 = readdlm(\"nips23.txt\")\n",
    "#nips24 = readdlm(\"nips24.txt\")\n",
    "#nips25 = readdlm(\"nips25.txt\")\n",
    "#nips26 = readdlm(\"nips26.txt\")\n",
    "\n",
    "#store them in an array and add ones on the diagonal.\n",
    "Nips = Array{Any}(6)\n",
    "Nips[1]= readdlm(\"nips21.txt\")+diagm(ones(5722))\n",
    "Nips[2]= readdlm(\"nips22.txt\")+diagm(ones(5722))\n",
    "Nips[3]= readdlm(\"nips23.txt\")+diagm(ones(5722))\n",
    "Nips[4]= readdlm(\"nips24.txt\")+diagm(ones(5722))\n",
    "Nips[5]= readdlm(\"nips25.txt\")+diagm(ones(5722))\n",
    "Nips[6]= readdlm(\"nips26.txt\")+diagm(ones(5722))\n",
    "1"
   ]
  },
  {
   "cell_type": "code",
   "execution_count": null,
   "metadata": {
    "collapsed": true
   },
   "outputs": [],
   "source": [
    "#recover the clusters...\n",
    "tic()\n",
    "recover=admmRecovery(Nips,3,5722,1.6,1.0e-4,200)\n",
    "toc()"
   ]
  },
  {
   "cell_type": "code",
   "execution_count": null,
   "metadata": {
    "collapsed": true
   },
   "outputs": [],
   "source": [
    "#real matrix\n",
    "RealRecovery=(recover[1]+ones(5722)*ones(5722)')/2\n",
    "#save results\n",
    "writedlm(\"NipsRecovered.txt\",RealRecovery)"
   ]
  },
  {
   "cell_type": "code",
   "execution_count": null,
   "metadata": {
    "collapsed": true
   },
   "outputs": [],
   "source": [
    "#Conected components\n",
    "g = Graph(RealRecovery)\n",
    "connected_components(g)"
   ]
  },
  {
   "cell_type": "code",
   "execution_count": 25,
   "metadata": {
    "collapsed": false
   },
   "outputs": [
    {
     "data": {
      "text/plain": [
       "3×3 Array{Int64,2}:\n",
       "  2   2  1\n",
       " 22  13  3\n",
       "  2   2  2"
      ]
     },
     "execution_count": 25,
     "metadata": {},
     "output_type": "execute_result"
    }
   ],
   "source": [
    "mat1 = [2 2 1; 22 13 3; 2 2 2]"
   ]
  }
 ],
 "metadata": {
  "kernelspec": {
   "display_name": "Julia 0.6.0",
   "language": "julia",
   "name": "julia-0.6"
  },
  "language_info": {
   "file_extension": ".jl",
   "mimetype": "application/julia",
   "name": "julia",
   "version": "0.6.0"
  }
 },
 "nbformat": 4,
 "nbformat_minor": 0
}
